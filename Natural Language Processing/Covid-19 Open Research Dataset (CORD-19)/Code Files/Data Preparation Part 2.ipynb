{
 "cells": [
  {
   "cell_type": "markdown",
   "id": "2a4ba840-de18-4a12-972f-27cb55621d49",
   "metadata": {
    "tags": []
   },
   "source": [
    "### General libraries being loaded"
   ]
  },
  {
   "cell_type": "code",
   "execution_count": 1,
   "id": "fdaadd22-97a7-4975-8829-6648cbaef9bb",
   "metadata": {},
   "outputs": [],
   "source": [
    "# Python ≥3.5 is required\n",
    "import sys\n",
    "assert sys.version_info >= (3, 5)\n",
    "\n",
    "# Scikit-Learn ≥0.20 is required\n",
    "import sklearn\n",
    "assert sklearn.__version__ >= \"0.20\"\n",
    "\n",
    "# Common imports\n",
    "import numpy as np\n",
    "import os, time\n",
    "import pandas as pd\n",
    "\n",
    "# Our new Deep Learning imports\n",
    "import tensorflow as tf\n",
    "from tensorflow import keras\n",
    "\n",
    "# To plot nice figures\n",
    "# %matplotlib widget\n",
    "%matplotlib inline\n",
    "\n",
    "import matplotlib as mpl\n",
    "import matplotlib.pyplot as plt\n",
    "mpl.rc('axes', labelsize=14)\n",
    "mpl.rc('xtick', labelsize=12)\n",
    "mpl.rc('ytick', labelsize=12)\n",
    "\n",
    "# For plotting statistical figures\n",
    "import seaborn as sns; sns.set()\n",
    "\n",
    "# For speeding up numpy operations\n",
    "import cupy as cp\n",
    "\n",
    "# For faster numpy computation\n",
    "from numba import jit, cuda\n",
    "\n",
    "# For Progress Bar\n",
    "from tqdm.auto import tqdm,trange\n",
    "tqdm.pandas()\n",
    "\n",
    "# Vaex Dataframe library\n",
    "import vaex as vx\n",
    "\n",
    "# For Pyspark activation\n",
    "import os\n",
    "os.environ[\"PYARROW_IGNORE_TIMEZONE\"] = \"1\"\n",
    "\n",
    "# Pyspark Dataframe\n",
    "from pyspark import pandas as ps\n",
    "\n",
    "import os\n",
    "os.environ['KMP_DUPLICATE_LIB_OK']='True'"
   ]
  },
  {
   "cell_type": "markdown",
   "id": "196de84b-035a-4fa6-b523-99dd481426ad",
   "metadata": {},
   "source": [
    "### Loading Stored Data for Sentence Tokenization"
   ]
  },
  {
   "cell_type": "code",
   "execution_count": 2,
   "id": "b6430763-0f60-4d11-9aff-5af8853aec92",
   "metadata": {},
   "outputs": [],
   "source": [
    "import tensorflow as tf"
   ]
  },
  {
   "cell_type": "code",
   "execution_count": 3,
   "id": "35cb459f-6d29-4767-aaa3-10bd7f54ce7b",
   "metadata": {},
   "outputs": [],
   "source": [
    "Article_Data_Cord_File_DF_Abstract = pd.read_pickle(r\"D:\\UoA\\Tri 2\\Big Data Analysis and Projects\\Week 8\\archive\\cord_19_embeddings\\article_data_cord_19_file_df_abstract.pkl\")"
   ]
  },
  {
   "cell_type": "code",
   "execution_count": 4,
   "id": "d2fe875c-63c1-4a07-850b-2650a85084fc",
   "metadata": {},
   "outputs": [],
   "source": [
    "Article_Data_Cord_File_DF_Body_Text = pd.read_pickle(r\"D:\\UoA\\Tri 2\\Big Data Analysis and Projects\\Week 8\\archive\\cord_19_embeddings\\article_data_cord_19_file_df_body_text.pkl\")"
   ]
  },
  {
   "cell_type": "markdown",
   "id": "a247d9fc-8ab8-4884-948d-d2473c4adfd2",
   "metadata": {},
   "source": [
    "### Breaking Sentences to Tokens (Final Step) (Abstract)"
   ]
  },
  {
   "cell_type": "code",
   "execution_count": 5,
   "id": "7183b678-9d60-498b-8417-2b49a7fc28bb",
   "metadata": {},
   "outputs": [
    {
     "data": {
      "application/vnd.jupyter.widget-view+json": {
       "model_id": "bbb6af39222044fab1ab1899591a2dc9",
       "version_major": 2,
       "version_minor": 0
      },
      "text/plain": [
       "  0%|          | 0/122754 [00:00<?, ?it/s]"
      ]
     },
     "metadata": {},
     "output_type": "display_data"
    }
   ],
   "source": [
    "Article_Data_Cord_File_DF_Abstract['Abstract_Tokens'] = Article_Data_Cord_File_DF_Abstract['Abstract_Sentences'].progress_apply(tf.keras.preprocessing.text.text_to_word_sequence)"
   ]
  },
  {
   "cell_type": "code",
   "execution_count": 6,
   "id": "100c199e-3307-46be-a36b-28fd708006bd",
   "metadata": {},
   "outputs": [],
   "source": [
    "del Article_Data_Cord_File_DF_Abstract['Abstract_Sentences']"
   ]
  },
  {
   "cell_type": "code",
   "execution_count": 7,
   "id": "aaca9efe-1106-4bbd-b310-d27293677fa7",
   "metadata": {},
   "outputs": [],
   "source": [
    "import gc\n",
    "gc.collect()\n",
    "print('',end='')"
   ]
  },
  {
   "cell_type": "code",
   "execution_count": 8,
   "id": "6bc5431a-29bf-49ec-93e6-21a6e622698e",
   "metadata": {},
   "outputs": [],
   "source": [
    "Article_Data_Cord_File_DF_Abstract.to_pickle(r\"D:\\UoA\\Tri 2\\Big Data Analysis and Projects\\Week 8\\archive\\cord_19_embeddings\\article_data_cord_19_file_df_abstract_tokens.pkl\")"
   ]
  },
  {
   "cell_type": "markdown",
   "id": "fec031d5-78e8-49af-93a2-b565afbb3156",
   "metadata": {},
   "source": [
    "### Breaking Sentences to Tokens (Final Step) (Body Text)"
   ]
  },
  {
   "cell_type": "code",
   "execution_count": 9,
   "id": "eff8e3e3-efa3-4453-a860-4709c21d8f03",
   "metadata": {},
   "outputs": [
    {
     "data": {
      "application/vnd.jupyter.widget-view+json": {
       "model_id": "5e233f681fb74d4ca4d5f700f88fb4dc",
       "version_major": 2,
       "version_minor": 0
      },
      "text/plain": [
       "  0%|          | 0/855743 [00:00<?, ?it/s]"
      ]
     },
     "metadata": {},
     "output_type": "display_data"
    }
   ],
   "source": [
    "Article_Data_Cord_File_DF_Body_Text['Body_Text_Tokens'] = Article_Data_Cord_File_DF_Body_Text['Body_Text_Sentences'].progress_apply(tf.keras.preprocessing.text.text_to_word_sequence)"
   ]
  },
  {
   "cell_type": "code",
   "execution_count": 10,
   "id": "aadec99e-9701-4f99-94fe-3b6e3431a77f",
   "metadata": {},
   "outputs": [],
   "source": [
    "del Article_Data_Cord_File_DF_Body_Text['Body_Text_Sentences']"
   ]
  },
  {
   "cell_type": "code",
   "execution_count": 11,
   "id": "967e3b34-867e-4283-888d-d2ca2ed43b0c",
   "metadata": {},
   "outputs": [],
   "source": [
    "import gc\n",
    "gc.collect()\n",
    "print('',end='')"
   ]
  },
  {
   "cell_type": "code",
   "execution_count": 12,
   "id": "369c6bc7-03f6-4f33-a1df-9f205e4cd9a7",
   "metadata": {},
   "outputs": [],
   "source": [
    "Article_Data_Cord_File_DF_Body_Text.to_pickle(r\"D:\\UoA\\Tri 2\\Big Data Analysis and Projects\\Week 8\\archive\\cord_19_embeddings\\article_data_cord_19_file_df_body_text_tokens.pkl\")"
   ]
  },
  {
   "cell_type": "code",
   "execution_count": null,
   "id": "73c81264-c5ac-4a64-8308-25dccf7ee630",
   "metadata": {},
   "outputs": [],
   "source": []
  }
 ],
 "metadata": {
  "kernelspec": {
   "display_name": "Python 3 (ipykernel)",
   "language": "python",
   "name": "python3"
  },
  "language_info": {
   "codemirror_mode": {
    "name": "ipython",
    "version": 3
   },
   "file_extension": ".py",
   "mimetype": "text/x-python",
   "name": "python",
   "nbconvert_exporter": "python",
   "pygments_lexer": "ipython3",
   "version": "3.9.12"
  }
 },
 "nbformat": 4,
 "nbformat_minor": 5
}
