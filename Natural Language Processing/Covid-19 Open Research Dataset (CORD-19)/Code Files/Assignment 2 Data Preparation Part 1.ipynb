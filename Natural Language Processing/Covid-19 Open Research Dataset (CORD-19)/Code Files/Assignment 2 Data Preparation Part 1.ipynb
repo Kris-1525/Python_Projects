{
 "cells": [
  {
   "cell_type": "markdown",
   "id": "c298fca0-affc-4953-ac34-cbba235647bd",
   "metadata": {
    "tags": []
   },
   "source": [
    "### General libraries being loaded"
   ]
  },
  {
   "cell_type": "code",
   "execution_count": 1,
   "id": "37465a68-f4c9-4bae-bc70-2652db775f58",
   "metadata": {},
   "outputs": [],
   "source": [
    "# Python ≥3.5 is required\n",
    "import sys\n",
    "assert sys.version_info >= (3, 5)\n",
    "\n",
    "# Scikit-Learn ≥0.20 is required\n",
    "import sklearn\n",
    "assert sklearn.__version__ >= \"0.20\"\n",
    "\n",
    "# Common imports\n",
    "import numpy as np\n",
    "import os, time\n",
    "import pandas as pd\n",
    "\n",
    "# Our new Deep Learning imports\n",
    "import tensorflow as tf\n",
    "from tensorflow import keras\n",
    "\n",
    "# To plot nice figures\n",
    "# %matplotlib widget\n",
    "%matplotlib inline\n",
    "\n",
    "import matplotlib as mpl\n",
    "import matplotlib.pyplot as plt\n",
    "mpl.rc('axes', labelsize=14)\n",
    "mpl.rc('xtick', labelsize=12)\n",
    "mpl.rc('ytick', labelsize=12)\n",
    "\n",
    "# For plotting statistical figures\n",
    "import seaborn as sns; sns.set()\n",
    "\n",
    "# For speeding up numpy operations\n",
    "import cupy as cp\n",
    "\n",
    "# For faster numpy computation\n",
    "from numba import jit, cuda\n",
    "\n",
    "# For Progress Bar\n",
    "from tqdm.auto import tqdm,trange\n",
    "tqdm.pandas()\n",
    "\n",
    "# Vaex Dataframe library\n",
    "import vaex as vx\n",
    "\n",
    "# For Pyspark activation\n",
    "import os\n",
    "os.environ[\"PYARROW_IGNORE_TIMEZONE\"] = \"1\"\n",
    "\n",
    "# Pyspark Dataframe\n",
    "from pyspark import pandas as ps\n",
    "\n",
    "import os\n",
    "os.environ['KMP_DUPLICATE_LIB_OK']='True'"
   ]
  },
  {
   "cell_type": "markdown",
   "id": "09f4b7d4-a7bc-439f-be73-441a1fee8ab6",
   "metadata": {
    "tags": []
   },
   "source": [
    "### Loading Metadata for Analysis"
   ]
  },
  {
   "cell_type": "code",
   "execution_count": 2,
   "id": "577a7be7-1b3a-446a-a0d3-954e1f93bf9b",
   "metadata": {},
   "outputs": [],
   "source": [
    "# Meta Data for filtering data (i.e, number of research papers), is being loaded\n",
    "Cord_Meta_Data = pd.read_csv(r\"D:\\UoA\\Tri 2\\Big Data Analysis and Projects\\Week 8\\archive\\metadata.csv\", dtype = {'sha':'str', 'doi':'str', 'pmcid':'str', 'pubmed_id':'str', 'arxiv_id':'str', 'who_covidence_id':'str', 'pdf_json_files':'str', 'pmc_json_files':'str'})\n",
    "Cord_Meta_Data = Cord_Meta_Data.astype('object')"
   ]
  },
  {
   "cell_type": "code",
   "execution_count": 3,
   "id": "e4d32dc0-c3af-4c57-a0a6-cbc9373a033b",
   "metadata": {},
   "outputs": [
    {
     "name": "stdout",
     "output_type": "stream",
     "text": [
      "\u001b[1mThe Quantity of Data in Meta Dataset is:\u001b[0m\n",
      "\n",
      "cord_uid            1056660\n",
      "sha                  373766\n",
      "source_x            1056660\n",
      "title               1056157\n",
      "doi                  656780\n",
      "pmcid                389571\n",
      "pubmed_id            498932\n",
      "license             1056660\n",
      "abstract             821118\n",
      "publish_time        1054846\n",
      "authors             1032791\n",
      "journal              969338\n",
      "mag_id                    0\n",
      "who_covidence_id     482935\n",
      "arxiv_id              14249\n",
      "pdf_json_files       373766\n",
      "pmc_json_files       315742\n",
      "url                  686934\n",
      "s2_id                976468\n",
      "dtype: int64\n",
      "\n",
      "\n"
     ]
    }
   ],
   "source": [
    "print('\\033[1m' + 'The Quantity of Data in Meta Dataset is:' + '\\033[0m' + '\\n')\n",
    "print(Cord_Meta_Data.count())\n",
    "print('\\n')\n",
    "Cord_Meta_Data = Cord_Meta_Data.fillna('NA/NAN')"
   ]
  },
  {
   "cell_type": "code",
   "execution_count": 4,
   "id": "0f93da3b-288b-4a5b-ad00-83b1bfb5519e",
   "metadata": {},
   "outputs": [
    {
     "name": "stdout",
     "output_type": "stream",
     "text": [
      "\u001b[1mThe Loaded Meta Dataset is:\u001b[0m\n",
      "\n",
      "   cord_uid                                       sha source_x  \\\n",
      "0  ug7v899j  d1aafb70c066a2068b02786f8929fd9c900897fb      PMC   \n",
      "1  02tnwd4m  6b0567729c2143a66d737eb0a2f63f2dce2e5a7d      PMC   \n",
      "2  ejv2xln0  06ced00a5fc04215949aa72528f2eeaae1d58927      PMC   \n",
      "3  2b73a28n  348055649b6b8cf2b9a376498df9bf41f7123605      PMC   \n",
      "4  9785vg6d  5f48792a5fa08bed9f56016f4981ae2ca6031b32      PMC   \n",
      "\n",
      "                                               title                    doi  \\\n",
      "0  Clinical features of culture-proven Mycoplasma...  10.1186/1471-2334-1-6   \n",
      "1  Nitric oxide: a pro-inflammatory mediator in l...           10.1186/rr14   \n",
      "2    Surfactant protein-D and pulmonary host defense           10.1186/rr19   \n",
      "3               Role of endothelin-1 in lung disease           10.1186/rr44   \n",
      "4  Gene expression in epithelial cells in respons...           10.1186/rr61   \n",
      "\n",
      "      pmcid pubmed_id license  \\\n",
      "0  PMC35282  11472636   no-cc   \n",
      "1  PMC59543  11667967   no-cc   \n",
      "2  PMC59549  11667972   no-cc   \n",
      "3  PMC59574  11686871   no-cc   \n",
      "4  PMC59580  11686888   no-cc   \n",
      "\n",
      "                                            abstract publish_time  \\\n",
      "0  OBJECTIVE: This retrospective chart review des...   2001-07-04   \n",
      "1  Inflammatory diseases of the respiratory tract...   2000-08-15   \n",
      "2  Surfactant protein-D (SP-D) participates in th...   2000-08-25   \n",
      "3  Endothelin-1 (ET-1) is a 21 amino acid peptide...   2001-02-22   \n",
      "4  Respiratory syncytial virus (RSV) and pneumoni...   2001-05-11   \n",
      "\n",
      "                                             authors         journal  mag_id  \\\n",
      "0                Madani, Tariq A; Al-Ghamdi, Aisha A  BMC Infect Dis  NA/NAN   \n",
      "1  Vliet, Albert van der; Eiserich, Jason P; Cros...      Respir Res  NA/NAN   \n",
      "2                                    Crouch, Erika C      Respir Res  NA/NAN   \n",
      "3  Fagan, Karen A; McMurtry, Ivan F; Rodman, David M      Respir Res  NA/NAN   \n",
      "4  Domachowske, Joseph B; Bonville, Cynthia A; Ro...      Respir Res  NA/NAN   \n",
      "\n",
      "  who_covidence_id arxiv_id  \\\n",
      "0           NA/NAN   NA/NAN   \n",
      "1           NA/NAN   NA/NAN   \n",
      "2           NA/NAN   NA/NAN   \n",
      "3           NA/NAN   NA/NAN   \n",
      "4           NA/NAN   NA/NAN   \n",
      "\n",
      "                                      pdf_json_files  \\\n",
      "0  document_parses/pdf_json/d1aafb70c066a2068b027...   \n",
      "1  document_parses/pdf_json/6b0567729c2143a66d737...   \n",
      "2  document_parses/pdf_json/06ced00a5fc04215949aa...   \n",
      "3  document_parses/pdf_json/348055649b6b8cf2b9a37...   \n",
      "4  document_parses/pdf_json/5f48792a5fa08bed9f560...   \n",
      "\n",
      "                               pmc_json_files  \\\n",
      "0  document_parses/pmc_json/PMC35282.xml.json   \n",
      "1  document_parses/pmc_json/PMC59543.xml.json   \n",
      "2  document_parses/pmc_json/PMC59549.xml.json   \n",
      "3  document_parses/pmc_json/PMC59574.xml.json   \n",
      "4  document_parses/pmc_json/PMC59580.xml.json   \n",
      "\n",
      "                                                 url   s2_id  \n",
      "0  https://www.ncbi.nlm.nih.gov/pmc/articles/PMC3...  NA/NAN  \n",
      "1  https://www.ncbi.nlm.nih.gov/pmc/articles/PMC5...  NA/NAN  \n",
      "2  https://www.ncbi.nlm.nih.gov/pmc/articles/PMC5...  NA/NAN  \n",
      "3  https://www.ncbi.nlm.nih.gov/pmc/articles/PMC5...  NA/NAN  \n",
      "4  https://www.ncbi.nlm.nih.gov/pmc/articles/PMC5...  NA/NAN  \n",
      "\n",
      "\n"
     ]
    }
   ],
   "source": [
    "print('\\033[1m' + 'The Loaded Meta Dataset is:' + '\\033[0m' + '\\n')\n",
    "print(Cord_Meta_Data.iloc[0:5])\n",
    "print('\\n')"
   ]
  },
  {
   "cell_type": "markdown",
   "id": "b39c5e45-6807-4986-a3a2-e8e506a129df",
   "metadata": {
    "tags": []
   },
   "source": [
    "### Converting Publish Time - str to Publish Time - timestamp"
   ]
  },
  {
   "cell_type": "code",
   "execution_count": 5,
   "id": "eee57a9f-3bb8-40b8-a3f4-e9db1d333b3a",
   "metadata": {},
   "outputs": [],
   "source": [
    "from datetime import datetime"
   ]
  },
  {
   "cell_type": "code",
   "execution_count": 6,
   "id": "236fc9ef-65d0-474a-b787-589ffb877a24",
   "metadata": {},
   "outputs": [],
   "source": [
    "# Function to convert string to timestamp\n",
    "def row_strptime_datetime(row_str_val):\n",
    "    for frt in ('%Y-%m-%d', '%Y'):\n",
    "        try:\n",
    "            return datetime.strptime(row_str_val, frt)\n",
    "        except ValueError:\n",
    "            pass\n",
    "    raise ValueError('no valid date format found')"
   ]
  },
  {
   "cell_type": "code",
   "execution_count": 7,
   "id": "049b9b0c-b7c1-40c8-8a35-7b0e57b368b1",
   "metadata": {},
   "outputs": [
    {
     "data": {
      "application/vnd.jupyter.widget-view+json": {
       "model_id": "8be35655bbaa42dfb9a3b28069064c98",
       "version_major": 2,
       "version_minor": 0
      },
      "text/plain": [
       "  0%|          | 0/1054846 [00:00<?, ?it/s]"
      ]
     },
     "metadata": {},
     "output_type": "display_data"
    }
   ],
   "source": [
    "# Using apply() to convert string to timestamp\n",
    "Cord_Meta_Data.loc[~(Cord_Meta_Data['publish_time'] == 'NA/NAN'),'publish_time'] = Cord_Meta_Data.loc[~(Cord_Meta_Data['publish_time'] == 'NA/NAN'),'publish_time'].progress_apply(row_strptime_datetime)"
   ]
  },
  {
   "cell_type": "code",
   "execution_count": 8,
   "id": "7ccd5953-58c1-4479-9e0c-800a2322dbaf",
   "metadata": {},
   "outputs": [],
   "source": [
    "# Only keeping the year part of the publish time and excluding everything else\n",
    "Cord_Meta_Data.loc[~(Cord_Meta_Data['publish_time'] == 'NA/NAN'),'publish_time'] = pd.DatetimeIndex(Cord_Meta_Data.loc[~(Cord_Meta_Data['publish_time'] == 'NA/NAN'),'publish_time']).year"
   ]
  },
  {
   "cell_type": "markdown",
   "id": "497c9a87-1233-4358-a13f-68ec84128795",
   "metadata": {
    "tags": []
   },
   "source": [
    "### Plot of Research Papers from 1825 to 2022 on Covid-19"
   ]
  },
  {
   "cell_type": "code",
   "execution_count": 9,
   "id": "98dfc8c8-d501-4b34-a43a-5cd9097fcb81",
   "metadata": {
    "tags": []
   },
   "outputs": [
    {
     "data": {
      "image/png": "[encoded data removed]",
      "text/plain": [
       "<Figure size 1440x2880 with 1 Axes>"
      ]
     },
     "metadata": {},
     "output_type": "display_data"
    }
   ],
   "source": [
    "# Plotting Research Papers on Covid-19 from Year 1825 to 2022\n",
    "sns.set(rc = {'figure.figsize':(20,40)})\n",
    "Cord_Meta_Data_ax = sns.countplot(y = Cord_Meta_Data.loc[(~(Cord_Meta_Data['publish_time'] == 'NA/NAN'))&(Cord_Meta_Data.loc[~(Cord_Meta_Data['publish_time'] == 'NA/NAN'),'publish_time'] >= 1000)&(Cord_Meta_Data.loc[~(Cord_Meta_Data['publish_time'] == 'NA/NAN'),'publish_time'] <= 2022),'publish_time'],log=True)\n",
    "Cord_Meta_Data_ax.set(ylabel='Paper Publish Year', xlabel='Count', title='Research Papers Published from 2000 to 2022 for Covid-19')\n",
    "plt.show()"
   ]
  },
  {
   "cell_type": "markdown",
   "id": "af0ed052-751f-4558-bb52-2054f4b1b5c4",
   "metadata": {
    "tags": []
   },
   "source": [
    "### Plot of Research Papers from 2019 to 2022 on Covid-19 (Also, keeping data from 2019 to 2022 only, because Covid-19 started in 2019)"
   ]
  },
  {
   "cell_type": "code",
   "execution_count": 10,
   "id": "51dc4ea8-e94e-49a9-a59a-9640be111e4d",
   "metadata": {},
   "outputs": [
    {
     "data": {
      "image/png": "[encoded data removed]",
      "text/plain": [
       "<Figure size 1440x720 with 1 Axes>"
      ]
     },
     "metadata": {},
     "output_type": "display_data"
    }
   ],
   "source": [
    "# Plotting Research Papers on Covid-19 from Year 2019 to 2022\n",
    "sns.set(rc = {'figure.figsize':(20,10)})\n",
    "Cord_Meta_Data_ax = sns.countplot(y = Cord_Meta_Data.loc[(~(Cord_Meta_Data['publish_time'] == 'NA/NAN'))&(Cord_Meta_Data.loc[~(Cord_Meta_Data['publish_time'] == 'NA/NAN'),'publish_time'] >= 2019)&(Cord_Meta_Data.loc[~(Cord_Meta_Data['publish_time'] == 'NA/NAN'),'publish_time'] <= 2022),'publish_time'])\n",
    "Cord_Meta_Data_ax.set(xlabel='Paper Publish Year', ylabel='Count', title='Research Papers Published from 2019 to 2022 for Covid-19')\n",
    "plt.show()"
   ]
  },
  {
   "cell_type": "code",
   "execution_count": 11,
   "id": "be2e162f-d815-4b71-81f3-2ed074877979",
   "metadata": {},
   "outputs": [],
   "source": [
    "# Keeping data from 2019 to 2022 only, because Covid-19 started in 2019\n",
    "Cord_Meta_Data = Cord_Meta_Data.loc[~(Cord_Meta_Data['publish_time'] == 'NA/NAN'),:].reset_index(drop=True)\n",
    "Cord_Meta_Data = Cord_Meta_Data.loc[(Cord_Meta_Data['publish_time'] >= 2019) & (Cord_Meta_Data['publish_time'] <= 2022),:].reset_index(drop=True)"
   ]
  },
  {
   "cell_type": "markdown",
   "id": "993e2b9a-2310-41c1-b90a-e5ad1c439de3",
   "metadata": {
    "tags": []
   },
   "source": [
    "### Analysing Research Papers with Title and No Title (Meta Data)"
   ]
  },
  {
   "cell_type": "code",
   "execution_count": 12,
   "id": "50148ca9-a263-48fa-be0e-5cf21e16c127",
   "metadata": {},
   "outputs": [
    {
     "data": {
      "image/png": "[encoded data removed]",
      "text/plain": [
       "<Figure size 1080x720 with 1 Axes>"
      ]
     },
     "metadata": {},
     "output_type": "display_data"
    }
   ],
   "source": [
    "# Plotting Research Papers with Title and No Title\n",
    "sns.set(rc = {'figure.figsize':(15,10)})\n",
    "Cord_Meta_Data_ax = sns.barplot(x = ['Title', 'No Title'], y = [Cord_Meta_Data.loc[~(Cord_Meta_Data['title'] == 'NA/NAN'),'title'].shape[0], Cord_Meta_Data.loc[(Cord_Meta_Data['title'] == 'NA/NAN'),'title'].shape[0]])\n",
    "Cord_Meta_Data_ax.set(xlabel='', ylabel='Count', title='Research Papers Published from 2019 to 2022 for Covid-19')\n",
    "plt.show()"
   ]
  },
  {
   "cell_type": "code",
   "execution_count": 13,
   "id": "fd00025c-89c4-4ce6-9175-75475622565e",
   "metadata": {},
   "outputs": [],
   "source": [
    "# Selecting Research Articles with Title\n",
    "Cord_Meta_Data = Cord_Meta_Data.loc[~(Cord_Meta_Data['title'] == 'NA/NAN'),:].reset_index(drop=True)"
   ]
  },
  {
   "cell_type": "markdown",
   "id": "74aaf6b9-3220-478e-9354-f36ccb5da99a",
   "metadata": {
    "tags": []
   },
   "source": [
    "### Analysing Research Papers with Abstract and No Abstract (Meta Data)"
   ]
  },
  {
   "cell_type": "code",
   "execution_count": 14,
   "id": "13025ec9-e200-4231-8d84-422a57dde92a",
   "metadata": {},
   "outputs": [
    {
     "data": {
      "image/png": "[encoded data removed]",
      "text/plain": [
       "<Figure size 1080x720 with 1 Axes>"
      ]
     },
     "metadata": {},
     "output_type": "display_data"
    }
   ],
   "source": [
    "# Plotting Research Papers with Abstract and No Abstract\n",
    "sns.set(rc = {'figure.figsize':(15,10)})\n",
    "Cord_Meta_Data_ax = sns.barplot(x = ['Abstract', 'No Abstract'], y = [Cord_Meta_Data.loc[~(Cord_Meta_Data['abstract'] == 'NA/NAN'),'abstract'].shape[0], Cord_Meta_Data.loc[(Cord_Meta_Data['abstract'] == 'NA/NAN'),'abstract'].shape[0]])\n",
    "Cord_Meta_Data_ax.set(xlabel='', ylabel='Count', title='Research Papers Published from 2019 to 2022 for Covid-19')\n",
    "plt.show()"
   ]
  },
  {
   "cell_type": "code",
   "execution_count": 15,
   "id": "6df0711c-22c8-4d0a-8d9d-9bc85481425f",
   "metadata": {},
   "outputs": [],
   "source": [
    "# Selecting Research Articles with Abstract\n",
    "Cord_Meta_Data = Cord_Meta_Data.loc[~(Cord_Meta_Data['abstract'] == 'NA/NAN'),:].reset_index(drop=True)"
   ]
  },
  {
   "cell_type": "markdown",
   "id": "952fffe2-5a7f-4247-88bc-f58e9ea2cc24",
   "metadata": {
    "tags": []
   },
   "source": [
    "### Loading Population Target Tables given by Kaggle"
   ]
  },
  {
   "cell_type": "code",
   "execution_count": 16,
   "id": "01db3618-45d0-4579-8de2-43923bc6d35c",
   "metadata": {},
   "outputs": [],
   "source": [
    "import pandas as pd\n",
    "import glob\n",
    "import os\n",
    "\n",
    "Population_Cord_Target_Path = r\"D:\\UoA\\Tri 2\\Big Data Analysis and Projects\\Week 8\\archive\\Kaggle\\target_tables\\1_population\"\n",
    "Population_Cord_Target_Path_All_Files = glob.glob(os.path.join(Population_Cord_Target_Path , \"*.csv\"))\n",
    "\n",
    "Population_Cord_Target_List = []\n",
    "\n",
    "for Filename in Population_Cord_Target_Path_All_Files:\n",
    "    Population_Cord_Target_Df = pd.read_csv(Filename, index_col=None, header=0)\n",
    "    Population_Cord_Target_List.append(Population_Cord_Target_Df)"
   ]
  },
  {
   "cell_type": "code",
   "execution_count": 17,
   "id": "6f63d1be-a1c5-479a-8a6c-17bcfd0f7b85",
   "metadata": {},
   "outputs": [],
   "source": [
    "Population_Cord_Target_List[5].columns = Population_Cord_Target_List[5].columns.str.replace('Proposed Solution', 'Solution')"
   ]
  },
  {
   "cell_type": "markdown",
   "id": "1481f3c6-ce32-4661-93dc-97ed9e763cd5",
   "metadata": {
    "tags": []
   },
   "source": [
    "### Population Data Filter (Only Selecting Study and Solution)"
   ]
  },
  {
   "cell_type": "code",
   "execution_count": 18,
   "id": "7c611561-6684-41b2-8475-2e63fbfb4f63",
   "metadata": {},
   "outputs": [],
   "source": [
    "k=0\n",
    "for Population_Cord_Target_Sub in Population_Cord_Target_List:\n",
    "    Population_Cord_Target_List[k] = Population_Cord_Target_Sub.loc[:,['Study','Solution']]\n",
    "    k=k+1"
   ]
  },
  {
   "cell_type": "markdown",
   "id": "89a6b432-d4ff-4075-aa2b-d03b2bfe3d22",
   "metadata": {
    "tags": []
   },
   "source": [
    "### Displaying Filtered Population Target Tables given by Kaggle"
   ]
  },
  {
   "cell_type": "code",
   "execution_count": 19,
   "id": "1757bbdc-6d54-45f6-a516-df3671bccb1e",
   "metadata": {},
   "outputs": [],
   "source": [
    "Population_Cord_Target_Dir = os.listdir(Population_Cord_Target_Path)\n",
    "\n",
    "k=0\n",
    "for Population_Cord_Target_Dir_Sub in Population_Cord_Target_Dir:\n",
    "    Population_Cord_Target_Dir[k] = Population_Cord_Target_Dir_Sub[:-4]\n",
    "    k=k+1"
   ]
  },
  {
   "cell_type": "code",
   "execution_count": 20,
   "id": "4c3f4ab9-e5cd-4629-ab75-85ef8fb18883",
   "metadata": {},
   "outputs": [],
   "source": [
    "k=0\n",
    "for Population_Cord_Target_Dir_Sub in Population_Cord_Target_Dir:\n",
    "    Population_Cord_Target_List[k]['Query'] = Population_Cord_Target_List[k].shape[0] * [Population_Cord_Target_Dir_Sub]\n",
    "    k=k+1"
   ]
  },
  {
   "cell_type": "code",
   "execution_count": 21,
   "id": "66b199b8-b0e4-4c2a-bc2b-17f059d984ef",
   "metadata": {},
   "outputs": [],
   "source": [
    "Population_Cord_Target = pd.concat(Population_Cord_Target_List, axis=0, ignore_index=True)"
   ]
  },
  {
   "cell_type": "code",
   "execution_count": 22,
   "id": "ad6af589-d183-44dc-827d-08e3ddbf08a3",
   "metadata": {},
   "outputs": [],
   "source": [
    "del Population_Cord_Target_List"
   ]
  },
  {
   "cell_type": "code",
   "execution_count": 23,
   "id": "f75d95a7-d4ec-429f-8c7b-0ff334d5dc65",
   "metadata": {},
   "outputs": [
    {
     "name": "stdout",
     "output_type": "stream",
     "text": [
      "\u001b[1mThe Loaded Full Population Target Table is:\u001b[0m\n",
      "\n",
      "                                               Study  \\\n",
      "0  COVID-19 outbreak at a large homeless shelter ...   \n",
      "1  Multidisciplinary research priorities for the ...   \n",
      "2  U.S. county-level characteristics to inform eq...   \n",
      "3  Epidemiology of COVID-19 among people experien...   \n",
      "4  The Challenge of Preventing COVID-19 Spread in...   \n",
      "\n",
      "                                            Solution  \\\n",
      "0  Universal PCR testing, rather than a symptom t...   \n",
      "1  Multidisciplinary mental health science resear...   \n",
      "2  Both the federal and state governments will be...   \n",
      "3  Municipalities with sizable homeless populatio...   \n",
      "4  Releasing incarceated Individuals and increase...   \n",
      "\n",
      "                                               Query  \n",
      "0  Management of patients who are underhoused or ...  \n",
      "1  Management of patients who are underhoused or ...  \n",
      "2  Management of patients who are underhoused or ...  \n",
      "3  Management of patients who are underhoused or ...  \n",
      "4  Management of patients who are underhoused or ...  \n",
      "\n",
      "\n"
     ]
    }
   ],
   "source": [
    "print('\\033[1m' + 'The Loaded Full Population Target Table is:' + '\\033[0m' + '\\n')\n",
    "print(Population_Cord_Target.head())\n",
    "print('\\n')"
   ]
  },
  {
   "cell_type": "markdown",
   "id": "07d7f408-29f8-4acd-bc8d-192711755600",
   "metadata": {
    "tags": []
   },
   "source": [
    "### Loading Relevant Factors Target Tables given by Kaggle"
   ]
  },
  {
   "cell_type": "code",
   "execution_count": 24,
   "id": "3e071e3e-d5bb-4bfe-9e7a-1b083070af25",
   "metadata": {},
   "outputs": [],
   "source": [
    "import pandas as pd\n",
    "import glob\n",
    "import os\n",
    "\n",
    "Relevant_Factors_Cord_Target_Path = r\"D:\\UoA\\Tri 2\\Big Data Analysis and Projects\\Week 8\\archive\\Kaggle\\target_tables\\2_relevant_factors\"\n",
    "Relevant_Factors_Cord_Target_Path_All_Files = glob.glob(os.path.join(Relevant_Factors_Cord_Target_Path , \"*.csv\"))\n",
    "\n",
    "Relevant_Factors_Cord_Target_List = []\n",
    "\n",
    "for Filename in Relevant_Factors_Cord_Target_Path_All_Files:\n",
    "    Relevant_Factors_Cord_Target_Df = pd.read_csv(Filename, index_col=None, header=0)\n",
    "    Relevant_Factors_Cord_Target_List.append(Relevant_Factors_Cord_Target_Df)"
   ]
  },
  {
   "cell_type": "markdown",
   "id": "22323cef-a9ad-4085-a159-f42da5034a05",
   "metadata": {
    "tags": []
   },
   "source": [
    "### Relevant Factors Data Filter (Only Selecting Study and Solution)"
   ]
  },
  {
   "cell_type": "code",
   "execution_count": 25,
   "id": "7efef807-a0fe-4502-92dd-117b1261fe4b",
   "metadata": {},
   "outputs": [],
   "source": [
    "k=0\n",
    "for Relevant_Factors_Cord_Target_Sub in Relevant_Factors_Cord_Target_List:\n",
    "    Relevant_Factors_Cord_Target_List[k] = Relevant_Factors_Cord_Target_Sub.loc[:,['Study','Excerpt']]\n",
    "    k=k+1"
   ]
  },
  {
   "cell_type": "markdown",
   "id": "ffbdfa31-4b67-4e70-95ef-c000fea02303",
   "metadata": {
    "tags": []
   },
   "source": [
    "### Displaying Filtered Relevant Factors Target Tables given by Kaggle"
   ]
  },
  {
   "cell_type": "code",
   "execution_count": 26,
   "id": "166118e7-6bad-4d13-ad03-5f1b0d45ea5e",
   "metadata": {},
   "outputs": [],
   "source": [
    "Relevant_Factors_Cord_Target_Dir = os.listdir(Relevant_Factors_Cord_Target_Path)\n",
    "\n",
    "k=0\n",
    "for Relevant_Factors_Cord_Target_Dir_Sub in Relevant_Factors_Cord_Target_Dir:\n",
    "    Relevant_Factors_Cord_Target_Dir[k] = Relevant_Factors_Cord_Target_Dir_Sub[:-4]\n",
    "    k=k+1"
   ]
  },
  {
   "cell_type": "code",
   "execution_count": 27,
   "id": "ef1952b1-550a-4204-8b4b-474096dfa1de",
   "metadata": {},
   "outputs": [],
   "source": [
    "k=0\n",
    "for Relevant_Factors_Cord_Target_Dir_Sub in Relevant_Factors_Cord_Target_Dir:\n",
    "    Relevant_Factors_Cord_Target_List[k]['Query'] = Relevant_Factors_Cord_Target_List[k].shape[0] * [Relevant_Factors_Cord_Target_Dir_Sub]\n",
    "    k=k+1"
   ]
  },
  {
   "cell_type": "code",
   "execution_count": 28,
   "id": "b13c028e-19aa-4f50-af01-bc7055288444",
   "metadata": {},
   "outputs": [],
   "source": [
    "Relevant_Factors_Cord_Target = pd.concat(Relevant_Factors_Cord_Target_List, axis=0, ignore_index=True)"
   ]
  },
  {
   "cell_type": "code",
   "execution_count": 29,
   "id": "8a4a5f41-6eff-4ea6-966b-b1501c7af12b",
   "metadata": {},
   "outputs": [],
   "source": [
    "del Relevant_Factors_Cord_Target_List"
   ]
  },
  {
   "cell_type": "code",
   "execution_count": 30,
   "id": "128e7f7c-2ced-4b1b-b127-123a3e1609e8",
   "metadata": {},
   "outputs": [
    {
     "name": "stdout",
     "output_type": "stream",
     "text": [
      "\u001b[1mThe Loaded Full Relevant Factors Target Table is:\u001b[0m\n",
      "\n",
      "                                               Study  \\\n",
      "0  Optimal policies for control of the novel coro...   \n",
      "1  A model for COVID-19 with isolation, quarantin...   \n",
      "2  Modeling and forecasting of the COVID-19 pande...   \n",
      "3  Impacts of social and economic factors on the ...   \n",
      "4  A multi-region discrete time mathematical mode...   \n",
      "\n",
      "                                             Excerpt  \\\n",
      "0  As well, Fig. 3 shows that the number of quara...   \n",
      "1  Comparing these four scenarios, we shall deduc...   \n",
      "2  Our study reveals that the strict control meas...   \n",
      "3  We then compare the transmission rates in diff...   \n",
      "4  Figure 10 shows that the number of the exposed...   \n",
      "\n",
      "                                               Query  \n",
      "0  Effectiveness of a multifactorial strategy to ...  \n",
      "1  Effectiveness of a multifactorial strategy to ...  \n",
      "2  Effectiveness of a multifactorial strategy to ...  \n",
      "3  Effectiveness of a multifactorial strategy to ...  \n",
      "4  Effectiveness of a multifactorial strategy to ...  \n",
      "\n",
      "\n"
     ]
    }
   ],
   "source": [
    "print('\\033[1m' + 'The Loaded Full Relevant Factors Target Table is:' + '\\033[0m' + '\\n')\n",
    "print(Relevant_Factors_Cord_Target.head())\n",
    "print('\\n')"
   ]
  },
  {
   "cell_type": "markdown",
   "id": "3ea0d7ed-1965-4460-b745-253547dc4faf",
   "metadata": {
    "tags": []
   },
   "source": [
    "### Loading Patient Descriptions Target Tables given by Kaggle"
   ]
  },
  {
   "cell_type": "code",
   "execution_count": 31,
   "id": "4387512f-d804-41ba-9744-abd57feaa92e",
   "metadata": {},
   "outputs": [],
   "source": [
    "import pandas as pd\n",
    "import glob\n",
    "import os\n",
    "\n",
    "Patient_Descriptions_Cord_Target_Path = r\"D:\\UoA\\Tri 2\\Big Data Analysis and Projects\\Week 8\\archive\\Kaggle\\target_tables\\3_patient_descriptions\"\n",
    "Patient_Descriptions_Cord_Target_Path_All_Files = glob.glob(os.path.join(Patient_Descriptions_Cord_Target_Path , \"*.csv\"))\n",
    "\n",
    "Patient_Descriptions_Cord_Target_List = []\n",
    "\n",
    "for Filename in Patient_Descriptions_Cord_Target_Path_All_Files:\n",
    "    Patient_Descriptions_Cord_Target_Df = pd.read_csv(Filename, index_col=None, header=0)\n",
    "    Patient_Descriptions_Cord_Target_List.append(Patient_Descriptions_Cord_Target_Df)"
   ]
  },
  {
   "cell_type": "markdown",
   "id": "628b54ad-ddfd-47c0-8819-d1ac130c7376",
   "metadata": {
    "tags": []
   },
   "source": [
    "### Patient Descriptions Data Filter (Only Selecting Study and Solution)"
   ]
  },
  {
   "cell_type": "code",
   "execution_count": 32,
   "id": "b5084dac-206a-4c9f-bb65-4372762f8bfa",
   "metadata": {},
   "outputs": [],
   "source": [
    "k=0\n",
    "for Patient_Descriptions_Cord_Target_Sub in Patient_Descriptions_Cord_Target_List:\n",
    "    Patient_Descriptions_Cord_Target_List[k] = Patient_Descriptions_Cord_Target_Sub.loc[:,['Study','Excerpt']]\n",
    "    k=k+1"
   ]
  },
  {
   "cell_type": "markdown",
   "id": "7388c394-60e4-47a7-88cd-c4c599c07e1b",
   "metadata": {
    "tags": []
   },
   "source": [
    "### Displaying Filtered Patient Descriptions Target Tables given by Kaggle"
   ]
  },
  {
   "cell_type": "code",
   "execution_count": 33,
   "id": "c67e29d2-17f7-4049-9cc9-4f8359219490",
   "metadata": {},
   "outputs": [],
   "source": [
    "Patient_Descriptions_Cord_Target_Dir = os.listdir(Patient_Descriptions_Cord_Target_Path)\n",
    "\n",
    "k=0\n",
    "for Patient_Descriptions_Cord_Target_Dir_Sub in Patient_Descriptions_Cord_Target_Dir:\n",
    "    Patient_Descriptions_Cord_Target_Dir[k] = Patient_Descriptions_Cord_Target_Dir_Sub[:-4]\n",
    "    k=k+1"
   ]
  },
  {
   "cell_type": "code",
   "execution_count": 34,
   "id": "88561d20-507b-42f1-943c-b817109bf275",
   "metadata": {},
   "outputs": [],
   "source": [
    "k=0\n",
    "for Patient_Descriptions_Cord_Target_Dir_Sub in Patient_Descriptions_Cord_Target_Dir:\n",
    "    Patient_Descriptions_Cord_Target_List[k]['Query'] = Patient_Descriptions_Cord_Target_List[k].shape[0] * [Patient_Descriptions_Cord_Target_Dir_Sub]\n",
    "    k=k+1"
   ]
  },
  {
   "cell_type": "code",
   "execution_count": 35,
   "id": "30bbff6e-fb6d-4c43-8198-7e7ac411d6cb",
   "metadata": {},
   "outputs": [],
   "source": [
    "Patient_Descriptions_Cord_Target = pd.concat(Patient_Descriptions_Cord_Target_List, axis=0, ignore_index=True)"
   ]
  },
  {
   "cell_type": "code",
   "execution_count": 36,
   "id": "f41d3a67-ec18-49d3-99f3-093e384a5f51",
   "metadata": {},
   "outputs": [],
   "source": [
    "del Patient_Descriptions_Cord_Target_List"
   ]
  },
  {
   "cell_type": "code",
   "execution_count": 37,
   "id": "8affe3d3-aa32-4494-ba02-649e2330eb94",
   "metadata": {},
   "outputs": [
    {
     "name": "stdout",
     "output_type": "stream",
     "text": [
      "\u001b[1mThe Loaded Full Patient Descriptions Target Table is:\u001b[0m\n",
      "\n",
      "                                               Study  \\\n",
      "0  Presymptomatic Transmission of SARS-CoV-2 — Si...   \n",
      "1  Modes of contact and risk of transmission in C...   \n",
      "2  Temporal dynamics in viral shedding and transm...   \n",
      "3  Epidemiological characteristics of 2019 novel ...   \n",
      "4  Epidemiological parameters of coronavirus dise...   \n",
      "\n",
      "                                             Excerpt  \\\n",
      "0  Among the 243 cases of COVID-19 reported in Si...   \n",
      "1  Only 1 (1/305, 0.33%) and 19 (19/576, 3.3%) cl...   \n",
      "2  The estimated proportion of presymptomatic tra...   \n",
      "3  Family secondary attack rate for subsequent ca...   \n",
      "4  In 102 (43.78%) infector-infectee pairs, trans...   \n",
      "\n",
      "                                               Query  \n",
      "0  Can the virus be transmitted asymptomatically ...  \n",
      "1  Can the virus be transmitted asymptomatically ...  \n",
      "2  Can the virus be transmitted asymptomatically ...  \n",
      "3  Can the virus be transmitted asymptomatically ...  \n",
      "4  Can the virus be transmitted asymptomatically ...  \n",
      "\n",
      "\n"
     ]
    }
   ],
   "source": [
    "print('\\033[1m' + 'The Loaded Full Patient Descriptions Target Table is:' + '\\033[0m' + '\\n')\n",
    "print(Patient_Descriptions_Cord_Target.head())\n",
    "print('\\n')"
   ]
  },
  {
   "cell_type": "markdown",
   "id": "758b8755-2eac-4b74-9d79-b2193c2c2a81",
   "metadata": {
    "tags": []
   },
   "source": [
    "### Loading Models and Open Questions Target Tables given by Kaggle"
   ]
  },
  {
   "cell_type": "code",
   "execution_count": 38,
   "id": "9340ea7c-ea8e-4c9c-ba6c-84e8ba45e9e5",
   "metadata": {},
   "outputs": [],
   "source": [
    "import pandas as pd\n",
    "import glob\n",
    "import os\n",
    "\n",
    "Models_and_Open_Questions_Cord_Target_Path = r\"D:\\UoA\\Tri 2\\Big Data Analysis and Projects\\Week 8\\archive\\Kaggle\\target_tables\\4_models_and_open_questions\"\n",
    "Models_and_Open_Questions_Cord_Target_Path_All_Files = glob.glob(os.path.join(Models_and_Open_Questions_Cord_Target_Path , \"*.csv\"))\n",
    "\n",
    "Models_and_Open_Questions_Cord_Target_List = []\n",
    "\n",
    "for Filename in Models_and_Open_Questions_Cord_Target_Path_All_Files:\n",
    "    Models_and_Open_Questions_Cord_Target_Df = pd.read_csv(Filename, index_col=None, header=0)\n",
    "    Models_and_Open_Questions_Cord_Target_List.append(Models_and_Open_Questions_Cord_Target_Df)"
   ]
  },
  {
   "cell_type": "code",
   "execution_count": 39,
   "id": "e2c9c815-aed1-468a-8377-f82cfff328be",
   "metadata": {},
   "outputs": [],
   "source": [
    "Models_and_Open_Questions_Cord_Target_List[1].columns = Models_and_Open_Questions_Cord_Target_List[1].columns.str.replace('Solution', 'Result')\n",
    "Models_and_Open_Questions_Cord_Target_List[3].columns = Models_and_Open_Questions_Cord_Target_List[3].columns.str.replace('Excerpt', 'Result')\n",
    "Models_and_Open_Questions_Cord_Target_List[5].columns = Models_and_Open_Questions_Cord_Target_List[5].columns.str.replace('Excerpt', 'Result')"
   ]
  },
  {
   "cell_type": "markdown",
   "id": "d735bae3-4795-479e-afe9-160665dcfb5c",
   "metadata": {
    "tags": []
   },
   "source": [
    "### Models and Open Questions Data Filter (Only Selecting Study and Solution)"
   ]
  },
  {
   "cell_type": "code",
   "execution_count": 40,
   "id": "c6c3eb54-5f2e-4185-aa31-fe8908cb3e8e",
   "metadata": {},
   "outputs": [],
   "source": [
    "k=0\n",
    "for Models_and_Open_Questions_Cord_Target_Sub in Models_and_Open_Questions_Cord_Target_List:\n",
    "    Models_and_Open_Questions_Cord_Target_List[k] = Models_and_Open_Questions_Cord_Target_Sub.loc[:,['Study','Result']]\n",
    "    k=k+1"
   ]
  },
  {
   "cell_type": "markdown",
   "id": "e5c67a65-013c-4605-a8f9-18de27975df1",
   "metadata": {
    "tags": []
   },
   "source": [
    "### Displaying Filtered Models and Open Questions Target Tables given by Kaggle"
   ]
  },
  {
   "cell_type": "code",
   "execution_count": 41,
   "id": "d3af79b9-429a-4354-b6e8-5a5a69ec80e8",
   "metadata": {},
   "outputs": [],
   "source": [
    "Models_and_Open_Questions_Cord_Target_Dir = os.listdir(Models_and_Open_Questions_Cord_Target_Path)\n",
    "\n",
    "k=0\n",
    "for Models_and_Open_Questions_Cord_Target_Dir_Sub in Models_and_Open_Questions_Cord_Target_Dir:\n",
    "    Models_and_Open_Questions_Cord_Target_Dir[k] = Models_and_Open_Questions_Cord_Target_Dir_Sub[:-4]\n",
    "    k=k+1"
   ]
  },
  {
   "cell_type": "code",
   "execution_count": 42,
   "id": "9f9ca45c-5cd1-43d9-b563-faf8d70fee01",
   "metadata": {},
   "outputs": [],
   "source": [
    "k=0\n",
    "for Models_and_Open_Questions_Cord_Target_Dir_Sub in Models_and_Open_Questions_Cord_Target_Dir:\n",
    "    Models_and_Open_Questions_Cord_Target_List[k]['Query'] = Models_and_Open_Questions_Cord_Target_List[k].shape[0] * [Models_and_Open_Questions_Cord_Target_Dir_Sub]\n",
    "    k=k+1"
   ]
  },
  {
   "cell_type": "code",
   "execution_count": 43,
   "id": "c2ae9625-9811-4f67-a2d2-f4464032f512",
   "metadata": {},
   "outputs": [],
   "source": [
    "Models_and_Open_Questions_Cord_Target = pd.concat(Models_and_Open_Questions_Cord_Target_List, axis=0, ignore_index=True)"
   ]
  },
  {
   "cell_type": "code",
   "execution_count": 44,
   "id": "951a9704-8cb4-4569-b96f-b45527ec3b4a",
   "metadata": {},
   "outputs": [],
   "source": [
    "del Models_and_Open_Questions_Cord_Target_List"
   ]
  },
  {
   "cell_type": "code",
   "execution_count": 45,
   "id": "0aa55bc3-546b-4816-bb8b-b3369b048972",
   "metadata": {},
   "outputs": [
    {
     "name": "stdout",
     "output_type": "stream",
     "text": [
      "\u001b[1mThe Loaded Full Models and Open Questions Target Table is:\u001b[0m\n",
      "\n",
      "                                               Study  \\\n",
      "0  Lymphopenic community acquired pneumonia as si...   \n",
      "1  Critical role of type III interferon in contro...   \n",
      "2  Distinct early IgA profile may determine sever...   \n",
      "3  Single-cell analysis of human lung epithelia r...   \n",
      "4  The phenotypic changes of γδ T cells in COVID-...   \n",
      "\n",
      "                                              Result  \\\n",
      "0  85% of patients critically ill showed lymphope...   \n",
      "1  human intestinal epithelial cells fully suppor...   \n",
      "2  Severe illness correlated with delayed, but br...   \n",
      "3  ACE2-positive AT2 cells that co-express pathog...   \n",
      "4  increased expression of CD4 in γδ T cells may ...   \n",
      "\n",
      "                                        Query  \n",
      "0  Are there studies about phenotypic change_  \n",
      "1  Are there studies about phenotypic change_  \n",
      "2  Are there studies about phenotypic change_  \n",
      "3  Are there studies about phenotypic change_  \n",
      "4  Are there studies about phenotypic change_  \n",
      "\n",
      "\n"
     ]
    }
   ],
   "source": [
    "print('\\033[1m' + 'The Loaded Full Models and Open Questions Target Table is:' + '\\033[0m' + '\\n')\n",
    "print(Models_and_Open_Questions_Cord_Target.head())\n",
    "print('\\n')"
   ]
  },
  {
   "cell_type": "markdown",
   "id": "abe65868-b3c1-43f4-8b6c-86ff6a475c0f",
   "metadata": {
    "tags": []
   },
   "source": [
    "### Loading Materials Target Tables given by Kaggle"
   ]
  },
  {
   "cell_type": "code",
   "execution_count": 46,
   "id": "3c607dcd-a747-471b-a528-e4ece1665176",
   "metadata": {},
   "outputs": [],
   "source": [
    "import pandas as pd\n",
    "import glob\n",
    "import os\n",
    "\n",
    "Materials_Cord_Target_Path = r\"D:\\UoA\\Tri 2\\Big Data Analysis and Projects\\Week 8\\archive\\Kaggle\\target_tables\\5_materials\"\n",
    "Materials_Cord_Target_Path_All_Files = glob.glob(os.path.join(Materials_Cord_Target_Path , \"*.csv\"))\n",
    "\n",
    "Materials_Cord_Target_List = []\n",
    "\n",
    "for Filename in Materials_Cord_Target_Path_All_Files:\n",
    "    Materials_Cord_Target_Df = pd.read_csv(Filename, index_col=None, header=0)\n",
    "    Materials_Cord_Target_List.append(Materials_Cord_Target_Df)"
   ]
  },
  {
   "cell_type": "markdown",
   "id": "4f76f4aa-8ff4-4b55-a7a2-8c677f7813cf",
   "metadata": {
    "tags": []
   },
   "source": [
    "### Materials Data Filter (Only Selecting Study and Solution)"
   ]
  },
  {
   "cell_type": "code",
   "execution_count": 47,
   "id": "8b618f31-cf86-4a14-81bf-a5163c14a127",
   "metadata": {},
   "outputs": [],
   "source": [
    "k=0\n",
    "for Materials_Cord_Target_Sub in Materials_Cord_Target_List:\n",
    "    Materials_Cord_Target_List[k] = Materials_Cord_Target_Sub.loc[:,['Study','Conclusion']]\n",
    "    k=k+1"
   ]
  },
  {
   "cell_type": "markdown",
   "id": "a5b91028-16a2-4da7-aa11-bcc34dc1af84",
   "metadata": {
    "tags": []
   },
   "source": [
    "### Displaying Filtered Materials Target Tables given by Kaggle"
   ]
  },
  {
   "cell_type": "code",
   "execution_count": 48,
   "id": "e601bf49-1972-4555-a00c-20b8ae525401",
   "metadata": {},
   "outputs": [],
   "source": [
    "Materials_Cord_Target_Dir = os.listdir(Materials_Cord_Target_Path)\n",
    "\n",
    "k=0\n",
    "for Materials_Cord_Target_Dir_Sub in Materials_Cord_Target_Dir:\n",
    "    Materials_Cord_Target_Dir[k] = Materials_Cord_Target_Dir_Sub[:-4]\n",
    "    k=k+1"
   ]
  },
  {
   "cell_type": "code",
   "execution_count": 49,
   "id": "8a9a38ab-ca93-4941-ad3b-9069877d0f59",
   "metadata": {},
   "outputs": [],
   "source": [
    "k=0\n",
    "for Materials_Cord_Target_Dir_Sub in Materials_Cord_Target_Dir:\n",
    "    Materials_Cord_Target_List[k]['Query'] = Materials_Cord_Target_List[k].shape[0] * [Materials_Cord_Target_Dir_Sub]\n",
    "    k=k+1"
   ]
  },
  {
   "cell_type": "code",
   "execution_count": 50,
   "id": "ecfd4ac3-06f6-47e0-b638-b286d242e673",
   "metadata": {},
   "outputs": [],
   "source": [
    "Materials_Cord_Target = pd.concat(Materials_Cord_Target_List, axis=0, ignore_index=True)"
   ]
  },
  {
   "cell_type": "code",
   "execution_count": 51,
   "id": "7357dcdf-d878-42ac-89b4-fc8e67c8c393",
   "metadata": {},
   "outputs": [],
   "source": [
    "del Materials_Cord_Target_List"
   ]
  },
  {
   "cell_type": "code",
   "execution_count": 52,
   "id": "43529045-0b19-48a1-8bcb-783994701f96",
   "metadata": {},
   "outputs": [
    {
     "name": "stdout",
     "output_type": "stream",
     "text": [
      "\u001b[1mThe Loaded Full Materials Target Table is:\u001b[0m\n",
      "\n",
      "                                               Study  \\\n",
      "0                                     Review Article   \n",
      "1                                     Review Article   \n",
      "2                                     Review Article   \n",
      "3                                     Review Article   \n",
      "4  Detection of Air and Surface Contamination by ...   \n",
      "\n",
      "                                          Conclusion  \\\n",
      "0  Coronavirus can sustain for a long time on var...   \n",
      "1  Coronavirus can sustain for a long time on var...   \n",
      "2  Coronavirus can sustain for a long time on var...   \n",
      "3  Coronavirus can sustain for a long time on var...   \n",
      "4                                 contaminated (65%)   \n",
      "\n",
      "                                     Query  \n",
      "0  Adhesion to hydrophilic_phobic surfaces  \n",
      "1  Adhesion to hydrophilic_phobic surfaces  \n",
      "2  Adhesion to hydrophilic_phobic surfaces  \n",
      "3  Adhesion to hydrophilic_phobic surfaces  \n",
      "4  Adhesion to hydrophilic_phobic surfaces  \n",
      "\n",
      "\n"
     ]
    }
   ],
   "source": [
    "print('\\033[1m' + 'The Loaded Full Materials Target Table is:' + '\\033[0m' + '\\n')\n",
    "print(Materials_Cord_Target.head())\n",
    "print('\\n')"
   ]
  },
  {
   "cell_type": "markdown",
   "id": "376f2fca-73ce-4607-958b-9ddf11f3cb4e",
   "metadata": {
    "tags": []
   },
   "source": [
    "### Loading Diagnostics Target Tables given by Kaggle"
   ]
  },
  {
   "cell_type": "code",
   "execution_count": 53,
   "id": "81a2969e-aa9b-4e19-b16f-7d50df908cc0",
   "metadata": {},
   "outputs": [],
   "source": [
    "import pandas as pd\n",
    "import glob\n",
    "import os\n",
    "\n",
    "Diagnostics_Cord_Target_Path = r\"D:\\UoA\\Tri 2\\Big Data Analysis and Projects\\Week 8\\archive\\Kaggle\\target_tables\\6_diagnostics\"\n",
    "Diagnostics_Cord_Target_Path_All_Files = glob.glob(os.path.join(Diagnostics_Cord_Target_Path , \"*.csv\"))\n",
    "\n",
    "Diagnostics_Cord_Target_List = []\n",
    "\n",
    "for Filename in Diagnostics_Cord_Target_Path_All_Files:\n",
    "    Diagnostics_Cord_Target_Df = pd.read_csv(Filename, index_col=None, header=0)\n",
    "    Diagnostics_Cord_Target_List.append(Diagnostics_Cord_Target_Df)"
   ]
  },
  {
   "cell_type": "markdown",
   "id": "48b2e72c-47b9-4aca-af47-b6da9a45111d",
   "metadata": {
    "tags": []
   },
   "source": [
    "### Diagnostics Data Filter (Only Selecting Study and Solution)"
   ]
  },
  {
   "cell_type": "code",
   "execution_count": 54,
   "id": "82dc34fc-6cca-4a94-9bc9-09830e0ad5b0",
   "metadata": {},
   "outputs": [],
   "source": [
    "k=0\n",
    "for Diagnostics_Cord_Target_Sub in Diagnostics_Cord_Target_List:\n",
    "    Diagnostics_Cord_Target_List[k] = Diagnostics_Cord_Target_Sub.loc[:,['Study','Detection Method']]\n",
    "    k=k+1"
   ]
  },
  {
   "cell_type": "markdown",
   "id": "1f9d5a8f-dd34-46ad-b848-fa06946c292a",
   "metadata": {
    "tags": []
   },
   "source": [
    "### Displaying Filtered Diagnostics Target Tables given by Kaggle"
   ]
  },
  {
   "cell_type": "code",
   "execution_count": 55,
   "id": "4a744c8c-3457-4054-9c26-1e508f9cce81",
   "metadata": {},
   "outputs": [],
   "source": [
    "Diagnostics_Cord_Target_Dir = os.listdir(Diagnostics_Cord_Target_Path)\n",
    "\n",
    "k=0\n",
    "for Diagnostics_Cord_Target_Dir_Sub in Diagnostics_Cord_Target_Dir:\n",
    "    Diagnostics_Cord_Target_Dir[k] = Diagnostics_Cord_Target_Dir_Sub[:-4]\n",
    "    k=k+1"
   ]
  },
  {
   "cell_type": "code",
   "execution_count": 56,
   "id": "aab2fc2d-6bf8-4dbb-828c-dad28c90eaee",
   "metadata": {},
   "outputs": [],
   "source": [
    "k=0\n",
    "for Diagnostics_Cord_Target_Dir_Sub in Diagnostics_Cord_Target_Dir:\n",
    "    Diagnostics_Cord_Target_List[k]['Query'] = Diagnostics_Cord_Target_List[k].shape[0] * [Diagnostics_Cord_Target_Dir_Sub]\n",
    "    k=k+1"
   ]
  },
  {
   "cell_type": "code",
   "execution_count": 57,
   "id": "9c5125d2-4537-4e2e-abb0-0ff4a9b061ae",
   "metadata": {},
   "outputs": [],
   "source": [
    "Diagnostics_Cord_Target = pd.concat(Diagnostics_Cord_Target_List, axis=0, ignore_index=True)"
   ]
  },
  {
   "cell_type": "code",
   "execution_count": 58,
   "id": "1e9abed2-83dc-4475-b4d0-cb8fef3adf58",
   "metadata": {},
   "outputs": [],
   "source": [
    "del Diagnostics_Cord_Target_List"
   ]
  },
  {
   "cell_type": "code",
   "execution_count": 59,
   "id": "15ff2b01-85d1-41ec-b7a2-724007366a1f",
   "metadata": {},
   "outputs": [
    {
     "name": "stdout",
     "output_type": "stream",
     "text": [
      "\u001b[1mThe Loaded Full Models and Open Questions Target Table is:\u001b[0m\n",
      "\n",
      "                                               Study  \\\n",
      "0  Comparison of Abbott ID Now and Abbott m2000 m...   \n",
      "1  The Detection of SARS-CoV-2 using the Cepheid ...   \n",
      "2  RAPID SEROLOGICAL TESTS HAVE A ROLE IN ASYMPTO...   \n",
      "3  The Detection of SARS-CoV-2 using the Cepheid ...   \n",
      "4  The Detection of SARS-CoV-2 using the Cepheid ...   \n",
      "\n",
      "                                    Detection Method  \\\n",
      "0                           Isothermal amplification   \n",
      "1                       Roche cobas SARS-CoV-2 assay   \n",
      "2  rapid serological test Viva-Diag analyzingCOVI...   \n",
      "3              Cepheid Xpert Xpress SARS-CoV-2 assay   \n",
      "4                                     Roche Platform   \n",
      "\n",
      "                                               Query  \n",
      "0  Development of a point-of-care test and rapid ...  \n",
      "1  Development of a point-of-care test and rapid ...  \n",
      "2  Development of a point-of-care test and rapid ...  \n",
      "3  Development of a point-of-care test and rapid ...  \n",
      "4  Development of a point-of-care test and rapid ...  \n",
      "\n",
      "\n"
     ]
    }
   ],
   "source": [
    "print('\\033[1m' + 'The Loaded Full Models and Open Questions Target Table is:' + '\\033[0m' + '\\n')\n",
    "print(Diagnostics_Cord_Target.head())\n",
    "print('\\n')"
   ]
  },
  {
   "cell_type": "markdown",
   "id": "ab7f550a-9d0d-416a-97f5-e9fd9c6c17da",
   "metadata": {
    "tags": []
   },
   "source": [
    "### Loading Therapeutics Interventions and Clinical Studies Target Tables given by Kaggle"
   ]
  },
  {
   "cell_type": "code",
   "execution_count": 60,
   "id": "7d783d1d-5aa4-4061-bc8e-bf3d52689642",
   "metadata": {},
   "outputs": [],
   "source": [
    "import pandas as pd\n",
    "import glob\n",
    "import os\n",
    "\n",
    "Therapeutics_Interventions_and_Clinical_Studies_Cord_Target_Path = r\"D:\\UoA\\Tri 2\\Big Data Analysis and Projects\\Week 8\\archive\\Kaggle\\target_tables\\7_therapeutics_interventions_and_clinical_studies\"\n",
    "Therapeutics_Interventions_and_Clinical_Studies_Cord_Target_Path_All_Files = glob.glob(os.path.join(Therapeutics_Interventions_and_Clinical_Studies_Cord_Target_Path , \"*.csv\"))\n",
    "\n",
    "Therapeutics_Interventions_and_Clinical_Studies_Cord_Target_List = []\n",
    "\n",
    "for Filename in Therapeutics_Interventions_and_Clinical_Studies_Cord_Target_Path_All_Files:\n",
    "    Therapeutics_Interventions_and_Clinical_Studies_Cord_Target_Df = pd.read_csv(Filename, index_col=None, header=0)\n",
    "    Therapeutics_Interventions_and_Clinical_Studies_Cord_Target_List.append(Therapeutics_Interventions_and_Clinical_Studies_Cord_Target_Df)"
   ]
  },
  {
   "cell_type": "markdown",
   "id": "223cab09-5e2e-4e9a-8446-bf01866130f2",
   "metadata": {
    "tags": []
   },
   "source": [
    "### Therapeutics Interventions and Clinical Studies Data Filter (Only Selecting Study and Solution)"
   ]
  },
  {
   "cell_type": "code",
   "execution_count": 61,
   "id": "07d8cc51-6a58-4bc8-99a2-851db77a32f3",
   "metadata": {},
   "outputs": [],
   "source": [
    "k=0\n",
    "for Therapeutics_Interventions_and_Clinical_Studies_Cord_Target_Sub in Therapeutics_Interventions_and_Clinical_Studies_Cord_Target_List:\n",
    "    Therapeutics_Interventions_and_Clinical_Studies_Cord_Target_List[k] = Therapeutics_Interventions_and_Clinical_Studies_Cord_Target_Sub.loc[:,['Study','General Outcome/Conclusion Excerpt']]\n",
    "    k=k+1"
   ]
  },
  {
   "cell_type": "markdown",
   "id": "befced2f-d3b1-43aa-b726-f5db4659d90c",
   "metadata": {
    "tags": []
   },
   "source": [
    "### Displaying Filtered Therapeutics Interventions and Clinical Studies Target Tables given by Kaggle"
   ]
  },
  {
   "cell_type": "code",
   "execution_count": 62,
   "id": "c12ee4bb-8047-469e-901a-56ba1ca372fa",
   "metadata": {},
   "outputs": [],
   "source": [
    "Therapeutics_Interventions_and_Clinical_Studies_Cord_Target_Dir = os.listdir(Therapeutics_Interventions_and_Clinical_Studies_Cord_Target_Path)\n",
    "\n",
    "k=0\n",
    "for Therapeutics_Interventions_and_Clinical_Studies_Cord_Target_Dir_Sub in Therapeutics_Interventions_and_Clinical_Studies_Cord_Target_Dir:\n",
    "    Therapeutics_Interventions_and_Clinical_Studies_Cord_Target_Dir[k] = Therapeutics_Interventions_and_Clinical_Studies_Cord_Target_Dir_Sub[:-4]\n",
    "    k=k+1"
   ]
  },
  {
   "cell_type": "code",
   "execution_count": 63,
   "id": "63ffd39a-9d15-4e2a-9bc5-8e6a35833a23",
   "metadata": {},
   "outputs": [],
   "source": [
    "k=0\n",
    "for Therapeutics_Interventions_and_Clinical_Studies_Cord_Target_Dir_Sub in Therapeutics_Interventions_and_Clinical_Studies_Cord_Target_Dir:\n",
    "    Therapeutics_Interventions_and_Clinical_Studies_Cord_Target_List[k]['Query'] = Therapeutics_Interventions_and_Clinical_Studies_Cord_Target_List[k].shape[0] * [Therapeutics_Interventions_and_Clinical_Studies_Cord_Target_Dir_Sub]\n",
    "    k=k+1"
   ]
  },
  {
   "cell_type": "code",
   "execution_count": 64,
   "id": "8082e988-60db-4718-87c1-e839c1e66bcf",
   "metadata": {},
   "outputs": [],
   "source": [
    "Therapeutics_Interventions_and_Clinical_Studies_Cord_Target = pd.concat(Therapeutics_Interventions_and_Clinical_Studies_Cord_Target_List, axis=0, ignore_index=True)"
   ]
  },
  {
   "cell_type": "code",
   "execution_count": 65,
   "id": "4ae1f862-a6f2-4ee2-b036-9139d52ab98d",
   "metadata": {},
   "outputs": [],
   "source": [
    "del Therapeutics_Interventions_and_Clinical_Studies_Cord_Target_List"
   ]
  },
  {
   "cell_type": "code",
   "execution_count": 66,
   "id": "38bab8f0-5a0f-4c5f-89dc-1d32b1614266",
   "metadata": {},
   "outputs": [
    {
     "name": "stdout",
     "output_type": "stream",
     "text": [
      "\u001b[1mThe Loaded Full Therapeutics Interventions and Clinical Studies Target Table is:\u001b[0m\n",
      "\n",
      "                                               Study  \\\n",
      "0  Enhanced platelet inhibition treatment improve...   \n",
      "1  Nifedipine and Amlodipine Are Associated With ...   \n",
      "2  Pulmonary intravascular coagulation in COVID-1...   \n",
      "3  Acute limb ischemia in patients with COVID-19 ...   \n",
      "4  Proposal of the French Society of Vascular Med...   \n",
      "\n",
      "                  General Outcome/Conclusion Excerpt  \\\n",
      "0  Treated patients consistently experienced a me...   \n",
      "1  Patients treated with a CCB were significantly...   \n",
      "2  LMWH at prophylactic doses should be administe...   \n",
      "3  Successful revascularization was not significa...   \n",
      "4  Patients hospitalized with an acute medical co...   \n",
      "\n",
      "                                               Query  \n",
      "0  What is the best method to combat the hypercoa...  \n",
      "1  What is the best method to combat the hypercoa...  \n",
      "2  What is the best method to combat the hypercoa...  \n",
      "3  What is the best method to combat the hypercoa...  \n",
      "4  What is the best method to combat the hypercoa...  \n",
      "\n",
      "\n"
     ]
    }
   ],
   "source": [
    "print('\\033[1m' + 'The Loaded Full Therapeutics Interventions and Clinical Studies Target Table is:' + '\\033[0m' + '\\n')\n",
    "print(Therapeutics_Interventions_and_Clinical_Studies_Cord_Target.head())\n",
    "print('\\n')"
   ]
  },
  {
   "cell_type": "markdown",
   "id": "919af481-ce63-4fe3-8851-5935b83d024f",
   "metadata": {
    "tags": []
   },
   "source": [
    "### Loading Risk Factors Tables given by Kaggle"
   ]
  },
  {
   "cell_type": "code",
   "execution_count": 67,
   "id": "2d0df1ad-9d27-424c-96fe-36f8ef6241df",
   "metadata": {},
   "outputs": [],
   "source": [
    "import pandas as pd\n",
    "import glob\n",
    "import os\n",
    "\n",
    "Risk_Factors_Cord_Target_Path = r\"D:\\UoA\\Tri 2\\Big Data Analysis and Projects\\Week 8\\archive\\Kaggle\\target_tables\\8_risk_factors\"\n",
    "Risk_Factors_Cord_Target_Path_All_Files = glob.glob(os.path.join(Risk_Factors_Cord_Target_Path , \"*.csv\"))\n",
    "\n",
    "Risk_Factors_Cord_Target_List = []\n",
    "\n",
    "for Filename in Risk_Factors_Cord_Target_Path_All_Files:\n",
    "    Risk_Factors_Cord_Target_Df = pd.read_csv(Filename, index_col=None, header=0)\n",
    "    Risk_Factors_Cord_Target_List.append(Risk_Factors_Cord_Target_Df)"
   ]
  },
  {
   "cell_type": "markdown",
   "id": "a90c6b0b-6263-47fe-b36c-b63fa8abc734",
   "metadata": {
    "tags": []
   },
   "source": [
    "### Risk Factors Data Filter (Only Selecting Study and Solution)"
   ]
  },
  {
   "cell_type": "code",
   "execution_count": 68,
   "id": "6f698984-4ad4-4651-93fa-5fc03f7418a1",
   "metadata": {},
   "outputs": [],
   "source": [
    "k=0\n",
    "for Risk_Factors_Cord_Target_Sub in Risk_Factors_Cord_Target_List:\n",
    "    Risk_Factors_Cord_Target_List[k] = Risk_Factors_Cord_Target_Sub.loc[:,['Study','Study Population']]\n",
    "    k=k+1"
   ]
  },
  {
   "cell_type": "markdown",
   "id": "4bf0bf42-18d5-45cc-8045-fa179202ea16",
   "metadata": {
    "tags": []
   },
   "source": [
    "### Displaying Filtered Risk Factors Target Tables given by Kaggle"
   ]
  },
  {
   "cell_type": "code",
   "execution_count": 69,
   "id": "881f6cb7-77a8-4a41-91f3-218cec7bda7e",
   "metadata": {},
   "outputs": [],
   "source": [
    "Risk_Factors_Cord_Target_Dir = os.listdir(Risk_Factors_Cord_Target_Path)\n",
    "\n",
    "k=0\n",
    "for Risk_Factors_Cord_Target_Dir_Sub in Risk_Factors_Cord_Target_Dir:\n",
    "    Risk_Factors_Cord_Target_Dir[k] = Risk_Factors_Cord_Target_Dir_Sub[:-4]\n",
    "    k=k+1"
   ]
  },
  {
   "cell_type": "code",
   "execution_count": 70,
   "id": "98509296-0a8b-49ce-8a2e-8ffaef4b6818",
   "metadata": {},
   "outputs": [],
   "source": [
    "k=0\n",
    "for Risk_Factors_Cord_Target_Dir_Sub in Risk_Factors_Cord_Target_Dir:\n",
    "    Risk_Factors_Cord_Target_List[k]['Query'] = Risk_Factors_Cord_Target_List[k].shape[0] * [Risk_Factors_Cord_Target_Dir_Sub]\n",
    "    k=k+1"
   ]
  },
  {
   "cell_type": "code",
   "execution_count": 71,
   "id": "5500cc8b-7428-4dbf-a47c-e2f43c0d534f",
   "metadata": {},
   "outputs": [],
   "source": [
    "Risk_Factors_Cord_Target = pd.concat(Risk_Factors_Cord_Target_List, axis=0, ignore_index=True)"
   ]
  },
  {
   "cell_type": "code",
   "execution_count": 72,
   "id": "d8e4a803-0555-4b32-8333-1fe84f2d25d5",
   "metadata": {},
   "outputs": [],
   "source": [
    "del Risk_Factors_Cord_Target_List"
   ]
  },
  {
   "cell_type": "code",
   "execution_count": 73,
   "id": "4123994f-b807-4d19-8edc-bf22f9f0f577",
   "metadata": {},
   "outputs": [
    {
     "name": "stdout",
     "output_type": "stream",
     "text": [
      "\u001b[1mThe Loaded Full Risk Factors Target Table is:\u001b[0m\n",
      "\n",
      "                                               Study  \\\n",
      "0  Phenotypic characteristics and prognosis of in...   \n",
      "1          Obesity and COVID-19: an Italian snapshot   \n",
      "2  Association between Cardiovascular Burden and ...   \n",
      "3  Association between Cardiovascular Burden and ...   \n",
      "4  Association between Cardiovascular Burden and ...   \n",
      "\n",
      "                                    Study Population Query  \n",
      "0  The CORONADO study was launched in all French ...   Age  \n",
      "1  92 patients stayed at least one day in the COV...   Age  \n",
      "2  February 5, 2020, to March 10, 2020 (followed ...   Age  \n",
      "3  February 5, 2020, to March 10, 2020 (followed ...   Age  \n",
      "4  February 5, 2020, to March 10, 2020 (followed ...   Age  \n",
      "\n",
      "\n"
     ]
    }
   ],
   "source": [
    "print('\\033[1m' + 'The Loaded Full Risk Factors Target Table is:' + '\\033[0m' + '\\n')\n",
    "print(Risk_Factors_Cord_Target.head())\n",
    "print('\\n')"
   ]
  },
  {
   "cell_type": "markdown",
   "id": "c7f53fbb-5d2f-4262-abf3-4124ecf16526",
   "metadata": {
    "tags": []
   },
   "source": [
    "### Loading Key Scientific Questions Target Tables given by Kaggle"
   ]
  },
  {
   "cell_type": "code",
   "execution_count": 74,
   "id": "9d371594-8c4c-4d3f-98f6-7fd268b70a90",
   "metadata": {},
   "outputs": [],
   "source": [
    "import pandas as pd\n",
    "import glob\n",
    "import os\n",
    "\n",
    "Key_Scientific_Questions_Cord_Target_Path = r\"D:\\UoA\\Tri 2\\Big Data Analysis and Projects\\Week 8\\archive\\Kaggle\\target_tables\\unsorted_tables\\key_scientific_questions\"\n",
    "Key_Scientific_Questions_Cord_Target_Path_All_Files = glob.glob(os.path.join(Key_Scientific_Questions_Cord_Target_Path , \"*.csv\"))\n",
    "\n",
    "Key_Scientific_Questions_Cord_Target_List = []\n",
    "\n",
    "for Filename in Key_Scientific_Questions_Cord_Target_Path_All_Files:\n",
    "    Key_Scientific_Questions_Cord_Target_Df = pd.read_csv(Filename, index_col=None, header=0)\n",
    "    Key_Scientific_Questions_Cord_Target_List.append(Key_Scientific_Questions_Cord_Target_Df)"
   ]
  },
  {
   "cell_type": "code",
   "execution_count": 75,
   "id": "7ea6d374-61bb-42c0-88e8-e0de76cfef6e",
   "metadata": {},
   "outputs": [],
   "source": [
    "Key_Scientific_Questions_Cord_Dict = {'Conclusion': 'Excerpt', 'Detection Method': 'Excerpt', 'Solution': 'Excerpt', 'Result': 'Excerpt', 'Proposed Solution':'Excerpt', 'General Outcome/Conclusion Excerpt':'Excerpt','Excerpt': 'Excerpt'}"
   ]
  },
  {
   "cell_type": "code",
   "execution_count": 76,
   "id": "9ef66ec8-528a-4f0a-bd8a-a02c1d77ff52",
   "metadata": {},
   "outputs": [],
   "source": [
    "k=0\n",
    "for Key_Scientific_Questions_Cord_Target_Df in Key_Scientific_Questions_Cord_Target_List:\n",
    "    Key_Scientific_Questions_Cord_Target_List[k].rename(columns=Key_Scientific_Questions_Cord_Dict,inplace=True) \n",
    "    k=k+1"
   ]
  },
  {
   "cell_type": "markdown",
   "id": "bc1a56a6-4938-4437-8822-398e238785c6",
   "metadata": {
    "tags": []
   },
   "source": [
    "### Key Scientific Questions Data Filter (Only Selecting Study and Solution)"
   ]
  },
  {
   "cell_type": "code",
   "execution_count": 77,
   "id": "a5760cfa-93bd-4e6d-9f6c-2f0fa6a504a6",
   "metadata": {},
   "outputs": [],
   "source": [
    "k=0\n",
    "for Key_Scientific_Questions_Cord_Target_Sub in Key_Scientific_Questions_Cord_Target_List:\n",
    "    Key_Scientific_Questions_Cord_Target_List[k] = Key_Scientific_Questions_Cord_Target_Sub.loc[:,['Study','Excerpt']]\n",
    "    k=k+1"
   ]
  },
  {
   "cell_type": "markdown",
   "id": "51cc4b1f-3478-4c02-bdf6-8f17d718c3ea",
   "metadata": {
    "tags": []
   },
   "source": [
    "### Displaying Filtered Key Scientific Questions Target Tables given by Kaggle"
   ]
  },
  {
   "cell_type": "code",
   "execution_count": 78,
   "id": "40dab6f6-ffb1-40e6-aba9-a44689d531f7",
   "metadata": {},
   "outputs": [],
   "source": [
    "Key_Scientific_Questions_Cord_Target_Dir = os.listdir(Key_Scientific_Questions_Cord_Target_Path)\n",
    "\n",
    "k=0\n",
    "for Key_Scientific_Questions_Cord_Target_Dir_Sub in Key_Scientific_Questions_Cord_Target_Dir:\n",
    "    Key_Scientific_Questions_Cord_Target_Dir[k] = Key_Scientific_Questions_Cord_Target_Dir_Sub[:-4]\n",
    "    k=k+1"
   ]
  },
  {
   "cell_type": "code",
   "execution_count": 79,
   "id": "9034a124-73c5-4417-8e78-f19d0ff0d145",
   "metadata": {},
   "outputs": [],
   "source": [
    "k=0\n",
    "for Key_Scientific_Questions_Cord_Target_Dir_Sub in Key_Scientific_Questions_Cord_Target_Dir:\n",
    "    Key_Scientific_Questions_Cord_Target_List[k]['Query'] = Key_Scientific_Questions_Cord_Target_List[k].shape[0] * [Key_Scientific_Questions_Cord_Target_Dir_Sub]\n",
    "    k=k+1"
   ]
  },
  {
   "cell_type": "code",
   "execution_count": 80,
   "id": "4ec5cdac-e2e4-42d4-b93c-e18869a7d5d5",
   "metadata": {},
   "outputs": [],
   "source": [
    "Key_Scientific_Questions_Cord_Target = pd.concat(Key_Scientific_Questions_Cord_Target_List, axis=0, ignore_index=True)"
   ]
  },
  {
   "cell_type": "code",
   "execution_count": 81,
   "id": "537b3c0b-375d-4db5-9d08-f91d69e1f7fa",
   "metadata": {},
   "outputs": [],
   "source": [
    "del Key_Scientific_Questions_Cord_Target_List"
   ]
  },
  {
   "cell_type": "code",
   "execution_count": 82,
   "id": "43dded3d-515b-4f0a-a56d-03fe02794949",
   "metadata": {},
   "outputs": [
    {
     "name": "stdout",
     "output_type": "stream",
     "text": [
      "\u001b[1mThe Loaded Full Key Scientific Questions Target Table is:\u001b[0m\n",
      "\n",
      "                                               Study  \\\n",
      "0                                     Review Article   \n",
      "1                                     Review Article   \n",
      "2                                     Review Article   \n",
      "3                                     Review Article   \n",
      "4  Detection of Air and Surface Contamination by ...   \n",
      "\n",
      "                                             Excerpt  \\\n",
      "0  Coronavirus can sustain for a long time on var...   \n",
      "1  Coronavirus can sustain for a long time on var...   \n",
      "2  Coronavirus can sustain for a long time on var...   \n",
      "3  Coronavirus can sustain for a long time on var...   \n",
      "4                                 contaminated (65%)   \n",
      "\n",
      "                                     Query  \n",
      "0  Adhesion to hydrophilic_phobic surfaces  \n",
      "1  Adhesion to hydrophilic_phobic surfaces  \n",
      "2  Adhesion to hydrophilic_phobic surfaces  \n",
      "3  Adhesion to hydrophilic_phobic surfaces  \n",
      "4  Adhesion to hydrophilic_phobic surfaces  \n",
      "\n",
      "\n"
     ]
    }
   ],
   "source": [
    "print('\\033[1m' + 'The Loaded Full Key Scientific Questions Target Table is:' + '\\033[0m' + '\\n')\n",
    "print(Key_Scientific_Questions_Cord_Target.head())\n",
    "print('\\n')"
   ]
  },
  {
   "cell_type": "markdown",
   "id": "7f381704-b172-42d6-8123-84f363393436",
   "metadata": {
    "tags": []
   },
   "source": [
    "### Loading Risk Factors 1 Target Tables given by Kaggle"
   ]
  },
  {
   "cell_type": "code",
   "execution_count": 83,
   "id": "fc97c6aa-230d-46dc-8b65-c604dc5ab324",
   "metadata": {},
   "outputs": [],
   "source": [
    "import pandas as pd\n",
    "import glob\n",
    "import os\n",
    "\n",
    "Risk_Factors_1_Cord_Target_Path = r\"D:\\UoA\\Tri 2\\Big Data Analysis and Projects\\Week 8\\archive\\Kaggle\\target_tables\\unsorted_tables\\risk_factors\"\n",
    "Risk_Factors_1_Cord_Target_Path_All_Files = glob.glob(os.path.join(Risk_Factors_1_Cord_Target_Path , \"*.csv\"))\n",
    "\n",
    "Risk_Factors_1_Cord_Target_List = []\n",
    "\n",
    "for Filename in Risk_Factors_1_Cord_Target_Path_All_Files:\n",
    "    Risk_Factors_1_Cord_Target_Df = pd.read_csv(Filename, index_col=None, header=0)\n",
    "    Risk_Factors_1_Cord_Target_List.append(Risk_Factors_1_Cord_Target_Df)"
   ]
  },
  {
   "cell_type": "markdown",
   "id": "32c8bc5c-14d3-49e4-a4ca-927431bb60ee",
   "metadata": {
    "tags": []
   },
   "source": [
    "### Risk Factors 1 Data Filter (Only Selecting Study and Solution)"
   ]
  },
  {
   "cell_type": "code",
   "execution_count": 84,
   "id": "6e74e242-2a70-4bae-9cc5-fdf0f9e32004",
   "metadata": {},
   "outputs": [],
   "source": [
    "k=0\n",
    "for Risk_Factors_1_Cord_Target_Sub in Risk_Factors_1_Cord_Target_List:\n",
    "    Risk_Factors_1_Cord_Target_List[k] = Risk_Factors_1_Cord_Target_Sub.loc[:,['Study','Study Population']]\n",
    "    k=k+1"
   ]
  },
  {
   "cell_type": "markdown",
   "id": "501e5f00-f3b0-4aa3-b26a-22866ce217f7",
   "metadata": {
    "tags": []
   },
   "source": [
    "### Displaying Filtered Risk Factors 1 Target Tables given by Kaggle"
   ]
  },
  {
   "cell_type": "code",
   "execution_count": 85,
   "id": "5db3e353-9f1a-452c-9dca-8ebccd6ec1d6",
   "metadata": {},
   "outputs": [],
   "source": [
    "Risk_Factors_1_Cord_Target_Dir = os.listdir(Risk_Factors_1_Cord_Target_Path)\n",
    "\n",
    "k=0\n",
    "for Risk_Factors_1_Cord_Target_Dir_Sub in Risk_Factors_1_Cord_Target_Dir:\n",
    "    Risk_Factors_1_Cord_Target_Dir[k] = Risk_Factors_1_Cord_Target_Dir_Sub[:-4]\n",
    "    k=k+1"
   ]
  },
  {
   "cell_type": "code",
   "execution_count": 86,
   "id": "a2874be4-b0e5-4d35-9f32-20e843ba5afa",
   "metadata": {},
   "outputs": [],
   "source": [
    "k=0\n",
    "for Risk_Factors_1_Cord_Target_Dir_Sub in Risk_Factors_1_Cord_Target_Dir:\n",
    "    Risk_Factors_1_Cord_Target_List[k]['Query'] = Risk_Factors_1_Cord_Target_List[k].shape[0] * [Risk_Factors_1_Cord_Target_Dir_Sub]\n",
    "    k=k+1"
   ]
  },
  {
   "cell_type": "code",
   "execution_count": 87,
   "id": "e4823743-dbc6-41f3-9cb4-661868fa4aed",
   "metadata": {},
   "outputs": [],
   "source": [
    "Risk_Factors_1_Cord_Target = pd.concat(Risk_Factors_1_Cord_Target_List, axis=0, ignore_index=True)"
   ]
  },
  {
   "cell_type": "code",
   "execution_count": 88,
   "id": "d724ad0f-3899-43cb-bb77-c48fdb486022",
   "metadata": {},
   "outputs": [],
   "source": [
    "del Risk_Factors_1_Cord_Target_List"
   ]
  },
  {
   "cell_type": "code",
   "execution_count": 89,
   "id": "ef248e3d-065e-489e-91d0-17749fa2a9e2",
   "metadata": {},
   "outputs": [
    {
     "name": "stdout",
     "output_type": "stream",
     "text": [
      "\u001b[1mThe Loaded Full Key Scientific Questions Target Table is:\u001b[0m\n",
      "\n",
      "                                               Study  \\\n",
      "0  Phenotypic characteristics and prognosis of in...   \n",
      "1          Obesity and COVID-19: an Italian snapshot   \n",
      "2  Association between Cardiovascular Burden and ...   \n",
      "3  Association between Cardiovascular Burden and ...   \n",
      "4  Association between Cardiovascular Burden and ...   \n",
      "\n",
      "                                    Study Population Query  \n",
      "0  The CORONADO study was launched in all French ...   Age  \n",
      "1  92 patients stayed at least one day in the COV...   Age  \n",
      "2  February 5, 2020, to March 10, 2020 (followed ...   Age  \n",
      "3  February 5, 2020, to March 10, 2020 (followed ...   Age  \n",
      "4  February 5, 2020, to March 10, 2020 (followed ...   Age  \n",
      "\n",
      "\n"
     ]
    }
   ],
   "source": [
    "print('\\033[1m' + 'The Loaded Full Key Scientific Questions Target Table is:' + '\\033[0m' + '\\n')\n",
    "print(Risk_Factors_1_Cord_Target.head())\n",
    "print('\\n')"
   ]
  },
  {
   "cell_type": "markdown",
   "id": "d0838aa7-57bf-4644-9440-b99587ad8a5f",
   "metadata": {
    "tags": []
   },
   "source": [
    "### Joining all DataFrames for Detecting Unique Documents in Target Tables"
   ]
  },
  {
   "cell_type": "code",
   "execution_count": 90,
   "id": "7607e17d-512d-4a8f-bf36-3c9e5f64e219",
   "metadata": {},
   "outputs": [],
   "source": [
    "Population_Cord_Target['Type'] = Population_Cord_Target.shape[0] * ['Population']\n",
    "Relevant_Factors_Cord_Target['Type'] = Relevant_Factors_Cord_Target.shape[0] * ['Relevant Factors']\n",
    "Patient_Descriptions_Cord_Target['Type'] = Patient_Descriptions_Cord_Target.shape[0] * ['Patient Descriptions']\n",
    "Models_and_Open_Questions_Cord_Target['Type'] = Models_and_Open_Questions_Cord_Target.shape[0] * ['Models and Open Questions']\n",
    "Materials_Cord_Target['Type'] = Materials_Cord_Target.shape[0] * ['Materials']\n",
    "Diagnostics_Cord_Target['Type'] = Diagnostics_Cord_Target.shape[0] * ['Diagnostics']\n",
    "Therapeutics_Interventions_and_Clinical_Studies_Cord_Target['Type'] = Therapeutics_Interventions_and_Clinical_Studies_Cord_Target.shape[0] * ['Therapeutics Interventions and Clinical Studies']\n",
    "Risk_Factors_Cord_Target['Type'] = Risk_Factors_Cord_Target.shape[0] * ['Risk Factors']\n",
    "Key_Scientific_Questions_Cord_Target['Type'] = Key_Scientific_Questions_Cord_Target.shape[0] * ['Key Scientific Questions']\n",
    "Risk_Factors_1_Cord_Target['Type'] = Risk_Factors_1_Cord_Target.shape[0] * ['Risk Factors 1']"
   ]
  },
  {
   "cell_type": "code",
   "execution_count": 91,
   "id": "bebb3d1a-6799-42d5-847d-e6a50aeebbd3",
   "metadata": {},
   "outputs": [],
   "source": [
    "Population_Cord_Target.columns = Population_Cord_Target.columns.str.replace('Solution', 'Relevant Sentence')\n",
    "Relevant_Factors_Cord_Target.columns = Relevant_Factors_Cord_Target.columns.str.replace('Excerpt', 'Relevant Sentence')\n",
    "Patient_Descriptions_Cord_Target.columns = Patient_Descriptions_Cord_Target.columns.str.replace('Excerpt', 'Relevant Sentence')\n",
    "Models_and_Open_Questions_Cord_Target.columns = Models_and_Open_Questions_Cord_Target.columns.str.replace('Result', 'Relevant Sentence')\n",
    "Materials_Cord_Target.columns = Materials_Cord_Target.columns.str.replace('Conclusion', 'Relevant Sentence')\n",
    "Diagnostics_Cord_Target.columns = Diagnostics_Cord_Target.columns.str.replace('Detection Method', 'Relevant Sentence')\n",
    "Therapeutics_Interventions_and_Clinical_Studies_Cord_Target.columns = Therapeutics_Interventions_and_Clinical_Studies_Cord_Target.columns.str.replace('General Outcome/Conclusion Excerpt', 'Relevant Sentence')\n",
    "Risk_Factors_Cord_Target.columns = Risk_Factors_Cord_Target.columns.str.replace('Study Population', 'Relevant Sentence')\n",
    "Key_Scientific_Questions_Cord_Target.columns = Key_Scientific_Questions_Cord_Target.columns.str.replace('Excerpt', 'Relevant Sentence')\n",
    "Risk_Factors_1_Cord_Target.columns = Risk_Factors_1_Cord_Target.columns.str.replace('Study Population', 'Relevant Sentence')"
   ]
  },
  {
   "cell_type": "code",
   "execution_count": 92,
   "id": "136119c7-58fc-41d6-ae0a-a5c6ad1d87ac",
   "metadata": {},
   "outputs": [],
   "source": [
    "Total_Cord_Target = pd.concat([Population_Cord_Target, Relevant_Factors_Cord_Target, Patient_Descriptions_Cord_Target, Models_and_Open_Questions_Cord_Target, Materials_Cord_Target, Diagnostics_Cord_Target, Therapeutics_Interventions_and_Clinical_Studies_Cord_Target, Risk_Factors_Cord_Target, Key_Scientific_Questions_Cord_Target, Risk_Factors_1_Cord_Target], ignore_index=True)"
   ]
  },
  {
   "cell_type": "code",
   "execution_count": 93,
   "id": "34771ce1-6691-45d3-a1e5-1dc9128aa183",
   "metadata": {},
   "outputs": [],
   "source": [
    "Unique_Total_Cord_Target = pd.unique(Total_Cord_Target['Study'])"
   ]
  },
  {
   "cell_type": "code",
   "execution_count": 94,
   "id": "a46057b1-ad39-47a7-b87c-79c9de6e7660",
   "metadata": {},
   "outputs": [
    {
     "data": {
      "image/png": "[encoded data removed]",
      "text/plain": [
       "<Figure size 1080x720 with 1 Axes>"
      ]
     },
     "metadata": {},
     "output_type": "display_data"
    }
   ],
   "source": [
    "Cord_Uni_Data_ax = sns.countplot(y=Cord_Meta_Data.loc[Cord_Meta_Data['title'].isin(Unique_Total_Cord_Target),'publish_time'],log=True)\n",
    "Cord_Uni_Data_ax.set(ylabel='Publish Time',xlabel='Count',title='Papers Used to Produce Target Tables')\n",
    "plt.show()"
   ]
  },
  {
   "cell_type": "markdown",
   "id": "a89cc317-4601-4d82-82c5-a21824df4521",
   "metadata": {
    "tags": []
   },
   "source": [
    "### Analysing Research Articles with PDF Parse Files (Meta Data)"
   ]
  },
  {
   "cell_type": "code",
   "execution_count": 95,
   "id": "ae6cf5b8-65c0-415b-8b3b-bbb727f3fea1",
   "metadata": {},
   "outputs": [
    {
     "data": {
      "image/png": "[encoded data removed]",
      "text/plain": [
       "<Figure size 1080x720 with 1 Axes>"
      ]
     },
     "metadata": {},
     "output_type": "display_data"
    }
   ],
   "source": [
    "# Plotting Research Papers with PDF Parse Files and No PDF Parse Files\n",
    "sns.set(rc = {'figure.figsize':(15,10)})\n",
    "Cord_Meta_Data_ax = sns.barplot(x = ['PDF Parse Files', 'No PDF Parse Files'], y = [Cord_Meta_Data.loc[~(Cord_Meta_Data['pdf_json_files'] == 'NA/NAN'),'pdf_json_files'].shape[0], Cord_Meta_Data.loc[(Cord_Meta_Data['pdf_json_files'] == 'NA/NAN'),'pdf_json_files'].shape[0]])\n",
    "Cord_Meta_Data_ax.set(xlabel='', ylabel='Count', title='Research Papers Published from 2019 to 2022 for Covid-19')\n",
    "plt.show()"
   ]
  },
  {
   "cell_type": "code",
   "execution_count": 96,
   "id": "3087b508-1d91-4155-8445-16fcbbc6b5c0",
   "metadata": {},
   "outputs": [],
   "source": [
    "# Selecting Research Articles with PDF Parse Files\n",
    "Cord_Meta_Data = Cord_Meta_Data.loc[~(Cord_Meta_Data['pdf_json_files'] == 'NA/NAN'),:].reset_index(drop=True)"
   ]
  },
  {
   "cell_type": "markdown",
   "id": "533c02af-8cd6-49fa-98da-9aec00492528",
   "metadata": {
    "tags": []
   },
   "source": [
    "### Analysing Research Articles with PDF Parse Files and only Single Document Parse (Meta Data)"
   ]
  },
  {
   "cell_type": "code",
   "execution_count": 97,
   "id": "f8ef220d-cf20-4c28-9d02-21ecbe09396e",
   "metadata": {},
   "outputs": [],
   "source": [
    "def row_semi_colin_path(row_path_value):\n",
    "    return (';' in row_path_value)"
   ]
  },
  {
   "cell_type": "code",
   "execution_count": 98,
   "id": "ef1e269c-a8fa-44ef-ac6f-5fd0de1a21f8",
   "metadata": {},
   "outputs": [
    {
     "data": {
      "application/vnd.jupyter.widget-view+json": {
       "model_id": "44be85840b4f4963862a216e486264be",
       "version_major": 2,
       "version_minor": 0
      },
      "text/plain": [
       "  0%|          | 0/291106 [00:00<?, ?it/s]"
      ]
     },
     "metadata": {},
     "output_type": "display_data"
    }
   ],
   "source": [
    "Cord_Meta_Data['pdf_json_files_multi_path'] = Cord_Meta_Data['pdf_json_files'].progress_apply(row_semi_colin_path)"
   ]
  },
  {
   "cell_type": "code",
   "execution_count": 99,
   "id": "4303de6e-34c7-4d47-87d4-4f29fbc342d9",
   "metadata": {},
   "outputs": [
    {
     "data": {
      "image/png": "[encoded data removed]",
      "text/plain": [
       "<Figure size 1080x720 with 1 Axes>"
      ]
     },
     "metadata": {},
     "output_type": "display_data"
    }
   ],
   "source": [
    "# Plotting Research Papers with PDF Parse Files and No PDF Parse Files\n",
    "sns.set(rc = {'figure.figsize':(15,10)})\n",
    "Cord_Meta_Data_ax = sns.barplot(x = ['Single PDF Parse Path', 'Multiple PDF Parse Paths'], y = [Cord_Meta_Data.loc[(Cord_Meta_Data['pdf_json_files_multi_path'] == False),'pdf_json_files'].shape[0], Cord_Meta_Data.loc[(Cord_Meta_Data['pdf_json_files_multi_path'] == True),'pdf_json_files'].shape[0]])\n",
    "Cord_Meta_Data_ax.set(xlabel='', ylabel='Count', title='Research Papers Published from 2019 to 2022 for Covid-19')\n",
    "plt.show()"
   ]
  },
  {
   "cell_type": "code",
   "execution_count": 100,
   "id": "d30f79f3-b715-471a-a7ac-328da7aae602",
   "metadata": {},
   "outputs": [],
   "source": [
    "# Selecting Research Articles with PDF Parse Files\n",
    "Cord_Meta_Data = Cord_Meta_Data.loc[(Cord_Meta_Data['pdf_json_files_multi_path'] == False),:].reset_index(drop=True)"
   ]
  },
  {
   "cell_type": "markdown",
   "id": "3eb92fa6-2e57-4fe2-97fe-86f3fc489686",
   "metadata": {
    "tags": []
   },
   "source": [
    "### Loading Json Files of Documents Filtered Above"
   ]
  },
  {
   "cell_type": "code",
   "execution_count": 101,
   "id": "3a6989a8-afac-4da5-b499-f45aaf9bc8c8",
   "metadata": {
    "tags": []
   },
   "outputs": [],
   "source": [
    "import json\n",
    "Article_Data_Cord_File_DF = pd.DataFrame()\n",
    "Cord_File_Abstract_List = []\n",
    "Cord_File_Body_Text_List = []\n",
    "Cord_File_Paper_Id_List = []\n",
    "Cord_File_Doc_Id_Meta_List = []\n",
    "Cord_File_Abstract_Meta_List = []\n",
    "Cord_File_Title_Meta_List = []\n",
    "Cord_File_Path_Home = r\"D:\\UoA\\Tri 2\\Big Data Analysis and Projects\\Week 8\\archive\"\n",
    "k=0\n",
    "\n",
    "for Cord_File_Path in Cord_Meta_Data['pdf_json_files'].to_list():\n",
    "    Cord_File_Path_Tot = Cord_File_Path_Home+f\"/{Cord_File_Path}\".replace('/', '\\\\')\n",
    "    with open(Cord_File_Path_Tot) as Cord_File_Bin:\n",
    "        Cord_File_Content = json.load(Cord_File_Bin)\n",
    "        Cord_File_Paper_Id = Cord_File_Content['paper_id']\n",
    "        Cord_File_Abstract = []\n",
    "        Cord_File_Body_Text = []\n",
    "        # Reading Abstract\n",
    "        for Cord_File_Entry in Cord_File_Content['abstract']:\n",
    "            Cord_File_Abstract.append(Cord_File_Entry['text'])\n",
    "        # Reading Body text\n",
    "        for Cord_File_Entry in Cord_File_Content['body_text']:\n",
    "            Cord_File_Body_Text.append(Cord_File_Entry['text'])\n",
    "        Cord_File_Abstract = '\\n'.join(Cord_File_Abstract)\n",
    "        Cord_File_Body_Text = '\\n'.join(Cord_File_Body_Text)\n",
    "    Cord_File_Abstract_List.append(Cord_File_Abstract)\n",
    "    Cord_File_Body_Text_List.append(Cord_File_Body_Text)\n",
    "    Cord_File_Paper_Id_List.append(Cord_File_Paper_Id)\n",
    "    Cord_File_Doc_Id_Meta_List.append(Cord_Meta_Data.loc[k]['cord_uid'])\n",
    "    Cord_File_Abstract_Meta_List.append(Cord_Meta_Data.loc[k]['abstract'])\n",
    "    Cord_File_Title_Meta_List.append(Cord_Meta_Data.loc[k]['title'])\n",
    "    k=k+1"
   ]
  },
  {
   "cell_type": "code",
   "execution_count": 102,
   "id": "76ff8769-1e0d-461a-820e-7c7bd7b6adec",
   "metadata": {},
   "outputs": [],
   "source": [
    "Article_Data_Cord_File_DF['Paper_Id_Parse'] = Cord_File_Paper_Id_List\n",
    "Article_Data_Cord_File_DF['Abstract_Parse'] = Cord_File_Abstract_List\n",
    "Article_Data_Cord_File_DF['Body_Text_Parse'] = Cord_File_Body_Text_List\n",
    "Article_Data_Cord_File_DF['Doc_Id_Meta_Parse'] = Cord_File_Doc_Id_Meta_List\n",
    "Article_Data_Cord_File_DF['Title_Meta_Parse'] = Cord_File_Title_Meta_List\n",
    "Article_Data_Cord_File_DF['Abstract_Meta_Parse'] = Cord_File_Abstract_Meta_List"
   ]
  },
  {
   "cell_type": "markdown",
   "id": "2e153463-c519-4535-a3df-a05b261ffcdd",
   "metadata": {
    "tags": []
   },
   "source": [
    "### Analysing Research Articles with Abstract (Extracted Data)"
   ]
  },
  {
   "cell_type": "code",
   "execution_count": 103,
   "id": "cb25ca01-4a6a-4009-9f4d-4f96047d1fe0",
   "metadata": {},
   "outputs": [
    {
     "data": {
      "image/png": "[encoded data removed]",
      "text/plain": [
       "<Figure size 1080x720 with 1 Axes>"
      ]
     },
     "metadata": {},
     "output_type": "display_data"
    }
   ],
   "source": [
    "# Plotting Research Papers with PDF Parse Files and No PDF Parse Files\n",
    "sns.set(rc = {'figure.figsize':(15,10)})\n",
    "Cord_Meta_Data_ax = sns.barplot(x = ['Abstract', 'No Abstract'], y = [Article_Data_Cord_File_DF.loc[~(Article_Data_Cord_File_DF['Abstract_Parse'] == ''),'Abstract_Parse'].shape[0], Article_Data_Cord_File_DF.loc[(Article_Data_Cord_File_DF['Abstract_Parse'] == ''),'Abstract_Parse'].shape[0]])\n",
    "Cord_Meta_Data_ax.set(xlabel='', ylabel='Count', title='Research Papers Published from 2019 to 2022 for Covid-19')\n",
    "plt.show() "
   ]
  },
  {
   "cell_type": "code",
   "execution_count": 104,
   "id": "044bc89c-0eb4-4933-9c63-1a2e5df00d1f",
   "metadata": {},
   "outputs": [],
   "source": [
    "# Selecting Research Articles with Abstract\n",
    "Cord_Meta_Data = Cord_Meta_Data.loc[~(Article_Data_Cord_File_DF['Abstract_Parse'] == ''),:].reset_index(drop=True)"
   ]
  },
  {
   "cell_type": "code",
   "execution_count": 105,
   "id": "d1a9bf44-ef50-4003-8d59-4d7dae141833",
   "metadata": {},
   "outputs": [],
   "source": [
    "# Selecting Research Articles with Abstract\n",
    "Article_Data_Cord_File_DF = Article_Data_Cord_File_DF.loc[~(Article_Data_Cord_File_DF['Abstract_Parse'] == ''),:].reset_index(drop=True)"
   ]
  },
  {
   "cell_type": "markdown",
   "id": "cb97867c-f1c7-4df1-84a7-4bbbb4c5043f",
   "metadata": {
    "tags": []
   },
   "source": [
    "### Loading Cord Word Embeddings (Document Embeddings)"
   ]
  },
  {
   "cell_type": "code",
   "execution_count": 106,
   "id": "94222724-5791-482f-a918-812fe5d50a1e",
   "metadata": {},
   "outputs": [],
   "source": [
    "Cord_Docu_Embeddings_Df = pd.read_csv(r\"D:\\UoA\\Tri 2\\Big Data Analysis and Projects\\Week 8\\archive\\cord_19_embeddings\\cord_19_embeddings_2022-06-02.csv\", header=None)"
   ]
  },
  {
   "cell_type": "markdown",
   "id": "f6070469-fd0b-4fc1-8899-5d1a1dec9cc4",
   "metadata": {
    "tags": []
   },
   "source": [
    "### Filtering Cord-19 Document Embeddings According to Meta Data"
   ]
  },
  {
   "cell_type": "code",
   "execution_count": 107,
   "id": "fc6ec541-ec52-48ad-81ca-27eb19fd3f6b",
   "metadata": {},
   "outputs": [],
   "source": [
    "Cord_Docu_Embeddings_Df = Cord_Docu_Embeddings_Df.loc[Cord_Docu_Embeddings_Df[0].isin(Cord_Meta_Data['cord_uid'].to_list()),:]\n",
    "Cord_Docu_Embeddings_Df.reset_index(drop=True,inplace=True)"
   ]
  },
  {
   "cell_type": "markdown",
   "id": "fa7a7257-71b4-498b-b31c-ddd363b6164b",
   "metadata": {
    "tags": []
   },
   "source": [
    "### Storing Filtered Embedding to CSV"
   ]
  },
  {
   "cell_type": "code",
   "execution_count": 108,
   "id": "38797f0b-a12f-43d4-9c53-376317872c68",
   "metadata": {},
   "outputs": [],
   "source": [
    "Cord_Docu_Embeddings_Df.to_csv(r\"D:\\UoA\\Tri 2\\Big Data Analysis and Projects\\Week 8\\archive\\cord_19_embeddings\\cord_19_embeddings_filtered.csv\", header=False, index=False, sep=' ')"
   ]
  },
  {
   "cell_type": "code",
   "execution_count": 109,
   "id": "98385957-cd42-40a0-8e19-e9d9ddcc7d57",
   "metadata": {},
   "outputs": [],
   "source": [
    "del Cord_Docu_Embeddings_Df"
   ]
  },
  {
   "cell_type": "code",
   "execution_count": 110,
   "id": "33ea554d-96df-484c-8e83-b6d27db4bd44",
   "metadata": {},
   "outputs": [],
   "source": [
    "import gc\n",
    "gc.collect()\n",
    "print(\"\",end=\"\")"
   ]
  },
  {
   "cell_type": "markdown",
   "id": "30d8e25f-9861-4324-90e1-82b3b6fd9e6d",
   "metadata": {
    "tags": []
   },
   "source": [
    "### Breaking Abstract and Body Text into Sentences (Using NLTK)"
   ]
  },
  {
   "cell_type": "code",
   "execution_count": 111,
   "id": "b0879216-7e61-4f64-aff2-27255f6a96f2",
   "metadata": {},
   "outputs": [],
   "source": [
    "import spacy\n",
    "\n",
    "# spacy.prefer_gpu()\n",
    "spacy.require_gpu()\n",
    "nlp = spacy.load(\"en_core_web_trf\")"
   ]
  },
  {
   "cell_type": "code",
   "execution_count": 112,
   "id": "41b8638a-f060-4f67-9eb4-1c270e71826e",
   "metadata": {},
   "outputs": [],
   "source": [
    "import nltk\n",
    "import nltk.data\n",
    "nltk.download('all',quiet=True)\n",
    "sent_detector = nltk.data.load('tokenizers/punkt/english.pickle')"
   ]
  },
  {
   "cell_type": "code",
   "execution_count": 113,
   "id": "9299a31e-5784-4e9d-bbf2-917ba56cf918",
   "metadata": {},
   "outputs": [],
   "source": [
    "def row_para_to_sent(row_para):\n",
    "    row_sent = sent_detector.tokenize(row_para.strip())\n",
    "    return row_sent"
   ]
  },
  {
   "cell_type": "code",
   "execution_count": 114,
   "id": "c0d72946-f186-4d3e-8b8c-5e58276a9a04",
   "metadata": {
    "tags": []
   },
   "outputs": [
    {
     "data": {
      "application/vnd.jupyter.widget-view+json": {
       "model_id": "2eeb7d90c586433e9d1a0ba3378ba05b",
       "version_major": 2,
       "version_minor": 0
      },
      "text/plain": [
       "  0%|          | 0/214995 [00:00<?, ?it/s]"
      ]
     },
     "metadata": {},
     "output_type": "display_data"
    },
    {
     "data": {
      "application/vnd.jupyter.widget-view+json": {
       "model_id": "68dc151a4a2e467798ab4a2da0f6a343",
       "version_major": 2,
       "version_minor": 0
      },
      "text/plain": [
       "  0%|          | 0/214995 [00:00<?, ?it/s]"
      ]
     },
     "metadata": {},
     "output_type": "display_data"
    }
   ],
   "source": [
    "Article_Data_Cord_File_DF['Abstract_Parse_Sent'] = Article_Data_Cord_File_DF.shape[0] * [0]\n",
    "Article_Data_Cord_File_DF['Body_Text_Parse_Sent'] = Article_Data_Cord_File_DF.shape[0] * [0]\n",
    "\n",
    "Article_Data_Cord_File_DF = Article_Data_Cord_File_DF.astype('object')\n",
    "\n",
    "Article_Data_Cord_File_DF['Abstract_Parse_Sent'] = Article_Data_Cord_File_DF['Abstract_Parse'].progress_apply(row_para_to_sent)\n",
    "Article_Data_Cord_File_DF['Body_Text_Parse_Sent'] = Article_Data_Cord_File_DF['Body_Text_Parse'].progress_apply(row_para_to_sent)"
   ]
  },
  {
   "cell_type": "markdown",
   "id": "7b972f34-2cd1-4257-a99d-7b0cfe96946e",
   "metadata": {},
   "source": [
    "### Breaking the Sentences into Token (Using Torchtext) (Preparing Data)"
   ]
  },
  {
   "cell_type": "code",
   "execution_count": 115,
   "id": "d468fd45-cae2-40d0-995e-5a9be232d38b",
   "metadata": {},
   "outputs": [],
   "source": [
    "import torchtext\n",
    "from torchtext.data import get_tokenizer\n",
    "\n",
    "from tqdm.notebook import trange, tqdm\n",
    "\n",
    "import torch\n",
    "tokenizer = get_tokenizer('spacy', language='en_core_web_trf')"
   ]
  },
  {
   "cell_type": "code",
   "execution_count": 116,
   "id": "d1b39db2-0079-4dc6-91c3-7a5f59ab12b1",
   "metadata": {},
   "outputs": [],
   "source": [
    "Article_Data_Cord_File_DF['Doc_Id_Meta_Parse_Abstract'] = Article_Data_Cord_File_DF.shape[0] * [0]\n",
    "Article_Data_Cord_File_DF = Article_Data_Cord_File_DF.astype('object')\n",
    "\n",
    "Article_Data_Cord_File_DF['Doc_Id_Meta_Parse_Body_Text'] = Article_Data_Cord_File_DF.shape[0] * [0]\n",
    "Article_Data_Cord_File_DF = Article_Data_Cord_File_DF.astype('object')"
   ]
  },
  {
   "cell_type": "code",
   "execution_count": 117,
   "id": "2a94ae23-7d4e-4bb4-91ce-d01343153419",
   "metadata": {
    "tags": []
   },
   "outputs": [
    {
     "data": {
      "application/vnd.jupyter.widget-view+json": {
       "model_id": "3ad245d0bac14112895730c2c04d1197",
       "version_major": 2,
       "version_minor": 0
      },
      "text/plain": [
       "  0%|          | 0/214995 [00:00<?, ?it/s]"
      ]
     },
     "metadata": {},
     "output_type": "display_data"
    },
    {
     "data": {
      "application/vnd.jupyter.widget-view+json": {
       "model_id": "5301bb4820474860b404008fa7764473",
       "version_major": 2,
       "version_minor": 0
      },
      "text/plain": [
       "  0%|          | 0/214995 [00:00<?, ?it/s]"
      ]
     },
     "metadata": {},
     "output_type": "display_data"
    }
   ],
   "source": [
    "Article_Data_Cord_File_DF['Abstract_Parse_Sent_Len'] = Article_Data_Cord_File_DF['Abstract_Parse_Sent'].progress_apply(len)\n",
    "Article_Data_Cord_File_DF['Body_Text_Parse_Sent_Len'] = Article_Data_Cord_File_DF['Body_Text_Parse_Sent'].progress_apply(len)"
   ]
  },
  {
   "cell_type": "code",
   "execution_count": 118,
   "id": "eea085c0-0c73-45bc-a821-2ff56f17fa32",
   "metadata": {},
   "outputs": [],
   "source": [
    "def row_abstract_doc_id_list(row_abstract_doc_id, row_abstract_sent_len):\n",
    "    row_abstract_doc_id_list = row_abstract_sent_len * [row_abstract_doc_id]\n",
    "    return row_abstract_doc_id_list"
   ]
  },
  {
   "cell_type": "code",
   "execution_count": 119,
   "id": "c808eb28-f351-4145-8aa1-6f6ba71e5004",
   "metadata": {},
   "outputs": [
    {
     "data": {
      "application/vnd.jupyter.widget-view+json": {
       "model_id": "b26eb2cbc1e34ba4ab78f04fc88df29e",
       "version_major": 2,
       "version_minor": 0
      },
      "text/plain": [
       "  0%|          | 0/214995 [00:00<?, ?it/s]"
      ]
     },
     "metadata": {},
     "output_type": "display_data"
    }
   ],
   "source": [
    "Article_Data_Cord_File_DF['Doc_Id_Meta_Parse_Abstract'] = Article_Data_Cord_File_DF.progress_apply(lambda x: row_abstract_doc_id_list(x.Doc_Id_Meta_Parse, x.Abstract_Parse_Sent_Len), axis=1)"
   ]
  },
  {
   "cell_type": "code",
   "execution_count": 120,
   "id": "47ce575f-1d59-448e-9143-3e6a03370fe5",
   "metadata": {},
   "outputs": [],
   "source": [
    "def row_body_text_doc_id_list(row_body_text_doc_id, row_body_text_sent_len):\n",
    "    row_body_text_doc_id_list = row_body_text_sent_len * [row_body_text_doc_id]\n",
    "    return row_body_text_doc_id_list"
   ]
  },
  {
   "cell_type": "code",
   "execution_count": 121,
   "id": "659e3361-61fb-4a97-8527-0354743122aa",
   "metadata": {},
   "outputs": [
    {
     "data": {
      "application/vnd.jupyter.widget-view+json": {
       "model_id": "5d25b64168f84395bf914b0ff619d914",
       "version_major": 2,
       "version_minor": 0
      },
      "text/plain": [
       "  0%|          | 0/214995 [00:00<?, ?it/s]"
      ]
     },
     "metadata": {},
     "output_type": "display_data"
    }
   ],
   "source": [
    "Article_Data_Cord_File_DF['Doc_Id_Meta_Parse_Body_Text'] = Article_Data_Cord_File_DF.progress_apply(lambda x: row_body_text_doc_id_list(x.Doc_Id_Meta_Parse, x.Body_Text_Parse_Sent_Len), axis=1)"
   ]
  },
  {
   "cell_type": "code",
   "execution_count": 122,
   "id": "5ae76c41-43bc-4ea9-a252-ab7c31d9cc35",
   "metadata": {},
   "outputs": [],
   "source": [
    "import itertools\n",
    "\n",
    "Article_Data_Cord_File_List_Abstract_Id = list(itertools.chain(*(Article_Data_Cord_File_DF['Doc_Id_Meta_Parse_Abstract'].to_list())))\n",
    "Article_Data_Cord_File_List_Abstract = list(itertools.chain(*(Article_Data_Cord_File_DF['Abstract_Parse_Sent'].to_list())))"
   ]
  },
  {
   "cell_type": "code",
   "execution_count": 123,
   "id": "b9f6fd65-2cec-4b0f-a933-eb6fc78b06d9",
   "metadata": {},
   "outputs": [],
   "source": [
    "Article_Data_Cord_File_List_Body_Text_Id = list(itertools.chain(*(Article_Data_Cord_File_DF['Doc_Id_Meta_Parse_Body_Text'].to_list())))\n",
    "Article_Data_Cord_File_List_Body_Text = list(itertools.chain(*(Article_Data_Cord_File_DF['Body_Text_Parse_Sent'].to_list())))"
   ]
  },
  {
   "cell_type": "code",
   "execution_count": 124,
   "id": "828871b4-bd5c-44c6-a79a-2a3a29a21120",
   "metadata": {},
   "outputs": [],
   "source": [
    "Article_Data_Cord_File_DF_Abstract_Len = np.sum(Article_Data_Cord_File_DF['Abstract_Parse_Sent'].apply(len).values)"
   ]
  },
  {
   "cell_type": "code",
   "execution_count": 125,
   "id": "b5a41e2a-64c8-414f-beee-8149177d0912",
   "metadata": {},
   "outputs": [],
   "source": [
    "Article_Data_Cord_File_DF_Abstract = pd.DataFrame()\n",
    "Article_Data_Cord_File_DF_Abstract['Doc_Id_Meta_Parse'] = Article_Data_Cord_File_DF_Abstract_Len * [0]\n",
    "Article_Data_Cord_File_DF_Abstract['Abstract_Sentences'] = Article_Data_Cord_File_DF_Abstract_Len * [0]\n",
    "Article_Data_Cord_File_DF_Abstract = Article_Data_Cord_File_DF_Abstract.astype('object')"
   ]
  },
  {
   "cell_type": "code",
   "execution_count": 126,
   "id": "025ae1a6-b0ca-4268-bc40-a53e856cd493",
   "metadata": {},
   "outputs": [],
   "source": [
    "Article_Data_Cord_File_DF_Abstract['Doc_Id_Meta_Parse'] = Article_Data_Cord_File_List_Abstract_Id\n",
    "Article_Data_Cord_File_DF_Abstract['Abstract_Sentences'] = Article_Data_Cord_File_List_Abstract"
   ]
  },
  {
   "cell_type": "code",
   "execution_count": 127,
   "id": "7e415af7-321f-48e2-b374-61b88944ea12",
   "metadata": {},
   "outputs": [],
   "source": [
    "del Article_Data_Cord_File_List_Abstract_Id\n",
    "del Article_Data_Cord_File_List_Abstract"
   ]
  },
  {
   "cell_type": "code",
   "execution_count": 128,
   "id": "c762535c-745e-4f2f-ac91-6470067cccae",
   "metadata": {},
   "outputs": [],
   "source": [
    "Article_Data_Cord_File_DF_Body_Text_Len = np.sum(Article_Data_Cord_File_DF['Body_Text_Parse_Sent'].apply(len).values)"
   ]
  },
  {
   "cell_type": "code",
   "execution_count": 129,
   "id": "3ad7a9e9-7a66-457e-bab1-f86995deaed0",
   "metadata": {},
   "outputs": [],
   "source": [
    "Article_Data_Cord_File_DF_Body_Text = pd.DataFrame()\n",
    "Article_Data_Cord_File_DF_Body_Text['Doc_Id_Meta_Parse'] = Article_Data_Cord_File_DF_Body_Text_Len * [0]\n",
    "Article_Data_Cord_File_DF_Body_Text['Body_Text_Sentences'] = Article_Data_Cord_File_DF_Body_Text_Len * [0]\n",
    "Article_Data_Cord_File_DF_Body_Text = Article_Data_Cord_File_DF_Body_Text.astype('object')"
   ]
  },
  {
   "cell_type": "code",
   "execution_count": 130,
   "id": "f44d7d48-1afb-4789-a7fb-073be965fb10",
   "metadata": {},
   "outputs": [],
   "source": [
    "Article_Data_Cord_File_DF_Body_Text['Doc_Id_Meta_Parse'] = Article_Data_Cord_File_List_Body_Text_Id\n",
    "Article_Data_Cord_File_DF_Body_Text['Body_Text_Sentences'] = Article_Data_Cord_File_List_Body_Text"
   ]
  },
  {
   "cell_type": "code",
   "execution_count": 131,
   "id": "d0456d23-cd85-44db-8b00-d78ca4ef9380",
   "metadata": {},
   "outputs": [],
   "source": [
    "del Article_Data_Cord_File_List_Body_Text_Id\n",
    "del Article_Data_Cord_File_List_Body_Text"
   ]
  },
  {
   "cell_type": "markdown",
   "id": "360baad2-8ca0-4c80-92b9-e9dec3c0d2f1",
   "metadata": {},
   "source": [
    "### Storing CORD-19 Meta Data, Article Data Cord DataFrame and Total Target Table"
   ]
  },
  {
   "cell_type": "code",
   "execution_count": 132,
   "id": "799ab2f3-0778-483c-91f0-171366e1a973",
   "metadata": {},
   "outputs": [],
   "source": [
    "Cord_Meta_Data.to_pickle(r\"D:\\UoA\\Tri 2\\Big Data Analysis and Projects\\Week 8\\archive\\cord_19_embeddings\\cord_19_meta_data.pkl\")"
   ]
  },
  {
   "cell_type": "code",
   "execution_count": 133,
   "id": "2a5dd93a-7a50-4ebf-a14c-39ea0058acd7",
   "metadata": {},
   "outputs": [],
   "source": [
    "del Cord_Meta_Data"
   ]
  },
  {
   "cell_type": "code",
   "execution_count": 134,
   "id": "214f85d4-e355-4566-b33b-cd8b1478d851",
   "metadata": {},
   "outputs": [],
   "source": [
    "import gc\n",
    "gc.collect()\n",
    "print('',end='')"
   ]
  },
  {
   "cell_type": "code",
   "execution_count": 135,
   "id": "61fbf29b-0c5a-458d-8fd8-9756f878419e",
   "metadata": {},
   "outputs": [],
   "source": [
    "Article_Data_Cord_File_DF.to_pickle(r\"D:\\UoA\\Tri 2\\Big Data Analysis and Projects\\Week 8\\archive\\cord_19_embeddings\\article_data_cord_19_file_df.pkl\")"
   ]
  },
  {
   "cell_type": "code",
   "execution_count": 136,
   "id": "387dfcea-8ace-4bcf-a74c-5a6b5b991d62",
   "metadata": {},
   "outputs": [],
   "source": [
    "del Article_Data_Cord_File_DF"
   ]
  },
  {
   "cell_type": "code",
   "execution_count": 137,
   "id": "da7b2e5b-b9f2-428d-a10d-4c493c28550f",
   "metadata": {},
   "outputs": [],
   "source": [
    "import gc\n",
    "gc.collect()\n",
    "print('',end='')"
   ]
  },
  {
   "cell_type": "code",
   "execution_count": 138,
   "id": "f20da5c9-1ce2-4a50-ab91-205e5d153bd7",
   "metadata": {},
   "outputs": [],
   "source": [
    "Total_Cord_Target.to_pickle(r\"D:\\UoA\\Tri 2\\Big Data Analysis and Projects\\Week 8\\archive\\cord_19_embeddings\\total_cord_19_target.pkl\")"
   ]
  },
  {
   "cell_type": "code",
   "execution_count": 139,
   "id": "26a804e1-7c11-4e5c-90b4-e17f608b2279",
   "metadata": {},
   "outputs": [],
   "source": [
    "del Total_Cord_Target"
   ]
  },
  {
   "cell_type": "code",
   "execution_count": 140,
   "id": "3db817d3-279c-4285-9545-a815f2e60ff5",
   "metadata": {},
   "outputs": [],
   "source": [
    "import gc\n",
    "gc.collect()\n",
    "print('',end='')"
   ]
  },
  {
   "cell_type": "markdown",
   "id": "de64ac30-f769-4dff-bed4-85b17edc0c58",
   "metadata": {
    "tags": []
   },
   "source": [
    "### Displaying the Abstract with less than 110 Characters and more than 100 Characters"
   ]
  },
  {
   "cell_type": "code",
   "execution_count": 141,
   "id": "df883650-ac93-477d-9f88-09396f2ed602",
   "metadata": {},
   "outputs": [],
   "source": [
    "Article_Data_Cord_File_DF_Abstract_Length = pd.DataFrame()\n",
    "Article_Data_Cord_File_DF_Abstract_Length['Abstract_Sentences_Length'] = Article_Data_Cord_File_DF_Abstract['Abstract_Sentences'].apply(len)"
   ]
  },
  {
   "cell_type": "code",
   "execution_count": 142,
   "id": "cabd8273-09d5-4f20-99db-0ef06022a1fb",
   "metadata": {},
   "outputs": [
    {
     "data": {
      "image/png": "[encoded data removed]",
      "text/plain": [
       "<Figure size 1080x720 with 1 Axes>"
      ]
     },
     "metadata": {},
     "output_type": "display_data"
    }
   ],
   "source": [
    "# Histogram plot to determine the optimal character length of sentences\n",
    "sns.set(rc = {'figure.figsize':(15,10)})\n",
    "\n",
    "Article_Data_Cord_File_DF_Abstract_Length.hist(column='Abstract_Sentences_Length',log=True,bins=10,range=(100,110))\n",
    "plt.xlabel('Sentences')\n",
    "plt.ylabel('Count')\n",
    "plt.title('Histogram of Abstract Sentences')\n",
    "plt.show()"
   ]
  },
  {
   "cell_type": "code",
   "execution_count": 143,
   "id": "5364b275-2f59-43d1-adcb-cbaa4d6e5eb5",
   "metadata": {},
   "outputs": [
    {
     "data": {
      "image/png": "[encoded data removed]",
      "text/plain": [
       "<Figure size 1080x720 with 1 Axes>"
      ]
     },
     "metadata": {},
     "output_type": "display_data"
    }
   ],
   "source": [
    "# Plotting Research Papers with Abstract Characters less than 100 and greater than 100\n",
    "sns.set(rc = {'figure.figsize':(15,10)})\n",
    "\n",
    "Cord_Meta_Data_ax = sns.barplot(x = ['Abstract <= 100 Char', 'Abstract > 100 Char'], y = [Article_Data_Cord_File_DF_Abstract_Length.loc[Article_Data_Cord_File_DF_Abstract_Length['Abstract_Sentences_Length'] <= 100,'Abstract_Sentences_Length'].shape[0], Article_Data_Cord_File_DF_Abstract_Length.loc[Article_Data_Cord_File_DF_Abstract_Length['Abstract_Sentences_Length'] > 100,'Abstract_Sentences_Length'].shape[0]],log=False)\n",
    "Cord_Meta_Data_ax.set(xlabel='', ylabel='Count', title='Research Papers Published from 2019 to 2022 for Covid-19')\n",
    "plt.show()"
   ]
  },
  {
   "cell_type": "code",
   "execution_count": 144,
   "id": "0c5c5046-5b21-4f4f-af57-8cbe8da513a2",
   "metadata": {},
   "outputs": [
    {
     "data": {
      "image/png": "[encoded data removed]",
      "text/plain": [
       "<Figure size 1080x720 with 1 Axes>"
      ]
     },
     "metadata": {},
     "output_type": "display_data"
    }
   ],
   "source": [
    "# Plotting Research Papers with Abstract Characters less than 110 and greater than 110\n",
    "sns.set(rc = {'figure.figsize':(15,10)})\n",
    "\n",
    "Cord_Meta_Data_ax = sns.barplot(x = ['Abstract <= 110 Char', 'Abstract > 110 Char'], y = [Article_Data_Cord_File_DF_Abstract_Length.loc[Article_Data_Cord_File_DF_Abstract_Length['Abstract_Sentences_Length'] <= 110,'Abstract_Sentences_Length'].shape[0], Article_Data_Cord_File_DF_Abstract_Length.loc[Article_Data_Cord_File_DF_Abstract_Length['Abstract_Sentences_Length'] > 110,'Abstract_Sentences_Length'].shape[0]],log=False)\n",
    "Cord_Meta_Data_ax.set(xlabel='', ylabel='Count', title='Research Papers Published from 2019 to 2022 for Covid-19')\n",
    "plt.show()"
   ]
  },
  {
   "cell_type": "code",
   "execution_count": 145,
   "id": "127d82a4-9d1a-44f8-bc01-7636b034bc9b",
   "metadata": {},
   "outputs": [],
   "source": [
    "# Keeping Abstract sentences with characters between 100 and 110\n",
    "Article_Data_Cord_File_DF_Abstract = Article_Data_Cord_File_DF_Abstract.loc[(Article_Data_Cord_File_DF_Abstract_Length['Abstract_Sentences_Length'] > 100)&(Article_Data_Cord_File_DF_Abstract_Length['Abstract_Sentences_Length'] <= 110),:].reset_index(drop=True)"
   ]
  },
  {
   "cell_type": "markdown",
   "id": "59765bef-3a57-4cac-8da3-0f379f6d82d4",
   "metadata": {},
   "source": [
    "### Displaying the Body Text with less than 100 Characters and more than 110 Characters"
   ]
  },
  {
   "cell_type": "code",
   "execution_count": 146,
   "id": "684d24d2-c3b9-40d7-81c2-5726b8c6f31f",
   "metadata": {},
   "outputs": [],
   "source": [
    "Article_Data_Cord_File_DF_Body_Text_Length = pd.DataFrame()\n",
    "Article_Data_Cord_File_DF_Body_Text_Length['Body_Text_Sentences_Length'] = Article_Data_Cord_File_DF_Body_Text['Body_Text_Sentences'].apply(len)"
   ]
  },
  {
   "cell_type": "code",
   "execution_count": 147,
   "id": "26f2e052-8c72-4d27-8be3-c436c3b6282e",
   "metadata": {},
   "outputs": [
    {
     "data": {
      "image/png": "[encoded data removed]",
      "text/plain": [
       "<Figure size 1080x720 with 1 Axes>"
      ]
     },
     "metadata": {},
     "output_type": "display_data"
    }
   ],
   "source": [
    "# Histogram plot to determine the optimal character length of sentences\n",
    "sns.set(rc = {'figure.figsize':(15,10)})\n",
    "\n",
    "Article_Data_Cord_File_DF_Body_Text_Length.hist(column='Body_Text_Sentences_Length',log=True,bins=10,range=(100,110))\n",
    "plt.xlabel('Sentences')\n",
    "plt.ylabel('Count')\n",
    "plt.title('Histogram of Body Text Sentences')\n",
    "plt.show()"
   ]
  },
  {
   "cell_type": "code",
   "execution_count": 148,
   "id": "e304b656-a5f6-456b-8a93-66635629cde6",
   "metadata": {},
   "outputs": [
    {
     "data": {
      "image/png": "[encoded data removed]",
      "text/plain": [
       "<Figure size 1080x720 with 1 Axes>"
      ]
     },
     "metadata": {},
     "output_type": "display_data"
    }
   ],
   "source": [
    "# Plotting Research Papers with Body Text Characters less than 100 and greater than 100\n",
    "sns.set(rc = {'figure.figsize':(15,10)})\n",
    "\n",
    "Cord_Meta_Data_ax = sns.barplot(x = ['Body Text <= 100 Char', 'Body Text > 100 Char'], y = [Article_Data_Cord_File_DF_Body_Text_Length.loc[Article_Data_Cord_File_DF_Body_Text_Length['Body_Text_Sentences_Length'] <= 100,'Body_Text_Sentences_Length'].shape[0], Article_Data_Cord_File_DF_Body_Text_Length.loc[Article_Data_Cord_File_DF_Body_Text_Length['Body_Text_Sentences_Length'] > 100,'Body_Text_Sentences_Length'].shape[0]],log=False)\n",
    "Cord_Meta_Data_ax.set(xlabel='', ylabel='Count', title='Research Papers Published from 2019 to 2022 for Covid-19')\n",
    "plt.show()"
   ]
  },
  {
   "cell_type": "code",
   "execution_count": 149,
   "id": "7eb73255-0302-4a14-ad3a-c0c2389224d5",
   "metadata": {},
   "outputs": [
    {
     "data": {
      "image/png": "[encoded data removed]",
      "text/plain": [
       "<Figure size 1080x720 with 1 Axes>"
      ]
     },
     "metadata": {},
     "output_type": "display_data"
    }
   ],
   "source": [
    "# Plotting Research Papers with Body Text Characters less than 110 and greater than 110\n",
    "sns.set(rc = {'figure.figsize':(15,10)})\n",
    "\n",
    "Cord_Meta_Data_ax = sns.barplot(x = ['Body Text <= 110 Char', 'Body Text > 110 Char'], y = [Article_Data_Cord_File_DF_Body_Text_Length.loc[Article_Data_Cord_File_DF_Body_Text_Length['Body_Text_Sentences_Length'] <= 110,'Body_Text_Sentences_Length'].shape[0], Article_Data_Cord_File_DF_Body_Text_Length.loc[Article_Data_Cord_File_DF_Body_Text_Length['Body_Text_Sentences_Length'] > 110,'Body_Text_Sentences_Length'].shape[0]],log=False)\n",
    "Cord_Meta_Data_ax.set(xlabel='', ylabel='Count', title='Research Papers Published from 2019 to 2022 for Covid-19')\n",
    "plt.show()"
   ]
  },
  {
   "cell_type": "code",
   "execution_count": 150,
   "id": "0ad3e8fe-2e0e-4874-918f-ac802a5f3b09",
   "metadata": {},
   "outputs": [],
   "source": [
    "# Keeping Body Text sentences with characters between 100 and 110\n",
    "Article_Data_Cord_File_DF_Body_Text = Article_Data_Cord_File_DF_Body_Text.loc[(Article_Data_Cord_File_DF_Body_Text_Length['Body_Text_Sentences_Length'] > 100)&(Article_Data_Cord_File_DF_Body_Text_Length['Body_Text_Sentences_Length'] <= 110),:].reset_index(drop=True)"
   ]
  },
  {
   "cell_type": "markdown",
   "id": "0f23f11d-9cae-40f8-af79-492bbb1e63ea",
   "metadata": {},
   "source": [
    "### Keeping Only Common Ids Between Abstract and Body Text"
   ]
  },
  {
   "cell_type": "code",
   "execution_count": 151,
   "id": "57ce7aca-d8aa-4202-b8f4-d5508bc0bd01",
   "metadata": {},
   "outputs": [],
   "source": [
    "# Finding Unique Ids in Abstract and Body Text\n",
    "Article_Data_Cord_File_List_Abstract_Id = Article_Data_Cord_File_DF_Abstract['Doc_Id_Meta_Parse'].unique()\n",
    "Article_Data_Cord_File_List_Body_Text_Id = Article_Data_Cord_File_DF_Body_Text['Doc_Id_Meta_Parse'].unique()"
   ]
  },
  {
   "cell_type": "code",
   "execution_count": 152,
   "id": "5a015479-0493-41ad-9342-b4c60a07b3b9",
   "metadata": {},
   "outputs": [],
   "source": [
    "# Common Ids Between Abstract and Body Text\n",
    "Article_Data_Cord_File_List_Abstract_Body_Text = np.intersect1d(Article_Data_Cord_File_List_Abstract_Id, Article_Data_Cord_File_List_Body_Text_Id)"
   ]
  },
  {
   "cell_type": "code",
   "execution_count": 153,
   "id": "10723696-b6e8-4a12-aa00-482a2ac98b0b",
   "metadata": {},
   "outputs": [
    {
     "data": {
      "text/plain": [
       "(84266,)"
      ]
     },
     "execution_count": 153,
     "metadata": {},
     "output_type": "execute_result"
    }
   ],
   "source": [
    "Article_Data_Cord_File_List_Abstract_Body_Text.shape"
   ]
  },
  {
   "cell_type": "code",
   "execution_count": 154,
   "id": "a3926cb9-b85f-44f7-b8eb-c5fc4f83b2b6",
   "metadata": {},
   "outputs": [],
   "source": [
    "# Filtering Abstract and Body Text based on Common Ids Between Abstract and Body Text\n",
    "Article_Data_Cord_File_DF_Abstract = Article_Data_Cord_File_DF_Abstract.loc[Article_Data_Cord_File_DF_Abstract['Doc_Id_Meta_Parse'].isin(list(Article_Data_Cord_File_List_Abstract_Body_Text)),:].reset_index(drop=True)\n",
    "Article_Data_Cord_File_DF_Body_Text = Article_Data_Cord_File_DF_Body_Text.loc[Article_Data_Cord_File_DF_Body_Text['Doc_Id_Meta_Parse'].isin(list(Article_Data_Cord_File_List_Abstract_Body_Text)),:].reset_index(drop=True)"
   ]
  },
  {
   "cell_type": "markdown",
   "id": "60b665a4-8f0f-40f9-ac66-4b8f58f295d0",
   "metadata": {},
   "source": [
    "### Breaking the Sentences into Token (Using Torchtext) (Will be done in Part 2 of this File)"
   ]
  },
  {
   "cell_type": "code",
   "execution_count": 155,
   "id": "aa8dfe32-0805-4849-b39f-3106c13844dc",
   "metadata": {},
   "outputs": [],
   "source": [
    "import torch\n",
    "tokenizer = get_tokenizer('spacy', language='en_core_web_trf')"
   ]
  },
  {
   "cell_type": "code",
   "execution_count": 156,
   "id": "8683869d-e2ed-46b8-ab40-09ce5e07712c",
   "metadata": {},
   "outputs": [],
   "source": [
    "Article_Data_Cord_File_DF_Abstract.to_pickle(r\"D:\\UoA\\Tri 2\\Big Data Analysis and Projects\\Week 8\\archive\\cord_19_embeddings\\article_data_cord_19_file_df_abstract.pkl\")"
   ]
  },
  {
   "cell_type": "code",
   "execution_count": 157,
   "id": "fb08fd68-70fe-4457-b966-48e71deccae4",
   "metadata": {},
   "outputs": [],
   "source": [
    "del Article_Data_Cord_File_DF_Abstract"
   ]
  },
  {
   "cell_type": "code",
   "execution_count": 158,
   "id": "b73e17e2-98c9-4f17-859c-ecf89ff8ce12",
   "metadata": {},
   "outputs": [],
   "source": [
    "import gc\n",
    "gc.collect()\n",
    "print('',end='')"
   ]
  },
  {
   "cell_type": "code",
   "execution_count": 159,
   "id": "bbcf220f-dea6-4c6d-b144-01a42dabb22f",
   "metadata": {},
   "outputs": [],
   "source": [
    "Article_Data_Cord_File_DF_Body_Text.to_pickle(r\"D:\\UoA\\Tri 2\\Big Data Analysis and Projects\\Week 8\\archive\\cord_19_embeddings\\article_data_cord_19_file_df_body_text.pkl\")"
   ]
  },
  {
   "cell_type": "code",
   "execution_count": 160,
   "id": "78b45fa3-26bf-4b29-a1e7-ef675cb57933",
   "metadata": {},
   "outputs": [],
   "source": [
    "del Article_Data_Cord_File_DF_Body_Text"
   ]
  },
  {
   "cell_type": "code",
   "execution_count": 161,
   "id": "d67858e7-c2fe-4261-863b-86067647c3e9",
   "metadata": {},
   "outputs": [],
   "source": [
    "import gc\n",
    "gc.collect()\n",
    "print('',end='')"
   ]
  },
  {
   "cell_type": "markdown",
   "id": "cde1f3fc-9ec8-40af-97cb-fd61af8fb899",
   "metadata": {
    "tags": []
   },
   "source": [
    "### Loading Cord Word Embeddings (Document Embeddings)"
   ]
  },
  {
   "cell_type": "code",
   "execution_count": 162,
   "id": "e1f654e8-2df4-4ded-9240-aabf31884d26",
   "metadata": {},
   "outputs": [],
   "source": [
    "Cord_Docu_Embeddings_Df = pd.read_csv(r\"D:\\UoA\\Tri 2\\Big Data Analysis and Projects\\Week 8\\archive\\cord_19_embeddings\\cord_19_embeddings_2022-06-02.csv\", header=None)"
   ]
  },
  {
   "cell_type": "markdown",
   "id": "7f12b5a5-2099-4ab2-b5aa-c207a71d2f9d",
   "metadata": {
    "tags": []
   },
   "source": [
    "### Filtering Cord-19 Document Embeddings According to Meta Data"
   ]
  },
  {
   "cell_type": "code",
   "execution_count": 163,
   "id": "acfe38bc-2e53-49f7-a2e4-57535c72551f",
   "metadata": {},
   "outputs": [],
   "source": [
    "Cord_Docu_Embeddings_Df = Cord_Docu_Embeddings_Df.loc[Cord_Docu_Embeddings_Df[0].isin(Article_Data_Cord_File_List_Abstract_Body_Text),:]\n",
    "Cord_Docu_Embeddings_Df.reset_index(drop=True,inplace=True)"
   ]
  },
  {
   "cell_type": "markdown",
   "id": "34e25a85-6004-4f8d-8cd4-6f1a7b1e7158",
   "metadata": {
    "tags": []
   },
   "source": [
    "### Storing Filtered Embedding to CSV"
   ]
  },
  {
   "cell_type": "code",
   "execution_count": 164,
   "id": "4d0c1031-42ba-4727-bd43-d9359e5c30f2",
   "metadata": {},
   "outputs": [],
   "source": [
    "Cord_Docu_Embeddings_Df.to_csv(r\"D:\\UoA\\Tri 2\\Big Data Analysis and Projects\\Week 8\\archive\\cord_19_embeddings\\cord_19_embeddings_filtered.csv\", header=False, index=False, sep=' ')"
   ]
  },
  {
   "cell_type": "code",
   "execution_count": 165,
   "id": "b2f02cef-4507-4dc4-86e7-1814bdd1e08c",
   "metadata": {},
   "outputs": [],
   "source": [
    "del Cord_Docu_Embeddings_Df"
   ]
  },
  {
   "cell_type": "code",
   "execution_count": 166,
   "id": "76085ff8-a259-4802-8e13-5f1413e753f4",
   "metadata": {},
   "outputs": [],
   "source": [
    "import gc\n",
    "gc.collect()\n",
    "print(\"\",end=\"\")"
   ]
  },
  {
   "cell_type": "code",
   "execution_count": null,
   "id": "966f20b3-5ff8-4b99-9a76-207d3d70d6b0",
   "metadata": {},
   "outputs": [],
   "source": []
  }
 ],
 "metadata": {
  "kernelspec": {
   "display_name": "Python 3 (ipykernel)",
   "language": "python",
   "name": "python3"
  },
  "language_info": {
   "codemirror_mode": {
    "name": "ipython",
    "version": 3
   },
   "file_extension": ".py",
   "mimetype": "text/x-python",
   "name": "python",
   "nbconvert_exporter": "python",
   "pygments_lexer": "ipython3",
   "version": "3.9.12"
  }
 },
 "nbformat": 4,
 "nbformat_minor": 5
}
