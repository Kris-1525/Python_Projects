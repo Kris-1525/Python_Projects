{
 "cells": [
  {
   "cell_type": "markdown",
   "id": "7543715f-44af-4435-b9e3-781eda625036",
   "metadata": {},
   "source": [
    "### General libraries being loaded"
   ]
  },
  {
   "cell_type": "code",
   "execution_count": 1,
   "id": "08540370-ec65-424e-9ee3-6befe8e5e4dc",
   "metadata": {},
   "outputs": [],
   "source": [
    "# Python ≥3.5 is required\n",
    "import sys\n",
    "assert sys.version_info >= (3, 5)\n",
    "\n",
    "# Scikit-Learn ≥0.20 is required\n",
    "import sklearn\n",
    "assert sklearn.__version__ >= \"0.20\"\n",
    "\n",
    "# Common imports\n",
    "import numpy as np\n",
    "import os, time\n",
    "import pandas as pd\n",
    "\n",
    "# Our new Deep Learning imports\n",
    "import tensorflow as tf\n",
    "from tensorflow import keras\n",
    "\n",
    "# To plot nice figures\n",
    "# %matplotlib widget\n",
    "%matplotlib inline\n",
    "\n",
    "import matplotlib as mpl\n",
    "import matplotlib.pyplot as plt\n",
    "mpl.rc('axes', labelsize=14)\n",
    "mpl.rc('xtick', labelsize=12)\n",
    "mpl.rc('ytick', labelsize=12)\n",
    "\n",
    "# For plotting statistical figures\n",
    "import seaborn as sns; sns.set()\n",
    "\n",
    "# For speeding up numpy operations\n",
    "import cupy as cp\n",
    "\n",
    "# For faster numpy computation\n",
    "from numba import jit, cuda\n",
    "\n",
    "# For Progress Bar\n",
    "from tqdm.auto import tqdm,trange\n",
    "tqdm.pandas()\n",
    "\n",
    "# Vaex Dataframe library\n",
    "import vaex as vx\n",
    "\n",
    "# For Pyspark activation\n",
    "import os\n",
    "os.environ[\"PYARROW_IGNORE_TIMEZONE\"] = \"1\"\n",
    "\n",
    "# Pyspark Dataframe\n",
    "from pyspark import pandas as ps\n",
    "\n",
    "import os\n",
    "os.environ['KMP_DUPLICATE_LIB_OK']='True'"
   ]
  },
  {
   "cell_type": "markdown",
   "id": "b710c347-f43d-4b13-8ee3-65c731d1333b",
   "metadata": {},
   "source": [
    "### Loading the Abstract Sentences for Doc2Vec Model (Gensim)"
   ]
  },
  {
   "cell_type": "code",
   "execution_count": 2,
   "id": "95cca73a-7ae3-44c9-ae52-186bd577feda",
   "metadata": {},
   "outputs": [],
   "source": [
    "Article_Data_Cord_File_DF_Abstract = pd.read_pickle(r\"D:\\UoA\\Tri 2\\Big Data Analysis and Projects\\Week 8\\archive\\cord_19_embeddings\\article_data_cord_19_file_df_abstract.pkl\")"
   ]
  },
  {
   "cell_type": "code",
   "execution_count": 3,
   "id": "37c65ef3-a255-45d4-a355-73960b012217",
   "metadata": {},
   "outputs": [],
   "source": [
    "Article_Data_Cord_File_DF_Abstract['Type'] = Article_Data_Cord_File_DF_Abstract.shape[0] * ['Abstract']"
   ]
  },
  {
   "cell_type": "code",
   "execution_count": 4,
   "id": "8b48d803-2371-42aa-a862-49b066afc626",
   "metadata": {},
   "outputs": [],
   "source": [
    "Article_Data_Cord_File_DF_Abstract.rename(columns = {'Abstract_Sentences':'Sentences'}, inplace = True)"
   ]
  },
  {
   "cell_type": "markdown",
   "id": "7f8de2b2-7e53-49f7-b17f-d50b399491e6",
   "metadata": {},
   "source": [
    "### Loading the Body Text Sentences for Doc2Vec Model (Gensim)"
   ]
  },
  {
   "cell_type": "code",
   "execution_count": 5,
   "id": "5fe499aa-78c1-41c0-bf2c-b0163cb9b474",
   "metadata": {},
   "outputs": [],
   "source": [
    "Article_Data_Cord_File_DF_Body_Text = pd.read_pickle(r\"D:\\UoA\\Tri 2\\Big Data Analysis and Projects\\Week 8\\archive\\cord_19_embeddings\\article_data_cord_19_file_df_body_text.pkl\")"
   ]
  },
  {
   "cell_type": "code",
   "execution_count": 6,
   "id": "1b26af7f-2ccf-4183-be9d-e51f0142135e",
   "metadata": {},
   "outputs": [],
   "source": [
    "Article_Data_Cord_File_DF_Body_Text['Type'] = Article_Data_Cord_File_DF_Body_Text.shape[0] * ['Body Text']"
   ]
  },
  {
   "cell_type": "code",
   "execution_count": 7,
   "id": "2ea38c41-791c-4c66-853d-371531df861d",
   "metadata": {},
   "outputs": [],
   "source": [
    "Article_Data_Cord_File_DF_Body_Text.rename(columns = {'Body_Text_Sentences':'Sentences'}, inplace = True)"
   ]
  },
  {
   "cell_type": "markdown",
   "id": "e0966546-787f-4dbd-9c97-de2ca7681401",
   "metadata": {},
   "source": [
    "### Loading Results of Questions from Round 1 to 5"
   ]
  },
  {
   "cell_type": "code",
   "execution_count": 8,
   "id": "5f39ed61-0580-496e-b03a-3bc850decfb8",
   "metadata": {},
   "outputs": [],
   "source": [
    "Article_Data_Cord_File_DF_Result_1 = pd.read_csv(r\"D:\\UoA\\Tri 2\\Big Data Analysis and Projects\\Week 8\\archive\\Kaggle\\Round 1\\qrels-covid_d1_j0.5-1.txt\",sep=' ',header=None)\n",
    "Article_Data_Cord_File_DF_Result_1['Batch'] = Article_Data_Cord_File_DF_Result_1.shape[0] * ['1']\n",
    "\n",
    "Article_Data_Cord_File_DF_Result_2 = pd.read_csv(r\"D:\\UoA\\Tri 2\\Big Data Analysis and Projects\\Week 8\\archive\\Kaggle\\Round 2\\qrels-covid_d2_j0.5-2.txt\",sep=' ',header=None)\n",
    "Article_Data_Cord_File_DF_Result_2['Batch'] = Article_Data_Cord_File_DF_Result_2.shape[0] * ['2']\n",
    "Article_Data_Cord_File_DF_Result_2[0] = Article_Data_Cord_File_DF_Result_2[0] + Article_Data_Cord_File_DF_Result_1[0][Article_Data_Cord_File_DF_Result_1.shape[0]-1]\n",
    "\n",
    "Article_Data_Cord_File_DF_Result_3 = pd.read_csv(r\"D:\\UoA\\Tri 2\\Big Data Analysis and Projects\\Week 8\\archive\\Kaggle\\Round 3\\qrels-covid_d3_j0.5-3.txt\",sep=' ',header=None)\n",
    "Article_Data_Cord_File_DF_Result_3['Batch'] = Article_Data_Cord_File_DF_Result_3.shape[0] * ['3']\n",
    "Article_Data_Cord_File_DF_Result_3[0] = Article_Data_Cord_File_DF_Result_3[0] + Article_Data_Cord_File_DF_Result_2[0][Article_Data_Cord_File_DF_Result_2.shape[0]-1]\n",
    "\n",
    "Article_Data_Cord_File_DF_Result_4 = pd.read_csv(r\"D:\\UoA\\Tri 2\\Big Data Analysis and Projects\\Week 8\\archive\\Kaggle\\Round 4\\qrels-covid_d4_j0.5-4.txt\",sep=' ',header=None)\n",
    "Article_Data_Cord_File_DF_Result_4['Batch'] = Article_Data_Cord_File_DF_Result_4.shape[0] * ['4']\n",
    "Article_Data_Cord_File_DF_Result_4[0] = Article_Data_Cord_File_DF_Result_4[0] + Article_Data_Cord_File_DF_Result_3[0][Article_Data_Cord_File_DF_Result_3.shape[0]-1]\n",
    "\n",
    "Article_Data_Cord_File_DF_Result_5 = pd.read_csv(r\"D:\\UoA\\Tri 2\\Big Data Analysis and Projects\\Week 8\\archive\\Kaggle\\Round 5\\qrels-covid_d5_j0.5-5.txt\",sep=' ',header=None)\n",
    "Article_Data_Cord_File_DF_Result_5['Batch'] = Article_Data_Cord_File_DF_Result_5.shape[0] * ['5']\n",
    "Article_Data_Cord_File_DF_Result_5[0] = Article_Data_Cord_File_DF_Result_5[0] + Article_Data_Cord_File_DF_Result_4[0][Article_Data_Cord_File_DF_Result_4.shape[0]-1]"
   ]
  },
  {
   "cell_type": "code",
   "execution_count": 9,
   "id": "48e301bb-8704-42f4-8156-de44ce1271d6",
   "metadata": {},
   "outputs": [
    {
     "data": {
      "application/vnd.jupyter.widget-view+json": {
       "model_id": "91e80e693ebb4233a0abe558e16114b5",
       "version_major": 2,
       "version_minor": 0
      },
      "text/plain": [
       "  0%|          | 0/178007 [00:00<?, ?it/s]"
      ]
     },
     "metadata": {},
     "output_type": "display_data"
    }
   ],
   "source": [
    "Article_Data_Cord_File_DF_Result = pd.concat([Article_Data_Cord_File_DF_Result_1,Article_Data_Cord_File_DF_Result_2,Article_Data_Cord_File_DF_Result_3,Article_Data_Cord_File_DF_Result_4,Article_Data_Cord_File_DF_Result_5],ignore_index=True)\n",
    "Article_Data_Cord_File_DF_Result[0] = Article_Data_Cord_File_DF_Result[0].progress_apply(str)"
   ]
  },
  {
   "cell_type": "markdown",
   "id": "950eaf83-04c6-4b89-8c14-6d9e58d8fccb",
   "metadata": {
    "tags": []
   },
   "source": [
    "### Loading the Round 1 Questions for Doc2Vec Model (Gensim)"
   ]
  },
  {
   "cell_type": "code",
   "execution_count": 10,
   "id": "e156de4c-98d4-4dbb-9374-74c5d71c3cb2",
   "metadata": {},
   "outputs": [],
   "source": [
    "Article_Data_Cord_File_DF_Ques_1 = pd.read_xml(r\"D:\\UoA\\Tri 2\\Big Data Analysis and Projects\\Week 8\\archive\\Kaggle\\Round 1\\topics-rnd1.xml\")"
   ]
  },
  {
   "cell_type": "code",
   "execution_count": 11,
   "id": "5030a40b-f703-40ff-80ad-3bd406c14a10",
   "metadata": {},
   "outputs": [],
   "source": [
    "Article_Data_Cord_File_DF_Ques_1['batch'] = Article_Data_Cord_File_DF_Ques_1.shape[0] * ['1']"
   ]
  },
  {
   "cell_type": "markdown",
   "id": "c2369cd2-8154-4f55-b755-5ffc3d27ed83",
   "metadata": {},
   "source": [
    "### Loading the Round 2 Questions for Doc2Vec Model (Gensim)"
   ]
  },
  {
   "cell_type": "code",
   "execution_count": 12,
   "id": "a0fa6637-8a77-4235-909f-9f773329c51a",
   "metadata": {},
   "outputs": [],
   "source": [
    "Article_Data_Cord_File_DF_Ques_2 = pd.read_xml(r\"D:\\UoA\\Tri 2\\Big Data Analysis and Projects\\Week 8\\archive\\Kaggle\\Round 2\\topics-rnd2.xml\")"
   ]
  },
  {
   "cell_type": "code",
   "execution_count": 13,
   "id": "dea8f81a-aad7-4cda-ab58-656f3079d62d",
   "metadata": {},
   "outputs": [],
   "source": [
    "Article_Data_Cord_File_DF_Ques_2['batch'] = Article_Data_Cord_File_DF_Ques_2.shape[0] * ['2']"
   ]
  },
  {
   "cell_type": "markdown",
   "id": "f22d9ec1-8ddf-4620-92d4-4f802bfba295",
   "metadata": {},
   "source": [
    "### Loading the Round 3 Questions for Doc2Vec Model (Gensim)"
   ]
  },
  {
   "cell_type": "code",
   "execution_count": 14,
   "id": "d3931ab3-7d11-4f9e-af64-35e8a725356a",
   "metadata": {},
   "outputs": [],
   "source": [
    "Article_Data_Cord_File_DF_Ques_3 = pd.read_xml(r\"D:\\UoA\\Tri 2\\Big Data Analysis and Projects\\Week 8\\archive\\Kaggle\\Round 3\\topics-rnd3.xml\")"
   ]
  },
  {
   "cell_type": "code",
   "execution_count": 15,
   "id": "654b677d-c15d-44a3-9053-55c3e16c61f8",
   "metadata": {},
   "outputs": [],
   "source": [
    "Article_Data_Cord_File_DF_Ques_3['batch'] = Article_Data_Cord_File_DF_Ques_3.shape[0] * ['3']"
   ]
  },
  {
   "cell_type": "markdown",
   "id": "52a8eff8-9244-468a-8601-77122443217b",
   "metadata": {},
   "source": [
    "### Loading the Round 4 Questions for Doc2Vec Model (Gensim)"
   ]
  },
  {
   "cell_type": "code",
   "execution_count": 16,
   "id": "b4370461-8fa9-453c-85d9-7799ba9188c4",
   "metadata": {},
   "outputs": [],
   "source": [
    "Article_Data_Cord_File_DF_Ques_4 = pd.read_xml(r\"D:\\UoA\\Tri 2\\Big Data Analysis and Projects\\Week 8\\archive\\Kaggle\\Round 4\\topics-rnd4.xml\")"
   ]
  },
  {
   "cell_type": "code",
   "execution_count": 17,
   "id": "e45be87f-00e4-4cf3-aeaa-ec93cc41d149",
   "metadata": {},
   "outputs": [],
   "source": [
    "Article_Data_Cord_File_DF_Ques_4['batch'] = Article_Data_Cord_File_DF_Ques_4.shape[0] * ['4']"
   ]
  },
  {
   "cell_type": "markdown",
   "id": "d1349866-0aff-4daa-b4f3-7e5acbd61313",
   "metadata": {},
   "source": [
    "### Loading the Round 5 Questions for Doc2Vec Model (Gensim)"
   ]
  },
  {
   "cell_type": "code",
   "execution_count": 18,
   "id": "6b73c2a7-0530-4bfa-b3bf-d6d65608bebe",
   "metadata": {},
   "outputs": [],
   "source": [
    "Article_Data_Cord_File_DF_Ques_5 = pd.read_xml(r\"D:\\UoA\\Tri 2\\Big Data Analysis and Projects\\Week 8\\archive\\Kaggle\\Round 5\\topics-rnd5.xml\")"
   ]
  },
  {
   "cell_type": "code",
   "execution_count": 19,
   "id": "bfb54f31-588a-4bd6-b9a2-964b68b962bb",
   "metadata": {},
   "outputs": [],
   "source": [
    "Article_Data_Cord_File_DF_Ques_5['batch'] = Article_Data_Cord_File_DF_Ques_5.shape[0] * ['5']"
   ]
  },
  {
   "cell_type": "markdown",
   "id": "34819171-21c6-4b73-93c0-2cbf582ebafc",
   "metadata": {},
   "source": [
    "### Concatenating the Round 1 to Round 5 Questions for Doc2Vec Model (Gensim)"
   ]
  },
  {
   "cell_type": "code",
   "execution_count": 20,
   "id": "bea535a0-e7b6-47c1-8a07-455fc46c5db7",
   "metadata": {},
   "outputs": [],
   "source": [
    "Article_Data_Cord_File_DF_Ques = pd.concat([Article_Data_Cord_File_DF_Ques_1,Article_Data_Cord_File_DF_Ques_2,Article_Data_Cord_File_DF_Ques_3,Article_Data_Cord_File_DF_Ques_4,Article_Data_Cord_File_DF_Ques_5],ignore_index=True)"
   ]
  },
  {
   "cell_type": "code",
   "execution_count": 21,
   "id": "cece4a17-d47b-4f36-a32c-04c932471e43",
   "metadata": {},
   "outputs": [],
   "source": [
    "Article_Data_Cord_File_DF_Ques['number'] = list(range(1,Article_Data_Cord_File_DF_Ques.shape[0]+1))"
   ]
  },
  {
   "cell_type": "code",
   "execution_count": 22,
   "id": "c1c88415-fe3e-4849-84f6-9e454aaae327",
   "metadata": {},
   "outputs": [],
   "source": [
    "Article_Data_Cord_File_DF_Ques_Use = (Article_Data_Cord_File_DF_Ques).copy()\n",
    "Article_Data_Cord_File_DF_Ques_Use.rename(columns = {'number':'Doc_Id_Meta_Parse'}, inplace = True)"
   ]
  },
  {
   "cell_type": "code",
   "execution_count": 23,
   "id": "59f14bb0-f035-4819-afec-02837a18a1c8",
   "metadata": {},
   "outputs": [],
   "source": [
    "Article_Data_Cord_File_DF_Ques_Use_1 = Article_Data_Cord_File_DF_Ques_Use[['Doc_Id_Meta_Parse','query']].copy()\n",
    "Article_Data_Cord_File_DF_Ques_Use_2 = Article_Data_Cord_File_DF_Ques_Use[['Doc_Id_Meta_Parse','question']].copy()\n",
    "Article_Data_Cord_File_DF_Ques_Use_3 = Article_Data_Cord_File_DF_Ques_Use[['Doc_Id_Meta_Parse','narrative']].copy()\n",
    "\n",
    "Article_Data_Cord_File_DF_Ques_Use_1.rename(columns = {'query':'Sentences'}, inplace = True)\n",
    "Article_Data_Cord_File_DF_Ques_Use_2.rename(columns = {'question':'Sentences'}, inplace = True)\n",
    "Article_Data_Cord_File_DF_Ques_Use_3.rename(columns = {'narrative':'Sentences'}, inplace = True)\n",
    "\n",
    "Article_Data_Cord_File_DF_Ques_Use_1['Type'] = Article_Data_Cord_File_DF_Ques_Use_1.shape[0] * ['Query']\n",
    "Article_Data_Cord_File_DF_Ques_Use_2['Type'] = Article_Data_Cord_File_DF_Ques_Use_2.shape[0] * ['Question']\n",
    "Article_Data_Cord_File_DF_Ques_Use_3['Type'] = Article_Data_Cord_File_DF_Ques_Use_2.shape[0] * ['Narrative']"
   ]
  },
  {
   "cell_type": "code",
   "execution_count": 24,
   "id": "d55faa43-ca1b-4404-a99d-50bedd5a2d16",
   "metadata": {},
   "outputs": [],
   "source": [
    "del Article_Data_Cord_File_DF_Ques_Use\n",
    "Article_Data_Cord_File_DF_Ques_Use = pd.DataFrame()"
   ]
  },
  {
   "cell_type": "code",
   "execution_count": 25,
   "id": "9a52c5c4-7411-44a8-b1d2-d37da14464e4",
   "metadata": {},
   "outputs": [],
   "source": [
    "Article_Data_Cord_File_DF_Ques_Use = pd.concat([Article_Data_Cord_File_DF_Ques_Use_1,Article_Data_Cord_File_DF_Ques_Use_2,Article_Data_Cord_File_DF_Ques_Use_3],ignore_index=True)"
   ]
  },
  {
   "cell_type": "code",
   "execution_count": 26,
   "id": "787f9337-c666-4e8d-b82d-b3759df7099d",
   "metadata": {},
   "outputs": [
    {
     "data": {
      "application/vnd.jupyter.widget-view+json": {
       "model_id": "4d123b2b82d343b5a4b50ef0e6512b0b",
       "version_major": 2,
       "version_minor": 0
      },
      "text/plain": [
       "  0%|          | 0/600 [00:00<?, ?it/s]"
      ]
     },
     "metadata": {},
     "output_type": "display_data"
    }
   ],
   "source": [
    "Article_Data_Cord_File_DF_Ques_Use['Doc_Id_Meta_Parse'] = Article_Data_Cord_File_DF_Ques_Use['Doc_Id_Meta_Parse'].progress_apply(str)"
   ]
  },
  {
   "cell_type": "markdown",
   "id": "3c452ae8-0b85-4a0c-88ca-47dcbf7368c4",
   "metadata": {},
   "source": [
    "### Concatenating the Abstract, Body Text and Questions for Doc2Vec Model (Gensim)"
   ]
  },
  {
   "cell_type": "code",
   "execution_count": 27,
   "id": "cfa2729b-5f1e-4904-9bd1-151979d3ceb7",
   "metadata": {},
   "outputs": [],
   "source": [
    "Article_Data_Cord_File_DF_Abstract_Body_Text_Ques = pd.concat([Article_Data_Cord_File_DF_Abstract, Article_Data_Cord_File_DF_Body_Text, Article_Data_Cord_File_DF_Ques_Use], ignore_index=True)"
   ]
  },
  {
   "cell_type": "code",
   "execution_count": 28,
   "id": "b0ef1791-b016-4c29-a795-cbaa19d71b77",
   "metadata": {},
   "outputs": [],
   "source": [
    "Article_Data_Cord_File_List_Abstract_Body_Text_Ques_Sent = Article_Data_Cord_File_DF_Abstract_Body_Text_Ques['Sentences'].to_list()\n",
    "Article_Data_Cord_File_List_Abstract_Body_Text_Ques_Tags = Article_Data_Cord_File_DF_Abstract_Body_Text_Ques['Doc_Id_Meta_Parse'].to_list()"
   ]
  },
  {
   "cell_type": "markdown",
   "id": "c09b8020-f0e6-4c51-bc09-3b2a02c7ffd4",
   "metadata": {},
   "source": [
    "### Creating Tagged Documents for Doc2Vec Model (Gensim)"
   ]
  },
  {
   "cell_type": "code",
   "execution_count": 29,
   "id": "dad9a1f0-0c89-4ea0-bd7b-f04230f321bf",
   "metadata": {},
   "outputs": [],
   "source": [
    "import gensim"
   ]
  },
  {
   "cell_type": "code",
   "execution_count": 30,
   "id": "09551524-8fa9-4e31-8f38-d12ce0a7c724",
   "metadata": {},
   "outputs": [
    {
     "data": {
      "application/vnd.jupyter.widget-view+json": {
       "model_id": "e0d64a03f28b4a588732bb78c10885d3",
       "version_major": 2,
       "version_minor": 0
      },
      "text/plain": [
       "  0%|          | 0/979097 [00:00<?, ?it/s]"
      ]
     },
     "metadata": {},
     "output_type": "display_data"
    }
   ],
   "source": [
    "k=0\n",
    "for Article_Data_Cord_File_List_Abstract_Body_Text_Ques_Sent_Sub in tqdm(Article_Data_Cord_File_List_Abstract_Body_Text_Ques_Sent):\n",
    "    Article_Data_Cord_File_List_Abstract_Body_Text_Ques_Sent[k] = gensim.models.doc2vec.TaggedDocument(Article_Data_Cord_File_List_Abstract_Body_Text_Ques_Sent_Sub, Article_Data_Cord_File_List_Abstract_Body_Text_Ques_Tags[k])\n",
    "    k=k+1"
   ]
  },
  {
   "cell_type": "code",
   "execution_count": 31,
   "id": "b8da8556-895f-4ed2-9d06-5061b258db92",
   "metadata": {},
   "outputs": [],
   "source": [
    "Article_Data_Cord_File_DF_Abstract_Body_Text_Ques['Sentences_Tags'] = Article_Data_Cord_File_List_Abstract_Body_Text_Ques_Sent"
   ]
  },
  {
   "cell_type": "markdown",
   "id": "b9919a1e-570a-4e41-8130-49af7616fe48",
   "metadata": {},
   "source": [
    "### Creating Doc2Vec Model and Training it (Gensim)"
   ]
  },
  {
   "cell_type": "code",
   "execution_count": 32,
   "id": "8f8518ce-bcce-44f8-afa3-6998bfc7db50",
   "metadata": {},
   "outputs": [],
   "source": [
    "Doc2Vec_Model_Abstract_Body_Text_Ques = gensim.models.doc2vec.Doc2Vec(vector_size=100, min_count=2, epochs=20, workers=4)"
   ]
  },
  {
   "cell_type": "code",
   "execution_count": 33,
   "id": "f2386aac-f2f1-4248-8e72-d8871cce1f38",
   "metadata": {},
   "outputs": [],
   "source": [
    "Doc2Vec_Model_Abstract_Body_Text_Ques.build_vocab(Article_Data_Cord_File_DF_Abstract_Body_Text_Ques['Sentences_Tags'].to_list())"
   ]
  },
  {
   "cell_type": "code",
   "execution_count": 34,
   "id": "67af8dcb-ace1-4e95-9004-8cdb9bec4217",
   "metadata": {},
   "outputs": [],
   "source": [
    "Doc2Vec_Model_Abstract_Body_Text_Ques.train(Article_Data_Cord_File_DF_Abstract_Body_Text_Ques['Sentences_Tags'].to_list(), total_examples=Doc2Vec_Model_Abstract_Body_Text_Ques.corpus_count, epochs=Doc2Vec_Model_Abstract_Body_Text_Ques.epochs)"
   ]
  },
  {
   "cell_type": "markdown",
   "id": "a28228b4-e946-45d9-a2a4-3509dc107287",
   "metadata": {},
   "source": [
    "### Loading the Abstract Tokens for Doc2Vec Model Sentence Embeddings (Gensim)"
   ]
  },
  {
   "cell_type": "code",
   "execution_count": 35,
   "id": "13ee4787-d97e-444b-94e0-cc26ccb7efad",
   "metadata": {},
   "outputs": [],
   "source": [
    "Article_Data_Cord_File_DF_Abstract_Tokens = pd.read_pickle(r\"D:\\UoA\\Tri 2\\Big Data Analysis and Projects\\Week 8\\archive\\cord_19_embeddings\\article_data_cord_19_file_df_abstract_tokens.pkl\")"
   ]
  },
  {
   "cell_type": "code",
   "execution_count": 36,
   "id": "dc19f903-fd3a-4af9-8282-52d2e02bdb62",
   "metadata": {},
   "outputs": [
    {
     "data": {
      "application/vnd.jupyter.widget-view+json": {
       "model_id": "5310b845feda4282b42cb7c0f9c46a5b",
       "version_major": 2,
       "version_minor": 0
      },
      "text/plain": [
       "  0%|          | 0/122754 [00:00<?, ?it/s]"
      ]
     },
     "metadata": {},
     "output_type": "display_data"
    }
   ],
   "source": [
    "Article_Data_Cord_File_DF_Abstract['Sentence Embeddings'] = Article_Data_Cord_File_DF_Abstract_Tokens['Abstract_Tokens'].progress_apply(Doc2Vec_Model_Abstract_Body_Text_Ques.infer_vector)"
   ]
  },
  {
   "cell_type": "code",
   "execution_count": 37,
   "id": "30ea03aa-2b38-4282-879a-0b718b2b952a",
   "metadata": {},
   "outputs": [],
   "source": [
    "Article_Data_Cord_File_DF_Abstract.to_pickle(r\"D:\\UoA\\Tri 2\\Big Data Analysis and Projects\\Week 8\\archive\\cord_19_embeddings\\article_data_cord_19_file_df_abstract_sentence_embeddings_gensim.pkl\")"
   ]
  },
  {
   "cell_type": "markdown",
   "id": "ecc6f7be-7128-46a1-952c-b6832736c7ac",
   "metadata": {},
   "source": [
    "### Loading the Body Text Tokens for Doc2Vec Model Sentence Embeddings (Gensim)"
   ]
  },
  {
   "cell_type": "code",
   "execution_count": 38,
   "id": "030964b8-a8de-4340-a8cd-92a0036352e4",
   "metadata": {},
   "outputs": [],
   "source": [
    "Article_Data_Cord_File_DF_Body_Text_Tokens = pd.read_pickle(r\"D:\\UoA\\Tri 2\\Big Data Analysis and Projects\\Week 8\\archive\\cord_19_embeddings\\article_data_cord_19_file_df_body_text_tokens.pkl\")"
   ]
  },
  {
   "cell_type": "code",
   "execution_count": 39,
   "id": "c8f03d3c-6c0e-47b5-af32-28dac49eca86",
   "metadata": {},
   "outputs": [
    {
     "data": {
      "application/vnd.jupyter.widget-view+json": {
       "model_id": "a4a3fe6c21b6436cb74bc02958083b05",
       "version_major": 2,
       "version_minor": 0
      },
      "text/plain": [
       "  0%|          | 0/855743 [00:00<?, ?it/s]"
      ]
     },
     "metadata": {},
     "output_type": "display_data"
    }
   ],
   "source": [
    "Article_Data_Cord_File_DF_Body_Text['Sentence Embeddings'] = Article_Data_Cord_File_DF_Body_Text_Tokens['Body_Text_Tokens'].progress_apply(Doc2Vec_Model_Abstract_Body_Text_Ques.infer_vector)"
   ]
  },
  {
   "cell_type": "code",
   "execution_count": 40,
   "id": "4c833f0a-6dba-426f-90a4-f394d63b7b4e",
   "metadata": {},
   "outputs": [],
   "source": [
    "Article_Data_Cord_File_DF_Body_Text.to_pickle(r\"D:\\UoA\\Tri 2\\Big Data Analysis and Projects\\Week 8\\archive\\cord_19_embeddings\\article_data_cord_19_file_df_body_text_sentence_embeddings_gensim.pkl\")"
   ]
  },
  {
   "cell_type": "markdown",
   "id": "441ef1fb-892e-4604-9fe9-127632e43d3c",
   "metadata": {},
   "source": [
    "### Creating Sentence Embeddings of Questions"
   ]
  },
  {
   "cell_type": "code",
   "execution_count": 41,
   "id": "840e82d2-6570-45e0-874b-9cb10b9c3dfa",
   "metadata": {},
   "outputs": [],
   "source": [
    "Article_Data_Cord_File_DF_Ques.rename(columns = {'number':'Doc_Id_Meta_Parse','query':'Query','question':'Question','narrative':'Narrative','batch':'Batch'}, inplace = True)"
   ]
  },
  {
   "cell_type": "code",
   "execution_count": 42,
   "id": "cabb9b84-0dee-4f6b-8195-840b591836f4",
   "metadata": {},
   "outputs": [],
   "source": [
    "import tensorflow as tf"
   ]
  },
  {
   "cell_type": "code",
   "execution_count": 43,
   "id": "03d4517d-ac6c-4601-8f5d-e84c9af2e445",
   "metadata": {},
   "outputs": [],
   "source": [
    "Article_Data_Cord_File_DF_Ques_Tokens = pd.DataFrame()\n",
    "Article_Data_Cord_File_DF_Ques_Tokens['Doc_Id_Meta_Parse'] = Article_Data_Cord_File_DF_Ques['Doc_Id_Meta_Parse'].to_list()"
   ]
  },
  {
   "cell_type": "code",
   "execution_count": 44,
   "id": "7d8ab7b4-3c3c-4b63-83e0-8eb5a2fb788d",
   "metadata": {},
   "outputs": [
    {
     "data": {
      "application/vnd.jupyter.widget-view+json": {
       "model_id": "e828abb7b44040d9bb8cb6cd90cf316a",
       "version_major": 2,
       "version_minor": 0
      },
      "text/plain": [
       "  0%|          | 0/200 [00:00<?, ?it/s]"
      ]
     },
     "metadata": {},
     "output_type": "display_data"
    },
    {
     "data": {
      "application/vnd.jupyter.widget-view+json": {
       "model_id": "8df29be3e60b4ec09bf4aa5bc2ae189a",
       "version_major": 2,
       "version_minor": 0
      },
      "text/plain": [
       "  0%|          | 0/200 [00:00<?, ?it/s]"
      ]
     },
     "metadata": {},
     "output_type": "display_data"
    },
    {
     "data": {
      "application/vnd.jupyter.widget-view+json": {
       "model_id": "29805443f5aa4a91b4caabc5d7394095",
       "version_major": 2,
       "version_minor": 0
      },
      "text/plain": [
       "  0%|          | 0/200 [00:00<?, ?it/s]"
      ]
     },
     "metadata": {},
     "output_type": "display_data"
    }
   ],
   "source": [
    "Article_Data_Cord_File_DF_Ques_Tokens['Query_Tokens'] = Article_Data_Cord_File_DF_Ques['Query'].progress_apply(tf.keras.preprocessing.text.text_to_word_sequence)\n",
    "Article_Data_Cord_File_DF_Ques_Tokens['Question_Tokens'] = Article_Data_Cord_File_DF_Ques['Question'].progress_apply(tf.keras.preprocessing.text.text_to_word_sequence)\n",
    "Article_Data_Cord_File_DF_Ques_Tokens['Narrative_Tokens'] = Article_Data_Cord_File_DF_Ques['Narrative'].progress_apply(tf.keras.preprocessing.text.text_to_word_sequence)"
   ]
  },
  {
   "cell_type": "code",
   "execution_count": 45,
   "id": "f831cab5-14d5-4ba4-9f85-eea117648948",
   "metadata": {},
   "outputs": [],
   "source": [
    "Article_Data_Cord_File_DF_Ques_Tokens['Batch'] = Article_Data_Cord_File_DF_Ques['Batch'].to_list()"
   ]
  },
  {
   "cell_type": "code",
   "execution_count": 46,
   "id": "8935909d-bbc8-4898-984f-c6502c3cdcf2",
   "metadata": {},
   "outputs": [],
   "source": [
    "Article_Data_Cord_File_DF_Ques_Tokens.to_pickle(r\"D:\\UoA\\Tri 2\\Big Data Analysis and Projects\\Week 8\\archive\\cord_19_embeddings\\article_data_cord_19_file_df_ques_tokens.pkl\")"
   ]
  },
  {
   "cell_type": "code",
   "execution_count": 47,
   "id": "6bbd0758-1e47-4286-9fa2-dd58ebb7e6d6",
   "metadata": {},
   "outputs": [],
   "source": [
    "Article_Data_Cord_File_DF_Ques.to_pickle(r\"D:\\UoA\\Tri 2\\Big Data Analysis and Projects\\Week 8\\archive\\cord_19_embeddings\\article_data_cord_19_file_df_ques.pkl\")"
   ]
  },
  {
   "cell_type": "code",
   "execution_count": 48,
   "id": "bc40fbf3-4a63-4955-b0a8-19f6aebfce7d",
   "metadata": {},
   "outputs": [
    {
     "data": {
      "application/vnd.jupyter.widget-view+json": {
       "model_id": "c28f4e050d634ba4b493425e019c51eb",
       "version_major": 2,
       "version_minor": 0
      },
      "text/plain": [
       "  0%|          | 0/200 [00:00<?, ?it/s]"
      ]
     },
     "metadata": {},
     "output_type": "display_data"
    },
    {
     "data": {
      "application/vnd.jupyter.widget-view+json": {
       "model_id": "ca278e4c115a47ac9b684ba9b1976cd2",
       "version_major": 2,
       "version_minor": 0
      },
      "text/plain": [
       "  0%|          | 0/200 [00:00<?, ?it/s]"
      ]
     },
     "metadata": {},
     "output_type": "display_data"
    },
    {
     "data": {
      "application/vnd.jupyter.widget-view+json": {
       "model_id": "f34d57ba4d8042ee938cf2802216301e",
       "version_major": 2,
       "version_minor": 0
      },
      "text/plain": [
       "  0%|          | 0/200 [00:00<?, ?it/s]"
      ]
     },
     "metadata": {},
     "output_type": "display_data"
    }
   ],
   "source": [
    "Article_Data_Cord_File_DF_Ques['Query Sentence Embeddings'] = Article_Data_Cord_File_DF_Ques_Tokens['Query_Tokens'].progress_apply(Doc2Vec_Model_Abstract_Body_Text_Ques.infer_vector)\n",
    "Article_Data_Cord_File_DF_Ques['Question Sentence Embeddings'] = Article_Data_Cord_File_DF_Ques_Tokens['Question_Tokens'].progress_apply(Doc2Vec_Model_Abstract_Body_Text_Ques.infer_vector)\n",
    "Article_Data_Cord_File_DF_Ques['Narrative Sentence Embeddings'] = Article_Data_Cord_File_DF_Ques_Tokens['Narrative_Tokens'].progress_apply(Doc2Vec_Model_Abstract_Body_Text_Ques.infer_vector)"
   ]
  },
  {
   "cell_type": "code",
   "execution_count": 49,
   "id": "c0861313-f96d-4955-8ae8-a1f1af04224c",
   "metadata": {},
   "outputs": [],
   "source": [
    "def row_concatenate_embeddings(row_query,row_question,row_narrative):\n",
    "    return np.concatenate((row_query,row_question,row_narrative),axis=0)"
   ]
  },
  {
   "cell_type": "code",
   "execution_count": 50,
   "id": "b94972ab-2f0c-45ed-8b8f-069953328fcc",
   "metadata": {},
   "outputs": [
    {
     "data": {
      "application/vnd.jupyter.widget-view+json": {
       "model_id": "1bc5999f1b6b48699606e4c3f3b0bb29",
       "version_major": 2,
       "version_minor": 0
      },
      "text/plain": [
       "  0%|          | 0/200 [00:00<?, ?it/s]"
      ]
     },
     "metadata": {},
     "output_type": "display_data"
    }
   ],
   "source": [
    "Article_Data_Cord_File_DF_Ques['Concatenated Sentence Embeddings'] = Article_Data_Cord_File_DF_Ques.progress_apply(lambda x: row_concatenate_embeddings(x['Query Sentence Embeddings'],x['Question Sentence Embeddings'],x['Narrative Sentence Embeddings']),axis=1)"
   ]
  },
  {
   "cell_type": "code",
   "execution_count": 51,
   "id": "d90007fa-6a89-4d10-b9d5-8950c5e32f80",
   "metadata": {},
   "outputs": [],
   "source": [
    "def row_mean_embeddings(row_query,row_question,row_narrative):\n",
    "    return np.mean((row_query,row_question,row_narrative),axis=0)"
   ]
  },
  {
   "cell_type": "code",
   "execution_count": 52,
   "id": "673dc683-7e1f-4517-a90a-5634eea7a524",
   "metadata": {},
   "outputs": [
    {
     "data": {
      "application/vnd.jupyter.widget-view+json": {
       "model_id": "26925574eca4411fbe816e74566d7c1f",
       "version_major": 2,
       "version_minor": 0
      },
      "text/plain": [
       "  0%|          | 0/200 [00:00<?, ?it/s]"
      ]
     },
     "metadata": {},
     "output_type": "display_data"
    }
   ],
   "source": [
    "Article_Data_Cord_File_DF_Ques['Mean Sentence Embeddings'] = Article_Data_Cord_File_DF_Ques.progress_apply(lambda x: row_mean_embeddings(x['Query Sentence Embeddings'],x['Question Sentence Embeddings'],x['Narrative Sentence Embeddings']),axis=1)"
   ]
  },
  {
   "cell_type": "code",
   "execution_count": 53,
   "id": "2ca4779d-b2f1-4465-ba05-02d136ff2642",
   "metadata": {},
   "outputs": [],
   "source": [
    "Article_Data_Cord_File_DF_Abstract_Body_Text_Ques.to_pickle(r\"D:\\UoA\\Tri 2\\Big Data Analysis and Projects\\Week 8\\archive\\cord_19_embeddings\\article_data_cord_19_file_df_abstract_body_text_ques.pkl\")"
   ]
  },
  {
   "cell_type": "code",
   "execution_count": 54,
   "id": "58f7d5ed-0865-4a2d-88a4-7d12db791773",
   "metadata": {},
   "outputs": [],
   "source": [
    "Article_Data_Cord_File_DF_Ques.to_pickle(r\"D:\\UoA\\Tri 2\\Big Data Analysis and Projects\\Week 8\\archive\\cord_19_embeddings\\article_data_cord_19_file_df_abstract_body_text_ques_sentence_embeddings_gensim.pkl\")"
   ]
  },
  {
   "cell_type": "markdown",
   "id": "d787f1ee-581c-4921-a901-4726ce860d25",
   "metadata": {},
   "source": [
    "### Loading Cord-19 Sentence Embeddings"
   ]
  },
  {
   "cell_type": "code",
   "execution_count": 55,
   "id": "d04f675d-7e07-4fc8-bc3a-b783d07775a1",
   "metadata": {},
   "outputs": [],
   "source": [
    "from gensim.models import KeyedVectors\n",
    "Cord_19_Doc_Embeddings = KeyedVectors.load_word2vec_format(r\"D:\\UoA\\Tri 2\\Big Data Analysis and Projects\\Week 8\\archive\\cord_19_embeddings\\cord_19_embeddings_filtered.csv\",no_header=True,binary=False)"
   ]
  },
  {
   "cell_type": "code",
   "execution_count": 56,
   "id": "862ab590-264a-4061-b7a3-14cfbfd7c2b4",
   "metadata": {},
   "outputs": [],
   "source": [
    "Cord_19_Doc_Embeddings_DF = pd.DataFrame()\n",
    "Cord_19_Doc_Embeddings_DF = Cord_19_Doc_Embeddings_DF.astype('object')\n",
    "\n",
    "Cord_19_Doc_Embeddings_DF['Doc_Id_Meta_Parse'] = list(Cord_19_Doc_Embeddings.index_to_key)\n",
    "Cord_19_Doc_Embeddings_DF['Doc_Id_Meta_Parse'] = Cord_19_Doc_Embeddings_DF['Doc_Id_Meta_Parse'].fillna('')\n",
    "Cord_19_Doc_Embeddings_DF['Document Embeddings'] = list(Cord_19_Doc_Embeddings.vectors)"
   ]
  },
  {
   "cell_type": "code",
   "execution_count": 57,
   "id": "9c73e7b5-9c9b-4de9-8985-16fdf468fd5c",
   "metadata": {},
   "outputs": [],
   "source": [
    "Cord_19_Doc_Embeddings_DF = Cord_19_Doc_Embeddings_DF.loc[~(Cord_19_Doc_Embeddings_DF['Doc_Id_Meta_Parse'] == ''),:].reset_index(drop=True)"
   ]
  },
  {
   "cell_type": "markdown",
   "id": "f9e8b056-76cd-432b-b2b1-1cdf70f73d5c",
   "metadata": {},
   "source": [
    "### Padding the Sentence Embeddings of Questions, Abstract and Body Text to have equal Dimension"
   ]
  },
  {
   "cell_type": "code",
   "execution_count": 58,
   "id": "5d537375-5507-49e7-886e-4928fd910504",
   "metadata": {},
   "outputs": [],
   "source": [
    "Cord_19_Length_Concate_Ques = Cord_19_Doc_Embeddings_DF['Document Embeddings'][0].shape[0] - Article_Data_Cord_File_DF_Ques['Concatenated Sentence Embeddings'][0].shape[0]\n",
    "Cord_19_Length_Mean_Ques = Cord_19_Doc_Embeddings_DF['Document Embeddings'][0].shape[0] - Article_Data_Cord_File_DF_Ques['Mean Sentence Embeddings'][0].shape[0]\n",
    "Cord_19_Length_Abstract = Cord_19_Doc_Embeddings_DF['Document Embeddings'][0].shape[0] - Article_Data_Cord_File_DF_Abstract['Sentence Embeddings'][0].shape[0]\n",
    "Cord_19_Length_Body_Text = Cord_19_Doc_Embeddings_DF['Document Embeddings'][0].shape[0] - Article_Data_Cord_File_DF_Body_Text['Sentence Embeddings'][0].shape[0]"
   ]
  },
  {
   "cell_type": "code",
   "execution_count": 59,
   "id": "115e0fd8-2a44-4dc1-9206-5402b6c3edd8",
   "metadata": {},
   "outputs": [],
   "source": [
    "def row_padding_embeddings(row_embeddings,row_dimension):\n",
    "    return np.pad(row_embeddings, (0, row_dimension), 'constant', constant_values=-1)"
   ]
  },
  {
   "cell_type": "code",
   "execution_count": 60,
   "id": "e769d16d-a486-45b3-ae16-b27f7fbe2d88",
   "metadata": {},
   "outputs": [
    {
     "data": {
      "application/vnd.jupyter.widget-view+json": {
       "model_id": "4a041da899db434a8302512b639dc48e",
       "version_major": 2,
       "version_minor": 0
      },
      "text/plain": [
       "  0%|          | 0/200 [00:00<?, ?it/s]"
      ]
     },
     "metadata": {},
     "output_type": "display_data"
    },
    {
     "data": {
      "application/vnd.jupyter.widget-view+json": {
       "model_id": "708f8b79bd5f4838a5518c63c4a47c00",
       "version_major": 2,
       "version_minor": 0
      },
      "text/plain": [
       "  0%|          | 0/200 [00:00<?, ?it/s]"
      ]
     },
     "metadata": {},
     "output_type": "display_data"
    },
    {
     "data": {
      "application/vnd.jupyter.widget-view+json": {
       "model_id": "52b232537c3d419ab9fe104db60b9cbb",
       "version_major": 2,
       "version_minor": 0
      },
      "text/plain": [
       "  0%|          | 0/122754 [00:00<?, ?it/s]"
      ]
     },
     "metadata": {},
     "output_type": "display_data"
    },
    {
     "data": {
      "application/vnd.jupyter.widget-view+json": {
       "model_id": "12e143b26dd742e68d1c18d8c6545657",
       "version_major": 2,
       "version_minor": 0
      },
      "text/plain": [
       "  0%|          | 0/855743 [00:00<?, ?it/s]"
      ]
     },
     "metadata": {},
     "output_type": "display_data"
    }
   ],
   "source": [
    "Article_Data_Cord_File_DF_Ques['Concatenated Sentence Embeddings'] = Article_Data_Cord_File_DF_Ques['Concatenated Sentence Embeddings'].progress_apply(row_padding_embeddings,args=(Cord_19_Length_Concate_Ques,))\n",
    "Article_Data_Cord_File_DF_Ques['Mean Sentence Embeddings'] = Article_Data_Cord_File_DF_Ques['Mean Sentence Embeddings'].progress_apply(row_padding_embeddings,args=(Cord_19_Length_Mean_Ques,))\n",
    "Article_Data_Cord_File_DF_Abstract['Sentence Embeddings'] = Article_Data_Cord_File_DF_Abstract['Sentence Embeddings'].progress_apply(row_padding_embeddings,args=(Cord_19_Length_Abstract,))\n",
    "Article_Data_Cord_File_DF_Body_Text['Sentence Embeddings'] = Article_Data_Cord_File_DF_Body_Text['Sentence Embeddings'].progress_apply(row_padding_embeddings,args=(Cord_19_Length_Body_Text,))"
   ]
  },
  {
   "cell_type": "markdown",
   "id": "aedbfa51-1bdb-43cc-9644-cbb203a83bf7",
   "metadata": {},
   "source": [
    "### Loading Titles of All Documents in Cord-19"
   ]
  },
  {
   "cell_type": "code",
   "execution_count": 61,
   "id": "38bdd2ea-7df6-4726-9ba3-746ee8fd0525",
   "metadata": {},
   "outputs": [],
   "source": [
    "Article_Data_Cord_File_DF = pd.read_pickle(r\"D:\\UoA\\Tri 2\\Big Data Analysis and Projects\\Week 8\\archive\\cord_19_embeddings\\article_data_cord_19_file_df.pkl\")"
   ]
  },
  {
   "cell_type": "code",
   "execution_count": 62,
   "id": "deb29a0d-d92b-4e84-a6a2-c53dc9b543f3",
   "metadata": {},
   "outputs": [],
   "source": [
    "Article_Data_Cord_File_DF = Article_Data_Cord_File_DF.loc[Article_Data_Cord_File_DF['Doc_Id_Meta_Parse'].isin(list(Article_Data_Cord_File_DF_Abstract['Doc_Id_Meta_Parse'].unique())),:]\n",
    "Article_Data_Cord_File_DF = Article_Data_Cord_File_DF.loc[:,['Doc_Id_Meta_Parse','Title_Meta_Parse']].reset_index(drop=True)"
   ]
  },
  {
   "cell_type": "code",
   "execution_count": 63,
   "id": "df843b79-31cd-4a6a-b553-5655d6f2277d",
   "metadata": {},
   "outputs": [],
   "source": [
    "import gc\n",
    "gc.collect()\n",
    "print('',end='')"
   ]
  },
  {
   "cell_type": "markdown",
   "id": "79d2c2d9-7c00-4aea-8d2e-8e64473668e0",
   "metadata": {},
   "source": [
    "### Concatening Abstract and Body Text"
   ]
  },
  {
   "cell_type": "code",
   "execution_count": 64,
   "id": "cb28d049-b9d8-41af-82dd-1d1a3de50880",
   "metadata": {},
   "outputs": [],
   "source": [
    "Article_Data_Cord_File_DF_Abstract_Body_Text = pd.concat([Article_Data_Cord_File_DF_Abstract,Article_Data_Cord_File_DF_Body_Text],ignore_index=True)"
   ]
  },
  {
   "cell_type": "markdown",
   "id": "c9039244-84c0-439f-8abd-06f24aaf0f3c",
   "metadata": {},
   "source": [
    "### Filtering Cord IDS"
   ]
  },
  {
   "cell_type": "code",
   "execution_count": 65,
   "id": "f5f034cb-ea30-4d39-9d49-5fca4392e762",
   "metadata": {
    "tags": []
   },
   "outputs": [],
   "source": [
    "Article_Data_Cord_File_DF_Result.columns = ['Ques_Id_Meta_Parse','1','Doc_Id_Meta_Parse','Relevance Score','Batch']"
   ]
  },
  {
   "cell_type": "code",
   "execution_count": 66,
   "id": "654dbbd1-9a40-41a1-a431-57630c1fafdd",
   "metadata": {
    "tags": []
   },
   "outputs": [],
   "source": [
    "Article_Data_Cord_File_DF_Abstract_Body_Text = pd.merge(Article_Data_Cord_File_DF_Result[['Doc_Id_Meta_Parse']], Article_Data_Cord_File_DF_Abstract_Body_Text, on=\"Doc_Id_Meta_Parse\", how=\"inner\")"
   ]
  },
  {
   "cell_type": "code",
   "execution_count": 67,
   "id": "ccd51e80-cd48-4749-ac5e-7a8addffa7af",
   "metadata": {},
   "outputs": [],
   "source": [
    "Article_Data_Cord_File_DF_Abstract_Body_Text.reset_index(drop=True,inplace=True)"
   ]
  },
  {
   "cell_type": "code",
   "execution_count": 68,
   "id": "ff2fd986-dbaf-4258-bcba-72b19faa6a50",
   "metadata": {
    "tags": []
   },
   "outputs": [],
   "source": [
    "Cord_19_Doc_Embeddings_DF = pd.merge(Cord_19_Doc_Embeddings_DF,Article_Data_Cord_File_DF_Result[['Doc_Id_Meta_Parse']], on=\"Doc_Id_Meta_Parse\", how=\"inner\")"
   ]
  },
  {
   "cell_type": "code",
   "execution_count": 69,
   "id": "49d22481-e3c6-4a5b-8804-fdee1f8b8483",
   "metadata": {},
   "outputs": [],
   "source": [
    "Cord_19_Doc_Embeddings_DF.reset_index(drop=True,inplace=True)"
   ]
  },
  {
   "cell_type": "markdown",
   "id": "203accf9-aa5a-4c1f-9c1d-f30b438ecc1d",
   "metadata": {},
   "source": [
    "### Extracting Relevant Sentences (Doc2Vec Question Embedding Model)"
   ]
  },
  {
   "cell_type": "code",
   "execution_count": 70,
   "id": "8252cd21-7b46-4c8f-aaf0-b41605aea29e",
   "metadata": {},
   "outputs": [],
   "source": [
    "from scipy.spatial import distance"
   ]
  },
  {
   "cell_type": "code",
   "execution_count": 71,
   "id": "207c2bc5-2083-4a3f-ba8c-1b5f3067bc04",
   "metadata": {},
   "outputs": [],
   "source": [
    "from IPython.display import display, HTML"
   ]
  },
  {
   "cell_type": "code",
   "execution_count": 72,
   "id": "dd4a9029-fb35-4022-8a27-d416cc1720f5",
   "metadata": {},
   "outputs": [],
   "source": [
    "pd.set_option('display.max_colwidth', None)"
   ]
  },
  {
   "cell_type": "code",
   "execution_count": 73,
   "id": "ccc866ed-e49d-4855-ba24-d10089edf66e",
   "metadata": {},
   "outputs": [
    {
     "data": {
      "application/vnd.jupyter.widget-view+json": {
       "model_id": "fea1e41d50b844b0b5996c99eda63557",
       "version_major": 2,
       "version_minor": 0
      },
      "text/plain": [
       "  0%|          | 0/200 [00:00<?, ?it/s]"
      ]
     },
     "metadata": {},
     "output_type": "display_data"
    },
    {
     "name": "stdout",
     "output_type": "stream",
     "text": [
      "\n",
      "\n",
      "\u001b[1mThe Relevance Score of Question Sentence Embedding is:\u001b[0m\n",
      "\n",
      "600\n",
      "\n",
      "\n"
     ]
    }
   ],
   "source": [
    "summation = 0\n",
    "for Concat_Embeddings, Concat_Ques_ID in tqdm(zip(Article_Data_Cord_File_DF_Ques['Question Sentence Embeddings'],Article_Data_Cord_File_DF_Ques['Doc_Id_Meta_Parse']),total=Article_Data_Cord_File_DF_Ques.shape[0]):\n",
    "    Concat_Embeddings = np.pad(Concat_Embeddings, (0, 668), 'constant', constant_values=-1)\n",
    "    Cord_19_Doc_Embeddings_DF_Docu = pd.DataFrame()\n",
    "    Cord_19_Doc_Embeddings_DF_Docu['Doc_Id_Meta_Parse'] = Cord_19_Doc_Embeddings_DF['Doc_Id_Meta_Parse'].copy()\n",
    "    Cord_19_Doc_Embeddings_DF_Docu['Document Embeddings Cosine'] = Cord_19_Doc_Embeddings_DF['Document Embeddings'].apply(distance.cosine, args=(Concat_Embeddings,))\n",
    "    Cord_19_Doc_Embeddings_DF_Docu['Document Embeddings Cosine'] = 1 - Cord_19_Doc_Embeddings_DF_Docu['Document Embeddings Cosine']\n",
    "\n",
    "    Cord_19_Doc_Embeddings_DF_Docu = Cord_19_Doc_Embeddings_DF_Docu.sort_values(by='Document Embeddings Cosine',ascending=False).reset_index(drop=True)\n",
    "    \n",
    "    Cord_19_Doc_Embeddings_DF_Docu = Cord_19_Doc_Embeddings_DF_Docu.iloc[0:50]\n",
    "\n",
    "    Cord_19_Doc_Embeddings_DF_Docu_List_ID = Cord_19_Doc_Embeddings_DF_Docu['Doc_Id_Meta_Parse'].to_list()\n",
    "\n",
    "    Article_Data_Cord_File_DF_Abstract_Body_Text_Fin = Article_Data_Cord_File_DF_Abstract_Body_Text.loc[(Article_Data_Cord_File_DF_Abstract_Body_Text['Doc_Id_Meta_Parse'].isin(Cord_19_Doc_Embeddings_DF_Docu_List_ID)),:].reset_index(drop=True)\n",
    "\n",
    "    Article_Data_Cord_File_DF_Abstract_Body_Text_Fin_Docu = pd.DataFrame()\n",
    "    Article_Data_Cord_File_DF_Abstract_Body_Text_Fin_Docu['Doc_Id_Meta_Parse'] = Article_Data_Cord_File_DF_Abstract_Body_Text_Fin['Doc_Id_Meta_Parse']\n",
    "    Article_Data_Cord_File_DF_Abstract_Body_Text_Fin_Docu['Sentences'] = Article_Data_Cord_File_DF_Abstract_Body_Text_Fin['Sentences']\n",
    "    Article_Data_Cord_File_DF_Abstract_Body_Text_Fin_Docu['Type'] = Article_Data_Cord_File_DF_Abstract_Body_Text_Fin['Type']\n",
    "    Article_Data_Cord_File_DF_Abstract_Body_Text_Fin_Docu['Sentence Embeddings Cosine'] = Article_Data_Cord_File_DF_Abstract_Body_Text_Fin['Sentence Embeddings'].apply(distance.cosine, args=(Concat_Embeddings,))\n",
    "    Article_Data_Cord_File_DF_Abstract_Body_Text_Fin_Docu['Sentence Embeddings Cosine'] = 1 - Article_Data_Cord_File_DF_Abstract_Body_Text_Fin_Docu['Sentence Embeddings Cosine']\n",
    "\n",
    "    Article_Data_Cord_File_DF_Relevant_Sentences = Article_Data_Cord_File_DF_Abstract_Body_Text_Fin_Docu.groupby(['Doc_Id_Meta_Parse'], sort=False, as_index=False)['Sentence Embeddings Cosine'].idxmax()\n",
    "\n",
    "    Article_Data_Cord_File_DF_Abstract_Body_Text_Fin_Docu = Article_Data_Cord_File_DF_Abstract_Body_Text_Fin_Docu.iloc[Article_Data_Cord_File_DF_Relevant_Sentences['Sentence Embeddings Cosine'].to_list()]\n",
    "    Article_Data_Cord_File_DF_Abstract_Body_Text_Fin_Docu.reset_index(drop=True,inplace=True)\n",
    "\n",
    "    Article_Data_Cord_File_List_Abstract_Body_Text_Fin_Docu = Article_Data_Cord_File_DF_Abstract_Body_Text_Fin_Docu['Doc_Id_Meta_Parse'].to_list()\n",
    "\n",
    "    Article_Data_Cord_File_DF_Docu = Article_Data_Cord_File_DF.loc[Article_Data_Cord_File_DF['Doc_Id_Meta_Parse'].isin(Article_Data_Cord_File_List_Abstract_Body_Text_Fin_Docu),:]\n",
    "    Article_Data_Cord_File_DF_Docu.reset_index(drop=True,inplace=True)\n",
    "\n",
    "    Article_Data_Cord_File_DF_Docu_Rel_Sen = pd.merge(Article_Data_Cord_File_DF_Docu,Article_Data_Cord_File_DF_Abstract_Body_Text_Fin_Docu, on=\"Doc_Id_Meta_Parse\", how=\"inner\")\n",
    "    \n",
    "    Article_Data_Cord_File_List_Docu_Rel_Sen = Article_Data_Cord_File_DF_Docu_Rel_Sen['Doc_Id_Meta_Parse'].to_list()\n",
    "    \n",
    "    Article_Data_Cord_File_DF_Result_Docu = Article_Data_Cord_File_DF_Result.loc[(Article_Data_Cord_File_DF_Result['Doc_Id_Meta_Parse'].isin(Article_Data_Cord_File_List_Docu_Rel_Sen)),:]\n",
    "    \n",
    "    sum_sub = Article_Data_Cord_File_DF_Result_Docu['Relevance Score'][0:10].sum()\n",
    "    summation = summation+sum_sub\n",
    "\n",
    "print('\\n')\n",
    "print('\\033[1m' + 'The Relevance Score of Question Sentence Embedding is:' + '\\033[0m' + '\\n')\n",
    "print(summation)\n",
    "print('\\n')"
   ]
  },
  {
   "cell_type": "markdown",
   "id": "9d8d67e9-aabc-422a-97f5-f74531323f3d",
   "metadata": {},
   "source": [
    "### Extracting Relevant Sentences (Doc2Vec Mean Embedding Model)"
   ]
  },
  {
   "cell_type": "code",
   "execution_count": 74,
   "id": "8cf5b88a-900e-42b8-8ec5-7391195b69c1",
   "metadata": {},
   "outputs": [
    {
     "data": {
      "application/vnd.jupyter.widget-view+json": {
       "model_id": "c968ba9753324887be045f9f096c8f1b",
       "version_major": 2,
       "version_minor": 0
      },
      "text/plain": [
       "  0%|          | 0/200 [00:00<?, ?it/s]"
      ]
     },
     "metadata": {},
     "output_type": "display_data"
    },
    {
     "name": "stdout",
     "output_type": "stream",
     "text": [
      "\n",
      "\n",
      "\u001b[1mThe Relevance Score of Mean Sentence Embedding is:\u001b[0m\n",
      "\n",
      "600\n",
      "\n",
      "\n"
     ]
    }
   ],
   "source": [
    "summation = 0\n",
    "for Concat_Embeddings, Concat_Ques_ID in tqdm(zip(Article_Data_Cord_File_DF_Ques['Mean Sentence Embeddings'],Article_Data_Cord_File_DF_Ques['Doc_Id_Meta_Parse']),total=Article_Data_Cord_File_DF_Ques.shape[0]):\n",
    "    Cord_19_Doc_Embeddings_DF_Docu = pd.DataFrame()\n",
    "    Cord_19_Doc_Embeddings_DF_Docu['Doc_Id_Meta_Parse'] = Cord_19_Doc_Embeddings_DF['Doc_Id_Meta_Parse'].copy()\n",
    "    Cord_19_Doc_Embeddings_DF_Docu['Document Embeddings Cosine'] = Cord_19_Doc_Embeddings_DF['Document Embeddings'].apply(distance.cosine, args=(Concat_Embeddings,))\n",
    "    Cord_19_Doc_Embeddings_DF_Docu['Document Embeddings Cosine'] = 1 - Cord_19_Doc_Embeddings_DF_Docu['Document Embeddings Cosine']\n",
    "\n",
    "    Cord_19_Doc_Embeddings_DF_Docu = Cord_19_Doc_Embeddings_DF_Docu.sort_values(by='Document Embeddings Cosine',ascending=False).reset_index(drop=True)\n",
    "    \n",
    "    Cord_19_Doc_Embeddings_DF_Docu = Cord_19_Doc_Embeddings_DF_Docu.iloc[0:50]\n",
    "\n",
    "    Cord_19_Doc_Embeddings_DF_Docu_List_ID = Cord_19_Doc_Embeddings_DF_Docu['Doc_Id_Meta_Parse'].to_list()\n",
    "\n",
    "    Article_Data_Cord_File_DF_Abstract_Body_Text_Fin = Article_Data_Cord_File_DF_Abstract_Body_Text.loc[(Article_Data_Cord_File_DF_Abstract_Body_Text['Doc_Id_Meta_Parse'].isin(Cord_19_Doc_Embeddings_DF_Docu_List_ID)),:].reset_index(drop=True)\n",
    "\n",
    "    Article_Data_Cord_File_DF_Abstract_Body_Text_Fin_Docu = pd.DataFrame()\n",
    "    Article_Data_Cord_File_DF_Abstract_Body_Text_Fin_Docu['Doc_Id_Meta_Parse'] = Article_Data_Cord_File_DF_Abstract_Body_Text_Fin['Doc_Id_Meta_Parse']\n",
    "    Article_Data_Cord_File_DF_Abstract_Body_Text_Fin_Docu['Sentences'] = Article_Data_Cord_File_DF_Abstract_Body_Text_Fin['Sentences']\n",
    "    Article_Data_Cord_File_DF_Abstract_Body_Text_Fin_Docu['Type'] = Article_Data_Cord_File_DF_Abstract_Body_Text_Fin['Type']\n",
    "    Article_Data_Cord_File_DF_Abstract_Body_Text_Fin_Docu['Sentence Embeddings Cosine'] = Article_Data_Cord_File_DF_Abstract_Body_Text_Fin['Sentence Embeddings'].apply(distance.cosine, args=(Concat_Embeddings,))\n",
    "    Article_Data_Cord_File_DF_Abstract_Body_Text_Fin_Docu['Sentence Embeddings Cosine'] = 1 - Article_Data_Cord_File_DF_Abstract_Body_Text_Fin_Docu['Sentence Embeddings Cosine']\n",
    "\n",
    "    Article_Data_Cord_File_DF_Relevant_Sentences = Article_Data_Cord_File_DF_Abstract_Body_Text_Fin_Docu.groupby(['Doc_Id_Meta_Parse'], sort=False, as_index=False)['Sentence Embeddings Cosine'].idxmax()\n",
    "\n",
    "    Article_Data_Cord_File_DF_Abstract_Body_Text_Fin_Docu = Article_Data_Cord_File_DF_Abstract_Body_Text_Fin_Docu.iloc[Article_Data_Cord_File_DF_Relevant_Sentences['Sentence Embeddings Cosine'].to_list()]\n",
    "    Article_Data_Cord_File_DF_Abstract_Body_Text_Fin_Docu.reset_index(drop=True,inplace=True)\n",
    "\n",
    "    Article_Data_Cord_File_List_Abstract_Body_Text_Fin_Docu = Article_Data_Cord_File_DF_Abstract_Body_Text_Fin_Docu['Doc_Id_Meta_Parse'].to_list()\n",
    "\n",
    "    Article_Data_Cord_File_DF_Docu = Article_Data_Cord_File_DF.loc[Article_Data_Cord_File_DF['Doc_Id_Meta_Parse'].isin(Article_Data_Cord_File_List_Abstract_Body_Text_Fin_Docu),:]\n",
    "    Article_Data_Cord_File_DF_Docu.reset_index(drop=True,inplace=True)\n",
    "\n",
    "    Article_Data_Cord_File_DF_Docu_Rel_Sen = pd.merge(Article_Data_Cord_File_DF_Docu,Article_Data_Cord_File_DF_Abstract_Body_Text_Fin_Docu, on=\"Doc_Id_Meta_Parse\", how=\"inner\")\n",
    "    \n",
    "    Article_Data_Cord_File_List_Docu_Rel_Sen = Article_Data_Cord_File_DF_Docu_Rel_Sen['Doc_Id_Meta_Parse'].to_list()\n",
    "    \n",
    "    Article_Data_Cord_File_DF_Result_Docu = Article_Data_Cord_File_DF_Result.loc[(Article_Data_Cord_File_DF_Result['Doc_Id_Meta_Parse'].isin(Article_Data_Cord_File_List_Docu_Rel_Sen)),:]\n",
    "    \n",
    "    sum_sub = Article_Data_Cord_File_DF_Result_Docu['Relevance Score'][0:10].sum()\n",
    "    summation = summation+sum_sub\n",
    "\n",
    "print('\\n')\n",
    "print('\\033[1m' + 'The Relevance Score of Mean Sentence Embedding is:' + '\\033[0m' + '\\n')\n",
    "print(summation)\n",
    "print('\\n')"
   ]
  },
  {
   "cell_type": "markdown",
   "id": "20683350-2717-4105-8aed-18494d7a01a4",
   "metadata": {},
   "source": [
    "### Extracting Relevant Sentences (Doc2Vec Concatenated Embedding Model)"
   ]
  },
  {
   "cell_type": "code",
   "execution_count": 75,
   "id": "233b1857-45b9-40bd-9cfe-c12c7cbf9f0e",
   "metadata": {},
   "outputs": [
    {
     "data": {
      "application/vnd.jupyter.widget-view+json": {
       "model_id": "dfea9507881f4508b2548a33cd61f95a",
       "version_major": 2,
       "version_minor": 0
      },
      "text/plain": [
       "  0%|          | 0/200 [00:00<?, ?it/s]"
      ]
     },
     "metadata": {},
     "output_type": "display_data"
    },
    {
     "name": "stdout",
     "output_type": "stream",
     "text": [
      "\n",
      "\n",
      "\u001b[1mThe Relevance Score of Concatenated Sentence Embedding is:\u001b[0m\n",
      "\n",
      "600\n",
      "\n",
      "\n"
     ]
    }
   ],
   "source": [
    "summation = 0\n",
    "for Concat_Embeddings, Concat_Ques_ID in tqdm(zip(Article_Data_Cord_File_DF_Ques['Concatenated Sentence Embeddings'],Article_Data_Cord_File_DF_Ques['Doc_Id_Meta_Parse']),total=Article_Data_Cord_File_DF_Ques.shape[0]):\n",
    "    Cord_19_Doc_Embeddings_DF_Docu = pd.DataFrame()\n",
    "    Cord_19_Doc_Embeddings_DF_Docu['Doc_Id_Meta_Parse'] = Cord_19_Doc_Embeddings_DF['Doc_Id_Meta_Parse'].copy()\n",
    "    Cord_19_Doc_Embeddings_DF_Docu['Document Embeddings Cosine'] = Cord_19_Doc_Embeddings_DF['Document Embeddings'].apply(distance.cosine, args=(Concat_Embeddings,))\n",
    "    Cord_19_Doc_Embeddings_DF_Docu['Document Embeddings Cosine'] = 1 - Cord_19_Doc_Embeddings_DF_Docu['Document Embeddings Cosine']\n",
    "\n",
    "    Cord_19_Doc_Embeddings_DF_Docu = Cord_19_Doc_Embeddings_DF_Docu.sort_values(by='Document Embeddings Cosine',ascending=False).reset_index(drop=True)\n",
    "    \n",
    "    Cord_19_Doc_Embeddings_DF_Docu = Cord_19_Doc_Embeddings_DF_Docu.iloc[0:50]\n",
    "\n",
    "    Cord_19_Doc_Embeddings_DF_Docu_List_ID = Cord_19_Doc_Embeddings_DF_Docu['Doc_Id_Meta_Parse'].to_list()\n",
    "\n",
    "    Article_Data_Cord_File_DF_Abstract_Body_Text_Fin = Article_Data_Cord_File_DF_Abstract_Body_Text.loc[(Article_Data_Cord_File_DF_Abstract_Body_Text['Doc_Id_Meta_Parse'].isin(Cord_19_Doc_Embeddings_DF_Docu_List_ID)),:].reset_index(drop=True)\n",
    "\n",
    "    Article_Data_Cord_File_DF_Abstract_Body_Text_Fin_Docu = pd.DataFrame()\n",
    "    Article_Data_Cord_File_DF_Abstract_Body_Text_Fin_Docu['Doc_Id_Meta_Parse'] = Article_Data_Cord_File_DF_Abstract_Body_Text_Fin['Doc_Id_Meta_Parse']\n",
    "    Article_Data_Cord_File_DF_Abstract_Body_Text_Fin_Docu['Sentences'] = Article_Data_Cord_File_DF_Abstract_Body_Text_Fin['Sentences']\n",
    "    Article_Data_Cord_File_DF_Abstract_Body_Text_Fin_Docu['Type'] = Article_Data_Cord_File_DF_Abstract_Body_Text_Fin['Type']\n",
    "    Article_Data_Cord_File_DF_Abstract_Body_Text_Fin_Docu['Sentence Embeddings Cosine'] = Article_Data_Cord_File_DF_Abstract_Body_Text_Fin['Sentence Embeddings'].apply(distance.cosine, args=(Concat_Embeddings,))\n",
    "    Article_Data_Cord_File_DF_Abstract_Body_Text_Fin_Docu['Sentence Embeddings Cosine'] = 1 - Article_Data_Cord_File_DF_Abstract_Body_Text_Fin_Docu['Sentence Embeddings Cosine']\n",
    "\n",
    "    Article_Data_Cord_File_DF_Relevant_Sentences = Article_Data_Cord_File_DF_Abstract_Body_Text_Fin_Docu.groupby(['Doc_Id_Meta_Parse'], sort=False, as_index=False)['Sentence Embeddings Cosine'].idxmax()\n",
    "\n",
    "    Article_Data_Cord_File_DF_Abstract_Body_Text_Fin_Docu = Article_Data_Cord_File_DF_Abstract_Body_Text_Fin_Docu.iloc[Article_Data_Cord_File_DF_Relevant_Sentences['Sentence Embeddings Cosine'].to_list()]\n",
    "    Article_Data_Cord_File_DF_Abstract_Body_Text_Fin_Docu.reset_index(drop=True,inplace=True)\n",
    "\n",
    "    Article_Data_Cord_File_List_Abstract_Body_Text_Fin_Docu = Article_Data_Cord_File_DF_Abstract_Body_Text_Fin_Docu['Doc_Id_Meta_Parse'].to_list()\n",
    "\n",
    "    Article_Data_Cord_File_DF_Docu = Article_Data_Cord_File_DF.loc[Article_Data_Cord_File_DF['Doc_Id_Meta_Parse'].isin(Article_Data_Cord_File_List_Abstract_Body_Text_Fin_Docu),:]\n",
    "    Article_Data_Cord_File_DF_Docu.reset_index(drop=True,inplace=True)\n",
    "\n",
    "    Article_Data_Cord_File_DF_Docu_Rel_Sen = pd.merge(Article_Data_Cord_File_DF_Docu,Article_Data_Cord_File_DF_Abstract_Body_Text_Fin_Docu, on=\"Doc_Id_Meta_Parse\", how=\"inner\")\n",
    "    \n",
    "    Article_Data_Cord_File_List_Docu_Rel_Sen = Article_Data_Cord_File_DF_Docu_Rel_Sen['Doc_Id_Meta_Parse'].to_list()\n",
    "    \n",
    "    Article_Data_Cord_File_DF_Result_Docu = Article_Data_Cord_File_DF_Result.loc[(Article_Data_Cord_File_DF_Result['Doc_Id_Meta_Parse'].isin(Article_Data_Cord_File_List_Docu_Rel_Sen)),:]\n",
    "    \n",
    "    sum_sub = Article_Data_Cord_File_DF_Result_Docu['Relevance Score'][0:10].sum()\n",
    "    summation = summation+sum_sub\n",
    "\n",
    "print('\\n')\n",
    "print('\\033[1m' + 'The Relevance Score of Concatenated Sentence Embedding is:' + '\\033[0m' + '\\n')\n",
    "print(summation)\n",
    "print('\\n')"
   ]
  },
  {
   "cell_type": "markdown",
   "id": "30bba89f-1a3b-4794-8911-06414d647728",
   "metadata": {
    "tags": []
   },
   "source": [
    "### Concatenated Doc2Vec Model ChatBot (Making ChatBot of only Best Model) (Extracting Relevant Sentences)"
   ]
  },
  {
   "cell_type": "code",
   "execution_count": 76,
   "id": "be046e95-4e67-4595-98cd-962389698dcf",
   "metadata": {
    "tags": []
   },
   "outputs": [
    {
     "name": "stdin",
     "output_type": "stream",
     "text": [
      "\n",
      "Enter the Question: \n",
      "Enter Command 'List All Questions' to see All Available Questions \n",
      "Enter Command 'Close' to Close ChatBot\n",
      "\n",
      " List All Questions\n"
     ]
    },
    {
     "data": {
      "text/html": [
       "<table border=\"1\" class=\"dataframe\">\n",
       "  <thead>\n",
       "    <tr style=\"text-align: right;\">\n",
       "      <th></th>\n",
       "      <th>Question</th>\n",
       "    </tr>\n",
       "  </thead>\n",
       "  <tbody>\n",
       "    <tr>\n",
       "      <th>0</th>\n",
       "      <td>what is the origin of COVID-19</td>\n",
       "    </tr>\n",
       "    <tr>\n",
       "      <th>1</th>\n",
       "      <td>how does the coronavirus respond to changes in the weather</td>\n",
       "    </tr>\n",
       "    <tr>\n",
       "      <th>2</th>\n",
       "      <td>will SARS-CoV2 infected people develop immunity? Is cross protection possible?</td>\n",
       "    </tr>\n",
       "    <tr>\n",
       "      <th>3</th>\n",
       "      <td>what causes death from Covid-19?</td>\n",
       "    </tr>\n",
       "    <tr>\n",
       "      <th>4</th>\n",
       "      <td>what drugs have been active against SARS-CoV or SARS-CoV-2 in animal studies?</td>\n",
       "    </tr>\n",
       "    <tr>\n",
       "      <th>5</th>\n",
       "      <td>what types of rapid testing for Covid-19 have been developed?</td>\n",
       "    </tr>\n",
       "    <tr>\n",
       "      <th>6</th>\n",
       "      <td>are there serological tests that detect antibodies to coronavirus?</td>\n",
       "    </tr>\n",
       "    <tr>\n",
       "      <th>7</th>\n",
       "      <td>how has lack of testing availability led to underreporting of true incidence of Covid-19?</td>\n",
       "    </tr>\n",
       "    <tr>\n",
       "      <th>8</th>\n",
       "      <td>how has COVID-19 affected Canada</td>\n",
       "    </tr>\n",
       "    <tr>\n",
       "      <th>9</th>\n",
       "      <td>has social distancing had an impact on slowing the spread of COVID-19?</td>\n",
       "    </tr>\n",
       "    <tr>\n",
       "      <th>10</th>\n",
       "      <td>what are the guidelines for triaging patients infected with coronavirus?</td>\n",
       "    </tr>\n",
       "    <tr>\n",
       "      <th>11</th>\n",
       "      <td>what are best practices in hospitals and at home in maintaining quarantine?</td>\n",
       "    </tr>\n",
       "    <tr>\n",
       "      <th>12</th>\n",
       "      <td>what are the transmission routes of coronavirus?</td>\n",
       "    </tr>\n",
       "    <tr>\n",
       "      <th>13</th>\n",
       "      <td>what evidence is there related to COVID-19 super spreaders</td>\n",
       "    </tr>\n",
       "    <tr>\n",
       "      <th>14</th>\n",
       "      <td>how long can the coronavirus live outside the body</td>\n",
       "    </tr>\n",
       "    <tr>\n",
       "      <th>15</th>\n",
       "      <td>how long does coronavirus remain stable  on surfaces?</td>\n",
       "    </tr>\n",
       "    <tr>\n",
       "      <th>16</th>\n",
       "      <td>are there any clinical trials available for the coronavirus</td>\n",
       "    </tr>\n",
       "    <tr>\n",
       "      <th>17</th>\n",
       "      <td>what are the best masks for preventing infection by Covid-19?</td>\n",
       "    </tr>\n",
       "    <tr>\n",
       "      <th>18</th>\n",
       "      <td>what type of hand sanitizer is needed to destroy Covid-19?</td>\n",
       "    </tr>\n",
       "    <tr>\n",
       "      <th>19</th>\n",
       "      <td>are patients taking Angiotensin-converting enzyme inhibitors (ACE) at increased risk for COVID-19?</td>\n",
       "    </tr>\n",
       "    <tr>\n",
       "      <th>20</th>\n",
       "      <td>what are the mortality rates overall and in specific populations</td>\n",
       "    </tr>\n",
       "    <tr>\n",
       "      <th>21</th>\n",
       "      <td>are cardiac complications likely in patients with COVID-19?</td>\n",
       "    </tr>\n",
       "    <tr>\n",
       "      <th>22</th>\n",
       "      <td>what kinds of complications related to COVID-19 are associated with hypertension?</td>\n",
       "    </tr>\n",
       "    <tr>\n",
       "      <th>23</th>\n",
       "      <td>what kinds of complications related to COVID-19 are associated with diabetes</td>\n",
       "    </tr>\n",
       "    <tr>\n",
       "      <th>24</th>\n",
       "      <td>which biomarkers predict the severe clinical course of 2019-nCOV infection?</td>\n",
       "    </tr>\n",
       "    <tr>\n",
       "      <th>25</th>\n",
       "      <td>what are the initial symptoms of Covid-19?</td>\n",
       "    </tr>\n",
       "    <tr>\n",
       "      <th>26</th>\n",
       "      <td>what is known about those infected with Covid-19 but are asymptomatic?</td>\n",
       "    </tr>\n",
       "    <tr>\n",
       "      <th>27</th>\n",
       "      <td>what evidence is there for the value of hydroxychloroquine in treating Covid-19?</td>\n",
       "    </tr>\n",
       "    <tr>\n",
       "      <th>28</th>\n",
       "      <td>which SARS-CoV-2 proteins-human proteins interactions indicate potential for drug targets. Are there approved drugs that can be repurposed based on this information?</td>\n",
       "    </tr>\n",
       "    <tr>\n",
       "      <th>29</th>\n",
       "      <td>is remdesivir an effective treatment for COVID-19</td>\n",
       "    </tr>\n",
       "    <tr>\n",
       "      <th>30</th>\n",
       "      <td>what is the origin of COVID-19</td>\n",
       "    </tr>\n",
       "    <tr>\n",
       "      <th>31</th>\n",
       "      <td>how does the coronavirus respond to changes in the weather</td>\n",
       "    </tr>\n",
       "    <tr>\n",
       "      <th>32</th>\n",
       "      <td>will SARS-CoV2 infected people develop immunity? Is cross protection possible?</td>\n",
       "    </tr>\n",
       "    <tr>\n",
       "      <th>33</th>\n",
       "      <td>what causes death from Covid-19?</td>\n",
       "    </tr>\n",
       "    <tr>\n",
       "      <th>34</th>\n",
       "      <td>what drugs have been active against SARS-CoV or SARS-CoV-2 in animal studies?</td>\n",
       "    </tr>\n",
       "    <tr>\n",
       "      <th>35</th>\n",
       "      <td>what types of rapid testing for Covid-19 have been developed?</td>\n",
       "    </tr>\n",
       "    <tr>\n",
       "      <th>36</th>\n",
       "      <td>are there serological tests that detect antibodies to coronavirus?</td>\n",
       "    </tr>\n",
       "    <tr>\n",
       "      <th>37</th>\n",
       "      <td>how has lack of testing availability led to underreporting of true incidence of Covid-19?</td>\n",
       "    </tr>\n",
       "    <tr>\n",
       "      <th>38</th>\n",
       "      <td>how has COVID-19 affected Canada</td>\n",
       "    </tr>\n",
       "    <tr>\n",
       "      <th>39</th>\n",
       "      <td>has social distancing had an impact on slowing the spread of COVID-19?</td>\n",
       "    </tr>\n",
       "    <tr>\n",
       "      <th>40</th>\n",
       "      <td>what are the guidelines for triaging patients infected with coronavirus?</td>\n",
       "    </tr>\n",
       "    <tr>\n",
       "      <th>41</th>\n",
       "      <td>what are best practices in hospitals and at home in maintaining quarantine?</td>\n",
       "    </tr>\n",
       "    <tr>\n",
       "      <th>42</th>\n",
       "      <td>what are the transmission routes of coronavirus?</td>\n",
       "    </tr>\n",
       "    <tr>\n",
       "      <th>43</th>\n",
       "      <td>what evidence is there related to COVID-19 super spreaders</td>\n",
       "    </tr>\n",
       "    <tr>\n",
       "      <th>44</th>\n",
       "      <td>how long can the coronavirus live outside the body</td>\n",
       "    </tr>\n",
       "    <tr>\n",
       "      <th>45</th>\n",
       "      <td>how long does coronavirus remain stable  on surfaces?</td>\n",
       "    </tr>\n",
       "    <tr>\n",
       "      <th>46</th>\n",
       "      <td>are there any clinical trials available for the coronavirus</td>\n",
       "    </tr>\n",
       "    <tr>\n",
       "      <th>47</th>\n",
       "      <td>what are the best masks for preventing infection by Covid-19?</td>\n",
       "    </tr>\n",
       "    <tr>\n",
       "      <th>48</th>\n",
       "      <td>what type of hand sanitizer is needed to destroy Covid-19?</td>\n",
       "    </tr>\n",
       "    <tr>\n",
       "      <th>49</th>\n",
       "      <td>are patients taking Angiotensin-converting enzyme inhibitors (ACE) at increased risk for COVID-19?</td>\n",
       "    </tr>\n",
       "    <tr>\n",
       "      <th>50</th>\n",
       "      <td>what are the mortality rates overall and in specific populations</td>\n",
       "    </tr>\n",
       "    <tr>\n",
       "      <th>51</th>\n",
       "      <td>are cardiac complications likely in patients with COVID-19?</td>\n",
       "    </tr>\n",
       "    <tr>\n",
       "      <th>52</th>\n",
       "      <td>what kinds of complications related to COVID-19 are associated with hypertension?</td>\n",
       "    </tr>\n",
       "    <tr>\n",
       "      <th>53</th>\n",
       "      <td>what kinds of complications related to COVID-19 are associated with diabetes</td>\n",
       "    </tr>\n",
       "    <tr>\n",
       "      <th>54</th>\n",
       "      <td>which biomarkers predict the severe clinical course of 2019-nCOV infection?</td>\n",
       "    </tr>\n",
       "    <tr>\n",
       "      <th>55</th>\n",
       "      <td>what are the initial symptoms of Covid-19?</td>\n",
       "    </tr>\n",
       "    <tr>\n",
       "      <th>56</th>\n",
       "      <td>what is known about those infected with Covid-19 but are asymptomatic?</td>\n",
       "    </tr>\n",
       "    <tr>\n",
       "      <th>57</th>\n",
       "      <td>what evidence is there for the value of hydroxychloroquine in treating Covid-19?</td>\n",
       "    </tr>\n",
       "    <tr>\n",
       "      <th>58</th>\n",
       "      <td>which SARS-CoV-2 proteins-human proteins interactions indicate potential for drug targets. Are there approved drugs that can be repurposed based on this information?</td>\n",
       "    </tr>\n",
       "    <tr>\n",
       "      <th>59</th>\n",
       "      <td>is remdesivir an effective treatment for COVID-19</td>\n",
       "    </tr>\n",
       "    <tr>\n",
       "      <th>60</th>\n",
       "      <td>How does the coronavirus differ from seasonal flu?</td>\n",
       "    </tr>\n",
       "    <tr>\n",
       "      <th>61</th>\n",
       "      <td>Does SARS-CoV-2 have any subtypes, and if so what are they?</td>\n",
       "    </tr>\n",
       "    <tr>\n",
       "      <th>62</th>\n",
       "      <td>What vaccine candidates are being tested for Covid-19?</td>\n",
       "    </tr>\n",
       "    <tr>\n",
       "      <th>63</th>\n",
       "      <td>What are the longer-term complications of those who recover from COVID-19?</td>\n",
       "    </tr>\n",
       "    <tr>\n",
       "      <th>64</th>\n",
       "      <td>What new public datasets are available related to COVID-19?</td>\n",
       "    </tr>\n",
       "    <tr>\n",
       "      <th>65</th>\n",
       "      <td>what is the origin of COVID-19</td>\n",
       "    </tr>\n",
       "    <tr>\n",
       "      <th>66</th>\n",
       "      <td>how does the coronavirus respond to changes in the weather</td>\n",
       "    </tr>\n",
       "    <tr>\n",
       "      <th>67</th>\n",
       "      <td>will SARS-CoV2 infected people develop immunity? Is cross protection possible?</td>\n",
       "    </tr>\n",
       "    <tr>\n",
       "      <th>68</th>\n",
       "      <td>what causes death from Covid-19?</td>\n",
       "    </tr>\n",
       "    <tr>\n",
       "      <th>69</th>\n",
       "      <td>what drugs have been active against SARS-CoV or SARS-CoV-2 in animal studies?</td>\n",
       "    </tr>\n",
       "    <tr>\n",
       "      <th>70</th>\n",
       "      <td>what types of rapid testing for Covid-19 have been developed?</td>\n",
       "    </tr>\n",
       "    <tr>\n",
       "      <th>71</th>\n",
       "      <td>are there serological tests that detect antibodies to coronavirus?</td>\n",
       "    </tr>\n",
       "    <tr>\n",
       "      <th>72</th>\n",
       "      <td>how has lack of testing availability led to underreporting of true incidence of Covid-19?</td>\n",
       "    </tr>\n",
       "    <tr>\n",
       "      <th>73</th>\n",
       "      <td>how has COVID-19 affected Canada</td>\n",
       "    </tr>\n",
       "    <tr>\n",
       "      <th>74</th>\n",
       "      <td>has social distancing had an impact on slowing the spread of COVID-19?</td>\n",
       "    </tr>\n",
       "    <tr>\n",
       "      <th>75</th>\n",
       "      <td>what are the guidelines for triaging patients infected with coronavirus?</td>\n",
       "    </tr>\n",
       "    <tr>\n",
       "      <th>76</th>\n",
       "      <td>what are best practices in hospitals and at home in maintaining quarantine?</td>\n",
       "    </tr>\n",
       "    <tr>\n",
       "      <th>77</th>\n",
       "      <td>what are the transmission routes of coronavirus?</td>\n",
       "    </tr>\n",
       "    <tr>\n",
       "      <th>78</th>\n",
       "      <td>what evidence is there related to COVID-19 super spreaders</td>\n",
       "    </tr>\n",
       "    <tr>\n",
       "      <th>79</th>\n",
       "      <td>how long can the coronavirus live outside the body</td>\n",
       "    </tr>\n",
       "    <tr>\n",
       "      <th>80</th>\n",
       "      <td>how long does coronavirus remain stable  on surfaces?</td>\n",
       "    </tr>\n",
       "    <tr>\n",
       "      <th>81</th>\n",
       "      <td>are there any clinical trials available for the coronavirus</td>\n",
       "    </tr>\n",
       "    <tr>\n",
       "      <th>82</th>\n",
       "      <td>what are the best masks for preventing infection by Covid-19?</td>\n",
       "    </tr>\n",
       "    <tr>\n",
       "      <th>83</th>\n",
       "      <td>what type of hand sanitizer is needed to destroy Covid-19?</td>\n",
       "    </tr>\n",
       "    <tr>\n",
       "      <th>84</th>\n",
       "      <td>are patients taking Angiotensin-converting enzyme inhibitors (ACE) at increased risk for COVID-19?</td>\n",
       "    </tr>\n",
       "    <tr>\n",
       "      <th>85</th>\n",
       "      <td>what are the mortality rates overall and in specific populations</td>\n",
       "    </tr>\n",
       "    <tr>\n",
       "      <th>86</th>\n",
       "      <td>are cardiac complications likely in patients with COVID-19?</td>\n",
       "    </tr>\n",
       "    <tr>\n",
       "      <th>87</th>\n",
       "      <td>what kinds of complications related to COVID-19 are associated with hypertension?</td>\n",
       "    </tr>\n",
       "    <tr>\n",
       "      <th>88</th>\n",
       "      <td>what kinds of complications related to COVID-19 are associated with diabetes</td>\n",
       "    </tr>\n",
       "    <tr>\n",
       "      <th>89</th>\n",
       "      <td>which biomarkers predict the severe clinical course of 2019-nCOV infection?</td>\n",
       "    </tr>\n",
       "    <tr>\n",
       "      <th>90</th>\n",
       "      <td>what are the initial symptoms of Covid-19?</td>\n",
       "    </tr>\n",
       "    <tr>\n",
       "      <th>91</th>\n",
       "      <td>what is known about those infected with Covid-19 but are asymptomatic?</td>\n",
       "    </tr>\n",
       "    <tr>\n",
       "      <th>92</th>\n",
       "      <td>what evidence is there for the value of hydroxychloroquine in treating Covid-19?</td>\n",
       "    </tr>\n",
       "    <tr>\n",
       "      <th>93</th>\n",
       "      <td>which SARS-CoV-2 proteins-human proteins interactions indicate potential for drug targets. Are there approved drugs that can be repurposed based on this information?</td>\n",
       "    </tr>\n",
       "    <tr>\n",
       "      <th>94</th>\n",
       "      <td>is remdesivir an effective treatment for COVID-19</td>\n",
       "    </tr>\n",
       "    <tr>\n",
       "      <th>95</th>\n",
       "      <td>How does the coronavirus differ from seasonal flu?</td>\n",
       "    </tr>\n",
       "    <tr>\n",
       "      <th>96</th>\n",
       "      <td>Does SARS-CoV-2 have any subtypes, and if so what are they?</td>\n",
       "    </tr>\n",
       "    <tr>\n",
       "      <th>97</th>\n",
       "      <td>What vaccine candidates are being tested for Covid-19?</td>\n",
       "    </tr>\n",
       "    <tr>\n",
       "      <th>98</th>\n",
       "      <td>What are the longer-term complications of those who recover from COVID-19?</td>\n",
       "    </tr>\n",
       "    <tr>\n",
       "      <th>99</th>\n",
       "      <td>What new public datasets are available related to COVID-19?</td>\n",
       "    </tr>\n",
       "    <tr>\n",
       "      <th>100</th>\n",
       "      <td>What is the protein structure of the SARS-CoV-2 spike?</td>\n",
       "    </tr>\n",
       "    <tr>\n",
       "      <th>101</th>\n",
       "      <td>What is the result of phylogenetic analysis of SARS-CoV-2 genome sequence?</td>\n",
       "    </tr>\n",
       "    <tr>\n",
       "      <th>102</th>\n",
       "      <td>What is the mechanism of inflammatory response and pathogenesis of COVID-19 cases?</td>\n",
       "    </tr>\n",
       "    <tr>\n",
       "      <th>103</th>\n",
       "      <td>What is the mechanism of cytokine storm syndrome on the COVID-19?</td>\n",
       "    </tr>\n",
       "    <tr>\n",
       "      <th>104</th>\n",
       "      <td>What are the observed mutations in the SARS-CoV-2 genome and how often do the mutations occur?</td>\n",
       "    </tr>\n",
       "    <tr>\n",
       "      <th>105</th>\n",
       "      <td>what is the origin of COVID-19</td>\n",
       "    </tr>\n",
       "    <tr>\n",
       "      <th>106</th>\n",
       "      <td>how does the coronavirus respond to changes in the weather</td>\n",
       "    </tr>\n",
       "    <tr>\n",
       "      <th>107</th>\n",
       "      <td>will SARS-CoV2 infected people develop immunity? Is cross protection possible?</td>\n",
       "    </tr>\n",
       "    <tr>\n",
       "      <th>108</th>\n",
       "      <td>what causes death from Covid-19?</td>\n",
       "    </tr>\n",
       "    <tr>\n",
       "      <th>109</th>\n",
       "      <td>what drugs have been active against SARS-CoV or SARS-CoV-2 in animal studies?</td>\n",
       "    </tr>\n",
       "    <tr>\n",
       "      <th>110</th>\n",
       "      <td>what types of rapid testing for Covid-19 have been developed?</td>\n",
       "    </tr>\n",
       "    <tr>\n",
       "      <th>111</th>\n",
       "      <td>are there serological tests that detect antibodies to coronavirus?</td>\n",
       "    </tr>\n",
       "    <tr>\n",
       "      <th>112</th>\n",
       "      <td>how has lack of testing availability led to underreporting of true incidence of Covid-19?</td>\n",
       "    </tr>\n",
       "    <tr>\n",
       "      <th>113</th>\n",
       "      <td>how has COVID-19 affected Canada</td>\n",
       "    </tr>\n",
       "    <tr>\n",
       "      <th>114</th>\n",
       "      <td>has social distancing had an impact on slowing the spread of COVID-19?</td>\n",
       "    </tr>\n",
       "    <tr>\n",
       "      <th>115</th>\n",
       "      <td>what are the guidelines for triaging patients infected with coronavirus?</td>\n",
       "    </tr>\n",
       "    <tr>\n",
       "      <th>116</th>\n",
       "      <td>what are best practices in hospitals and at home in maintaining quarantine?</td>\n",
       "    </tr>\n",
       "    <tr>\n",
       "      <th>117</th>\n",
       "      <td>what are the transmission routes of coronavirus?</td>\n",
       "    </tr>\n",
       "    <tr>\n",
       "      <th>118</th>\n",
       "      <td>what evidence is there related to COVID-19 super spreaders</td>\n",
       "    </tr>\n",
       "    <tr>\n",
       "      <th>119</th>\n",
       "      <td>how long can the coronavirus live outside the body</td>\n",
       "    </tr>\n",
       "    <tr>\n",
       "      <th>120</th>\n",
       "      <td>how long does coronavirus remain stable  on surfaces?</td>\n",
       "    </tr>\n",
       "    <tr>\n",
       "      <th>121</th>\n",
       "      <td>are there any clinical trials available for the coronavirus</td>\n",
       "    </tr>\n",
       "    <tr>\n",
       "      <th>122</th>\n",
       "      <td>what are the best masks for preventing infection by Covid-19?</td>\n",
       "    </tr>\n",
       "    <tr>\n",
       "      <th>123</th>\n",
       "      <td>what type of hand sanitizer is needed to destroy Covid-19?</td>\n",
       "    </tr>\n",
       "    <tr>\n",
       "      <th>124</th>\n",
       "      <td>are patients taking Angiotensin-converting enzyme inhibitors (ACE) at increased risk for COVID-19?</td>\n",
       "    </tr>\n",
       "    <tr>\n",
       "      <th>125</th>\n",
       "      <td>what are the mortality rates overall and in specific populations</td>\n",
       "    </tr>\n",
       "    <tr>\n",
       "      <th>126</th>\n",
       "      <td>are cardiac complications likely in patients with COVID-19?</td>\n",
       "    </tr>\n",
       "    <tr>\n",
       "      <th>127</th>\n",
       "      <td>what kinds of complications related to COVID-19 are associated with hypertension?</td>\n",
       "    </tr>\n",
       "    <tr>\n",
       "      <th>128</th>\n",
       "      <td>what kinds of complications related to COVID-19 are associated with diabetes</td>\n",
       "    </tr>\n",
       "    <tr>\n",
       "      <th>129</th>\n",
       "      <td>which biomarkers predict the severe clinical course of 2019-nCOV infection?</td>\n",
       "    </tr>\n",
       "    <tr>\n",
       "      <th>130</th>\n",
       "      <td>what are the initial symptoms of Covid-19?</td>\n",
       "    </tr>\n",
       "    <tr>\n",
       "      <th>131</th>\n",
       "      <td>what is known about those infected with Covid-19 but are asymptomatic?</td>\n",
       "    </tr>\n",
       "    <tr>\n",
       "      <th>132</th>\n",
       "      <td>what evidence is there for the value of hydroxychloroquine in treating Covid-19?</td>\n",
       "    </tr>\n",
       "    <tr>\n",
       "      <th>133</th>\n",
       "      <td>which SARS-CoV-2 proteins-human proteins interactions indicate potential for drug targets. Are there approved drugs that can be repurposed based on this information?</td>\n",
       "    </tr>\n",
       "    <tr>\n",
       "      <th>134</th>\n",
       "      <td>is remdesivir an effective treatment for COVID-19</td>\n",
       "    </tr>\n",
       "    <tr>\n",
       "      <th>135</th>\n",
       "      <td>How does the coronavirus differ from seasonal flu?</td>\n",
       "    </tr>\n",
       "    <tr>\n",
       "      <th>136</th>\n",
       "      <td>Does SARS-CoV-2 have any subtypes, and if so what are they?</td>\n",
       "    </tr>\n",
       "    <tr>\n",
       "      <th>137</th>\n",
       "      <td>What vaccine candidates are being tested for Covid-19?</td>\n",
       "    </tr>\n",
       "    <tr>\n",
       "      <th>138</th>\n",
       "      <td>What are the longer-term complications of those who recover from COVID-19?</td>\n",
       "    </tr>\n",
       "    <tr>\n",
       "      <th>139</th>\n",
       "      <td>What new public datasets are available related to COVID-19?</td>\n",
       "    </tr>\n",
       "    <tr>\n",
       "      <th>140</th>\n",
       "      <td>What is the protein structure of the SARS-CoV-2 spike?</td>\n",
       "    </tr>\n",
       "    <tr>\n",
       "      <th>141</th>\n",
       "      <td>What is the result of phylogenetic analysis of SARS-CoV-2 genome sequence?</td>\n",
       "    </tr>\n",
       "    <tr>\n",
       "      <th>142</th>\n",
       "      <td>What is the mechanism of inflammatory response and pathogenesis of COVID-19 cases?</td>\n",
       "    </tr>\n",
       "    <tr>\n",
       "      <th>143</th>\n",
       "      <td>What is the mechanism of cytokine storm syndrome on the COVID-19?</td>\n",
       "    </tr>\n",
       "    <tr>\n",
       "      <th>144</th>\n",
       "      <td>What are the observed mutations in the SARS-CoV-2 genome and how often do the mutations occur?</td>\n",
       "    </tr>\n",
       "    <tr>\n",
       "      <th>145</th>\n",
       "      <td>What are the impacts of COVID-19 among African-Americans that differ from the rest of the U.S. population?</td>\n",
       "    </tr>\n",
       "    <tr>\n",
       "      <th>146</th>\n",
       "      <td>Does Vitamin D impact COVID-19 prevention and treatment?</td>\n",
       "    </tr>\n",
       "    <tr>\n",
       "      <th>147</th>\n",
       "      <td>How has the COVID-19 pandemic impacted violence in society, including violent crimes?</td>\n",
       "    </tr>\n",
       "    <tr>\n",
       "      <th>148</th>\n",
       "      <td>How much impact do masks have on preventing the spread of the COVID-19?</td>\n",
       "    </tr>\n",
       "    <tr>\n",
       "      <th>149</th>\n",
       "      <td>How has the COVID-19 pandemic impacted mental health?</td>\n",
       "    </tr>\n",
       "    <tr>\n",
       "      <th>150</th>\n",
       "      <td>what is the origin of COVID-19</td>\n",
       "    </tr>\n",
       "    <tr>\n",
       "      <th>151</th>\n",
       "      <td>how does the coronavirus respond to changes in the weather</td>\n",
       "    </tr>\n",
       "    <tr>\n",
       "      <th>152</th>\n",
       "      <td>will SARS-CoV2 infected people develop immunity? Is cross protection possible?</td>\n",
       "    </tr>\n",
       "    <tr>\n",
       "      <th>153</th>\n",
       "      <td>what causes death from Covid-19?</td>\n",
       "    </tr>\n",
       "    <tr>\n",
       "      <th>154</th>\n",
       "      <td>what drugs have been active against SARS-CoV or SARS-CoV-2 in animal studies?</td>\n",
       "    </tr>\n",
       "    <tr>\n",
       "      <th>155</th>\n",
       "      <td>what types of rapid testing for Covid-19 have been developed?</td>\n",
       "    </tr>\n",
       "    <tr>\n",
       "      <th>156</th>\n",
       "      <td>are there serological tests that detect antibodies to coronavirus?</td>\n",
       "    </tr>\n",
       "    <tr>\n",
       "      <th>157</th>\n",
       "      <td>how has lack of testing availability led to underreporting of true incidence of Covid-19?</td>\n",
       "    </tr>\n",
       "    <tr>\n",
       "      <th>158</th>\n",
       "      <td>how has COVID-19 affected Canada</td>\n",
       "    </tr>\n",
       "    <tr>\n",
       "      <th>159</th>\n",
       "      <td>has social distancing had an impact on slowing the spread of COVID-19?</td>\n",
       "    </tr>\n",
       "    <tr>\n",
       "      <th>160</th>\n",
       "      <td>what are the guidelines for triaging patients infected with coronavirus?</td>\n",
       "    </tr>\n",
       "    <tr>\n",
       "      <th>161</th>\n",
       "      <td>what are best practices in hospitals and at home in maintaining quarantine?</td>\n",
       "    </tr>\n",
       "    <tr>\n",
       "      <th>162</th>\n",
       "      <td>what are the transmission routes of coronavirus?</td>\n",
       "    </tr>\n",
       "    <tr>\n",
       "      <th>163</th>\n",
       "      <td>what evidence is there related to COVID-19 super spreaders</td>\n",
       "    </tr>\n",
       "    <tr>\n",
       "      <th>164</th>\n",
       "      <td>how long can the coronavirus live outside the body</td>\n",
       "    </tr>\n",
       "    <tr>\n",
       "      <th>165</th>\n",
       "      <td>how long does coronavirus remain stable  on surfaces?</td>\n",
       "    </tr>\n",
       "    <tr>\n",
       "      <th>166</th>\n",
       "      <td>are there any clinical trials available for the coronavirus</td>\n",
       "    </tr>\n",
       "    <tr>\n",
       "      <th>167</th>\n",
       "      <td>what are the best masks for preventing infection by Covid-19?</td>\n",
       "    </tr>\n",
       "    <tr>\n",
       "      <th>168</th>\n",
       "      <td>what type of hand sanitizer is needed to destroy Covid-19?</td>\n",
       "    </tr>\n",
       "    <tr>\n",
       "      <th>169</th>\n",
       "      <td>are patients taking Angiotensin-converting enzyme inhibitors (ACE) at increased risk for COVID-19?</td>\n",
       "    </tr>\n",
       "    <tr>\n",
       "      <th>170</th>\n",
       "      <td>what are the mortality rates overall and in specific populations</td>\n",
       "    </tr>\n",
       "    <tr>\n",
       "      <th>171</th>\n",
       "      <td>are cardiac complications likely in patients with COVID-19?</td>\n",
       "    </tr>\n",
       "    <tr>\n",
       "      <th>172</th>\n",
       "      <td>what kinds of complications related to COVID-19 are associated with hypertension?</td>\n",
       "    </tr>\n",
       "    <tr>\n",
       "      <th>173</th>\n",
       "      <td>what kinds of complications related to COVID-19 are associated with diabetes</td>\n",
       "    </tr>\n",
       "    <tr>\n",
       "      <th>174</th>\n",
       "      <td>which biomarkers predict the severe clinical course of 2019-nCOV infection?</td>\n",
       "    </tr>\n",
       "    <tr>\n",
       "      <th>175</th>\n",
       "      <td>what are the initial symptoms of Covid-19?</td>\n",
       "    </tr>\n",
       "    <tr>\n",
       "      <th>176</th>\n",
       "      <td>what is known about those infected with Covid-19 but are asymptomatic?</td>\n",
       "    </tr>\n",
       "    <tr>\n",
       "      <th>177</th>\n",
       "      <td>what evidence is there for the value of hydroxychloroquine in treating Covid-19?</td>\n",
       "    </tr>\n",
       "    <tr>\n",
       "      <th>178</th>\n",
       "      <td>which SARS-CoV-2 proteins-human proteins interactions indicate potential for drug targets. Are there approved drugs that can be repurposed based on this information?</td>\n",
       "    </tr>\n",
       "    <tr>\n",
       "      <th>179</th>\n",
       "      <td>is remdesivir an effective treatment for COVID-19</td>\n",
       "    </tr>\n",
       "    <tr>\n",
       "      <th>180</th>\n",
       "      <td>How does the coronavirus differ from seasonal flu?</td>\n",
       "    </tr>\n",
       "    <tr>\n",
       "      <th>181</th>\n",
       "      <td>Does SARS-CoV-2 have any subtypes, and if so what are they?</td>\n",
       "    </tr>\n",
       "    <tr>\n",
       "      <th>182</th>\n",
       "      <td>What vaccine candidates are being tested for Covid-19?</td>\n",
       "    </tr>\n",
       "    <tr>\n",
       "      <th>183</th>\n",
       "      <td>What are the longer-term complications of those who recover from COVID-19?</td>\n",
       "    </tr>\n",
       "    <tr>\n",
       "      <th>184</th>\n",
       "      <td>What new public datasets are available related to COVID-19?</td>\n",
       "    </tr>\n",
       "    <tr>\n",
       "      <th>185</th>\n",
       "      <td>What is the protein structure of the SARS-CoV-2 spike?</td>\n",
       "    </tr>\n",
       "    <tr>\n",
       "      <th>186</th>\n",
       "      <td>What is the result of phylogenetic analysis of SARS-CoV-2 genome sequence?</td>\n",
       "    </tr>\n",
       "    <tr>\n",
       "      <th>187</th>\n",
       "      <td>What is the mechanism of inflammatory response and pathogenesis of COVID-19 cases?</td>\n",
       "    </tr>\n",
       "    <tr>\n",
       "      <th>188</th>\n",
       "      <td>What is the mechanism of cytokine storm syndrome on the COVID-19?</td>\n",
       "    </tr>\n",
       "    <tr>\n",
       "      <th>189</th>\n",
       "      <td>What are the observed mutations in the SARS-CoV-2 genome and how often do the mutations occur?</td>\n",
       "    </tr>\n",
       "    <tr>\n",
       "      <th>190</th>\n",
       "      <td>What are the impacts of COVID-19 among African-Americans that differ from the rest of the U.S. population?</td>\n",
       "    </tr>\n",
       "    <tr>\n",
       "      <th>191</th>\n",
       "      <td>Does Vitamin D impact COVID-19 prevention and treatment?</td>\n",
       "    </tr>\n",
       "    <tr>\n",
       "      <th>192</th>\n",
       "      <td>How has the COVID-19 pandemic impacted violence in society, including violent crimes?</td>\n",
       "    </tr>\n",
       "    <tr>\n",
       "      <th>193</th>\n",
       "      <td>How much impact do masks have on preventing the spread of the COVID-19?</td>\n",
       "    </tr>\n",
       "    <tr>\n",
       "      <th>194</th>\n",
       "      <td>How has the COVID-19 pandemic impacted mental health?</td>\n",
       "    </tr>\n",
       "    <tr>\n",
       "      <th>195</th>\n",
       "      <td>what evidence is there for dexamethasone as a treatment for COVID-19?</td>\n",
       "    </tr>\n",
       "    <tr>\n",
       "      <th>196</th>\n",
       "      <td>what are the health outcomes for children who contract COVID-19?</td>\n",
       "    </tr>\n",
       "    <tr>\n",
       "      <th>197</th>\n",
       "      <td>what are the benefits and risks of re-opening schools in the midst of the COVID-19 pandemic?</td>\n",
       "    </tr>\n",
       "    <tr>\n",
       "      <th>198</th>\n",
       "      <td>do individuals who recover from COVID-19 show sufficient immune response, including antibody levels and T-cell mediated immunity, to prevent re-infection?</td>\n",
       "    </tr>\n",
       "    <tr>\n",
       "      <th>199</th>\n",
       "      <td>what is known about an mRNA vaccine for the SARS-CoV-2 virus?</td>\n",
       "    </tr>\n",
       "  </tbody>\n",
       "</table>"
      ],
      "text/plain": [
       "<IPython.core.display.HTML object>"
      ]
     },
     "metadata": {},
     "output_type": "display_data"
    },
    {
     "name": "stdin",
     "output_type": "stream",
     "text": [
      "\n",
      "Enter the Question: \n",
      "Enter Command 'List All Questions' to see All Available Questions \n",
      "Enter Command 'Close' to Close ChatBot\n",
      "\n",
      " what kinds of complications related to COVID-19 are associated with hypertension?\n"
     ]
    },
    {
     "data": {
      "application/vnd.jupyter.widget-view+json": {
       "model_id": "42eef5d3ee9743df9ca94566a50221d1",
       "version_major": 2,
       "version_minor": 0
      },
      "text/plain": [
       "  0%|          | 0/22520 [00:00<?, ?it/s]"
      ]
     },
     "metadata": {},
     "output_type": "display_data"
    },
    {
     "name": "stdout",
     "output_type": "stream",
     "text": [
      "\u001b[1mThe Loaded Meta Dataset is:\u001b[0m\n",
      "\n"
     ]
    },
    {
     "data": {
      "text/html": [
       "<table border=\"1\" class=\"dataframe\">\n",
       "  <thead>\n",
       "    <tr style=\"text-align: right;\">\n",
       "      <th></th>\n",
       "      <th>Title_Meta_Parse</th>\n",
       "      <th>Sentences</th>\n",
       "    </tr>\n",
       "  </thead>\n",
       "  <tbody>\n",
       "    <tr>\n",
       "      <th>0</th>\n",
       "      <td>Nasal Airway Obstruction Study (NAIROS): a phase III, open-label, mixed-methods, multicentre randomised controlled trial of septoplasty versus medical management of a septal deviation with nasal obstruction</td>\n",
       "      <td>The recruitment target is 378 patients, recruited from up to 17 sites across Scotland, England and Wales.</td>\n",
       "    </tr>\n",
       "    <tr>\n",
       "      <th>1</th>\n",
       "      <td>Big Data and Biodefense: Prospects and Pitfalls</td>\n",
       "      <td>These developments provide opportunities to think about biodefense preparedness in new and unique ways.</td>\n",
       "    </tr>\n",
       "    <tr>\n",
       "      <th>2</th>\n",
       "      <td>Simulation Based Exploration of Bacterial Cross Talk Between Spatially Separated Colonies in a Multispecies Biofilm Community</td>\n",
       "      <td>increases substrate uptake if the signal surpasses induction threshold, but it does not produce the signal.</td>\n",
       "    </tr>\n",
       "    <tr>\n",
       "      <th>3</th>\n",
       "      <td>EdNet: A Large-Scale Hierarchical Dataset in Education</td>\n",
       "      <td>The features of EdNet are domain-agnostic, allowing EdNet to be easily extended to different domains.</td>\n",
       "    </tr>\n",
       "    <tr>\n",
       "      <th>4</th>\n",
       "      <td>Putting Attacks in Context: A Building Automation Testbed for Impact Assessment from the Victim’s Perspective</td>\n",
       "      <td>We assume that all building services and business processes are needed/active at the time of the assessment.</td>\n",
       "    </tr>\n",
       "    <tr>\n",
       "      <th>5</th>\n",
       "      <td>Prone Position in Management of COVID-19 Patients; a Commentary</td>\n",
       "      <td>Parisa Ghelichkhani: 0000-0003-3763-7999 Maryam Esmaeili: 0000-0002-4798-2270\\nNo fund has been received.</td>\n",
       "    </tr>\n",
       "    <tr>\n",
       "      <th>6</th>\n",
       "      <td>A pandemic-resilient open-inquiry physical science lab course which leverages the Maker movement</td>\n",
       "      <td>The second round of open-inquiry projects were completed start-to-finish under pandemic restrictions.</td>\n",
       "    </tr>\n",
       "    <tr>\n",
       "      <th>7</th>\n",
       "      <td>Principles to Practices for Responsible AI: Closing the Gap</td>\n",
       "      <td>The same functional separation may apply even when non-technical teams are internal to an organization.</td>\n",
       "    </tr>\n",
       "    <tr>\n",
       "      <th>8</th>\n",
       "      <td>Abnormal pulmonary function in COVID-19 patients at time of hospital discharge</td>\n",
       "      <td>However, until now, there is no report in regard to pulmonary function in discharged COVID-19 survivors.</td>\n",
       "    </tr>\n",
       "    <tr>\n",
       "      <th>9</th>\n",
       "      <td>Coronavirus concerns: What do women with gynecologic cancer need to know during the COVID-19 crisis?</td>\n",
       "      <td>Participants were invited to share questions through an online portal prior to and during the webinar.</td>\n",
       "    </tr>\n",
       "  </tbody>\n",
       "</table>"
      ],
      "text/plain": [
       "<IPython.core.display.HTML object>"
      ]
     },
     "metadata": {},
     "output_type": "display_data"
    },
    {
     "name": "stdout",
     "output_type": "stream",
     "text": [
      "\n",
      "\n"
     ]
    },
    {
     "name": "stdin",
     "output_type": "stream",
     "text": [
      "\n",
      "Enter the Question: \n",
      "Enter Command 'List All Questions' to see All Available Questions \n",
      "Enter Command 'Close' to Close ChatBot\n",
      "\n",
      " Close\n"
     ]
    }
   ],
   "source": [
    "while (True):\n",
    "    Cord_19_User_Input = input(\"\\nEnter the Question: \\nEnter Command 'List All Questions' to see All Available Questions \\nEnter Command 'Close' to Close ChatBot\\n\\n\")\n",
    "    if Cord_19_User_Input == 'Close':\n",
    "        break\n",
    "    elif Cord_19_User_Input == 'List All Questions':\n",
    "        display(HTML(Article_Data_Cord_File_DF_Ques[['Question']].copy().to_html()))\n",
    "        continue\n",
    "    elif ~(Article_Data_Cord_File_DF_Ques['Question'].isin([Cord_19_User_Input]).any()):\n",
    "        print(\"\\nPlease Enter Another Question, the Sentence Embeddings does not exist for this Question\")\n",
    "        continue\n",
    "    else:\n",
    "        pass\n",
    "    Cord_19_Doc_Embeddings_DF_Docu = pd.DataFrame()\n",
    "    Cord_19_Doc_Embeddings_DF_Docu['Doc_Id_Meta_Parse'] = Cord_19_Doc_Embeddings_DF['Doc_Id_Meta_Parse'].copy()\n",
    "    Cord_19_Doc_Embeddings_DF_Docu['Document Embeddings Cosine'] = Cord_19_Doc_Embeddings_DF['Document Embeddings'].progress_apply(distance.cosine, args=(Article_Data_Cord_File_DF_Ques.loc[Article_Data_Cord_File_DF_Ques['Question'] == Cord_19_User_Input,'Concatenated Sentence Embeddings'].reset_index(drop=True)[0],))\n",
    "    Cord_19_Doc_Embeddings_DF_Docu['Document Embeddings Cosine'] = 1 - Cord_19_Doc_Embeddings_DF_Docu['Document Embeddings Cosine']\n",
    "\n",
    "    Cord_19_Doc_Embeddings_DF_Docu = Cord_19_Doc_Embeddings_DF_Docu.sort_values(by='Document Embeddings Cosine',ascending=False).reset_index(drop=True)\n",
    "    \n",
    "    Cord_19_Doc_Embeddings_DF_Docu = Cord_19_Doc_Embeddings_DF_Docu.iloc[0:50]\n",
    "\n",
    "    Cord_19_Doc_Embeddings_DF_Docu_List_ID = Cord_19_Doc_Embeddings_DF_Docu['Doc_Id_Meta_Parse'].to_list()\n",
    "\n",
    "    Article_Data_Cord_File_DF_Abstract_Body_Text_Fin = Article_Data_Cord_File_DF_Abstract_Body_Text.loc[Article_Data_Cord_File_DF_Abstract_Body_Text['Doc_Id_Meta_Parse'].isin(Cord_19_Doc_Embeddings_DF_Docu_List_ID),:].reset_index(drop=True)\n",
    "    \n",
    "    Article_Data_Cord_File_DF_Abstract_Body_Text_Fin_Docu = pd.DataFrame()\n",
    "    Article_Data_Cord_File_DF_Abstract_Body_Text_Fin_Docu['Doc_Id_Meta_Parse'] = Article_Data_Cord_File_DF_Abstract_Body_Text_Fin['Doc_Id_Meta_Parse']\n",
    "    Article_Data_Cord_File_DF_Abstract_Body_Text_Fin_Docu['Sentences'] = Article_Data_Cord_File_DF_Abstract_Body_Text_Fin['Sentences']\n",
    "    Article_Data_Cord_File_DF_Abstract_Body_Text_Fin_Docu['Type'] = Article_Data_Cord_File_DF_Abstract_Body_Text_Fin['Type']\n",
    "    Article_Data_Cord_File_DF_Abstract_Body_Text_Fin_Docu['Sentence Embeddings Cosine'] = Article_Data_Cord_File_DF_Abstract_Body_Text_Fin['Sentence Embeddings'].apply(distance.cosine, args=(Article_Data_Cord_File_DF_Ques.loc[Article_Data_Cord_File_DF_Ques['Question'] == Cord_19_User_Input,'Concatenated Sentence Embeddings'].reset_index(drop=True)[0],))\n",
    "    Article_Data_Cord_File_DF_Abstract_Body_Text_Fin_Docu['Sentence Embeddings Cosine'] = 1 - Article_Data_Cord_File_DF_Abstract_Body_Text_Fin_Docu['Sentence Embeddings Cosine']\n",
    "\n",
    "    Article_Data_Cord_File_DF_Relevant_Sentences = Article_Data_Cord_File_DF_Abstract_Body_Text_Fin_Docu.groupby(['Doc_Id_Meta_Parse'], sort=False, as_index=False)['Sentence Embeddings Cosine'].idxmax()\n",
    "\n",
    "    Article_Data_Cord_File_DF_Abstract_Body_Text_Fin_Docu = Article_Data_Cord_File_DF_Abstract_Body_Text_Fin_Docu.iloc[Article_Data_Cord_File_DF_Relevant_Sentences['Sentence Embeddings Cosine'].to_list()]\n",
    "    Article_Data_Cord_File_DF_Abstract_Body_Text_Fin_Docu.reset_index(drop=True,inplace=True)\n",
    "\n",
    "    Article_Data_Cord_File_List_Abstract_Body_Text_Fin_Docu = Article_Data_Cord_File_DF_Abstract_Body_Text_Fin_Docu['Doc_Id_Meta_Parse'].to_list()\n",
    "\n",
    "    Article_Data_Cord_File_DF_Docu = Article_Data_Cord_File_DF.loc[Article_Data_Cord_File_DF['Doc_Id_Meta_Parse'].isin(Article_Data_Cord_File_List_Abstract_Body_Text_Fin_Docu),:]\n",
    "    Article_Data_Cord_File_DF_Docu.reset_index(drop=True,inplace=True)\n",
    "\n",
    "    Article_Data_Cord_File_DF_Docu_Rel_Sen = pd.merge(Article_Data_Cord_File_DF_Docu,Article_Data_Cord_File_DF_Abstract_Body_Text_Fin_Docu, on=\"Doc_Id_Meta_Parse\", how=\"inner\")\n",
    "\n",
    "    print('\\033[1m' + 'The Loaded Meta Dataset is:' + '\\033[0m' + '\\n')\n",
    "    display(HTML(Article_Data_Cord_File_DF_Docu_Rel_Sen.loc[0:9,['Title_Meta_Parse','Sentences']].to_html()))\n",
    "    print('\\n')"
   ]
  },
  {
   "cell_type": "code",
   "execution_count": null,
   "id": "f5fa14f9-fd22-4ac6-bf91-0981f16b8a72",
   "metadata": {},
   "outputs": [],
   "source": []
  }
 ],
 "metadata": {
  "kernelspec": {
   "display_name": "Python 3 (ipykernel)",
   "language": "python",
   "name": "python3"
  },
  "language_info": {
   "codemirror_mode": {
    "name": "ipython",
    "version": 3
   },
   "file_extension": ".py",
   "mimetype": "text/x-python",
   "name": "python",
   "nbconvert_exporter": "python",
   "pygments_lexer": "ipython3",
   "version": "3.9.12"
  }
 },
 "nbformat": 4,
 "nbformat_minor": 5
}
