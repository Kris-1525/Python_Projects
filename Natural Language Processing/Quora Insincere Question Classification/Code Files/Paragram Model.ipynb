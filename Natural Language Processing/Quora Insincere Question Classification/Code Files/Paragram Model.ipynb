{
 "cells": [
  {
   "cell_type": "markdown",
   "id": "5f221a5d-2ea9-4c66-b8b7-0d446aaa7940",
   "metadata": {},
   "source": [
    "### General libraries being loaded"
   ]
  },
  {
   "cell_type": "code",
   "execution_count": 1,
   "id": "d746aad3-c440-4309-983f-63fe90052b0e",
   "metadata": {},
   "outputs": [],
   "source": [
    "# Python ≥3.5 is required\n",
    "import sys\n",
    "assert sys.version_info >= (3, 5)\n",
    "\n",
    "# Scikit-Learn ≥0.20 is required\n",
    "import sklearn\n",
    "assert sklearn.__version__ >= \"0.20\"\n",
    "\n",
    "# Common imports\n",
    "import numpy as np\n",
    "import os, time\n",
    "import pandas as pd\n",
    "\n",
    "# Our new Deep Learning imports\n",
    "import tensorflow as tf\n",
    "from tensorflow import keras\n",
    "\n",
    "# To plot nice figures\n",
    "%matplotlib inline\n",
    "import matplotlib as mpl\n",
    "import matplotlib.pyplot as plt\n",
    "mpl.rc('axes', labelsize=14)\n",
    "mpl.rc('xtick', labelsize=12)\n",
    "mpl.rc('ytick', labelsize=12)\n",
    "\n",
    "# For plotting statistical figures\n",
    "import seaborn as sns; sns.set()\n",
    "\n",
    "# For speeding up numpy operations\n",
    "import cupy as cp\n",
    "\n",
    "# For faster numpy computation\n",
    "from numba import jit, cuda\n",
    "\n",
    "# For Progress Bar\n",
    "from tqdm.auto import tqdm,trange\n",
    "tqdm.pandas()\n",
    "\n",
    "# Vaex Dataframe library\n",
    "import vaex as vx\n",
    "\n",
    "# For Pyspark activation\n",
    "import os\n",
    "os.environ[\"PYARROW_IGNORE_TIMEZONE\"] = \"1\"\n",
    "\n",
    "# Pyspark Dataframe\n",
    "from pyspark import pandas as ps\n",
    "\n",
    "import os\n",
    "os.environ['KMP_DUPLICATE_LIB_OK']='True'"
   ]
  },
  {
   "cell_type": "markdown",
   "id": "f5ca3356-e719-4308-92a8-085fb3df0a5f",
   "metadata": {},
   "source": [
    "### Training and Testing Data Loading"
   ]
  },
  {
   "cell_type": "code",
   "execution_count": 2,
   "id": "15441e8d-ae10-4ff3-ad48-ac6df7e9a796",
   "metadata": {},
   "outputs": [],
   "source": [
    "quora_tt_df = pd.read_pickle(r\"D:\\UoA\\Tri 2\\Big Data Analysis and Projects\\Week 1\\Quora Insincere Questions\\Data\\Train and Test\\quora_tt_df.pkl\")\n",
    "quora_tt_freq_df = pd.read_pickle(r\"D:\\UoA\\Tri 2\\Big Data Analysis and Projects\\Week 1\\Quora Insincere Questions\\Data\\Train and Test\\quora_tt_freq_df.pkl\")"
   ]
  },
  {
   "cell_type": "code",
   "execution_count": 3,
   "id": "e83c27d1-94fc-4fea-ba21-43540f067393",
   "metadata": {},
   "outputs": [],
   "source": [
    "import pickle\n",
    "\n",
    "f = open(r\"D:\\UoA\\Tri 2\\Big Data Analysis and Projects\\Week 1\\Quora Insincere Questions\\Data\\Train and Test\\quora_tt_dict_idf.pkl\",\"rb\")\n",
    "f1 = open(r\"D:\\UoA\\Tri 2\\Big Data Analysis and Projects\\Week 1\\Quora Insincere Questions\\Data\\Train and Test\\quora_tt_word_dict.pkl\",\"rb\")\n",
    "\n",
    "quora_tt_dict_idf = pickle.load(f)\n",
    "quora_tt_word_dict = pickle.load(f1)\n",
    "\n",
    "f.close()\n",
    "f1.close()\n",
    "\n",
    "max_sentence_length_quora = np.load(r\"D:\\UoA\\Tri 2\\Big Data Analysis and Projects\\Week 1\\Quora Insincere Questions\\Data\\Train and Test\\max_sentence_length_quora.npy\")\n",
    "max_sentence_length_quora = int(max_sentence_length_quora)"
   ]
  },
  {
   "cell_type": "markdown",
   "id": "46e04fbd-ecba-49df-a25e-0475a1a95640",
   "metadata": {},
   "source": [
    "### Paragram Word Embedding Loading"
   ]
  },
  {
   "cell_type": "code",
   "execution_count": 4,
   "id": "a6a54ade-1914-4ce3-88fa-d99804c0f673",
   "metadata": {},
   "outputs": [],
   "source": [
    "paragram_embedding_matrix_tt = np.load(r\"D:\\UoA\\Tri 2\\Big Data Analysis and Projects\\Week 1\\Quora Insincere Questions\\embeddings\\paragram_300_sl999\\paragram_embedding_matrix_tt.npy\")"
   ]
  },
  {
   "cell_type": "code",
   "execution_count": 5,
   "id": "a3ad617e-5fee-415c-97f4-e577664f384e",
   "metadata": {},
   "outputs": [],
   "source": [
    "f = open(r\"D:\\UoA\\Tri 2\\Big Data Analysis and Projects\\Week 1\\Quora Insincere Questions\\embeddings\\paragram_300_sl999\\paragram_embedding_matrix_tt_dict.pkl\",\"rb\")\n",
    "paragram_embedding_matrix_tt_dict = pickle.load(f)\n",
    "f.close()"
   ]
  },
  {
   "cell_type": "markdown",
   "id": "c62d93ea-95f7-47c7-97e7-b24ebeac40a0",
   "metadata": {
    "tags": []
   },
   "source": [
    "### Basic imports for Model Execution"
   ]
  },
  {
   "cell_type": "code",
   "execution_count": 6,
   "id": "c601b4ca-3a38-491b-9caf-c058f74b3503",
   "metadata": {},
   "outputs": [],
   "source": [
    "from keras.layers import Input,Embedding,SpatialDropout1D,Bidirectional,CuDNNLSTM,CuDNNGRU,GlobalMaxPooling1D,Concatenate,Dense,LSTM,GRU\n",
    "from keras.optimizers import Adam\n",
    "from keras.models import Model\n",
    "from keras.initializers import Constant\n",
    "\n",
    "from sklearn.metrics import RocCurveDisplay\n",
    "from sklearn.metrics import roc_curve\n",
    "\n",
    "from kneed import KneeLocator\n",
    "\n",
    "from sklearn.metrics import confusion_matrix\n",
    "from sklearn.metrics import ConfusionMatrixDisplay\n",
    "from sklearn.metrics import precision_recall_fscore_support"
   ]
  },
  {
   "cell_type": "markdown",
   "id": "7b2e4176-1387-4fd8-bdc3-1dc7d7604eca",
   "metadata": {
    "tags": []
   },
   "source": [
    "### Creating a Deep Neural Network for Paragram Word Embedding"
   ]
  },
  {
   "cell_type": "code",
   "execution_count": 7,
   "id": "43578bbd-68b4-4191-a1dc-b6e0c96de584",
   "metadata": {},
   "outputs": [],
   "source": [
    "def quora_DNN_build_model(embedding_matrix_quora,max_sentence_length_quora,embedding_size_quora,number_words_quora,learning_rate_quora):\n",
    "    inp = Input(shape=(max_sentence_length_quora,))\n",
    "    x = Embedding(number_words_quora, embedding_size_quora, embeddings_initializer=Constant(embedding_matrix_quora), trainable=False)(inp)\n",
    "    x = SpatialDropout1D(0.3)(x)\n",
    "    x1 = Bidirectional(LSTM(256, return_sequences=True))(x)\n",
    "    x2 = Bidirectional(GRU(128, return_sequences=True))(x1)\n",
    "    max_pool1 = GlobalMaxPooling1D()(x1)\n",
    "    max_pool2 = GlobalMaxPooling1D()(x2)\n",
    "    conc = Concatenate()([max_pool1, max_pool2])\n",
    "    predictions = Dense(1, activation='sigmoid')(conc)\n",
    "    model = Model(inputs=inp, outputs=predictions)\n",
    "    adam = Adam(learning_rate=learning_rate_quora)\n",
    "    model.compile(optimizer=adam, loss='binary_crossentropy', metrics=['accuracy'])\n",
    "    return model"
   ]
  },
  {
   "cell_type": "code",
   "execution_count": 8,
   "id": "7f1d66c0-115e-40ee-a985-ea6d5590043d",
   "metadata": {},
   "outputs": [],
   "source": [
    "model_paragram = quora_DNN_build_model(embedding_matrix_quora=paragram_embedding_matrix_tt,max_sentence_length_quora=max_sentence_length_quora,\n",
    "                             embedding_size_quora=300,number_words_quora=paragram_embedding_matrix_tt.shape[0],learning_rate_quora=0.001)"
   ]
  },
  {
   "cell_type": "code",
   "execution_count": 9,
   "id": "b5a474fe-6c83-4731-a5e3-01c97bdd9c58",
   "metadata": {},
   "outputs": [],
   "source": [
    "num_epoch = 4\n",
    "batch_size = 256"
   ]
  },
  {
   "cell_type": "code",
   "execution_count": 10,
   "id": "153c3db0-3d59-41fc-9943-f9faabef9a24",
   "metadata": {},
   "outputs": [
    {
     "name": "stdout",
     "output_type": "stream",
     "text": [
      "Epoch 1/3\n",
      "4082/4082 [==============================] - 742s 179ms/step - loss: 0.1329 - accuracy: 0.9499 - val_loss: 0.1180 - val_accuracy: 0.9540\n",
      "Epoch 2/3\n",
      "4082/4082 [==============================] - 730s 179ms/step - loss: 0.1154 - accuracy: 0.9552 - val_loss: 0.1136 - val_accuracy: 0.9554\n",
      "Epoch 3/3\n",
      "4082/4082 [==============================] - 730s 179ms/step - loss: 0.1083 - accuracy: 0.9577 - val_loss: 0.1146 - val_accuracy: 0.9543\n"
     ]
    }
   ],
   "source": [
    "quora_train_features_array_paragram = np.copy(np.array(quora_tt_df.loc[~(quora_tt_df['target'] == -1),'question_text_encode'].to_list(),dtype=np.float64))\n",
    "quora_train_pridiction_array_paragram = np.copy(np.array(quora_tt_df.loc[~(quora_tt_df['target'] == -1),'target'].to_list(),dtype=np.float64))\n",
    "paragram_history = model_paragram.fit(quora_train_features_array_paragram, quora_train_pridiction_array_paragram, validation_split=0.2, batch_size=batch_size, validation_batch_size=batch_size, epochs=num_epoch-1, verbose=1, shuffle=True, use_multiprocessing=True)"
   ]
  },
  {
   "cell_type": "code",
   "execution_count": 11,
   "id": "ef4038b8-5ff1-4f90-8f73-d50b5593af4e",
   "metadata": {},
   "outputs": [
    {
     "data": {
      "image/png": "[encoded data removed]",
      "text/plain": [
       "<Figure size 432x288 with 1 Axes>"
      ]
     },
     "metadata": {},
     "output_type": "display_data"
    }
   ],
   "source": [
    "# Accuracy Plot\n",
    "plt.plot(paragram_history.history['accuracy'])\n",
    "plt.plot(paragram_history.history['val_accuracy'])\n",
    "plt.title('model accuracy')\n",
    "plt.ylabel('accuracy')\n",
    "plt.xlabel('epoch')\n",
    "plt.legend(['train', 'val'], loc='upper left')\n",
    "plt.show()"
   ]
  },
  {
   "cell_type": "code",
   "execution_count": 12,
   "id": "bb4219c9-1d17-4193-ae96-9ddc3e11f06d",
   "metadata": {},
   "outputs": [
    {
     "data": {
      "image/png": "[encoded data removed]",
      "text/plain": [
       "<Figure size 432x288 with 1 Axes>"
      ]
     },
     "metadata": {},
     "output_type": "display_data"
    }
   ],
   "source": [
    "# Loss plot\n",
    "plt.plot(paragram_history.history['loss'])\n",
    "plt.plot(paragram_history.history['val_loss'])\n",
    "plt.title('model loss')\n",
    "plt.ylabel('loss')\n",
    "plt.xlabel('epoch')\n",
    "plt.legend(['train', 'val'], loc='upper left')\n",
    "plt.show()"
   ]
  },
  {
   "cell_type": "code",
   "execution_count": 13,
   "id": "f77540a8-3f38-4af3-80b4-7bbe7e30bd8e",
   "metadata": {},
   "outputs": [
    {
     "name": "stdout",
     "output_type": "stream",
     "text": [
      "5103/5103 [==============================] - 297s 58ms/step\n"
     ]
    }
   ],
   "source": [
    "quora_train_pridicted_array_paragram = model_paragram.predict(quora_train_features_array_paragram, batch_size=batch_size, verbose=1, use_multiprocessing=True)\n",
    "quora_train_pridicted_array_paragram = np.squeeze(quora_train_pridicted_array_paragram)\n",
    "quora_train_pridicted_array_paragram_copy = np.copy(quora_train_pridicted_array_paragram)"
   ]
  },
  {
   "cell_type": "code",
   "execution_count": 14,
   "id": "a27ef421-ea21-4abc-b0a0-0afefeffc823",
   "metadata": {},
   "outputs": [
    {
     "data": {
      "image/png": "[encoded data removed]",
      "text/plain": [
       "<Figure size 432x288 with 1 Axes>"
      ]
     },
     "metadata": {},
     "output_type": "display_data"
    }
   ],
   "source": [
    "RocCurveDisplay.from_predictions(quora_train_pridiction_array_paragram, quora_train_pridicted_array_paragram)\n",
    "plt.show()\n",
    "fpr_paragram, tpr_paragram, thresholds_paragram = roc_curve(quora_train_pridiction_array_paragram, quora_train_pridicted_array_paragram)"
   ]
  },
  {
   "cell_type": "code",
   "execution_count": 15,
   "id": "a8706493-5f1c-4a28-bff4-33c2f6d516fc",
   "metadata": {},
   "outputs": [
    {
     "name": "stdout",
     "output_type": "stream",
     "text": [
      "\u001b[1mThe Knee point of ROC Curve (x-axis) is:\u001b[0m\n",
      "\n",
      "0.020022655454284298\n",
      "\n",
      "\n",
      "\u001b[1mThe Knee point of ROC Curve (y-axis) is:\u001b[0m\n",
      "\n",
      "0.6727013983417894\n",
      "\n",
      "\n"
     ]
    },
    {
     "data": {
      "image/png": "[encoded data removed]",
      "text/plain": [
       "<Figure size 432x432 with 1 Axes>"
      ]
     },
     "metadata": {},
     "output_type": "display_data"
    }
   ],
   "source": [
    "kn_paragram = KneeLocator(fpr_paragram, tpr_paragram, curve='concave', direction='increasing')\n",
    "print('\\033[1m' + 'The Knee point of ROC Curve (x-axis) is:' + '\\033[0m' + '\\n')\n",
    "print(kn_paragram.knee)\n",
    "print('\\n')\n",
    "print('\\033[1m' + 'The Knee point of ROC Curve (y-axis) is:' + '\\033[0m' + '\\n')\n",
    "print(kn_paragram.knee_y)\n",
    "print('\\n')\n",
    "kn_paragram.plot_knee()"
   ]
  },
  {
   "cell_type": "code",
   "execution_count": 16,
   "id": "f3edcd0a-8967-40dc-95ef-cded2aa4a5d1",
   "metadata": {},
   "outputs": [],
   "source": [
    "point_x_index_paragram = np.where(fpr_paragram == kn_paragram.knee)\n",
    "point_y_index_paragram = np.where(tpr_paragram == kn_paragram.knee_y)\n",
    "threshold_index_paragram = np.intersect1d(point_x_index_paragram, point_y_index_paragram)\n",
    "threshold_value_paragram = thresholds_paragram[threshold_index_paragram[0]]"
   ]
  },
  {
   "cell_type": "code",
   "execution_count": 17,
   "id": "d6a33dac-9f55-41e2-abdd-93c1a6da728a",
   "metadata": {},
   "outputs": [],
   "source": [
    "quora_train_pridicted_array_paragram[quora_train_pridicted_array_paragram <= threshold_value_paragram] = 0\n",
    "quora_train_pridicted_array_paragram[quora_train_pridicted_array_paragram > threshold_value_paragram] = 1"
   ]
  },
  {
   "cell_type": "code",
   "execution_count": 18,
   "id": "c5d60802-3993-49d4-93a5-4dd832515218",
   "metadata": {},
   "outputs": [
    {
     "data": {
      "image/png": "[encoded data removed]",
      "text/plain": [
       "<Figure size 432x288 with 2 Axes>"
      ]
     },
     "metadata": {},
     "output_type": "display_data"
    },
    {
     "name": "stdout",
     "output_type": "stream",
     "text": [
      "\u001b[1mThe Precision (Paragram) is:\u001b[0m\n",
      "\n",
      "0.9605423467140443\n",
      "\n",
      "\n",
      "\u001b[1mThe Recall (Paragram) is:\u001b[0m\n",
      "\n",
      "0.9609668928323694\n",
      "\n",
      "\n",
      "\u001b[1mThe F-Score (Paragram) is:\u001b[0m\n",
      "\n",
      "0.9607479958714674\n",
      "\n",
      "\n"
     ]
    }
   ],
   "source": [
    "tn_paragram, fp_paragram, fn_paragram, tp_paragram = confusion_matrix(quora_train_pridiction_array_paragram,quora_train_pridicted_array_paragram).ravel()\n",
    "ConfusionMatrixDisplay.from_predictions(quora_train_pridiction_array_paragram,quora_train_pridicted_array_paragram)\n",
    "plt.show()\n",
    "\n",
    "precision_paragram, recall_paragram, fbeta_score_paragram, support_paragram = precision_recall_fscore_support(quora_train_pridiction_array_paragram,quora_train_pridicted_array_paragram, average='weighted')\n",
    "print('\\033[1m' + 'The Precision (Paragram) is:' + '\\033[0m' + '\\n')\n",
    "print(precision_paragram)\n",
    "print('\\n')\n",
    "print('\\033[1m' + 'The Recall (Paragram) is:' + '\\033[0m' + '\\n')\n",
    "print(recall_paragram)\n",
    "print('\\n')\n",
    "print('\\033[1m' + 'The F-Score (Paragram) is:' + '\\033[0m' + '\\n')\n",
    "print(fbeta_score_paragram)\n",
    "print('\\n')"
   ]
  },
  {
   "cell_type": "code",
   "execution_count": 19,
   "id": "b1fe08da-0675-4b8c-b700-de263cd6eb48",
   "metadata": {},
   "outputs": [
    {
     "name": "stdout",
     "output_type": "stream",
     "text": [
      "1468/1468 [==============================] - 86s 59ms/step\n"
     ]
    }
   ],
   "source": [
    "quora_test_features_array_paragram = np.copy(np.array(quora_tt_df.loc[(quora_tt_df['target'] == -1),'question_text_encode'].to_list(),dtype=np.float64))\n",
    "quora_test_pridicted_array_paragram = model_paragram.predict(quora_test_features_array_paragram, batch_size=batch_size, verbose=1, use_multiprocessing=True)\n",
    "quora_test_pridicted_array_paragram = np.squeeze(quora_test_pridicted_array_paragram)"
   ]
  },
  {
   "cell_type": "code",
   "execution_count": 20,
   "id": "b2d426ee-a45e-4083-8b3c-c1b78822b9a0",
   "metadata": {},
   "outputs": [],
   "source": [
    "import tensorflow as tf\n",
    "tf.keras.backend.clear_session()"
   ]
  },
  {
   "cell_type": "code",
   "execution_count": 21,
   "id": "2a000f0a-097f-4e99-8546-408728caef00",
   "metadata": {},
   "outputs": [],
   "source": [
    "del paragram_embedding_matrix_tt\n",
    "del quora_train_features_array_paragram\n",
    "del quora_train_pridiction_array_paragram\n",
    "del model_paragram"
   ]
  },
  {
   "cell_type": "code",
   "execution_count": 22,
   "id": "196616c9-fd76-405f-b85e-62a1d26d66c8",
   "metadata": {},
   "outputs": [],
   "source": [
    "import gc\n",
    "gc.collect()\n",
    "print('',end='')"
   ]
  },
  {
   "cell_type": "code",
   "execution_count": 23,
   "id": "42d24971-4961-4fa9-899b-b6d3d20d4729",
   "metadata": {},
   "outputs": [],
   "source": [
    "np.save(r\"D:\\UoA\\Tri 2\\Big Data Analysis and Projects\\Week 1\\Quora Insincere Questions\\embeddings\\paragram_300_sl999\\quora_test_pridicted_array_paragram.npy\",quora_test_pridicted_array_paragram)"
   ]
  },
  {
   "cell_type": "code",
   "execution_count": 24,
   "id": "95aaf549-c957-4963-b13a-6bd6ffa55d14",
   "metadata": {},
   "outputs": [],
   "source": [
    "del quora_test_pridicted_array_paragram"
   ]
  },
  {
   "cell_type": "code",
   "execution_count": 25,
   "id": "66ef8067-c3ff-471a-b160-ca014abbb0e9",
   "metadata": {},
   "outputs": [],
   "source": [
    "np.save(r\"D:\\UoA\\Tri 2\\Big Data Analysis and Projects\\Week 1\\Quora Insincere Questions\\embeddings\\paragram_300_sl999\\quora_train_pridicted_array_paragram.npy\",quora_train_pridicted_array_paragram_copy)"
   ]
  },
  {
   "cell_type": "code",
   "execution_count": 26,
   "id": "0f5d2810-08b4-438a-983f-76b8d61a084a",
   "metadata": {},
   "outputs": [],
   "source": [
    "del quora_train_pridicted_array_paragram\n",
    "del quora_train_pridicted_array_paragram_copy"
   ]
  },
  {
   "cell_type": "code",
   "execution_count": 27,
   "id": "5629c629-ad72-4c20-99e6-c78d9be25892",
   "metadata": {},
   "outputs": [],
   "source": [
    "np.save(r\"D:\\UoA\\Tri 2\\Big Data Analysis and Projects\\Week 1\\Quora Insincere Questions\\embeddings\\paragram_300_sl999\\threshold_value_paragram.npy\",threshold_value_paragram)"
   ]
  },
  {
   "cell_type": "code",
   "execution_count": null,
   "id": "5f682a07-66ac-467e-b03e-4168b52925e9",
   "metadata": {},
   "outputs": [],
   "source": []
  }
 ],
 "metadata": {
  "kernelspec": {
   "display_name": "Python 3 (ipykernel)",
   "language": "python",
   "name": "python3"
  },
  "language_info": {
   "codemirror_mode": {
    "name": "ipython",
    "version": 3
   },
   "file_extension": ".py",
   "mimetype": "text/x-python",
   "name": "python",
   "nbconvert_exporter": "python",
   "pygments_lexer": "ipython3",
   "version": "3.9.12"
  }
 },
 "nbformat": 4,
 "nbformat_minor": 5
}
