{
 "cells": [
  {
   "cell_type": "markdown",
   "id": "f874c307-3126-4f35-af0f-31d459198186",
   "metadata": {},
   "source": [
    "### General libraries being loaded"
   ]
  },
  {
   "cell_type": "code",
   "execution_count": 1,
   "id": "ba15c5b2-9fac-44f7-84e4-77002de715ce",
   "metadata": {},
   "outputs": [],
   "source": [
    "# Python ≥3.5 is required\n",
    "import sys\n",
    "assert sys.version_info >= (3, 5)\n",
    "\n",
    "# Scikit-Learn ≥0.20 is required\n",
    "import sklearn\n",
    "assert sklearn.__version__ >= \"0.20\"\n",
    "\n",
    "# Common imports\n",
    "import numpy as np\n",
    "import os, time\n",
    "import pandas as pd\n",
    "\n",
    "# Our new Deep Learning imports\n",
    "import tensorflow as tf\n",
    "from tensorflow import keras\n",
    "\n",
    "# To plot nice figures\n",
    "%matplotlib inline\n",
    "import matplotlib as mpl\n",
    "import matplotlib.pyplot as plt\n",
    "mpl.rc('axes', labelsize=14)\n",
    "mpl.rc('xtick', labelsize=12)\n",
    "mpl.rc('ytick', labelsize=12)\n",
    "\n",
    "# For plotting statistical figures\n",
    "import seaborn as sns; sns.set()\n",
    "\n",
    "# For speeding up numpy operations\n",
    "import cupy as cp\n",
    "\n",
    "# For faster numpy computation\n",
    "from numba import jit, cuda\n",
    "\n",
    "# For Progress Bar\n",
    "from tqdm.auto import tqdm,trange\n",
    "tqdm.pandas()\n",
    "\n",
    "# Vaex Dataframe library\n",
    "import vaex as vx\n",
    "\n",
    "# For Pyspark activation\n",
    "import os\n",
    "os.environ[\"PYARROW_IGNORE_TIMEZONE\"] = \"1\"\n",
    "\n",
    "# Pyspark Dataframe\n",
    "from pyspark import pandas as ps\n",
    "\n",
    "import os\n",
    "os.environ['KMP_DUPLICATE_LIB_OK']='True'"
   ]
  },
  {
   "cell_type": "markdown",
   "id": "c7182d65-56ed-402c-b052-3864e15af087",
   "metadata": {},
   "source": [
    "### Loading Quora Dataset (Training and Testing Data)"
   ]
  },
  {
   "cell_type": "code",
   "execution_count": 2,
   "id": "4f0d1c07-5559-4fbb-8f2a-d76b356468c3",
   "metadata": {},
   "outputs": [],
   "source": [
    "import pandas as pd\n",
    "\n",
    "quora_train_df = pd.read_csv(filepath_or_buffer=r\"D:\\UoA\\Tri 2\\Big Data Analysis and Projects\\Week 1\\Quora Insincere Questions\\train.csv\\train.csv\").fillna(' ')\n",
    "quora_test_df = pd.read_csv(filepath_or_buffer=r\"D:\\UoA\\Tri 2\\Big Data Analysis and Projects\\Week 1\\Quora Insincere Questions\\test.csv\\test.csv\").fillna(' ')"
   ]
  },
  {
   "cell_type": "markdown",
   "id": "d1c03208-75e7-45cb-a2be-c9cbd5c11844",
   "metadata": {},
   "source": [
    "### Displaying Quora Training Dataset"
   ]
  },
  {
   "cell_type": "code",
   "execution_count": 3,
   "id": "3daba621-3e21-40c1-bf01-df31d8911efc",
   "metadata": {},
   "outputs": [
    {
     "name": "stdout",
     "output_type": "stream",
     "text": [
      "\u001b[1mThe Loaded Training Dataset is:\u001b[0m\n",
      "\n",
      "+----+----------------------+-----------------------------------------------------------------------------------+----------+\n",
      "|    | qid                  | question_text                                                                     |   target |\n",
      "|----+----------------------+-----------------------------------------------------------------------------------+----------|\n",
      "|  0 | 00002165364db923c7e6 | How did Quebec nationalists see their province as a nation in the 1960s?          |        0 |\n",
      "|  1 | 000032939017120e6e44 | Do you have an adopted dog, how would you encourage people to adopt and not shop? |        0 |\n",
      "|  2 | 0000412ca6e4628ce2cf | Why does velocity affect time? Does velocity affect space geometry?               |        0 |\n",
      "|  3 | 000042bf85aa498cd78e | How did Otto von Guericke used the Magdeburg hemispheres?                         |        0 |\n",
      "|  4 | 0000455dfa3e01eae3af | Can I convert montra helicon D to a mountain bike by just changing the tyres?     |        0 |\n",
      "|  5 | 00004f9a462a357c33be | Is Gaza slowly becoming Auschwitz, Dachau or Treblinka for Palestinians?          |        0 |\n",
      "+----+----------------------+-----------------------------------------------------------------------------------+----------+\n",
      "\n",
      "\n"
     ]
    }
   ],
   "source": [
    "from tabulate import tabulate\n",
    "\n",
    "print('\\033[1m' + 'The Loaded Training Dataset is:' + '\\033[0m' + '\\n')\n",
    "print(tabulate(quora_train_df.loc[0:5,:], headers='keys', tablefmt='psql'))\n",
    "print('\\n')"
   ]
  },
  {
   "cell_type": "markdown",
   "id": "613e48d4-2bf5-496c-977f-0d9e9c6fbcb9",
   "metadata": {},
   "source": [
    "### Displaying Quora Testing Dataset"
   ]
  },
  {
   "cell_type": "code",
   "execution_count": 4,
   "id": "df2ad114-a921-4b0e-ba74-589a0232c0a3",
   "metadata": {},
   "outputs": [
    {
     "name": "stdout",
     "output_type": "stream",
     "text": [
      "\u001b[1mThe Loaded Testing Dataset is:\u001b[0m\n",
      "\n",
      "+----+----------------------+--------------------------------------------------------------------------+\n",
      "|    | qid                  | question_text                                                            |\n",
      "|----+----------------------+--------------------------------------------------------------------------|\n",
      "| 10 | 00015c487b65d0f79cd8 | What are the best ways to save money for software engineer in Bangalore? |\n",
      "| 11 | 0001880504d9d091c8c8 | What plant can I grow indoors?                                           |\n",
      "| 12 | 00019b780e31adab8acd | Are military air traffic controllers FAA certified?                      |\n",
      "| 13 | 0001d5bbc5f7b7a5ae58 | Why my answers not get any upvotes on Quora?                             |\n",
      "| 14 | 0001f64b6aaf396c4cc4 | Whats a 1788 new hampshire quarter worth?                                |\n",
      "| 15 | 000227734433360e1aae | What are the best made pocket knives under $200-300?                     |\n",
      "+----+----------------------+--------------------------------------------------------------------------+\n",
      "\n",
      "\n"
     ]
    }
   ],
   "source": [
    "print('\\033[1m' + 'The Loaded Testing Dataset is:' + '\\033[0m' + '\\n')\n",
    "print(tabulate(quora_test_df.loc[10:15,:], headers='keys', tablefmt='psql'))\n",
    "print('\\n')"
   ]
  },
  {
   "cell_type": "markdown",
   "id": "c6ac0f33-85a8-4dd3-b1ff-daee07077a6f",
   "metadata": {},
   "source": [
    "### Loading Libraries for Tokenization of Sentences"
   ]
  },
  {
   "cell_type": "code",
   "execution_count": 5,
   "id": "0a54a6c6-b4f9-41fc-b369-e26637f4f4ff",
   "metadata": {},
   "outputs": [],
   "source": [
    "import spacy\n",
    "nlp = spacy.load(\"en_core_web_trf\")\n",
    "\n",
    "from tqdm.notebook import trange, tqdm\n",
    "\n",
    "import torchtext\n",
    "from torchtext.data import get_tokenizer\n",
    "\n",
    "import torch\n",
    "\n",
    "tokenizer = get_tokenizer('spacy', language='en_core_web_trf')"
   ]
  },
  {
   "cell_type": "markdown",
   "id": "cdb437dc-9d64-41e9-a64d-31dec5726a7d",
   "metadata": {},
   "source": [
    "### Tokenizing Training and Testing Dataset using Spacy"
   ]
  },
  {
   "cell_type": "code",
   "execution_count": 6,
   "id": "b2ed9937-4924-4fb8-9a7a-091b9235ff72",
   "metadata": {
    "tags": []
   },
   "outputs": [
    {
     "data": {
      "application/vnd.jupyter.widget-view+json": {
       "model_id": "fbf46774278242929c916c1132d32730",
       "version_major": 2,
       "version_minor": 0
      },
      "text/plain": [
       "  0%|          | 0/1306122 [00:00<?, ?it/s]"
      ]
     },
     "metadata": {},
     "output_type": "display_data"
    },
    {
     "name": "stdout",
     "output_type": "stream",
     "text": [
      "\u001b[1mThe Loaded Training Dataset (with Spacy) is:\u001b[0m\n",
      "\n",
      "0          [How, did, Quebec, nationalists, see, their, p...\n",
      "1          [Do, you, have, an, adopted, dog, ,, how, woul...\n",
      "2          [Why, does, velocity, affect, time, ?, Does, v...\n",
      "3          [How, did, Otto, von, Guericke, used, the, Mag...\n",
      "4          [Can, I, convert, montra, helicon, D, to, a, m...\n",
      "                                 ...                        \n",
      "1306117    [What, other, technical, skills, do, you, need...\n",
      "1306118    [Does, MS, in, ECE, have, good, job, prospects...\n",
      "1306119                     [Is, foam, insulation, toxic, ?]\n",
      "1306120    [How, can, one, start, a, research, project, b...\n",
      "1306121    [Who, wins, in, a, battle, between, a, Wolveri...\n",
      "Name: question_text_nlp, Length: 1306122, dtype: object\n",
      "\n",
      "\n"
     ]
    },
    {
     "data": {
      "application/vnd.jupyter.widget-view+json": {
       "model_id": "836b58817d484d6a9a5b0e93ecd208fc",
       "version_major": 2,
       "version_minor": 0
      },
      "text/plain": [
       "  0%|          | 0/375806 [00:00<?, ?it/s]"
      ]
     },
     "metadata": {},
     "output_type": "display_data"
    },
    {
     "name": "stdout",
     "output_type": "stream",
     "text": [
      "\u001b[1mThe Loaded Testing Dataset (with Spacy) is:\u001b[0m\n",
      "\n",
      "0         [Why, do, so, many, women, become, so, rude, a...\n",
      "1         [When, should, I, apply, for, RV, college, of,...\n",
      "2         [What, is, it, really, like, to, be, a, nurse,...\n",
      "3                              [Who, are, entrepreneurs, ?]\n",
      "4         [Is, education, really, making, good, people, ...\n",
      "                                ...                        \n",
      "375801    [How, many, countries, listed, in, gold, impor...\n",
      "375802    [Is, there, an, alternative, to, dresses, on, ...\n",
      "375803    [Where, I, can, find, best, friendship, quotes...\n",
      "375804    [What, are, the, causes, of, refraction, of, l...\n",
      "375805    [Climate, change, is, a, worrying, topic, ., H...\n",
      "Name: question_text_nlp, Length: 375806, dtype: object\n",
      "\n",
      "\n"
     ]
    }
   ],
   "source": [
    "# Adding Spacy sentence column in Training data\n",
    "quora_train_list = [0]*((quora_train_df.shape)[0]) \n",
    "quora_train_df.insert(loc=2,column='question_text_nlp',value=quora_train_list) \n",
    "quora_train_df = quora_train_df.astype('object')\n",
    "\n",
    "quora_nlp_pipe_docs = quora_train_df['question_text'].to_list()\n",
    "quora_nlp_length = len(quora_nlp_pipe_docs)\n",
    "\n",
    "i=0\n",
    "for quora_nlp_pipe_doc in tqdm(quora_nlp_pipe_docs,total=quora_nlp_length):\n",
    "    quora_nlp_pipe_tokens = tokenizer(quora_nlp_pipe_doc)\n",
    "    quora_train_df.loc[i]['question_text_nlp'] = quora_nlp_pipe_tokens\n",
    "    i=i+1\n",
    "    \n",
    "print('\\033[1m' + 'The Loaded Training Dataset (with Spacy) is:' + '\\033[0m' + '\\n')\n",
    "print(quora_train_df['question_text_nlp'])\n",
    "print('\\n')\n",
    "\n",
    "# Adding Spacy sentence column in Testing data\n",
    "quora_test_list = [0]*((quora_test_df.shape)[0]) \n",
    "quora_test_df.insert(loc=2,column='question_text_nlp',value=quora_test_list) \n",
    "quora_test_df = quora_test_df.astype('object')\n",
    "\n",
    "quora_nlp_pipe_docs = quora_test_df['question_text'].to_list()\n",
    "quora_nlp_length = len(quora_nlp_pipe_docs)\n",
    "\n",
    "i=0\n",
    "for quora_nlp_pipe_doc in tqdm(quora_nlp_pipe_docs,total=quora_nlp_length):\n",
    "    quora_nlp_pipe_tokens = tokenizer(quora_nlp_pipe_doc)\n",
    "    quora_test_df.loc[i]['question_text_nlp'] = quora_nlp_pipe_tokens\n",
    "    i=i+1\n",
    "    \n",
    "print('\\033[1m' + 'The Loaded Testing Dataset (with Spacy) is:' + '\\033[0m' + '\\n')\n",
    "print(quora_test_df['question_text_nlp'])\n",
    "print('\\n')"
   ]
  },
  {
   "cell_type": "markdown",
   "id": "f611f07c-0d46-4820-9d88-6c562858642f",
   "metadata": {},
   "source": [
    "### Calculating the Frequency of Words in all Sentences"
   ]
  },
  {
   "cell_type": "code",
   "execution_count": 7,
   "id": "a6105b99-0349-416e-ad56-61dcaeb6426c",
   "metadata": {},
   "outputs": [
    {
     "name": "stdout",
     "output_type": "stream",
     "text": [
      "\u001b[1mThe Frequency of Words in Training Dataset (Tokenized with Spacy) is:\u001b[0m\n",
      "\n",
      "                Word  Frequency\n",
      "0                How     263248\n",
      "1                did      37932\n",
      "2             Quebec        160\n",
      "3       nationalists        131\n",
      "4                see       9561\n",
      "...              ...        ...\n",
      "260164          60+%          1\n",
      "260165        Westen          1\n",
      "260166    statechart          1\n",
      "260167      BrainPOP          1\n",
      "260168   filteration          2\n",
      "\n",
      "[260169 rows x 2 columns]\n",
      "\n",
      "\n",
      "\u001b[1mThe Frequency of Words in Testing Dataset (Tokenized with Spacy) is:\u001b[0m\n",
      "\n",
      "                 Word  Frequency\n",
      "0                 Why      41707\n",
      "1                  do      65861\n",
      "2                  so      10801\n",
      "3                many       6844\n",
      "4               women       3673\n",
      "...               ...        ...\n",
      "128494         jingle          1\n",
      "128495           6740          1\n",
      "128496  consequence(s          1\n",
      "128497        lineral          1\n",
      "128498          indua          1\n",
      "\n",
      "[128499 rows x 2 columns]\n",
      "\n",
      "\n"
     ]
    }
   ],
   "source": [
    "# Loading counter for word frequency\n",
    "from collections import Counter\n",
    "\n",
    "# For flattening the list \n",
    "import itertools\n",
    "\n",
    "# Training Data\n",
    "quora_train_list = quora_train_df['question_text_nlp'].to_list()\n",
    "quora_train_list_flat = list(itertools.chain(*quora_train_list))\n",
    "\n",
    "quora_train_freq_counter = Counter(quora_train_list_flat)\n",
    "quora_train_freq_df = pd.DataFrame.from_dict(quora_train_freq_counter, orient='index').reset_index()\n",
    "quora_train_freq_df.rename(columns={'index':'Word',0:'Frequency'},inplace=True)\n",
    "\n",
    "print('\\033[1m' + 'The Frequency of Words in Training Dataset (Tokenized with Spacy) is:' + '\\033[0m' + '\\n')\n",
    "print(quora_train_freq_df)\n",
    "print('\\n')\n",
    "\n",
    "# Testing data\n",
    "quora_test_list = quora_test_df['question_text_nlp'].to_list()\n",
    "quora_test_list_flat = list(itertools.chain(*quora_test_list))\n",
    "\n",
    "quora_test_freq_counter = Counter(quora_test_list_flat)\n",
    "quora_test_freq_df = pd.DataFrame.from_dict(quora_test_freq_counter, orient='index').reset_index()\n",
    "quora_test_freq_df.rename(columns={'index':'Word',0:'Frequency'},inplace=True)\n",
    "\n",
    "print('\\033[1m' + 'The Frequency of Words in Testing Dataset (Tokenized with Spacy) is:' + '\\033[0m' + '\\n')\n",
    "print(quora_test_freq_df)\n",
    "print('\\n')"
   ]
  },
  {
   "cell_type": "markdown",
   "id": "3e041c5f-4844-425b-9954-686b5310b45c",
   "metadata": {},
   "source": [
    "### Word Cloud for Training Data"
   ]
  },
  {
   "cell_type": "code",
   "execution_count": 8,
   "id": "9c590911-32a0-4e28-8983-32ef0e593f20",
   "metadata": {},
   "outputs": [
    {
     "data": {
      "image/png": "[encoded data removed]",
      "text/plain": [
       "<Figure size 720x720 with 1 Axes>"
      ]
     },
     "metadata": {},
     "output_type": "display_data"
    }
   ],
   "source": [
    "from wordcloud import WordCloud, STOPWORDS, ImageColorGenerator \n",
    "\n",
    "# Training word's WordCloud \n",
    "quora_train_freq_df = quora_train_freq_df.sort_values(by=['Frequency'],ascending=False) \n",
    "quora_train_freq_df_dd = pd.DataFrame(data=list(quora_train_freq_df['Frequency']),index=list(quora_train_freq_df['Word'])) \n",
    "quora_train_freq_dict = (quora_train_freq_df_dd.to_dict())[0]\n",
    "\n",
    "word_cloud = WordCloud(max_font_size=50, max_words=100, background_color=\"white\") \n",
    "word_cloud.generate_from_frequencies(quora_train_freq_dict) \n",
    "plt.figure(figsize = (10,10)) \n",
    "plt.imshow(word_cloud, interpolation=\"bilinear\") \n",
    "plt.axis(\"off\") \n",
    "plt.title(\"Word Cloud (Training Data)\\n\",fontsize = 15)  \n",
    "plt.show() "
   ]
  },
  {
   "cell_type": "markdown",
   "id": "2b90577b-9a23-450f-b243-23bf8536e885",
   "metadata": {},
   "source": [
    "### Word Cloud for Testing Data"
   ]
  },
  {
   "cell_type": "code",
   "execution_count": 9,
   "id": "3055c583-dba0-436b-a1d7-233dce6dfce6",
   "metadata": {},
   "outputs": [
    {
     "data": {
      "image/png": "[encoded data removed]",
      "text/plain": [
       "<Figure size 720x720 with 1 Axes>"
      ]
     },
     "metadata": {},
     "output_type": "display_data"
    }
   ],
   "source": [
    "# Testing word's WordCloud \n",
    "quora_test_freq_df = quora_test_freq_df.sort_values(by=['Frequency'],ascending=False) \n",
    "quora_test_freq_df_dd = pd.DataFrame(data=list(quora_test_freq_df['Frequency']),index=list(quora_test_freq_df['Word'])) \n",
    "quora_test_freq_dict = (quora_test_freq_df_dd.to_dict())[0]\n",
    "\n",
    "word_cloud = WordCloud(max_font_size=50, max_words=100, background_color=\"white\") \n",
    "word_cloud.generate_from_frequencies(quora_test_freq_dict) \n",
    "plt.figure(figsize = (10,10)) \n",
    "plt.imshow(word_cloud, interpolation=\"bilinear\") \n",
    "plt.axis(\"off\") \n",
    "plt.title(\"Word Cloud (Testing Data)\\n\",fontsize = 15)\n",
    "plt.show() "
   ]
  },
  {
   "cell_type": "markdown",
   "id": "1275c4f1-7ddd-406c-a9c9-cdec6afe3463",
   "metadata": {},
   "source": [
    "### Concatenating quora_train_dict_idf and quora_train_dict_idf to create Global Dictionary with word as key and IDF as values"
   ]
  },
  {
   "cell_type": "code",
   "execution_count": 10,
   "id": "52466816-79c4-4e68-a0d1-8898ac47cf28",
   "metadata": {},
   "outputs": [],
   "source": [
    "# Adding column to distinguish between Training and Testing Data\n",
    "\n",
    "# Training Data\n",
    "quora_train_freq_df.insert(loc=2,value=(quora_train_freq_df.shape[0]*[0]),column='Is_Testing_Data')\n",
    "\n",
    "# Testing Data\n",
    "quora_test_freq_df.insert(loc=2,value=(quora_test_freq_df.shape[0]*[1]),column='Is_Testing_Data')"
   ]
  },
  {
   "cell_type": "code",
   "execution_count": 11,
   "id": "04b59146-b95b-4826-a047-7da07e5e7459",
   "metadata": {},
   "outputs": [],
   "source": [
    "quora_tt_freq_df =  pd.concat([quora_train_freq_df,quora_test_freq_df])\n",
    "quora_tt_freq_df = quora_tt_freq_df.reset_index(drop=True)"
   ]
  },
  {
   "cell_type": "code",
   "execution_count": 12,
   "id": "2918c368-d082-458e-b298-051b92a96764",
   "metadata": {},
   "outputs": [],
   "source": [
    "# Training Data\n",
    "quora_train_df.insert(loc=2,value=(quora_train_df.shape[0]*[0]),column='Is_Testing_Data')\n",
    "\n",
    "# Testing Data\n",
    "quora_test_df.insert(loc=2,value=(quora_test_df.shape[0]*[1]),column='Is_Testing_Data')"
   ]
  },
  {
   "cell_type": "code",
   "execution_count": 13,
   "id": "02e6e32d-2e48-412f-995a-f12eb9cb7bb7",
   "metadata": {},
   "outputs": [],
   "source": [
    "quora_tt_df =  pd.concat([quora_train_df,quora_test_df])\n",
    "quora_tt_df = quora_tt_df.reset_index(drop=True)\n",
    "quora_tt_df = quora_tt_df.fillna(-1)"
   ]
  },
  {
   "cell_type": "markdown",
   "id": "0c1abbaa-c755-4ee7-8fda-55d0c0667b84",
   "metadata": {},
   "source": [
    "### Unique Word Calculation for IDF (Function)"
   ]
  },
  {
   "cell_type": "code",
   "execution_count": 14,
   "id": "abb134e1-acd8-46d0-9b82-6083d468fc4a",
   "metadata": {},
   "outputs": [],
   "source": [
    "def each_row_word_count(question_text_nlp):\n",
    "    row_word_count = dict(Counter(question_text_nlp))\n",
    "    return [row_word_count]"
   ]
  },
  {
   "cell_type": "code",
   "execution_count": 15,
   "id": "a6acdc28-efab-4ce3-8447-65674b73aed2",
   "metadata": {},
   "outputs": [],
   "source": [
    "def each_row_unique_word(row_word_count):\n",
    "    row_unique_word = list(row_word_count[0].keys())\n",
    "    return row_unique_word"
   ]
  },
  {
   "cell_type": "markdown",
   "id": "64e3bebd-6829-416a-ba48-705b0ca66f16",
   "metadata": {},
   "source": [
    "### IDF Calculation of Training Dataset (Function)"
   ]
  },
  {
   "cell_type": "code",
   "execution_count": 16,
   "id": "ec07ccdf-3899-40d6-8dfb-670766af663a",
   "metadata": {},
   "outputs": [],
   "source": [
    "import math\n",
    "\n",
    "row_train_N = quora_train_df.shape[0]\n",
    "\n",
    "def each_train_row_IDF(row_DF):\n",
    "    row_IDF = math.log10(row_train_N/row_DF)\n",
    "    return row_IDF"
   ]
  },
  {
   "cell_type": "markdown",
   "id": "4c33b52b-f366-4df4-aeb0-a9a51e467dcf",
   "metadata": {},
   "source": [
    "### IDF Calculation of Testing Dataset (Function)"
   ]
  },
  {
   "cell_type": "code",
   "execution_count": 17,
   "id": "b8cc8a55-f34e-4729-9332-e65bc0ff52d3",
   "metadata": {},
   "outputs": [],
   "source": [
    "row_test_N = quora_test_df.shape[0]\n",
    "\n",
    "def each_test_row_IDF(row_DF):\n",
    "    row_IDF = math.log10(row_test_N/row_DF)\n",
    "    return row_IDF"
   ]
  },
  {
   "cell_type": "markdown",
   "id": "34db1b3b-6a75-40b5-b6e9-2504c2fa1a94",
   "metadata": {},
   "source": [
    "### IDF Calculation of Combined Training and Testing Dataset (Function)"
   ]
  },
  {
   "cell_type": "code",
   "execution_count": 18,
   "id": "2319e000-08aa-482f-89d6-905a5ec2dda5",
   "metadata": {},
   "outputs": [],
   "source": [
    "row_tt_N = quora_tt_df.shape[0]\n",
    "\n",
    "def each_tt_row_IDF(row_DF):\n",
    "    row_IDF = math.log10(row_tt_N/row_DF)\n",
    "    return row_IDF"
   ]
  },
  {
   "cell_type": "markdown",
   "id": "9dd84985-5ecc-488f-82b8-bdcc2d368c6c",
   "metadata": {},
   "source": [
    "### Calculation of IDF for Training Dataset"
   ]
  },
  {
   "cell_type": "code",
   "execution_count": 19,
   "id": "92687d9f-84c4-4488-8a59-325e86343b9b",
   "metadata": {},
   "outputs": [
    {
     "data": {
      "application/vnd.jupyter.widget-view+json": {
       "model_id": "5df10cbdc64d405ba4d6e37a10241742",
       "version_major": 2,
       "version_minor": 0
      },
      "text/plain": [
       "  0%|          | 0/260169 [00:00<?, ?it/s]"
      ]
     },
     "metadata": {},
     "output_type": "display_data"
    },
    {
     "name": "stdout",
     "output_type": "stream",
     "text": [
      "\u001b[1mThe Frequency of Words with Inverse Document Frequency (IDF) in Training Dataset (Tokenized with Spacy) is:\u001b[0m\n",
      "\n",
      "                Word Document Frequency       IDF\n",
      "0                How             261402  0.698675\n",
      "1                did              36603  1.552467\n",
      "2             Quebec                152  3.934140\n",
      "3       nationalists                127  4.012180\n",
      "4                see               9259  2.149420\n",
      "...              ...                ...       ...\n",
      "260164          60+%                  1  6.115984\n",
      "260165        Westen                  1  6.115984\n",
      "260166    statechart                  1  6.115984\n",
      "260167      BrainPOP                  1  6.115984\n",
      "260168   filteration                  1  6.115984\n",
      "\n",
      "[260169 rows x 3 columns]\n",
      "\n",
      "\n"
     ]
    }
   ],
   "source": [
    "from tqdm.auto import tqdm\n",
    "tqdm.pandas()\n",
    "\n",
    "quora_train_list = [0]*((quora_train_df.shape)[0])\n",
    "quora_train_df.insert(loc=3,column='Word_Count',value=quora_train_list)\n",
    "quora_train_df = quora_train_df.astype('object')\n",
    "\n",
    "quora_train_df['Word_Count'] = quora_train_df['question_text_nlp'].apply(each_row_word_count)\n",
    "quora_train_df['Word_Count'] = quora_train_df['Word_Count'].apply(each_row_unique_word)\n",
    "\n",
    "quora_train_freq_list = quora_train_df['Word_Count'].to_list()\n",
    "quora_train_freq_list_flat = list(itertools.chain(*quora_train_freq_list))\n",
    "\n",
    "quora_train_freq_dict_flat = dict(Counter(quora_train_freq_list_flat))\n",
    "del quora_train_freq_df\n",
    "\n",
    "quora_train_freq_df = pd.DataFrame(data=list(quora_train_freq_dict_flat.keys()),columns=['Word'])\n",
    "quora_train_freq_df.insert(loc=1,value=list(quora_train_freq_dict_flat.values()),column='Document Frequency')\n",
    "quora_train_freq_df = quora_train_freq_df.astype('object')\n",
    "\n",
    "# Calculating IDF for Training Data\n",
    "quora_train_freq_list = [0]*((quora_train_freq_df.shape)[0]) \n",
    "quora_train_freq_df.insert(loc=2,column='IDF',value=quora_train_freq_list)\n",
    "quora_train_freq_df = quora_train_freq_df.astype('object')\n",
    "\n",
    "quora_train_freq_df['IDF'] = quora_train_freq_df['Document Frequency'].progress_apply(each_train_row_IDF)\n",
    "\n",
    "print('\\033[1m' + 'The Frequency of Words with Inverse Document Frequency (IDF) in Training Dataset (Tokenized with Spacy) is:' + '\\033[0m' + '\\n')\n",
    "print(quora_train_freq_df)\n",
    "print('\\n')"
   ]
  },
  {
   "cell_type": "markdown",
   "id": "5f1d67a7-0b31-4eda-bce2-2e5ab061efc6",
   "metadata": {},
   "source": [
    "### Calculation of IDF for Testing Dataset"
   ]
  },
  {
   "cell_type": "code",
   "execution_count": 20,
   "id": "81d6fc32-5c24-46c5-a5be-08ff1d1fd4ab",
   "metadata": {},
   "outputs": [
    {
     "data": {
      "application/vnd.jupyter.widget-view+json": {
       "model_id": "01604b10cd6c46628afc960e737e9ebf",
       "version_major": 2,
       "version_minor": 0
      },
      "text/plain": [
       "  0%|          | 0/128499 [00:00<?, ?it/s]"
      ]
     },
     "metadata": {},
     "output_type": "display_data"
    },
    {
     "name": "stdout",
     "output_type": "stream",
     "text": [
      "\u001b[1mThe Frequency of Words with Inverse Document Frequency (IDF) in Testing Dataset (Tokenized with Spacy) is:\u001b[0m\n",
      "\n",
      "                 Word Document Frequency       IDF\n",
      "0                 Why              41016  0.962010\n",
      "1                  do              60920  0.790204\n",
      "2                  so              10369  1.559227\n",
      "3                many               6711  1.748176\n",
      "4               women               3372  2.047076\n",
      "...               ...                ...       ...\n",
      "128494         jingle                  1  5.574964\n",
      "128495           6740                  1  5.574964\n",
      "128496  consequence(s                  1  5.574964\n",
      "128497        lineral                  1  5.574964\n",
      "128498          indua                  1  5.574964\n",
      "\n",
      "[128499 rows x 3 columns]\n",
      "\n",
      "\n"
     ]
    }
   ],
   "source": [
    "quora_test_list = [0]*((quora_test_df.shape)[0])\n",
    "quora_test_df.insert(loc=3,column='Word_Count',value=quora_test_list)\n",
    "quora_test_df = quora_test_df.astype('object')\n",
    "\n",
    "quora_test_df['Word_Count'] = quora_test_df['question_text_nlp'].apply(each_row_word_count)\n",
    "quora_test_df['Word_Count'] = quora_test_df['Word_Count'].apply(each_row_unique_word)\n",
    "\n",
    "quora_test_freq_list = quora_test_df['Word_Count'].to_list()\n",
    "quora_test_freq_list_flat = list(itertools.chain(*quora_test_freq_list))\n",
    "\n",
    "quora_test_freq_dict_flat = dict(Counter(quora_test_freq_list_flat))\n",
    "del quora_test_freq_df\n",
    "\n",
    "quora_test_freq_df = pd.DataFrame(data=list(quora_test_freq_dict_flat.keys()),columns=['Word'])\n",
    "quora_test_freq_df.insert(loc=1,value=list(quora_test_freq_dict_flat.values()),column='Document Frequency')\n",
    "quora_test_freq_df = quora_test_freq_df.astype('object')\n",
    "\n",
    "# Calculating IDF for Testing Data\n",
    "quora_test_freq_list = [0]*((quora_test_freq_df.shape)[0]) \n",
    "quora_test_freq_df.insert(loc=2,column='IDF',value=quora_test_freq_list)\n",
    "quora_test_freq_df = quora_test_freq_df.astype('object')\n",
    "\n",
    "quora_test_freq_df['IDF'] = quora_test_freq_df['Document Frequency'].progress_apply(each_test_row_IDF)\n",
    "\n",
    "print('\\033[1m' + 'The Frequency of Words with Inverse Document Frequency (IDF) in Testing Dataset (Tokenized with Spacy) is:' + '\\033[0m' + '\\n')\n",
    "print(quora_test_freq_df)\n",
    "print('\\n')"
   ]
  },
  {
   "cell_type": "markdown",
   "id": "e0b15609-77c8-4d65-8a93-066f27637349",
   "metadata": {},
   "source": [
    "### Calculation of IDF for Combined Training and Testing Dataset"
   ]
  },
  {
   "cell_type": "code",
   "execution_count": 21,
   "id": "bc46610f-0b5f-4ad5-b909-f5283b604260",
   "metadata": {},
   "outputs": [
    {
     "data": {
      "application/vnd.jupyter.widget-view+json": {
       "model_id": "6a197872ba4d4266a3f9734b64d6549f",
       "version_major": 2,
       "version_minor": 0
      },
      "text/plain": [
       "  0%|          | 0/301079 [00:00<?, ?it/s]"
      ]
     },
     "metadata": {},
     "output_type": "display_data"
    },
    {
     "name": "stdout",
     "output_type": "stream",
     "text": [
      "\u001b[1mThe Frequency of Words with Inverse Document Frequency (IDF) in Combined Training and Testing Dataset (Tokenized with Spacy) is:\u001b[0m\n",
      "\n",
      "                Word Document Frequency       IDF\n",
      "0                How             335758  0.699781\n",
      "1                did              47161  1.552224\n",
      "2             Quebec                184  3.960990\n",
      "3       nationalists                169  3.997921\n",
      "4                see              11918  2.149604\n",
      "...              ...                ...       ...\n",
      "301074           नीच                  1  6.225807\n",
      "301075        टुच्चा                  1  6.225807\n",
      "301076        Miklos                  1  6.225807\n",
      "301077          6740                  1  6.225807\n",
      "301078         indua                  1  6.225807\n",
      "\n",
      "[301079 rows x 3 columns]\n",
      "\n",
      "\n"
     ]
    }
   ],
   "source": [
    "quora_tt_list = [0]*((quora_tt_df.shape)[0])\n",
    "quora_tt_df.insert(loc=3,column='Word_Count',value=quora_tt_list)\n",
    "quora_tt_df = quora_tt_df.astype('object')\n",
    "\n",
    "quora_tt_df['Word_Count'] = quora_tt_df['question_text_nlp'].apply(each_row_word_count)\n",
    "quora_tt_df['Word_Count'] = quora_tt_df['Word_Count'].apply(each_row_unique_word)\n",
    "\n",
    "quora_tt_freq_list = quora_tt_df['Word_Count'].to_list()\n",
    "quora_tt_freq_list_flat = list(itertools.chain(*quora_tt_freq_list))\n",
    "\n",
    "quora_tt_freq_dict_flat = dict(Counter(quora_tt_freq_list_flat))\n",
    "del quora_tt_freq_df\n",
    "\n",
    "quora_tt_freq_df = pd.DataFrame(data=list(quora_tt_freq_dict_flat.keys()),columns=['Word'])\n",
    "quora_tt_freq_df.insert(loc=1,value=list(quora_tt_freq_dict_flat.values()),column='Document Frequency')\n",
    "quora_tt_freq_df = quora_tt_freq_df.astype('object')\n",
    "\n",
    "# Calculating IDF for Combined Training and Testing Data\n",
    "quora_tt_freq_list = [0]*((quora_tt_freq_df.shape)[0]) \n",
    "quora_tt_freq_df.insert(loc=2,column='IDF',value=quora_tt_freq_list)\n",
    "quora_tt_freq_df = quora_tt_freq_df.astype('object')\n",
    "\n",
    "quora_tt_freq_df['IDF'] = quora_tt_freq_df['Document Frequency'].progress_apply(each_tt_row_IDF)\n",
    "\n",
    "print('\\033[1m' + 'The Frequency of Words with Inverse Document Frequency (IDF) in Combined Training and Testing Dataset (Tokenized with Spacy) is:' + '\\033[0m' + '\\n')\n",
    "print(quora_tt_freq_df)\n",
    "print('\\n')"
   ]
  },
  {
   "cell_type": "markdown",
   "id": "0bb09de1-9104-4ed9-9e03-aca4f2f1e0cc",
   "metadata": {
    "tags": []
   },
   "source": [
    "### Calculating the Maximum length of a Sentence in either Training or Testing Data for Token Encoding (Giving Unique ID to each word)"
   ]
  },
  {
   "cell_type": "code",
   "execution_count": 22,
   "id": "b89d1500-9d8f-4ab2-9957-4b4a2156c5c3",
   "metadata": {},
   "outputs": [
    {
     "data": {
      "application/vnd.jupyter.widget-view+json": {
       "model_id": "1c8d568b699e484fb10ddb802c0f38f5",
       "version_major": 2,
       "version_minor": 0
      },
      "text/plain": [
       "  0%|          | 0/1306122 [00:00<?, ?it/s]"
      ]
     },
     "metadata": {},
     "output_type": "display_data"
    },
    {
     "data": {
      "application/vnd.jupyter.widget-view+json": {
       "model_id": "03871a072e1f4f0581036da573b07121",
       "version_major": 2,
       "version_minor": 0
      },
      "text/plain": [
       "  0%|          | 0/375806 [00:00<?, ?it/s]"
      ]
     },
     "metadata": {},
     "output_type": "display_data"
    }
   ],
   "source": [
    "max_sentence_length_train = max(quora_train_df['question_text_nlp'].progress_apply(len).to_list())\n",
    "max_sentence_length_test = max(quora_test_df['question_text_nlp'].progress_apply(len).to_list())\n",
    "\n",
    "if (max_sentence_length_train >= max_sentence_length_test):\n",
    "    max_sentence_length_quora = max_sentence_length_train\n",
    "elif (max_sentence_length_train < max_sentence_length_test):\n",
    "    max_sentence_length_quora = max_sentence_length_test\n",
    "else:\n",
    "    pass"
   ]
  },
  {
   "cell_type": "markdown",
   "id": "e48d0c79-dcc8-4440-bc3d-1e31527a72ed",
   "metadata": {},
   "source": [
    "### Creating a Dictionary with word as key and IDF as values"
   ]
  },
  {
   "cell_type": "code",
   "execution_count": 23,
   "id": "417f52e1-6fbf-4892-9c3f-615bde8ca54d",
   "metadata": {},
   "outputs": [],
   "source": [
    "# Dictionary with {word:IDF} format for Training Data\n",
    "quora_train_dict_idf = dict(quora_train_freq_df.loc[:,['Word','IDF']].values)\n",
    "\n",
    "# Dictionary with {word:IDF} format for Testing Data\n",
    "quora_test_dict_idf = dict(quora_test_freq_df.loc[:,['Word','IDF']].values)\n",
    "\n",
    "# Dictionary with {word:IDF} format for Combined Training and Testing Data\n",
    "quora_tt_dict_idf = dict(quora_tt_freq_df.loc[:,['Word','IDF']].values)"
   ]
  },
  {
   "cell_type": "markdown",
   "id": "0101305e-b9f7-413f-afab-aa3b16c4c314",
   "metadata": {},
   "source": [
    "### Giving Unique ID to Each Word in Training and Testing Data (Function)"
   ]
  },
  {
   "cell_type": "code",
   "execution_count": 24,
   "id": "eb39737a-f1d7-4cdb-baef-87ad5f4ee349",
   "metadata": {},
   "outputs": [],
   "source": [
    "def each_word_id_grant(nor_num):\n",
    "    return nor_num+1"
   ]
  },
  {
   "cell_type": "markdown",
   "id": "495cd5df-87a8-41c6-a959-00155f64f68c",
   "metadata": {},
   "source": [
    "### Giving each word Unique ID in Training Data"
   ]
  },
  {
   "cell_type": "code",
   "execution_count": 25,
   "id": "9f0e3d2e-c0b8-4f2c-82b8-4452668beb71",
   "metadata": {},
   "outputs": [
    {
     "data": {
      "application/vnd.jupyter.widget-view+json": {
       "model_id": "82498d9b45da488aa421c29b83d4cfed",
       "version_major": 2,
       "version_minor": 0
      },
      "text/plain": [
       "  0%|          | 0/260169 [00:00<?, ?it/s]"
      ]
     },
     "metadata": {},
     "output_type": "display_data"
    }
   ],
   "source": [
    "# Inserting row in Training Data and giving each word Unique ID\n",
    "quora_train_freq_df.insert(loc=0,value=list(quora_train_freq_df.index),column='word_id')\n",
    "quora_train_freq_df['word_id'] = quora_train_freq_df['word_id'].progress_apply(each_word_id_grant)"
   ]
  },
  {
   "cell_type": "markdown",
   "id": "eaf62d77-5eb9-4298-b415-c919ef648c47",
   "metadata": {},
   "source": [
    "### Giving each word Unique ID in Testing Data"
   ]
  },
  {
   "cell_type": "code",
   "execution_count": 26,
   "id": "617bfb6d-5a91-42a1-bc87-f283510f9b18",
   "metadata": {},
   "outputs": [
    {
     "data": {
      "application/vnd.jupyter.widget-view+json": {
       "model_id": "23b7395d15154a598b4bd918923f2486",
       "version_major": 2,
       "version_minor": 0
      },
      "text/plain": [
       "  0%|          | 0/128499 [00:00<?, ?it/s]"
      ]
     },
     "metadata": {},
     "output_type": "display_data"
    }
   ],
   "source": [
    "# Inserting row in Testing Data and giving each word Unique ID\n",
    "quora_test_freq_df.insert(loc=0,value=list(quora_test_freq_df.index),column='word_id')\n",
    "quora_test_freq_df['word_id'] = quora_test_freq_df['word_id'].progress_apply(each_word_id_grant)\n",
    "quora_test_freq_df['word_id'] = quora_test_freq_df['word_id']+(quora_train_freq_df.loc[quora_train_freq_df.shape[0]-1,'word_id'])"
   ]
  },
  {
   "cell_type": "markdown",
   "id": "ee8a2485-a50b-4fed-ac7e-a4bfb4371893",
   "metadata": {},
   "source": [
    "### Giving each word Unique ID in Combined Training and Testing Data"
   ]
  },
  {
   "cell_type": "code",
   "execution_count": 27,
   "id": "39c3169b-f36f-4a83-b25d-0af7136f1417",
   "metadata": {},
   "outputs": [
    {
     "data": {
      "application/vnd.jupyter.widget-view+json": {
       "model_id": "9e8ce832e3c74f928dc06716d9056fa1",
       "version_major": 2,
       "version_minor": 0
      },
      "text/plain": [
       "  0%|          | 0/301079 [00:00<?, ?it/s]"
      ]
     },
     "metadata": {},
     "output_type": "display_data"
    }
   ],
   "source": [
    "# Inserting row in Combined Training and Testing Data and giving each word Unique ID\n",
    "quora_tt_freq_df.insert(loc=0,value=list(quora_tt_freq_df.index),column='word_id')\n",
    "quora_tt_freq_df['word_id'] = quora_tt_freq_df['word_id'].progress_apply(each_word_id_grant)"
   ]
  },
  {
   "cell_type": "markdown",
   "id": "e7f0fc04-95eb-4631-98c0-0e7c9fef7340",
   "metadata": {},
   "source": [
    "### Creating a Dictionary with key as Word and Value as Unique Word ID"
   ]
  },
  {
   "cell_type": "code",
   "execution_count": 28,
   "id": "da60ae0f-5217-4f38-a781-94ec8fb7d0a7",
   "metadata": {},
   "outputs": [],
   "source": [
    "# Creating a Dictionary with {word:word_id} format in Training Data\n",
    "quora_train_word_dict = dict(quora_train_freq_df.loc[:,['Word','word_id']].values)\n",
    "\n",
    "# Creating a Dictionary with {word:word_id} format in Testing Data\n",
    "quora_test_word_dict = dict(quora_test_freq_df.loc[:,['Word','word_id']].values)\n",
    "\n",
    "# Creating a Dictionary with {word:word_id} format in Combined Training and Testing Data\n",
    "quora_tt_word_dict = dict(quora_tt_freq_df.loc[:,['Word','word_id']].values)"
   ]
  },
  {
   "cell_type": "markdown",
   "id": "9b648b00-b0de-474e-93a6-47929e0cd11b",
   "metadata": {},
   "source": [
    "### Replacing Tokens of each sentence with their Unique Word ID's in Training Data (Function)"
   ]
  },
  {
   "cell_type": "code",
   "execution_count": 29,
   "id": "139d1861-ccc3-47e9-8016-e0bd0d97ba9b",
   "metadata": {},
   "outputs": [],
   "source": [
    "def row_train_encoding_words(row_keys):\n",
    "    train_encoding_words_list = [quora_train_word_dict.get(row_key) for row_key in row_keys]\n",
    "    return train_encoding_words_list"
   ]
  },
  {
   "cell_type": "markdown",
   "id": "9fa840fb-7dec-48eb-a871-229eec2654d0",
   "metadata": {},
   "source": [
    "### Replacing Tokens of each sentence with their Unique Word ID's in Testing Data (Function)"
   ]
  },
  {
   "cell_type": "code",
   "execution_count": 30,
   "id": "5d30450c-a128-4d96-b7d5-2f9607f4ecba",
   "metadata": {},
   "outputs": [],
   "source": [
    "def row_test_encoding_words(row_keys):\n",
    "    test_encoding_words_list = [quora_test_word_dict.get(row_key) for row_key in row_keys]\n",
    "    return test_encoding_words_list"
   ]
  },
  {
   "cell_type": "markdown",
   "id": "a30c74c2-b5b4-4a6a-babb-23958d802ec8",
   "metadata": {},
   "source": [
    "### Replacing Tokens of each sentence with their Unique Word ID's in Combined Training and Testing Data (Function)"
   ]
  },
  {
   "cell_type": "code",
   "execution_count": 31,
   "id": "d7a165b5-a192-47c2-8dca-bd88c8a5685d",
   "metadata": {},
   "outputs": [],
   "source": [
    "def row_tt_encoding_words(row_keys):\n",
    "    tt_encoding_words_list = [quora_tt_word_dict.get(row_key) for row_key in row_keys]\n",
    "    return tt_encoding_words_list"
   ]
  },
  {
   "cell_type": "markdown",
   "id": "5737c50b-b1c0-47dd-b9a0-3dd12027f9f3",
   "metadata": {},
   "source": [
    "### Replacing Tokens of each sentence with their Unique Word ID's in DataFrame in Training Data"
   ]
  },
  {
   "cell_type": "code",
   "execution_count": 32,
   "id": "cecc1647-e3c8-431e-8e01-8284844806bb",
   "metadata": {},
   "outputs": [
    {
     "data": {
      "application/vnd.jupyter.widget-view+json": {
       "model_id": "3f33f22e4c364c689fbd2f90ec1e34f3",
       "version_major": 2,
       "version_minor": 0
      },
      "text/plain": [
       "  0%|          | 0/1306122 [00:00<?, ?it/s]"
      ]
     },
     "metadata": {},
     "output_type": "display_data"
    },
    {
     "name": "stdout",
     "output_type": "stream",
     "text": [
      "\u001b[1mThe Encoded Word Tokens in Training Dataset (Tokenized with Spacy) is:\u001b[0m\n",
      "\n",
      "0            [1, 2, 3, 4, 5, 6, 7, 8, 9, 10, 11, 12, 13, 14]\n",
      "1          [15, 16, 17, 18, 19, 20, 21, 22, 23, 16, 24, 2...\n",
      "2           [31, 32, 33, 34, 35, 14, 36, 33, 34, 37, 38, 14]\n",
      "3                     [1, 2, 39, 40, 41, 42, 12, 43, 44, 14]\n",
      "4          [45, 46, 47, 48, 49, 50, 26, 9, 51, 52, 53, 54...\n",
      "                                 ...                        \n",
      "1306117    [128, 804, 10259, 5574, 75, 16, 369, 8, 9, 423...\n",
      "1306118    [36, 2764, 11, 4856, 17, 174, 1438, 3200, 11, ...\n",
      "1306119                         [57, 12591, 27620, 5732, 14]\n",
      "1306120    [1, 129, 404, 735, 9, 1858, 428, 603, 519, 123...\n",
      "1306121    [679, 2557, 11, 9, 3815, 313, 9, 28466, 28, 9,...\n",
      "Name: question_text_encode, Length: 1306122, dtype: object\n",
      "\n",
      "\n"
     ]
    }
   ],
   "source": [
    "quora_train_list = [0]*((quora_train_df.shape)[0])\n",
    "quora_train_df.insert(loc=3,column='question_text_encode',value=quora_train_list)\n",
    "quora_train_df = quora_train_df.astype('object')\n",
    "\n",
    "quora_train_df['question_text_encode'] = quora_train_df['question_text_nlp'].progress_apply(row_train_encoding_words)\n",
    "\n",
    "print('\\033[1m' + 'The Encoded Word Tokens in Training Dataset (Tokenized with Spacy) is:' + '\\033[0m' + '\\n')\n",
    "print(quora_train_df['question_text_encode'])\n",
    "print('\\n')"
   ]
  },
  {
   "cell_type": "markdown",
   "id": "18d8d1e9-eca9-4ab5-930d-23bc34590c91",
   "metadata": {},
   "source": [
    "### Replacing Tokens of each sentence with their Unique Word ID's in DataFrame in Testing Data"
   ]
  },
  {
   "cell_type": "code",
   "execution_count": 33,
   "id": "96edf46c-4622-402d-90f1-aec5d9ec037e",
   "metadata": {},
   "outputs": [
    {
     "data": {
      "application/vnd.jupyter.widget-view+json": {
       "model_id": "b364007a0e9c47049db335a1359b7a69",
       "version_major": 2,
       "version_minor": 0
      },
      "text/plain": [
       "  0%|          | 0/375806 [00:00<?, ?it/s]"
      ]
     },
     "metadata": {},
     "output_type": "display_data"
    },
    {
     "name": "stdout",
     "output_type": "stream",
     "text": [
      "\u001b[1mThe Encoded Word Tokens in Testing Dataset (Tokenized with Spacy) is:\u001b[0m\n",
      "\n",
      "0         [260170, 260171, 260172, 260173, 260174, 26017...\n",
      "1         [260190, 260191, 260192, 260193, 260194, 26019...\n",
      "2         [260209, 260210, 260211, 260212, 260213, 26020...\n",
      "3                          [260217, 260218, 260219, 260189]\n",
      "4         [260220, 260221, 260212, 260222, 260223, 26022...\n",
      "                                ...                        \n",
      "375801    [260226, 260173, 262619, 267097, 260233, 27123...\n",
      "375802    [260220, 260609, 260658, 263722, 260207, 27588...\n",
      "375803    [260480, 260192, 260238, 260625, 260264, 26363...\n",
      "375804    [260209, 260218, 260201, 264803, 260186, 28838...\n",
      "375805    [285136, 261770, 260210, 260183, 274188, 26444...\n",
      "Name: question_text_encode, Length: 375806, dtype: object\n",
      "\n",
      "\n"
     ]
    }
   ],
   "source": [
    "quora_test_list = [0]*((quora_test_df.shape)[0])\n",
    "quora_test_df.insert(loc=3,column='question_text_encode',value=quora_test_list)\n",
    "quora_test_df = quora_test_df.astype('object')\n",
    "\n",
    "quora_test_df['question_text_encode'] = quora_test_df['question_text_nlp'].progress_apply(row_test_encoding_words)\n",
    "\n",
    "print('\\033[1m' + 'The Encoded Word Tokens in Testing Dataset (Tokenized with Spacy) is:' + '\\033[0m' + '\\n')\n",
    "print(quora_test_df['question_text_encode'])\n",
    "print('\\n')"
   ]
  },
  {
   "cell_type": "markdown",
   "id": "271057b7-0aeb-4bda-89db-0112b5e1e5f9",
   "metadata": {},
   "source": [
    "### Replacing Tokens of each sentence with their Unique Word ID's in DataFrame in Combined Training and Testing Data"
   ]
  },
  {
   "cell_type": "code",
   "execution_count": 34,
   "id": "c1197e94-b9de-469d-af71-256275122123",
   "metadata": {},
   "outputs": [
    {
     "data": {
      "application/vnd.jupyter.widget-view+json": {
       "model_id": "ebb4b1eb9e67420ba6a2ce9070e14e68",
       "version_major": 2,
       "version_minor": 0
      },
      "text/plain": [
       "  0%|          | 0/1681928 [00:00<?, ?it/s]"
      ]
     },
     "metadata": {},
     "output_type": "display_data"
    },
    {
     "name": "stdout",
     "output_type": "stream",
     "text": [
      "\u001b[1mThe Encoded Word Tokens in Combined Training and Testing Dataset (Tokenized with Spacy) is:\u001b[0m\n",
      "\n",
      "0            [1, 2, 3, 4, 5, 6, 7, 8, 9, 10, 11, 12, 13, 14]\n",
      "1          [15, 16, 17, 18, 19, 20, 21, 22, 23, 16, 24, 2...\n",
      "2           [31, 32, 33, 34, 35, 14, 36, 33, 34, 37, 38, 14]\n",
      "3                     [1, 2, 39, 40, 41, 42, 12, 43, 44, 14]\n",
      "4          [45, 46, 47, 48, 49, 50, 26, 9, 51, 52, 53, 54...\n",
      "                                 ...                        \n",
      "1681923    [1, 196, 625, 967, 11, 11875, 5900, 11, 301079...\n",
      "1681924    [57, 91, 18, 1863, 26, 4363, 519, 10081, 10317...\n",
      "1681925    [362, 46, 129, 173, 605, 4747, 1574, 11, 2789,...\n",
      "1681926        [128, 88, 12, 1982, 182, 14134, 182, 276, 14]\n",
      "1681927    [53029, 127, 97, 9, 14959, 5121, 90, 1, 471, 3...\n",
      "Name: question_text_encode, Length: 1681928, dtype: object\n",
      "\n",
      "\n"
     ]
    }
   ],
   "source": [
    "quora_tt_list = [0]*((quora_tt_df.shape)[0])\n",
    "quora_tt_df.insert(loc=3,column='question_text_encode',value=quora_tt_list)\n",
    "quora_tt_df = quora_tt_df.astype('object')\n",
    "\n",
    "quora_tt_df['question_text_encode'] = quora_tt_df['question_text_nlp'].progress_apply(row_tt_encoding_words)\n",
    "\n",
    "print('\\033[1m' + 'The Encoded Word Tokens in Combined Training and Testing Dataset (Tokenized with Spacy) is:' + '\\033[0m' + '\\n')\n",
    "print(quora_tt_df['question_text_encode'])\n",
    "print('\\n')"
   ]
  },
  {
   "cell_type": "markdown",
   "id": "99bed95c-4738-40f6-a610-96877dfc8180",
   "metadata": {},
   "source": [
    "### Replacing DataFrame column that contains sentence with Unique Word ID, with padded sentence with Unique Word ID (Function)"
   ]
  },
  {
   "cell_type": "code",
   "execution_count": 35,
   "id": "95140e0a-2f1f-4bc8-a962-78b5d95ffbca",
   "metadata": {},
   "outputs": [],
   "source": [
    "from tqdm.auto import tqdm,trange\n",
    "tqdm.pandas()\n",
    "\n",
    "def quora_column_replace(quora_sequences_list,quora_sequences_df):\n",
    "    for i in trange(len(quora_sequences_list)):\n",
    "        quora_sequences_df.loc[i]['question_text_encode'] = quora_sequences_list[i]\n",
    "    return quora_sequences_df"
   ]
  },
  {
   "cell_type": "markdown",
   "id": "51b3c150-26e5-4a14-add4-b0efb8d40886",
   "metadata": {},
   "source": [
    "### Replacing DataFrame column that contains sentence with Unique Word ID, with padded sentence with Unique Word ID for Training Data"
   ]
  },
  {
   "cell_type": "code",
   "execution_count": 36,
   "id": "beac0260-522c-4a1c-823f-8a3a50dcac6d",
   "metadata": {},
   "outputs": [
    {
     "data": {
      "application/vnd.jupyter.widget-view+json": {
       "model_id": "19bb273a94dc4420939c03e239637d98",
       "version_major": 2,
       "version_minor": 0
      },
      "text/plain": [
       "  0%|          | 0/1306122 [00:00<?, ?it/s]"
      ]
     },
     "metadata": {},
     "output_type": "display_data"
    },
    {
     "name": "stdout",
     "output_type": "stream",
     "text": [
      "\u001b[1mThe Encoded Word Tokens in Training Dataset with Padding (Tokenized with Spacy) is:\u001b[0m\n",
      "\n",
      "0          [1, 2, 3, 4, 5, 6, 7, 8, 9, 10, 11, 12, 13, 14...\n",
      "1          [15, 16, 17, 18, 19, 20, 21, 22, 23, 16, 24, 2...\n",
      "2          [31, 32, 33, 34, 35, 14, 36, 33, 34, 37, 38, 1...\n",
      "3          [1, 2, 39, 40, 41, 42, 12, 43, 44, 14, 0, 0, 0...\n",
      "4          [45, 46, 47, 48, 49, 50, 26, 9, 51, 52, 53, 54...\n",
      "                                 ...                        \n",
      "1306117    [128, 804, 10259, 5574, 75, 16, 369, 8, 9, 423...\n",
      "1306118    [36, 2764, 11, 4856, 17, 174, 1438, 3200, 11, ...\n",
      "1306119    [57, 12591, 27620, 5732, 14, 0, 0, 0, 0, 0, 0,...\n",
      "1306120    [1, 129, 404, 735, 9, 1858, 428, 603, 519, 123...\n",
      "1306121    [679, 2557, 11, 9, 3815, 313, 9, 28466, 28, 9,...\n",
      "Name: question_text_encode, Length: 1306122, dtype: object\n",
      "\n",
      "\n"
     ]
    }
   ],
   "source": [
    "from keras_preprocessing.sequence import pad_sequences\n",
    "\n",
    "quora_train_sequences = quora_train_df['question_text_encode'].to_list()\n",
    "quora_test_sequences = quora_test_df['question_text_encode'].to_list()\n",
    "quora_tt_sequences = quora_tt_df['question_text_encode'].to_list()\n",
    "\n",
    "quora_train_sequences = pad_sequences(quora_train_sequences, maxlen=max_sentence_length_quora, padding='post')\n",
    "quora_test_sequences = pad_sequences(quora_test_sequences, maxlen=max_sentence_length_quora, padding='post')\n",
    "quora_tt_sequences = pad_sequences(quora_tt_sequences, maxlen=max_sentence_length_quora, padding='post')\n",
    "\n",
    "quora_train_df = quora_column_replace(quora_train_sequences,quora_train_df)\n",
    "\n",
    "print('\\033[1m' + 'The Encoded Word Tokens in Training Dataset with Padding (Tokenized with Spacy) is:' + '\\033[0m' + '\\n')\n",
    "print(quora_train_df['question_text_encode'])\n",
    "print('\\n')"
   ]
  },
  {
   "cell_type": "markdown",
   "id": "4d033f66-cb29-4887-a616-1a5e2c77a249",
   "metadata": {},
   "source": [
    "### Replacing DataFrame column that contains sentence with Unique Word ID, with padded sentence with Unique Word ID for Testing Data"
   ]
  },
  {
   "cell_type": "code",
   "execution_count": 37,
   "id": "0e7a41f8-318c-43bf-85ec-ac6a54242cfc",
   "metadata": {},
   "outputs": [
    {
     "data": {
      "application/vnd.jupyter.widget-view+json": {
       "model_id": "097d9cd260ef4560af99367884f2152d",
       "version_major": 2,
       "version_minor": 0
      },
      "text/plain": [
       "  0%|          | 0/375806 [00:00<?, ?it/s]"
      ]
     },
     "metadata": {},
     "output_type": "display_data"
    },
    {
     "name": "stdout",
     "output_type": "stream",
     "text": [
      "\u001b[1mThe Encoded Word Tokens in Testing Dataset with Padding (Tokenized with Spacy) is:\u001b[0m\n",
      "\n",
      "0         [260170, 260171, 260172, 260173, 260174, 26017...\n",
      "1         [260190, 260191, 260192, 260193, 260194, 26019...\n",
      "2         [260209, 260210, 260211, 260212, 260213, 26020...\n",
      "3         [260217, 260218, 260219, 260189, 0, 0, 0, 0, 0...\n",
      "4         [260220, 260221, 260212, 260222, 260223, 26022...\n",
      "                                ...                        \n",
      "375801    [260226, 260173, 262619, 267097, 260233, 27123...\n",
      "375802    [260220, 260609, 260658, 263722, 260207, 27588...\n",
      "375803    [260480, 260192, 260238, 260625, 260264, 26363...\n",
      "375804    [260209, 260218, 260201, 264803, 260186, 28838...\n",
      "375805    [285136, 261770, 260210, 260183, 274188, 26444...\n",
      "Name: question_text_encode, Length: 375806, dtype: object\n",
      "\n",
      "\n"
     ]
    }
   ],
   "source": [
    "quora_test_df = quora_column_replace(quora_test_sequences,quora_test_df)\n",
    "\n",
    "print('\\033[1m' + 'The Encoded Word Tokens in Testing Dataset with Padding (Tokenized with Spacy) is:' + '\\033[0m' + '\\n')\n",
    "print(quora_test_df['question_text_encode'])\n",
    "print('\\n')"
   ]
  },
  {
   "cell_type": "markdown",
   "id": "1b96c06a-4166-4888-a6d6-3110b71c4e72",
   "metadata": {},
   "source": [
    "### Replacing DataFrame column that contains sentence with Unique Word ID, with padded sentence with Unique Word ID for Combined Training and Testing Data"
   ]
  },
  {
   "cell_type": "code",
   "execution_count": 38,
   "id": "8da4e1fe-0bbc-41af-a97c-2aae14b34669",
   "metadata": {},
   "outputs": [
    {
     "data": {
      "application/vnd.jupyter.widget-view+json": {
       "model_id": "5c23776efe79418abd317749de6cee46",
       "version_major": 2,
       "version_minor": 0
      },
      "text/plain": [
       "  0%|          | 0/1681928 [00:00<?, ?it/s]"
      ]
     },
     "metadata": {},
     "output_type": "display_data"
    },
    {
     "name": "stdout",
     "output_type": "stream",
     "text": [
      "\u001b[1mThe Encoded Word Tokens in Combined Training and Testing Dataset with Padding (Tokenized with Spacy) is:\u001b[0m\n",
      "\n",
      "0          [1, 2, 3, 4, 5, 6, 7, 8, 9, 10, 11, 12, 13, 14...\n",
      "1          [15, 16, 17, 18, 19, 20, 21, 22, 23, 16, 24, 2...\n",
      "2          [31, 32, 33, 34, 35, 14, 36, 33, 34, 37, 38, 1...\n",
      "3          [1, 2, 39, 40, 41, 42, 12, 43, 44, 14, 0, 0, 0...\n",
      "4          [45, 46, 47, 48, 49, 50, 26, 9, 51, 52, 53, 54...\n",
      "                                 ...                        \n",
      "1681923    [1, 196, 625, 967, 11, 11875, 5900, 11, 301079...\n",
      "1681924    [57, 91, 18, 1863, 26, 4363, 519, 10081, 10317...\n",
      "1681925    [362, 46, 129, 173, 605, 4747, 1574, 11, 2789,...\n",
      "1681926    [128, 88, 12, 1982, 182, 14134, 182, 276, 14, ...\n",
      "1681927    [53029, 127, 97, 9, 14959, 5121, 90, 1, 471, 3...\n",
      "Name: question_text_encode, Length: 1681928, dtype: object\n",
      "\n",
      "\n"
     ]
    }
   ],
   "source": [
    "quora_tt_df = quora_column_replace(quora_tt_sequences,quora_tt_df)\n",
    "\n",
    "print('\\033[1m' + 'The Encoded Word Tokens in Combined Training and Testing Dataset with Padding (Tokenized with Spacy) is:' + '\\033[0m' + '\\n')\n",
    "print(quora_tt_df['question_text_encode'])\n",
    "print('\\n')"
   ]
  },
  {
   "cell_type": "markdown",
   "id": "a350e88a-295c-4949-a004-a49bcd45d169",
   "metadata": {},
   "source": [
    "### Saving Training, Testing along with Combined Training and Testing Data For Models"
   ]
  },
  {
   "cell_type": "code",
   "execution_count": 39,
   "id": "4322c343-40c7-4b5d-930a-9418deea8d7c",
   "metadata": {},
   "outputs": [],
   "source": [
    "quora_train_df.to_pickle(r\"D:\\UoA\\Tri 2\\Big Data Analysis and Projects\\Week 1\\Quora Insincere Questions\\Data\\Train\\quora_train_df.pkl\")\n",
    "quora_test_df.to_pickle(r\"D:\\UoA\\Tri 2\\Big Data Analysis and Projects\\Week 1\\Quora Insincere Questions\\Data\\Test\\quora_test_df.pkl\")\n",
    "quora_tt_df.to_pickle(r\"D:\\UoA\\Tri 2\\Big Data Analysis and Projects\\Week 1\\Quora Insincere Questions\\Data\\Train and Test\\quora_tt_df.pkl\")\n",
    "\n",
    "quora_train_freq_df.to_pickle(r\"D:\\UoA\\Tri 2\\Big Data Analysis and Projects\\Week 1\\Quora Insincere Questions\\Data\\Train\\quora_train_freq_df.pkl\")\n",
    "quora_test_freq_df.to_pickle(r\"D:\\UoA\\Tri 2\\Big Data Analysis and Projects\\Week 1\\Quora Insincere Questions\\Data\\Test\\quora_test_freq_df.pkl\")\n",
    "quora_tt_freq_df.to_pickle(r\"D:\\UoA\\Tri 2\\Big Data Analysis and Projects\\Week 1\\Quora Insincere Questions\\Data\\Train and Test\\quora_tt_freq_df.pkl\")\n",
    "\n",
    "# load pickle module\n",
    "import pickle\n",
    "\n",
    "f = open(r\"D:\\UoA\\Tri 2\\Big Data Analysis and Projects\\Week 1\\Quora Insincere Questions\\Data\\Train\\quora_train_dict_idf.pkl\",\"wb\")\n",
    "f1 = open(r\"D:\\UoA\\Tri 2\\Big Data Analysis and Projects\\Week 1\\Quora Insincere Questions\\Data\\Test\\quora_test_dict_idf.pkl\",\"wb\")\n",
    "f2 = open(r\"D:\\UoA\\Tri 2\\Big Data Analysis and Projects\\Week 1\\Quora Insincere Questions\\Data\\Train and Test\\quora_tt_dict_idf.pkl\",\"wb\")\n",
    "\n",
    "pickle.dump(quora_train_dict_idf,f)\n",
    "pickle.dump(quora_test_dict_idf,f1)\n",
    "pickle.dump(quora_tt_dict_idf,f2)\n",
    "\n",
    "f.close()\n",
    "f1.close()\n",
    "f2.close()\n",
    "\n",
    "f = open(r\"D:\\UoA\\Tri 2\\Big Data Analysis and Projects\\Week 1\\Quora Insincere Questions\\Data\\Train\\quora_train_word_dict.pkl\",\"wb\")\n",
    "f1 = open(r\"D:\\UoA\\Tri 2\\Big Data Analysis and Projects\\Week 1\\Quora Insincere Questions\\Data\\Test\\quora_test_word_dict.pkl\",\"wb\")\n",
    "f2 = open(r\"D:\\UoA\\Tri 2\\Big Data Analysis and Projects\\Week 1\\Quora Insincere Questions\\Data\\Train and Test\\quora_tt_word_dict.pkl\",\"wb\")\n",
    "\n",
    "pickle.dump(quora_train_word_dict,f)\n",
    "pickle.dump(quora_test_word_dict,f1)\n",
    "pickle.dump(quora_tt_word_dict,f2)\n",
    "\n",
    "f.close()\n",
    "f1.close()\n",
    "f2.close()\n",
    "\n",
    "np.save(r\"D:\\UoA\\Tri 2\\Big Data Analysis and Projects\\Week 1\\Quora Insincere Questions\\Data\\Train and Test\\max_sentence_length_quora.npy\",max_sentence_length_quora)"
   ]
  },
  {
   "cell_type": "markdown",
   "id": "2be520e0-6f65-4739-8e76-e869bc40bc55",
   "metadata": {
    "tags": []
   },
   "source": [
    "### Word Embeddings being loaded (glove.840B.300d)"
   ]
  },
  {
   "cell_type": "code",
   "execution_count": 40,
   "id": "66639a7b-a26d-4c0a-a22b-41f8c6d42ee3",
   "metadata": {},
   "outputs": [],
   "source": [
    "def load_glove_300d_model(File = None):\n",
    "    print(\"Loading Glove Model with 300 Dimension\")\n",
    "    glove_300d_model = {}\n",
    "    with open(file=File, mode='rt', encoding=\"utf8\") as full_file:\n",
    "        for file_line in tqdm(full_file,total=2196017):\n",
    "            split_line = file_line.split(sep=\" \")\n",
    "            word_glove = split_line[0]\n",
    "            embedding_glove = np.array(split_line[1:], dtype=np.float64)\n",
    "            glove_300d_model[word_glove] = embedding_glove\n",
    "    print(f\"{len(glove_300d_model)} words loaded!\")\n",
    "    return glove_300d_model"
   ]
  },
  {
   "cell_type": "code",
   "execution_count": 41,
   "id": "deae06c3-4d34-4dfa-b6f4-53449639b97d",
   "metadata": {},
   "outputs": [
    {
     "name": "stdout",
     "output_type": "stream",
     "text": [
      "Loading Glove Model with 300 Dimension\n"
     ]
    },
    {
     "data": {
      "application/vnd.jupyter.widget-view+json": {
       "model_id": "8be46d65b9514e93a3058bb29df5b97d",
       "version_major": 2,
       "version_minor": 0
      },
      "text/plain": [
       "  0%|          | 0/2196017 [00:00<?, ?it/s]"
      ]
     },
     "metadata": {},
     "output_type": "display_data"
    },
    {
     "name": "stdout",
     "output_type": "stream",
     "text": [
      "2196016 words loaded!\n"
     ]
    }
   ],
   "source": [
    "glove_300d_model = load_glove_300d_model(File = r\"D:\\UoA\\Tri 2\\Big Data Analysis and Projects\\Week 1\\Quora Insincere Questions\\embeddings\\glove.840B.300d\\glove.840B.300d.txt\")"
   ]
  },
  {
   "cell_type": "markdown",
   "id": "98fe5d31-f6ef-4996-b337-bd1928656539",
   "metadata": {
    "tags": []
   },
   "source": [
    "### Creating Word Embedding Matrix for Glove Model"
   ]
  },
  {
   "cell_type": "code",
   "execution_count": 42,
   "id": "9c5ac713-ca42-4ae2-a86d-4b546f4600b4",
   "metadata": {},
   "outputs": [],
   "source": [
    "# Training Data Embedding Matrix\n",
    "glove_embedding_matrix_train = np.zeros((quora_train_freq_df.shape[0]+1,300),np.float64)"
   ]
  },
  {
   "cell_type": "code",
   "execution_count": 43,
   "id": "11e38de0-a5ff-49b0-bb54-944bdb6c6885",
   "metadata": {},
   "outputs": [
    {
     "data": {
      "application/vnd.jupyter.widget-view+json": {
       "model_id": "6f607fefe6cb4c2b854d99b8b402d1fd",
       "version_major": 2,
       "version_minor": 0
      },
      "text/plain": [
       "  0%|          | 0/260169 [00:00<?, ?it/s]"
      ]
     },
     "metadata": {},
     "output_type": "display_data"
    }
   ],
   "source": [
    "for embed_keys in tqdm(quora_train_word_dict):\n",
    "    embed_flag = glove_300d_model.get(embed_keys,0)\n",
    "    if isinstance(embed_flag,int):\n",
    "        glove_embedding_matrix_train[quora_train_word_dict.get(embed_keys)] = np.asarray(300*[0],dtype=np.float64)\n",
    "    else:\n",
    "        glove_embedding_matrix_train[quora_train_word_dict.get(embed_keys)] = glove_300d_model.get(embed_keys)"
   ]
  },
  {
   "cell_type": "code",
   "execution_count": 44,
   "id": "49156e12-015d-4ecc-86a5-4c1a8eb06658",
   "metadata": {},
   "outputs": [],
   "source": [
    "# Testing Data Embedding Matrix\n",
    "glove_embedding_matrix_test = np.zeros((quora_test_freq_df.shape[0]+1,300),np.float64)\n",
    "embed_keys_normalizer = (quora_train_freq_df.loc[quora_train_freq_df.shape[0]-1,'word_id'])"
   ]
  },
  {
   "cell_type": "code",
   "execution_count": 45,
   "id": "21062660-8b60-4b53-81fb-4809ad2d3f6f",
   "metadata": {},
   "outputs": [
    {
     "data": {
      "application/vnd.jupyter.widget-view+json": {
       "model_id": "12d1153253334ebfad3c3bc47cf464b9",
       "version_major": 2,
       "version_minor": 0
      },
      "text/plain": [
       "  0%|          | 0/128499 [00:00<?, ?it/s]"
      ]
     },
     "metadata": {},
     "output_type": "display_data"
    }
   ],
   "source": [
    "for embed_keys in tqdm(quora_test_word_dict):\n",
    "    embed_flag = glove_300d_model.get(embed_keys,0)\n",
    "    if isinstance(embed_flag,int):\n",
    "        glove_embedding_matrix_test[quora_test_word_dict.get(embed_keys)-embed_keys_normalizer] = np.asarray(300*[0],dtype=np.float64)\n",
    "    else:\n",
    "        glove_embedding_matrix_test[quora_test_word_dict.get(embed_keys)-embed_keys_normalizer] = glove_300d_model.get(embed_keys)"
   ]
  },
  {
   "cell_type": "code",
   "execution_count": 46,
   "id": "e218c0ed-c0a8-4e85-8d2d-2d44badc1f31",
   "metadata": {},
   "outputs": [],
   "source": [
    "glove_embedding_matrix = np.append(glove_embedding_matrix_train,glove_embedding_matrix_test,axis=0)"
   ]
  },
  {
   "cell_type": "code",
   "execution_count": 47,
   "id": "564773bd-619e-4904-937c-1d20afce0acd",
   "metadata": {},
   "outputs": [],
   "source": [
    "# Combined Training and Testing Data Embedding Matrix\n",
    "glove_embedding_matrix_tt = np.zeros((quora_tt_freq_df.shape[0]+1,300),np.float64)\n",
    "glove_embedding_matrix_tt_dict = {}"
   ]
  },
  {
   "cell_type": "code",
   "execution_count": 48,
   "id": "3e7ce2c2-f8b6-4101-b013-6147ef30d551",
   "metadata": {},
   "outputs": [
    {
     "data": {
      "application/vnd.jupyter.widget-view+json": {
       "model_id": "9cec00b65cc24351a474a315effa9a18",
       "version_major": 2,
       "version_minor": 0
      },
      "text/plain": [
       "  0%|          | 0/301079 [00:00<?, ?it/s]"
      ]
     },
     "metadata": {},
     "output_type": "display_data"
    }
   ],
   "source": [
    "for embed_keys in tqdm(quora_tt_word_dict):\n",
    "    embed_flag = glove_300d_model.get(embed_keys,0)\n",
    "    if isinstance(embed_flag,int):\n",
    "        glove_embedding_matrix_tt[quora_tt_word_dict.get(embed_keys)] = np.asarray(300*[0],dtype=np.float64)\n",
    "        glove_embedding_matrix_tt_dict.update({embed_keys:np.asarray(300*[0],dtype=np.float64)})\n",
    "    else:\n",
    "        glove_embedding_matrix_tt[quora_tt_word_dict.get(embed_keys)] = glove_300d_model.get(embed_keys)\n",
    "        glove_embedding_matrix_tt_dict.update({embed_keys:glove_300d_model.get(embed_keys)})"
   ]
  },
  {
   "cell_type": "code",
   "execution_count": 49,
   "id": "8c74a25d-b595-4854-a94c-724b9f6f6d54",
   "metadata": {},
   "outputs": [],
   "source": [
    "np.save(r\"D:\\UoA\\Tri 2\\Big Data Analysis and Projects\\Week 1\\Quora Insincere Questions\\embeddings\\glove.840B.300d\\glove_embedding_matrix_tt.npy\",glove_embedding_matrix_tt)"
   ]
  },
  {
   "cell_type": "code",
   "execution_count": 50,
   "id": "710b6d52-d1f9-4d62-80cf-10ccfeb3ad79",
   "metadata": {},
   "outputs": [],
   "source": [
    "f = open(r\"D:\\UoA\\Tri 2\\Big Data Analysis and Projects\\Week 1\\Quora Insincere Questions\\embeddings\\glove.840B.300d\\glove_embedding_matrix_tt_dict.pkl\",\"wb\")\n",
    "pickle.dump(glove_embedding_matrix_tt_dict,f)\n",
    "f.close()"
   ]
  },
  {
   "cell_type": "code",
   "execution_count": 51,
   "id": "034ef7f3-a1de-4d9c-9eb0-78e16a9ee38f",
   "metadata": {},
   "outputs": [],
   "source": [
    "del glove_300d_model"
   ]
  },
  {
   "cell_type": "code",
   "execution_count": 52,
   "id": "11fde91a-04d3-401b-be39-f9d7653dfaf0",
   "metadata": {},
   "outputs": [],
   "source": [
    "import gc\n",
    "gc.collect()\n",
    "print('',end='')"
   ]
  },
  {
   "cell_type": "markdown",
   "id": "0d9b98e0-ca2b-491e-a729-042f5d7f13f1",
   "metadata": {
    "tags": []
   },
   "source": [
    "### Word Embeddings being loaded (GoogleNews-vectors-negative300)"
   ]
  },
  {
   "cell_type": "code",
   "execution_count": 53,
   "id": "152d3367-5910-43ad-9f0e-b3b28fa4f1b8",
   "metadata": {},
   "outputs": [],
   "source": [
    "from gensim import models\n",
    "\n",
    "google_300d_model = models.KeyedVectors.load_word2vec_format(r\"D:\\UoA\\Tri 2\\Big Data Analysis and Projects\\Week 1\\Quora Insincere Questions\\embeddings\\GoogleNews-vectors-negative300\\GoogleNews-vectors-negative300.bin\", binary=True)"
   ]
  },
  {
   "cell_type": "code",
   "execution_count": 54,
   "id": "8cadee23-cfec-4209-88c4-79493df5f2eb",
   "metadata": {},
   "outputs": [],
   "source": [
    "google_300d_model.save_word2vec_format(r'D:\\UoA\\Tri 2\\Big Data Analysis and Projects\\Week 1\\Quora Insincere Questions\\embeddings\\GoogleNews-vectors-negative300\\GoogleNews-vectors-negative300.txt', binary=False)"
   ]
  },
  {
   "cell_type": "code",
   "execution_count": 55,
   "id": "28c0ac3f-00a6-4676-9fb7-539d61ad918c",
   "metadata": {},
   "outputs": [],
   "source": [
    "del google_300d_model"
   ]
  },
  {
   "cell_type": "code",
   "execution_count": 56,
   "id": "308e21e1-cdd9-4975-99d5-e95139636a7e",
   "metadata": {},
   "outputs": [],
   "source": [
    "import gc\n",
    "gc.collect()\n",
    "print('',end='')"
   ]
  },
  {
   "cell_type": "code",
   "execution_count": 57,
   "id": "9af64b4d-d2ac-45b2-8e4d-79f97f3167e5",
   "metadata": {},
   "outputs": [],
   "source": [
    "def load_google_300d_model(File = None):\n",
    "    print(\"Loading Google Model with 300 Dimension\")\n",
    "    google_300d_model = {}\n",
    "    with open(file=File, mode='rt', encoding=\"utf8\") as full_file:\n",
    "        k=0\n",
    "        for file_line in tqdm(full_file,total=3000001):\n",
    "            if (k == 0):\n",
    "                k+=1\n",
    "                continue\n",
    "            split_line = file_line.split(sep=\" \")\n",
    "            word_google = split_line[0]\n",
    "            embedding_google = np.array(split_line[1:], dtype=np.float64)\n",
    "            google_300d_model[word_google] = embedding_google\n",
    "    print(f\"{len(google_300d_model)} words loaded!\")\n",
    "    return google_300d_model"
   ]
  },
  {
   "cell_type": "code",
   "execution_count": 58,
   "id": "760622a8-012f-4f88-8628-0073461bacc5",
   "metadata": {},
   "outputs": [
    {
     "name": "stdout",
     "output_type": "stream",
     "text": [
      "Loading Google Model with 300 Dimension\n"
     ]
    },
    {
     "data": {
      "application/vnd.jupyter.widget-view+json": {
       "model_id": "46ca4dbe9249407bb82be806181a7699",
       "version_major": 2,
       "version_minor": 0
      },
      "text/plain": [
       "  0%|          | 0/3000001 [00:00<?, ?it/s]"
      ]
     },
     "metadata": {},
     "output_type": "display_data"
    },
    {
     "name": "stdout",
     "output_type": "stream",
     "text": [
      "3000000 words loaded!\n"
     ]
    }
   ],
   "source": [
    "google_300d_model = load_google_300d_model(File = r\"D:\\UoA\\Tri 2\\Big Data Analysis and Projects\\Week 1\\Quora Insincere Questions\\embeddings\\GoogleNews-vectors-negative300\\GoogleNews-vectors-negative300.txt\")"
   ]
  },
  {
   "cell_type": "markdown",
   "id": "adc04b5e-0cf4-4246-ae18-d48ff51f4422",
   "metadata": {
    "tags": []
   },
   "source": [
    "### Creating Word Embedding Matrix for Google Model"
   ]
  },
  {
   "cell_type": "code",
   "execution_count": 59,
   "id": "7fcf0d62-046d-48b2-83ff-854a0346dfda",
   "metadata": {},
   "outputs": [],
   "source": [
    "# Training Data Embedding Matrix\n",
    "google_embedding_matrix_train = np.zeros((quora_train_freq_df.shape[0]+1,300),np.float64)"
   ]
  },
  {
   "cell_type": "code",
   "execution_count": 60,
   "id": "8d3a9f99-ffe8-4541-9a74-0f4304a4db6a",
   "metadata": {},
   "outputs": [
    {
     "data": {
      "application/vnd.jupyter.widget-view+json": {
       "model_id": "54f8494fc4db4428b73066dacc129d3f",
       "version_major": 2,
       "version_minor": 0
      },
      "text/plain": [
       "  0%|          | 0/260169 [00:00<?, ?it/s]"
      ]
     },
     "metadata": {},
     "output_type": "display_data"
    }
   ],
   "source": [
    "for embed_keys in tqdm(quora_train_word_dict):\n",
    "    embed_flag = google_300d_model.get(embed_keys,0)\n",
    "    if isinstance(embed_flag,int):\n",
    "        google_embedding_matrix_train[quora_train_word_dict.get(embed_keys)] = np.asarray(300*[0],dtype=np.float64)\n",
    "    else:\n",
    "        google_embedding_matrix_train[quora_train_word_dict.get(embed_keys)] = google_300d_model.get(embed_keys)"
   ]
  },
  {
   "cell_type": "code",
   "execution_count": 61,
   "id": "31d6529b-0456-4494-8997-1348f84d9016",
   "metadata": {},
   "outputs": [],
   "source": [
    "# Testing Data Embedding Matrix\n",
    "google_embedding_matrix_test = np.zeros((quora_test_freq_df.shape[0]+1,300),np.float64)\n",
    "embed_keys_normalizer = (quora_train_freq_df.loc[quora_train_freq_df.shape[0]-1,'word_id'])"
   ]
  },
  {
   "cell_type": "code",
   "execution_count": 62,
   "id": "7fc91e5f-ee67-4c3e-93b0-293b9382bdd4",
   "metadata": {},
   "outputs": [
    {
     "data": {
      "application/vnd.jupyter.widget-view+json": {
       "model_id": "d0c5f97d6f824dd2ba2af1936d01294d",
       "version_major": 2,
       "version_minor": 0
      },
      "text/plain": [
       "  0%|          | 0/128499 [00:00<?, ?it/s]"
      ]
     },
     "metadata": {},
     "output_type": "display_data"
    }
   ],
   "source": [
    "for embed_keys in tqdm(quora_test_word_dict):\n",
    "    embed_flag = google_300d_model.get(embed_keys,0)\n",
    "    if isinstance(embed_flag,int):\n",
    "        google_embedding_matrix_test[quora_test_word_dict.get(embed_keys)-embed_keys_normalizer] = np.asarray(300*[0],dtype=np.float64)\n",
    "    else:\n",
    "        google_embedding_matrix_test[quora_test_word_dict.get(embed_keys)-embed_keys_normalizer] = google_300d_model.get(embed_keys)"
   ]
  },
  {
   "cell_type": "code",
   "execution_count": 63,
   "id": "1838faa6-5661-445f-bbda-8e7236ca0cb3",
   "metadata": {},
   "outputs": [],
   "source": [
    "google_embedding_matrix = np.append(google_embedding_matrix_train,google_embedding_matrix_test,axis=0)"
   ]
  },
  {
   "cell_type": "code",
   "execution_count": 64,
   "id": "5f7fafff-a230-4e88-a99f-963084e314e8",
   "metadata": {},
   "outputs": [],
   "source": [
    "# Combined Training and Testing Data Embedding Matrix\n",
    "google_embedding_matrix_tt = np.zeros((quora_tt_freq_df.shape[0]+1,300),np.float64)\n",
    "google_embedding_matrix_tt_dict = {}"
   ]
  },
  {
   "cell_type": "code",
   "execution_count": 65,
   "id": "9509903e-525a-406f-9c53-3b9ac94dc9a5",
   "metadata": {},
   "outputs": [
    {
     "data": {
      "application/vnd.jupyter.widget-view+json": {
       "model_id": "4bbc9ffe3ec04b5e83d3859e3bae00f7",
       "version_major": 2,
       "version_minor": 0
      },
      "text/plain": [
       "  0%|          | 0/301079 [00:00<?, ?it/s]"
      ]
     },
     "metadata": {},
     "output_type": "display_data"
    }
   ],
   "source": [
    "for embed_keys in tqdm(quora_tt_word_dict):\n",
    "    embed_flag = google_300d_model.get(embed_keys,0)\n",
    "    if isinstance(embed_flag,int):\n",
    "        google_embedding_matrix_tt[quora_tt_word_dict.get(embed_keys)] = np.asarray(300*[0],dtype=np.float64)\n",
    "        google_embedding_matrix_tt_dict.update({embed_keys:np.asarray(300*[0],dtype=np.float64)})\n",
    "    else:\n",
    "        google_embedding_matrix_tt[quora_tt_word_dict.get(embed_keys)] = google_300d_model.get(embed_keys)\n",
    "        google_embedding_matrix_tt_dict.update({embed_keys:google_300d_model.get(embed_keys)})"
   ]
  },
  {
   "cell_type": "code",
   "execution_count": 66,
   "id": "31b39cd1-5075-4771-b981-07cb76e180e1",
   "metadata": {},
   "outputs": [],
   "source": [
    "np.save(r\"D:\\UoA\\Tri 2\\Big Data Analysis and Projects\\Week 1\\Quora Insincere Questions\\embeddings\\GoogleNews-vectors-negative300\\google_embedding_matrix_tt.npy\",google_embedding_matrix_tt)"
   ]
  },
  {
   "cell_type": "code",
   "execution_count": 67,
   "id": "8c27f218-96cd-4e19-8e53-1d0fa0060d0a",
   "metadata": {},
   "outputs": [],
   "source": [
    "f = open(r\"D:\\UoA\\Tri 2\\Big Data Analysis and Projects\\Week 1\\Quora Insincere Questions\\embeddings\\GoogleNews-vectors-negative300\\google_embedding_matrix_tt_dict.pkl\",\"wb\")\n",
    "pickle.dump(google_embedding_matrix_tt_dict,f)\n",
    "f.close()"
   ]
  },
  {
   "cell_type": "code",
   "execution_count": 68,
   "id": "953227a2-e95c-4d37-b922-239c8f0ab19e",
   "metadata": {},
   "outputs": [],
   "source": [
    "del google_300d_model"
   ]
  },
  {
   "cell_type": "code",
   "execution_count": 69,
   "id": "eacedad9-26be-4d3a-abcb-e742f39b0b12",
   "metadata": {},
   "outputs": [],
   "source": [
    "import gc\n",
    "gc.collect()\n",
    "print('',end='')"
   ]
  },
  {
   "cell_type": "markdown",
   "id": "b312607f-a4b7-4759-b998-87b0ed016629",
   "metadata": {
    "tags": []
   },
   "source": [
    "### Word Embeddings being loaded (paragram_300_sl999)"
   ]
  },
  {
   "cell_type": "code",
   "execution_count": 70,
   "id": "0f3da740-457f-47b7-ba76-ff9f2127f5c4",
   "metadata": {},
   "outputs": [],
   "source": [
    "def load_paragram_300d_model(File = None):\n",
    "    print(\"Loading Paragram Model with 300 Dimension\")\n",
    "    paragram_300d_model = {}\n",
    "    with open(file=File, mode='rt', encoding=\"ansi\") as full_file:\n",
    "        for file_line in tqdm(full_file,total=1703756):\n",
    "            split_line = file_line.split(sep=\" \")\n",
    "            word_paragram = split_line[0]\n",
    "            embedding_paragram = np.array(split_line[1:], dtype=np.float64)\n",
    "            paragram_300d_model[word_paragram] = embedding_paragram\n",
    "    print(f\"{len(paragram_300d_model)} words loaded!\")\n",
    "    return paragram_300d_model"
   ]
  },
  {
   "cell_type": "code",
   "execution_count": 71,
   "id": "7406a1d4-708f-44c3-9140-18337c7156ee",
   "metadata": {},
   "outputs": [
    {
     "name": "stdout",
     "output_type": "stream",
     "text": [
      "Loading Paragram Model with 300 Dimension\n"
     ]
    },
    {
     "data": {
      "application/vnd.jupyter.widget-view+json": {
       "model_id": "aaac118ae6854bbab2bc01ed32807016",
       "version_major": 2,
       "version_minor": 0
      },
      "text/plain": [
       "  0%|          | 0/1703756 [00:00<?, ?it/s]"
      ]
     },
     "metadata": {},
     "output_type": "display_data"
    },
    {
     "name": "stdout",
     "output_type": "stream",
     "text": [
      "1703756 words loaded!\n"
     ]
    }
   ],
   "source": [
    "paragram_300d_model = load_paragram_300d_model(File = r\"D:\\UoA\\Tri 2\\Big Data Analysis and Projects\\Week 1\\Quora Insincere Questions\\embeddings\\paragram_300_sl999\\paragram_300_sl999.txt\")"
   ]
  },
  {
   "cell_type": "markdown",
   "id": "44bd6a09-04e1-466a-82d7-b2653482cf1d",
   "metadata": {
    "tags": []
   },
   "source": [
    "### Creating Word Embedding Matrix for Paragram Model"
   ]
  },
  {
   "cell_type": "code",
   "execution_count": 72,
   "id": "d15230a1-6b60-48f5-84a2-56c3e42505b3",
   "metadata": {},
   "outputs": [],
   "source": [
    "# Training Data Embedding Matrix\n",
    "paragram_embedding_matrix_train = np.zeros((quora_train_freq_df.shape[0]+1,300),np.float64)"
   ]
  },
  {
   "cell_type": "code",
   "execution_count": 73,
   "id": "ba7ea668-e1f5-44bc-bbcb-836441cb18ae",
   "metadata": {},
   "outputs": [
    {
     "data": {
      "application/vnd.jupyter.widget-view+json": {
       "model_id": "2b454573554b4a50a677e6fb0fdff9cd",
       "version_major": 2,
       "version_minor": 0
      },
      "text/plain": [
       "  0%|          | 0/260169 [00:00<?, ?it/s]"
      ]
     },
     "metadata": {},
     "output_type": "display_data"
    }
   ],
   "source": [
    "for embed_keys in tqdm(quora_train_word_dict):\n",
    "    embed_flag = paragram_300d_model.get(embed_keys,0)\n",
    "    if isinstance(embed_flag,int):\n",
    "        paragram_embedding_matrix_train[quora_train_word_dict.get(embed_keys)] = np.asarray(300*[0],dtype=np.float64)\n",
    "    else:\n",
    "        paragram_embedding_matrix_train[quora_train_word_dict.get(embed_keys)] = paragram_300d_model.get(embed_keys)"
   ]
  },
  {
   "cell_type": "code",
   "execution_count": 74,
   "id": "d46eda0c-1c43-49ad-9962-0392c6cbd907",
   "metadata": {},
   "outputs": [],
   "source": [
    "# Testing Data Embedding Matrix\n",
    "paragram_embedding_matrix_test = np.zeros((quora_test_freq_df.shape[0]+1,300),np.float64)\n",
    "embed_keys_normalizer = (quora_train_freq_df.loc[quora_train_freq_df.shape[0]-1,'word_id'])"
   ]
  },
  {
   "cell_type": "code",
   "execution_count": 75,
   "id": "1a419f9f-8aad-415f-91b4-2f1a089653d6",
   "metadata": {},
   "outputs": [
    {
     "data": {
      "application/vnd.jupyter.widget-view+json": {
       "model_id": "0f3ba799d9574dd48bc0b0fc1a69dda9",
       "version_major": 2,
       "version_minor": 0
      },
      "text/plain": [
       "  0%|          | 0/128499 [00:00<?, ?it/s]"
      ]
     },
     "metadata": {},
     "output_type": "display_data"
    }
   ],
   "source": [
    "for embed_keys in tqdm(quora_test_word_dict):\n",
    "    embed_flag = paragram_300d_model.get(embed_keys,0)\n",
    "    if isinstance(embed_flag,int):\n",
    "        paragram_embedding_matrix_test[quora_test_word_dict.get(embed_keys)-embed_keys_normalizer] = np.asarray(300*[0],dtype=np.float64)\n",
    "    else:\n",
    "        paragram_embedding_matrix_test[quora_test_word_dict.get(embed_keys)-embed_keys_normalizer] = paragram_300d_model.get(embed_keys)"
   ]
  },
  {
   "cell_type": "code",
   "execution_count": 76,
   "id": "ef6092e6-5f45-4c51-99e4-224a46777a0a",
   "metadata": {},
   "outputs": [],
   "source": [
    "paragram_embedding_matrix = np.append(paragram_embedding_matrix_train,paragram_embedding_matrix_test,axis=0)"
   ]
  },
  {
   "cell_type": "code",
   "execution_count": 77,
   "id": "322c511c-d1fb-4eb7-b626-120911bba337",
   "metadata": {},
   "outputs": [],
   "source": [
    "# Combined Training and Testing Data Embedding Matrix\n",
    "paragram_embedding_matrix_tt = np.zeros((quora_tt_freq_df.shape[0]+1,300),np.float64)\n",
    "paragram_embedding_matrix_tt_dict = {}"
   ]
  },
  {
   "cell_type": "code",
   "execution_count": 78,
   "id": "4ad914f8-c46a-45ec-90f9-6ffd007cf9d2",
   "metadata": {},
   "outputs": [
    {
     "data": {
      "application/vnd.jupyter.widget-view+json": {
       "model_id": "273807fe3e9f46c6b590715bab1de29f",
       "version_major": 2,
       "version_minor": 0
      },
      "text/plain": [
       "  0%|          | 0/301079 [00:00<?, ?it/s]"
      ]
     },
     "metadata": {},
     "output_type": "display_data"
    }
   ],
   "source": [
    "for embed_keys in tqdm(quora_tt_word_dict):\n",
    "    embed_flag = paragram_300d_model.get(embed_keys,0)\n",
    "    if isinstance(embed_flag,int):\n",
    "        paragram_embedding_matrix_tt[quora_tt_word_dict.get(embed_keys)] = np.asarray(300*[0],dtype=np.float64)\n",
    "        paragram_embedding_matrix_tt_dict.update({embed_keys:np.asarray(300*[0],dtype=np.float64)})\n",
    "    else:\n",
    "        paragram_embedding_matrix_tt[quora_tt_word_dict.get(embed_keys)] = paragram_300d_model.get(embed_keys)\n",
    "        paragram_embedding_matrix_tt_dict.update({embed_keys:paragram_300d_model.get(embed_keys)})"
   ]
  },
  {
   "cell_type": "code",
   "execution_count": 79,
   "id": "a7a42b21-ec36-45c2-b706-74c2e913acb2",
   "metadata": {},
   "outputs": [],
   "source": [
    "np.save(r\"D:\\UoA\\Tri 2\\Big Data Analysis and Projects\\Week 1\\Quora Insincere Questions\\embeddings\\paragram_300_sl999\\paragram_embedding_matrix_tt.npy\",paragram_embedding_matrix_tt)"
   ]
  },
  {
   "cell_type": "code",
   "execution_count": 80,
   "id": "e1a572d5-f8e4-4e81-9468-ad3d5f8d32e5",
   "metadata": {},
   "outputs": [],
   "source": [
    "f = open(r\"D:\\UoA\\Tri 2\\Big Data Analysis and Projects\\Week 1\\Quora Insincere Questions\\embeddings\\paragram_300_sl999\\paragram_embedding_matrix_tt_dict.pkl\",\"wb\")\n",
    "pickle.dump(paragram_embedding_matrix_tt_dict,f)\n",
    "f.close()"
   ]
  },
  {
   "cell_type": "code",
   "execution_count": 81,
   "id": "22c362cb-cfc0-41f1-84db-b05635e1809c",
   "metadata": {},
   "outputs": [],
   "source": [
    "del paragram_300d_model"
   ]
  },
  {
   "cell_type": "code",
   "execution_count": 82,
   "id": "9ea86b00-8390-4c7d-a608-fdf0f0976200",
   "metadata": {},
   "outputs": [],
   "source": [
    "import gc\n",
    "gc.collect()\n",
    "print('',end='')"
   ]
  },
  {
   "cell_type": "markdown",
   "id": "6647a6a8-e5f6-404b-a8eb-c4217c07ef03",
   "metadata": {
    "tags": []
   },
   "source": [
    "### Word Embeddings being loaded (wiki-news-300d-1M)"
   ]
  },
  {
   "cell_type": "code",
   "execution_count": 83,
   "id": "1c5e3017-26df-41be-a9ae-45a4c0430ac7",
   "metadata": {},
   "outputs": [],
   "source": [
    "from gensim import models\n",
    "\n",
    "wiki_300d_model = models.KeyedVectors.load_word2vec_format(fname=r\"D:\\UoA\\Tri 2\\Big Data Analysis and Projects\\Week 1\\Quora Insincere Questions\\embeddings\\wiki-news-300d-1M\\wiki-news-300d-1M.vec\", binary=False, encoding='utf8')"
   ]
  },
  {
   "cell_type": "code",
   "execution_count": 84,
   "id": "d4b3b826-1e3f-4d13-a6b0-a361a8fd11c0",
   "metadata": {},
   "outputs": [],
   "source": [
    "wiki_300d_model.save_word2vec_format(r'D:\\UoA\\Tri 2\\Big Data Analysis and Projects\\Week 1\\Quora Insincere Questions\\embeddings\\wiki-news-300d-1M\\wiki-news-300d-1M.txt', binary=False)"
   ]
  },
  {
   "cell_type": "code",
   "execution_count": 85,
   "id": "7a2c741e-95a9-4f27-83fa-dd4f4f46d525",
   "metadata": {},
   "outputs": [],
   "source": [
    "del wiki_300d_model"
   ]
  },
  {
   "cell_type": "code",
   "execution_count": 86,
   "id": "8586acea-44e7-4096-a261-b1c16773e055",
   "metadata": {},
   "outputs": [],
   "source": [
    "import gc\n",
    "gc.collect()\n",
    "print('',end='')"
   ]
  },
  {
   "cell_type": "code",
   "execution_count": 87,
   "id": "a049da91-80ba-4041-bcdb-995c23a3f7ef",
   "metadata": {},
   "outputs": [],
   "source": [
    "def load_wiki_300d_model(File = None):\n",
    "    print(\"Loading Wikipedia Model with 300 Dimension\")\n",
    "    wiki_300d_model = {}\n",
    "    with open(file=File, mode='rt', encoding=\"utf8\") as full_file:\n",
    "        k=0\n",
    "        for file_line in tqdm(full_file,total=999995):\n",
    "            if (k == 0):\n",
    "                k+=1\n",
    "                continue\n",
    "            split_line = file_line.split(sep=\" \")\n",
    "            word_wiki = split_line[0]\n",
    "            embedding_wiki = np.array(split_line[1:], dtype=np.float64)\n",
    "            wiki_300d_model[word_wiki] = embedding_wiki\n",
    "    print(f\"{len(wiki_300d_model)} words loaded!\")\n",
    "    return wiki_300d_model"
   ]
  },
  {
   "cell_type": "code",
   "execution_count": 88,
   "id": "385f26a5-f03d-4537-8e91-1fbe331f6d02",
   "metadata": {},
   "outputs": [
    {
     "name": "stdout",
     "output_type": "stream",
     "text": [
      "Loading Wikipedia Model with 300 Dimension\n"
     ]
    },
    {
     "data": {
      "application/vnd.jupyter.widget-view+json": {
       "model_id": "8e00b1e208a24e629155866906cd8bd8",
       "version_major": 2,
       "version_minor": 0
      },
      "text/plain": [
       "  0%|          | 0/999995 [00:00<?, ?it/s]"
      ]
     },
     "metadata": {},
     "output_type": "display_data"
    },
    {
     "name": "stdout",
     "output_type": "stream",
     "text": [
      "999994 words loaded!\n"
     ]
    }
   ],
   "source": [
    "wiki_300d_model = load_wiki_300d_model(File = r\"D:\\UoA\\Tri 2\\Big Data Analysis and Projects\\Week 1\\Quora Insincere Questions\\embeddings\\wiki-news-300d-1M\\wiki-news-300d-1M.txt\")"
   ]
  },
  {
   "cell_type": "markdown",
   "id": "535d8aea-1086-46ae-84b8-8668a21483c6",
   "metadata": {
    "tags": []
   },
   "source": [
    "### Creating Word Embedding Matrix for Wikipedia Model"
   ]
  },
  {
   "cell_type": "code",
   "execution_count": 89,
   "id": "60e6cd4f-4a2a-4336-ba33-d107487452d2",
   "metadata": {},
   "outputs": [],
   "source": [
    "# Training Data Embedding Matrix\n",
    "wiki_embedding_matrix_train = np.zeros((quora_train_freq_df.shape[0]+1,300),np.float64)"
   ]
  },
  {
   "cell_type": "code",
   "execution_count": 90,
   "id": "e62146ea-3ee8-4413-b511-38331dbc8bdd",
   "metadata": {},
   "outputs": [
    {
     "data": {
      "application/vnd.jupyter.widget-view+json": {
       "model_id": "ef4e4a97434e4b26acfc183a27fb169b",
       "version_major": 2,
       "version_minor": 0
      },
      "text/plain": [
       "  0%|          | 0/260169 [00:00<?, ?it/s]"
      ]
     },
     "metadata": {},
     "output_type": "display_data"
    }
   ],
   "source": [
    "for embed_keys in tqdm(quora_train_word_dict):\n",
    "    embed_flag = wiki_300d_model.get(embed_keys,0)\n",
    "    if isinstance(embed_flag,int):\n",
    "        wiki_embedding_matrix_train[quora_train_word_dict.get(embed_keys)] = np.asarray(300*[0],dtype=np.float64)\n",
    "    else:\n",
    "        wiki_embedding_matrix_train[quora_train_word_dict.get(embed_keys)] = wiki_300d_model.get(embed_keys)"
   ]
  },
  {
   "cell_type": "code",
   "execution_count": 91,
   "id": "78ece816-bd5c-4054-aac7-ec5a835c6596",
   "metadata": {},
   "outputs": [],
   "source": [
    "# Testing Data Embedding Matrix\n",
    "wiki_embedding_matrix_test = np.zeros((quora_test_freq_df.shape[0]+1,300),np.float64)\n",
    "embed_keys_normalizer = (quora_train_freq_df.loc[quora_train_freq_df.shape[0]-1,'word_id'])"
   ]
  },
  {
   "cell_type": "code",
   "execution_count": 92,
   "id": "dafcdf35-b55d-47b0-9371-a7591bf17fdc",
   "metadata": {},
   "outputs": [
    {
     "data": {
      "application/vnd.jupyter.widget-view+json": {
       "model_id": "8827d59645ad4317816cab4c36b42040",
       "version_major": 2,
       "version_minor": 0
      },
      "text/plain": [
       "  0%|          | 0/128499 [00:00<?, ?it/s]"
      ]
     },
     "metadata": {},
     "output_type": "display_data"
    }
   ],
   "source": [
    "for embed_keys in tqdm(quora_test_word_dict):\n",
    "    embed_flag = wiki_300d_model.get(embed_keys,0)\n",
    "    if isinstance(embed_flag,int):\n",
    "        wiki_embedding_matrix_test[quora_test_word_dict.get(embed_keys)-embed_keys_normalizer] = np.asarray(300*[0],dtype=np.float64)\n",
    "    else:\n",
    "        wiki_embedding_matrix_test[quora_test_word_dict.get(embed_keys)-embed_keys_normalizer] = wiki_300d_model.get(embed_keys)"
   ]
  },
  {
   "cell_type": "code",
   "execution_count": 93,
   "id": "940e6731-73b9-461d-84d4-be4d1f94a2d5",
   "metadata": {},
   "outputs": [],
   "source": [
    "wiki_embedding_matrix = np.append(wiki_embedding_matrix_train,wiki_embedding_matrix_test,axis=0)"
   ]
  },
  {
   "cell_type": "code",
   "execution_count": 94,
   "id": "33aa13e1-8294-4715-9877-eb17526f55cf",
   "metadata": {},
   "outputs": [],
   "source": [
    "# Combined Training and Testing Data Embedding Matrix\n",
    "wiki_embedding_matrix_tt = np.zeros((quora_tt_freq_df.shape[0]+1,300),np.float64)\n",
    "wiki_embedding_matrix_tt_dict = {}"
   ]
  },
  {
   "cell_type": "code",
   "execution_count": 95,
   "id": "4f38f805-c2a1-46c6-99da-0d37e984c32a",
   "metadata": {},
   "outputs": [
    {
     "data": {
      "application/vnd.jupyter.widget-view+json": {
       "model_id": "63de2e4f3fcc47b8acce8da5f4f37587",
       "version_major": 2,
       "version_minor": 0
      },
      "text/plain": [
       "  0%|          | 0/301079 [00:00<?, ?it/s]"
      ]
     },
     "metadata": {},
     "output_type": "display_data"
    }
   ],
   "source": [
    "for embed_keys in tqdm(quora_tt_word_dict):\n",
    "    embed_flag = wiki_300d_model.get(embed_keys,0)\n",
    "    if isinstance(embed_flag,int):\n",
    "        wiki_embedding_matrix_tt[quora_tt_word_dict.get(embed_keys)] = np.asarray(300*[0],dtype=np.float64)\n",
    "        wiki_embedding_matrix_tt_dict.update({embed_keys:np.asarray(300*[0],dtype=np.float64)})\n",
    "    else:\n",
    "        wiki_embedding_matrix_tt[quora_tt_word_dict.get(embed_keys)] = wiki_300d_model.get(embed_keys)\n",
    "        wiki_embedding_matrix_tt_dict.update({embed_keys:wiki_300d_model.get(embed_keys)})"
   ]
  },
  {
   "cell_type": "code",
   "execution_count": 96,
   "id": "ef3f8543-ae00-4f97-ae17-9c076082b519",
   "metadata": {},
   "outputs": [],
   "source": [
    "np.save(r\"D:\\UoA\\Tri 2\\Big Data Analysis and Projects\\Week 1\\Quora Insincere Questions\\embeddings\\wiki-news-300d-1M\\wiki_embedding_matrix_tt.npy\",wiki_embedding_matrix_tt)"
   ]
  },
  {
   "cell_type": "code",
   "execution_count": 97,
   "id": "965fe604-f488-4a6d-b21b-f93e6e18b37f",
   "metadata": {},
   "outputs": [],
   "source": [
    "f = open(r\"D:\\UoA\\Tri 2\\Big Data Analysis and Projects\\Week 1\\Quora Insincere Questions\\embeddings\\wiki-news-300d-1M\\wiki_embedding_matrix_tt_dict.pkl\",\"wb\")\n",
    "pickle.dump(wiki_embedding_matrix_tt_dict,f)\n",
    "f.close()"
   ]
  },
  {
   "cell_type": "code",
   "execution_count": 98,
   "id": "22ce37e6-6236-4605-8664-fdd37e99f362",
   "metadata": {},
   "outputs": [],
   "source": [
    "del wiki_300d_model"
   ]
  },
  {
   "cell_type": "code",
   "execution_count": 99,
   "id": "3effc5e2-87bd-48fc-89d1-86d5df5eef3a",
   "metadata": {},
   "outputs": [],
   "source": [
    "import gc\n",
    "gc.collect()\n",
    "print('',end='')"
   ]
  },
  {
   "cell_type": "markdown",
   "id": "bdcaef1f-ac73-47d1-b9dd-33dbe842c13b",
   "metadata": {
    "tags": []
   },
   "source": [
    "### Creating Average Word Embedding Matrix for Average Model (Glove, Google, Paragram, Wikipedia)"
   ]
  },
  {
   "cell_type": "code",
   "execution_count": 100,
   "id": "283dabc0-ae4e-4f55-9860-221abd0667ca",
   "metadata": {},
   "outputs": [],
   "source": [
    "# Training Data Embedding Matrix\n",
    "average_embedding_matrix_train = np.divide(np.add(np.add(glove_embedding_matrix_train,google_embedding_matrix_train),np.add(paragram_embedding_matrix_train,wiki_embedding_matrix_train)),4)"
   ]
  },
  {
   "cell_type": "code",
   "execution_count": 101,
   "id": "06e86013-fde1-4614-9abd-6db6421c0905",
   "metadata": {},
   "outputs": [],
   "source": [
    "# Testing Data Embedding Matrix\n",
    "average_embedding_matrix_test = np.divide(np.add(np.add(glove_embedding_matrix_test,google_embedding_matrix_test),np.add(paragram_embedding_matrix_test,wiki_embedding_matrix_test)),4)"
   ]
  },
  {
   "cell_type": "code",
   "execution_count": 102,
   "id": "e11aae2f-4821-4ab1-abfd-f4da3b2e4850",
   "metadata": {},
   "outputs": [],
   "source": [
    "average_embedding_matrix = np.append(average_embedding_matrix_train,average_embedding_matrix_test,axis=0)"
   ]
  },
  {
   "cell_type": "code",
   "execution_count": 103,
   "id": "aaac422f-708a-452e-8b93-3f845502cf81",
   "metadata": {},
   "outputs": [],
   "source": [
    "# Combined Training and Testing Data Embedding Matrix\n",
    "average_embedding_matrix_tt = np.divide(np.add(np.add(glove_embedding_matrix_tt,google_embedding_matrix_tt),np.add(paragram_embedding_matrix_tt,wiki_embedding_matrix_tt)),4)"
   ]
  },
  {
   "cell_type": "code",
   "execution_count": 104,
   "id": "4c87b91e-9d21-44d9-9b7a-853793252208",
   "metadata": {},
   "outputs": [],
   "source": [
    "average_embedding_matrix_tt_df = pd.DataFrame(data=list(glove_embedding_matrix_tt_dict.keys()),columns=['Word'])\n",
    "average_embedding_matrix_tt_df.insert(loc=1,value=list(average_embedding_matrix_tt[1:]),column='Embedding')"
   ]
  },
  {
   "cell_type": "code",
   "execution_count": 105,
   "id": "628f1457-3098-4f5e-bec1-b6cedfa0ed19",
   "metadata": {},
   "outputs": [],
   "source": [
    "average_embedding_matrix_tt_dict = dict(average_embedding_matrix_tt_df.loc[:,['Word','Embedding']].values)"
   ]
  },
  {
   "cell_type": "code",
   "execution_count": 106,
   "id": "43bfdd66-82c7-496c-8eff-de1230dd5e64",
   "metadata": {},
   "outputs": [],
   "source": [
    "np.save(r\"D:\\UoA\\Tri 2\\Big Data Analysis and Projects\\Week 1\\Quora Insincere Questions\\embeddings\\Average\\average_embedding_matrix_tt.npy\",average_embedding_matrix_tt)"
   ]
  },
  {
   "cell_type": "code",
   "execution_count": 107,
   "id": "f71d4064-b231-4005-aae8-80bcef5d4f55",
   "metadata": {},
   "outputs": [],
   "source": [
    "f = open(r\"D:\\UoA\\Tri 2\\Big Data Analysis and Projects\\Week 1\\Quora Insincere Questions\\embeddings\\Average\\average_embedding_matrix_tt_dict.pkl\",\"wb\")\n",
    "pickle.dump(average_embedding_matrix_tt_dict,f)\n",
    "f.close()"
   ]
  },
  {
   "cell_type": "code",
   "execution_count": null,
   "id": "a09f06ba-fb87-4edb-bac7-7a7489e41f98",
   "metadata": {},
   "outputs": [],
   "source": []
  }
 ],
 "metadata": {
  "kernelspec": {
   "display_name": "Python 3 (ipykernel)",
   "language": "python",
   "name": "python3"
  },
  "language_info": {
   "codemirror_mode": {
    "name": "ipython",
    "version": 3
   },
   "file_extension": ".py",
   "mimetype": "text/x-python",
   "name": "python",
   "nbconvert_exporter": "python",
   "pygments_lexer": "ipython3",
   "version": "3.9.12"
  }
 },
 "nbformat": 4,
 "nbformat_minor": 5
}
