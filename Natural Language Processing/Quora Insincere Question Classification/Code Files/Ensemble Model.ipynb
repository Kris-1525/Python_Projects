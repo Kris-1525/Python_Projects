{
 "cells": [
  {
   "cell_type": "markdown",
   "id": "cf0f632a-a408-4f1c-9c00-b0656bbd3816",
   "metadata": {},
   "source": [
    "### General libraries being loaded"
   ]
  },
  {
   "cell_type": "code",
   "execution_count": 1,
   "id": "4555a8d3-88be-49f1-bda0-dd25afebb56e",
   "metadata": {},
   "outputs": [],
   "source": [
    "# Python ≥3.5 is required\n",
    "import sys\n",
    "assert sys.version_info >= (3, 5)\n",
    "\n",
    "# Scikit-Learn ≥0.20 is required\n",
    "import sklearn\n",
    "assert sklearn.__version__ >= \"0.20\"\n",
    "\n",
    "# Common imports\n",
    "import numpy as np\n",
    "import os, time\n",
    "import pandas as pd\n",
    "\n",
    "# Our new Deep Learning imports\n",
    "import tensorflow as tf\n",
    "from tensorflow import keras\n",
    "\n",
    "# To plot nice figures\n",
    "%matplotlib inline\n",
    "import matplotlib as mpl\n",
    "import matplotlib.pyplot as plt\n",
    "mpl.rc('axes', labelsize=14)\n",
    "mpl.rc('xtick', labelsize=12)\n",
    "mpl.rc('ytick', labelsize=12)\n",
    "\n",
    "# For plotting statistical figures\n",
    "import seaborn as sns; sns.set()\n",
    "\n",
    "# For speeding up numpy operations\n",
    "import cupy as cp\n",
    "\n",
    "# For faster numpy computation\n",
    "from numba import jit, cuda\n",
    "\n",
    "# For Progress Bar\n",
    "from tqdm.auto import tqdm,trange\n",
    "tqdm.pandas()\n",
    "\n",
    "# Vaex Dataframe library\n",
    "import vaex as vx\n",
    "\n",
    "# For Pyspark activation\n",
    "import os\n",
    "os.environ[\"PYARROW_IGNORE_TIMEZONE\"] = \"1\"\n",
    "\n",
    "# Pyspark Dataframe\n",
    "from pyspark import pandas as ps\n",
    "\n",
    "import os\n",
    "os.environ['KMP_DUPLICATE_LIB_OK']='True'"
   ]
  },
  {
   "cell_type": "markdown",
   "id": "4ce09c78-8087-4eb4-91f9-4bdd807d692b",
   "metadata": {},
   "source": [
    "### Training and Testing Data Loading"
   ]
  },
  {
   "cell_type": "code",
   "execution_count": 2,
   "id": "c5b556b2-7bc3-4385-a042-211833fa9faa",
   "metadata": {},
   "outputs": [],
   "source": [
    "quora_tt_df = pd.read_pickle(r\"D:\\UoA\\Tri 2\\Big Data Analysis and Projects\\Week 1\\Quora Insincere Questions\\Data\\Train and Test\\quora_tt_df.pkl\")\n",
    "quora_tt_freq_df = pd.read_pickle(r\"D:\\UoA\\Tri 2\\Big Data Analysis and Projects\\Week 1\\Quora Insincere Questions\\Data\\Train and Test\\quora_tt_freq_df.pkl\")"
   ]
  },
  {
   "cell_type": "code",
   "execution_count": 3,
   "id": "f9ca765f-6791-4a8e-b379-1e3090f737d4",
   "metadata": {},
   "outputs": [],
   "source": [
    "import pickle\n",
    "\n",
    "f = open(r\"D:\\UoA\\Tri 2\\Big Data Analysis and Projects\\Week 1\\Quora Insincere Questions\\Data\\Train and Test\\quora_tt_dict_idf.pkl\",\"rb\")\n",
    "f1 = open(r\"D:\\UoA\\Tri 2\\Big Data Analysis and Projects\\Week 1\\Quora Insincere Questions\\Data\\Train and Test\\quora_tt_word_dict.pkl\",\"rb\")\n",
    "\n",
    "quora_tt_dict_idf = pickle.load(f)\n",
    "quora_tt_word_dict = pickle.load(f1)\n",
    "\n",
    "f.close()\n",
    "f1.close()\n",
    "\n",
    "max_sentence_length_quora = np.load(r\"D:\\UoA\\Tri 2\\Big Data Analysis and Projects\\Week 1\\Quora Insincere Questions\\Data\\Train and Test\\max_sentence_length_quora.npy\")\n",
    "max_sentence_length_quora = int(max_sentence_length_quora)"
   ]
  },
  {
   "cell_type": "markdown",
   "id": "fdd54129-10d8-46c2-b990-e4d6ee5f5e70",
   "metadata": {
    "tags": []
   },
   "source": [
    "### Basic imports for Model Execution"
   ]
  },
  {
   "cell_type": "code",
   "execution_count": 4,
   "id": "b8029692-a196-4cc3-8d54-4da2b9243e71",
   "metadata": {},
   "outputs": [],
   "source": [
    "from keras.layers import Input,Embedding,SpatialDropout1D,Bidirectional,CuDNNLSTM,CuDNNGRU,GlobalMaxPooling1D,Concatenate,Dense,LSTM,GRU\n",
    "from keras.optimizers import Adam\n",
    "from keras.models import Model\n",
    "from keras.initializers import Constant\n",
    "\n",
    "from sklearn.metrics import RocCurveDisplay\n",
    "from sklearn.metrics import roc_curve\n",
    "\n",
    "from kneed import KneeLocator\n",
    "\n",
    "from sklearn.metrics import confusion_matrix\n",
    "from sklearn.metrics import ConfusionMatrixDisplay\n",
    "from sklearn.metrics import precision_recall_fscore_support"
   ]
  },
  {
   "cell_type": "markdown",
   "id": "c159d000-8eb2-4890-818a-6a779e0015df",
   "metadata": {
    "tags": []
   },
   "source": [
    "### Ensembling Predicted Train and Test Model"
   ]
  },
  {
   "cell_type": "code",
   "execution_count": 5,
   "id": "f21d90b7-b276-4bb7-82b3-b482eeddc633",
   "metadata": {},
   "outputs": [],
   "source": [
    "quora_train_pridicted_array_glove_copy = np.load(r\"D:\\UoA\\Tri 2\\Big Data Analysis and Projects\\Week 1\\Quora Insincere Questions\\embeddings\\glove.840B.300d\\quora_train_pridicted_array_glove.npy\")\n",
    "quora_train_pridicted_array_google_copy = np.load(r\"D:\\UoA\\Tri 2\\Big Data Analysis and Projects\\Week 1\\Quora Insincere Questions\\embeddings\\GoogleNews-vectors-negative300\\quora_train_pridicted_array_google.npy\")\n",
    "quora_train_pridicted_array_paragram_copy = np.load(r\"D:\\UoA\\Tri 2\\Big Data Analysis and Projects\\Week 1\\Quora Insincere Questions\\embeddings\\paragram_300_sl999\\quora_train_pridicted_array_paragram.npy\")\n",
    "quora_train_pridicted_array_wiki_copy = np.load(r\"D:\\UoA\\Tri 2\\Big Data Analysis and Projects\\Week 1\\Quora Insincere Questions\\embeddings\\wiki-news-300d-1M\\quora_train_pridicted_array_wiki.npy\")\n",
    "quora_train_pridicted_array_average_copy = np.load(r\"D:\\UoA\\Tri 2\\Big Data Analysis and Projects\\Week 1\\Quora Insincere Questions\\embeddings\\Average\\quora_train_pridicted_array_average.npy\")"
   ]
  },
  {
   "cell_type": "code",
   "execution_count": 6,
   "id": "53a0f368-e04d-4caa-8ff6-e11a41a44e15",
   "metadata": {},
   "outputs": [],
   "source": [
    "quora_test_pridicted_array_glove = np.load(r\"D:\\UoA\\Tri 2\\Big Data Analysis and Projects\\Week 1\\Quora Insincere Questions\\embeddings\\glove.840B.300d\\quora_test_pridicted_array_glove.npy\")\n",
    "quora_test_pridicted_array_google = np.load(r\"D:\\UoA\\Tri 2\\Big Data Analysis and Projects\\Week 1\\Quora Insincere Questions\\embeddings\\GoogleNews-vectors-negative300\\quora_test_pridicted_array_google.npy\")\n",
    "quora_test_pridicted_array_paragram = np.load(r\"D:\\UoA\\Tri 2\\Big Data Analysis and Projects\\Week 1\\Quora Insincere Questions\\embeddings\\paragram_300_sl999\\quora_test_pridicted_array_paragram.npy\")\n",
    "quora_test_pridicted_array_wiki = np.load(r\"D:\\UoA\\Tri 2\\Big Data Analysis and Projects\\Week 1\\Quora Insincere Questions\\embeddings\\wiki-news-300d-1M\\quora_test_pridicted_array_wiki.npy\")\n",
    "quora_test_pridicted_array_average = np.load(r\"D:\\UoA\\Tri 2\\Big Data Analysis and Projects\\Week 1\\Quora Insincere Questions\\embeddings\\Average\\quora_test_pridicted_array_average.npy\")"
   ]
  },
  {
   "cell_type": "code",
   "execution_count": 7,
   "id": "fdb1f4d2-02eb-4b15-a408-85b147865fd7",
   "metadata": {},
   "outputs": [],
   "source": [
    "quora_test_pridicted_array_ensemble = np.array([quora_test_pridicted_array_glove, quora_test_pridicted_array_google, quora_test_pridicted_array_paragram, quora_test_pridicted_array_wiki,quora_test_pridicted_array_average],dtype='float64')\n",
    "quora_test_pridicted_array_ensemble = np.mean(quora_test_pridicted_array_ensemble, axis=0)"
   ]
  },
  {
   "cell_type": "code",
   "execution_count": 8,
   "id": "425f0f95-4a71-4fa1-96be-8fe7d7c98684",
   "metadata": {},
   "outputs": [],
   "source": [
    "quora_train_pridicted_array_ensemble = np.array([quora_train_pridicted_array_glove_copy, quora_train_pridicted_array_google_copy, quora_train_pridicted_array_paragram_copy, quora_train_pridicted_array_wiki_copy, quora_train_pridicted_array_average_copy],dtype='float64')\n",
    "quora_train_pridicted_array_ensemble = np.mean(quora_train_pridicted_array_ensemble, axis=0)"
   ]
  },
  {
   "cell_type": "code",
   "execution_count": 9,
   "id": "1218cdc9-d4f5-4010-b0e7-497ea7f1560b",
   "metadata": {},
   "outputs": [],
   "source": [
    "quora_train_features_array_ensemble = np.copy(np.array(quora_tt_df.loc[~(quora_tt_df['target'] == -1),'question_text_encode'].to_list(),dtype=np.float64))\n",
    "quora_train_pridiction_array_ensemble = np.copy(np.array(quora_tt_df.loc[~(quora_tt_df['target'] == -1),'target'].to_list(),dtype=np.float64))"
   ]
  },
  {
   "cell_type": "code",
   "execution_count": 10,
   "id": "e8995fb4-dfc2-42da-9d12-ee8ab0dafb8a",
   "metadata": {},
   "outputs": [
    {
     "data": {
      "image/png": "[encoded data removed]",
      "text/plain": [
       "<Figure size 432x288 with 1 Axes>"
      ]
     },
     "metadata": {},
     "output_type": "display_data"
    }
   ],
   "source": [
    "RocCurveDisplay.from_predictions(quora_train_pridiction_array_ensemble, quora_train_pridicted_array_ensemble)\n",
    "plt.show()\n",
    "fpr_ensemble, tpr_ensemble, thresholds_ensemble = roc_curve(quora_train_pridiction_array_ensemble, quora_train_pridicted_array_ensemble)"
   ]
  },
  {
   "cell_type": "code",
   "execution_count": 11,
   "id": "924b4221-2329-4904-b246-c81bcf3305f9",
   "metadata": {},
   "outputs": [
    {
     "name": "stdout",
     "output_type": "stream",
     "text": [
      "\u001b[1mThe Knee point of ROC Curve (x-axis) is:\u001b[0m\n",
      "\n",
      "0.04281848214985245\n",
      "\n",
      "\n",
      "\u001b[1mThe Knee point of ROC Curve (y-axis) is:\u001b[0m\n",
      "\n",
      "0.8790619972775646\n",
      "\n",
      "\n"
     ]
    },
    {
     "data": {
      "image/png": "[encoded data removed]",
      "text/plain": [
       "<Figure size 432x432 with 1 Axes>"
      ]
     },
     "metadata": {},
     "output_type": "display_data"
    }
   ],
   "source": [
    "kn_ensemble = KneeLocator(fpr_ensemble, tpr_ensemble, curve='concave', direction='increasing')\n",
    "print('\\033[1m' + 'The Knee point of ROC Curve (x-axis) is:' + '\\033[0m' + '\\n')\n",
    "print(kn_ensemble.knee)\n",
    "print('\\n')\n",
    "print('\\033[1m' + 'The Knee point of ROC Curve (y-axis) is:' + '\\033[0m' + '\\n')\n",
    "print(kn_ensemble.knee_y)\n",
    "print('\\n')\n",
    "kn_ensemble.plot_knee()"
   ]
  },
  {
   "cell_type": "code",
   "execution_count": 12,
   "id": "3fb627ac-7e02-4173-a8f1-b1279df7ab92",
   "metadata": {},
   "outputs": [],
   "source": [
    "point_x_index_ensemble = np.where(fpr_ensemble == kn_ensemble.knee)\n",
    "point_y_index_ensemble = np.where(tpr_ensemble == kn_ensemble.knee_y)\n",
    "threshold_index_ensemble = np.intersect1d(point_x_index_ensemble, point_y_index_ensemble)\n",
    "threshold_value_ensemble = thresholds_ensemble[threshold_index_ensemble[0]]"
   ]
  },
  {
   "cell_type": "code",
   "execution_count": 13,
   "id": "1ca05d5b-fe1f-47ae-8b37-af7beb8ec462",
   "metadata": {},
   "outputs": [],
   "source": [
    "quora_train_pridicted_array_ensemble[quora_train_pridicted_array_ensemble <= threshold_value_ensemble] = 0\n",
    "quora_train_pridicted_array_ensemble[quora_train_pridicted_array_ensemble > threshold_value_ensemble] = 1"
   ]
  },
  {
   "cell_type": "code",
   "execution_count": 14,
   "id": "533d2941-ce9f-47fb-b31d-6d78b8997f96",
   "metadata": {},
   "outputs": [
    {
     "data": {
      "image/png": "[encoded data removed]",
      "text/plain": [
       "<Figure size 432x288 with 2 Axes>"
      ]
     },
     "metadata": {},
     "output_type": "display_data"
    },
    {
     "name": "stdout",
     "output_type": "stream",
     "text": [
      "\u001b[1mThe Precision (Ensemble) is:\u001b[0m\n",
      "\n",
      "0.9659643034218565\n",
      "\n",
      "\n",
      "\u001b[1mThe Recall (Ensemble) is:\u001b[0m\n",
      "\n",
      "0.9523490148699738\n",
      "\n",
      "\n",
      "\u001b[1mThe F-Score (Ensemble) is:\u001b[0m\n",
      "\n",
      "0.9569050493345274\n",
      "\n",
      "\n"
     ]
    }
   ],
   "source": [
    "tn_ensemble, fp_ensemble, fn_ensemble, tp_ensemble = confusion_matrix(quora_train_pridiction_array_ensemble,quora_train_pridicted_array_ensemble).ravel()\n",
    "ConfusionMatrixDisplay.from_predictions(quora_train_pridiction_array_ensemble,quora_train_pridicted_array_ensemble)\n",
    "plt.show()\n",
    "\n",
    "precision_ensemble, recall_ensemble, fbeta_score_ensemble, support_ensemble = precision_recall_fscore_support(quora_train_pridiction_array_ensemble,quora_train_pridicted_array_ensemble, average='weighted')\n",
    "print('\\033[1m' + 'The Precision (Ensemble) is:' + '\\033[0m' + '\\n')\n",
    "print(precision_ensemble)\n",
    "print('\\n')\n",
    "print('\\033[1m' + 'The Recall (Ensemble) is:' + '\\033[0m' + '\\n')\n",
    "print(recall_ensemble)\n",
    "print('\\n')\n",
    "print('\\033[1m' + 'The F-Score (Ensemble) is:' + '\\033[0m' + '\\n')\n",
    "print(fbeta_score_ensemble)\n",
    "print('\\n')"
   ]
  },
  {
   "cell_type": "code",
   "execution_count": 16,
   "id": "97fc77b8-0586-40af-aa7b-914cd811971b",
   "metadata": {},
   "outputs": [],
   "source": [
    "np.save(r\"D:\\UoA\\Tri 2\\Big Data Analysis and Projects\\Week 1\\Quora Insincere Questions\\embeddings\\Ensemble\\threshold_value_ensemble.npy\",threshold_value_ensemble)"
   ]
  },
  {
   "cell_type": "code",
   "execution_count": null,
   "id": "9f5be1db-0e00-4d30-b1d7-caf0c385ac5c",
   "metadata": {},
   "outputs": [],
   "source": []
  }
 ],
 "metadata": {
  "kernelspec": {
   "display_name": "Python 3 (ipykernel)",
   "language": "python",
   "name": "python3"
  },
  "language_info": {
   "codemirror_mode": {
    "name": "ipython",
    "version": 3
   },
   "file_extension": ".py",
   "mimetype": "text/x-python",
   "name": "python",
   "nbconvert_exporter": "python",
   "pygments_lexer": "ipython3",
   "version": "3.9.12"
  }
 },
 "nbformat": 4,
 "nbformat_minor": 5
}
