{
 "cells": [
  {
   "cell_type": "markdown",
   "id": "b7b9ccb7-1b8c-439a-8895-e99a536d9806",
   "metadata": {},
   "source": [
    "### General libraries being loaded"
   ]
  },
  {
   "cell_type": "code",
   "execution_count": 1,
   "id": "6ad045aa-796c-4f8d-858f-9017683d6af4",
   "metadata": {},
   "outputs": [],
   "source": [
    "# Python ≥3.5 is required\n",
    "import sys\n",
    "assert sys.version_info >= (3, 5)\n",
    "\n",
    "# Scikit-Learn ≥0.20 is required\n",
    "import sklearn\n",
    "assert sklearn.__version__ >= \"0.20\"\n",
    "\n",
    "# Common imports\n",
    "import numpy as np\n",
    "import os, time\n",
    "import pandas as pd\n",
    "\n",
    "# Our new Deep Learning imports\n",
    "import tensorflow as tf\n",
    "from tensorflow import keras\n",
    "\n",
    "# To plot nice figures\n",
    "%matplotlib inline\n",
    "import matplotlib as mpl\n",
    "import matplotlib.pyplot as plt\n",
    "mpl.rc('axes', labelsize=14)\n",
    "mpl.rc('xtick', labelsize=12)\n",
    "mpl.rc('ytick', labelsize=12)\n",
    "\n",
    "# For plotting statistical figures\n",
    "import seaborn as sns; sns.set()\n",
    "\n",
    "# For speeding up numpy operations\n",
    "import cupy as cp\n",
    "\n",
    "# For faster numpy computation\n",
    "from numba import jit, cuda\n",
    "\n",
    "# For Progress Bar\n",
    "from tqdm.auto import tqdm,trange\n",
    "tqdm.pandas()\n",
    "\n",
    "# Vaex Dataframe library\n",
    "import vaex as vx\n",
    "\n",
    "# For Pyspark activation\n",
    "import os\n",
    "os.environ[\"PYARROW_IGNORE_TIMEZONE\"] = \"1\"\n",
    "\n",
    "# Pyspark Dataframe\n",
    "from pyspark import pandas as ps\n",
    "\n",
    "import os\n",
    "os.environ['KMP_DUPLICATE_LIB_OK']='True'"
   ]
  },
  {
   "cell_type": "markdown",
   "id": "374ccf59-34a7-49c7-955a-9069d96c8df7",
   "metadata": {},
   "source": [
    "### Training and Testing Data Loading"
   ]
  },
  {
   "cell_type": "code",
   "execution_count": 2,
   "id": "d5545224-da21-4118-af76-a530ed5dd5b7",
   "metadata": {},
   "outputs": [],
   "source": [
    "quora_tt_df = pd.read_pickle(r\"D:\\UoA\\Tri 2\\Big Data Analysis and Projects\\Week 1\\Quora Insincere Questions\\Data\\Train and Test\\quora_tt_df.pkl\")\n",
    "quora_tt_freq_df = pd.read_pickle(r\"D:\\UoA\\Tri 2\\Big Data Analysis and Projects\\Week 1\\Quora Insincere Questions\\Data\\Train and Test\\quora_tt_freq_df.pkl\")"
   ]
  },
  {
   "cell_type": "code",
   "execution_count": 3,
   "id": "df738397-0570-49a3-8ee1-c4787d7be5fe",
   "metadata": {},
   "outputs": [],
   "source": [
    "import pickle\n",
    "\n",
    "f = open(r\"D:\\UoA\\Tri 2\\Big Data Analysis and Projects\\Week 1\\Quora Insincere Questions\\Data\\Train and Test\\quora_tt_dict_idf.pkl\",\"rb\")\n",
    "f1 = open(r\"D:\\UoA\\Tri 2\\Big Data Analysis and Projects\\Week 1\\Quora Insincere Questions\\Data\\Train and Test\\quora_tt_word_dict.pkl\",\"rb\")\n",
    "\n",
    "quora_tt_dict_idf = pickle.load(f)\n",
    "quora_tt_word_dict = pickle.load(f1)\n",
    "\n",
    "f.close()\n",
    "f1.close()\n",
    "\n",
    "max_sentence_length_quora = np.load(r\"D:\\UoA\\Tri 2\\Big Data Analysis and Projects\\Week 1\\Quora Insincere Questions\\Data\\Train and Test\\max_sentence_length_quora.npy\")\n",
    "max_sentence_length_quora = int(max_sentence_length_quora)"
   ]
  },
  {
   "cell_type": "markdown",
   "id": "a7b89f73-dc83-4e1c-bc86-1633dc2be592",
   "metadata": {},
   "source": [
    "### Wikipedia Word Embedding Loading"
   ]
  },
  {
   "cell_type": "code",
   "execution_count": 4,
   "id": "8992c06b-aadd-4353-a267-c23ac5f93d27",
   "metadata": {},
   "outputs": [],
   "source": [
    "wiki_embedding_matrix_tt = np.load(r\"D:\\UoA\\Tri 2\\Big Data Analysis and Projects\\Week 1\\Quora Insincere Questions\\embeddings\\wiki-news-300d-1M\\wiki_embedding_matrix_tt.npy\")"
   ]
  },
  {
   "cell_type": "code",
   "execution_count": 5,
   "id": "9a8dc911-8a73-4873-922c-c90bce9e0ffd",
   "metadata": {},
   "outputs": [],
   "source": [
    "f = open(r\"D:\\UoA\\Tri 2\\Big Data Analysis and Projects\\Week 1\\Quora Insincere Questions\\embeddings\\wiki-news-300d-1M\\wiki_embedding_matrix_tt_dict.pkl\",\"rb\")\n",
    "wiki_embedding_matrix_tt_dict = pickle.load(f)\n",
    "f.close()"
   ]
  },
  {
   "cell_type": "markdown",
   "id": "9d9323a3-d3d8-467d-9d3b-3e387d4444d4",
   "metadata": {
    "tags": []
   },
   "source": [
    "### Basic imports for Model Execution"
   ]
  },
  {
   "cell_type": "code",
   "execution_count": 6,
   "id": "dabec981-5df0-43d3-9138-0a1f1026782c",
   "metadata": {},
   "outputs": [],
   "source": [
    "from keras.layers import Input,Embedding,SpatialDropout1D,Bidirectional,CuDNNLSTM,CuDNNGRU,GlobalMaxPooling1D,Concatenate,Dense,LSTM,GRU\n",
    "from keras.optimizers import Adam\n",
    "from keras.models import Model\n",
    "from keras.initializers import Constant\n",
    "\n",
    "from sklearn.metrics import RocCurveDisplay\n",
    "from sklearn.metrics import roc_curve\n",
    "\n",
    "from kneed import KneeLocator\n",
    "\n",
    "from sklearn.metrics import confusion_matrix\n",
    "from sklearn.metrics import ConfusionMatrixDisplay\n",
    "from sklearn.metrics import precision_recall_fscore_support"
   ]
  },
  {
   "cell_type": "markdown",
   "id": "1a629656-9537-4d2c-a48a-ff0cd05f7148",
   "metadata": {
    "tags": []
   },
   "source": [
    "### Creating a Deep Neural Network for Wikipedia Word Embedding"
   ]
  },
  {
   "cell_type": "code",
   "execution_count": 7,
   "id": "60df5248-ad66-4b02-b8bf-e073a318a795",
   "metadata": {},
   "outputs": [],
   "source": [
    "def quora_DNN_build_model(embedding_matrix_quora,max_sentence_length_quora,embedding_size_quora,number_words_quora,learning_rate_quora):\n",
    "    inp = Input(shape=(max_sentence_length_quora,))\n",
    "    x = Embedding(number_words_quora, embedding_size_quora, embeddings_initializer=Constant(embedding_matrix_quora), trainable=False)(inp)\n",
    "    x = SpatialDropout1D(0.3)(x)\n",
    "    x1 = Bidirectional(LSTM(256, return_sequences=True))(x)\n",
    "    x2 = Bidirectional(GRU(128, return_sequences=True))(x1)\n",
    "    max_pool1 = GlobalMaxPooling1D()(x1)\n",
    "    max_pool2 = GlobalMaxPooling1D()(x2)\n",
    "    conc = Concatenate()([max_pool1, max_pool2])\n",
    "    predictions = Dense(1, activation='sigmoid')(conc)\n",
    "    model = Model(inputs=inp, outputs=predictions)\n",
    "    adam = Adam(learning_rate=learning_rate_quora)\n",
    "    model.compile(optimizer=adam, loss='binary_crossentropy', metrics=['accuracy'])\n",
    "    return model"
   ]
  },
  {
   "cell_type": "code",
   "execution_count": 8,
   "id": "6b2abd13-eb95-464f-a9a4-b6f85596b33b",
   "metadata": {},
   "outputs": [],
   "source": [
    "model_wiki = quora_DNN_build_model(embedding_matrix_quora=wiki_embedding_matrix_tt,max_sentence_length_quora=max_sentence_length_quora,\n",
    "                             embedding_size_quora=300,number_words_quora=wiki_embedding_matrix_tt.shape[0],learning_rate_quora=0.001)"
   ]
  },
  {
   "cell_type": "code",
   "execution_count": 9,
   "id": "36d20aba-ddc0-4c5a-a267-658c2598be3a",
   "metadata": {},
   "outputs": [],
   "source": [
    "num_epoch = 4\n",
    "batch_size = 256"
   ]
  },
  {
   "cell_type": "code",
   "execution_count": 10,
   "id": "d8452621-c3c9-4462-b890-1c6773e4f7b8",
   "metadata": {},
   "outputs": [
    {
     "name": "stdout",
     "output_type": "stream",
     "text": [
      "Epoch 1/3\n",
      "4082/4082 [==============================] - 738s 179ms/step - loss: 0.1191 - accuracy: 0.9538 - val_loss: 0.1050 - val_accuracy: 0.9584\n",
      "Epoch 2/3\n",
      "4082/4082 [==============================] - 732s 179ms/step - loss: 0.1050 - accuracy: 0.9585 - val_loss: 0.1004 - val_accuracy: 0.9604\n",
      "Epoch 3/3\n",
      "4082/4082 [==============================] - 742s 182ms/step - loss: 0.0994 - accuracy: 0.9607 - val_loss: 0.0981 - val_accuracy: 0.9611\n"
     ]
    }
   ],
   "source": [
    "quora_train_features_array_wiki = np.copy(np.array(quora_tt_df.loc[~(quora_tt_df['target'] == -1),'question_text_encode'].to_list(),dtype=np.float64))\n",
    "quora_train_pridiction_array_wiki = np.copy(np.array(quora_tt_df.loc[~(quora_tt_df['target'] == -1),'target'].to_list(),dtype=np.float64))\n",
    "wiki_history = model_wiki.fit(quora_train_features_array_wiki, quora_train_pridiction_array_wiki, validation_split=0.2, batch_size=batch_size, validation_batch_size=batch_size, epochs=num_epoch-1, verbose=1, shuffle=True, use_multiprocessing=True)"
   ]
  },
  {
   "cell_type": "code",
   "execution_count": 11,
   "id": "00fc6792-cd34-46fa-99c5-042acec93d3c",
   "metadata": {},
   "outputs": [
    {
     "data": {
      "image/png": "[encoded data removed]",
      "text/plain": [
       "<Figure size 432x288 with 1 Axes>"
      ]
     },
     "metadata": {},
     "output_type": "display_data"
    }
   ],
   "source": [
    "# Accuracy Plot\n",
    "plt.plot(wiki_history.history['accuracy'])\n",
    "plt.plot(wiki_history.history['val_accuracy'])\n",
    "plt.title('model accuracy')\n",
    "plt.ylabel('accuracy')\n",
    "plt.xlabel('epoch')\n",
    "plt.legend(['train', 'val'], loc='upper left')\n",
    "plt.show()"
   ]
  },
  {
   "cell_type": "code",
   "execution_count": 12,
   "id": "326f3a7a-afa1-4384-9122-c5d1bdc97521",
   "metadata": {},
   "outputs": [
    {
     "data": {
      "image/png": "[encoded data removed]",
      "text/plain": [
       "<Figure size 432x288 with 1 Axes>"
      ]
     },
     "metadata": {},
     "output_type": "display_data"
    }
   ],
   "source": [
    "# Loss plot\n",
    "plt.plot(wiki_history.history['loss'])\n",
    "plt.plot(wiki_history.history['val_loss'])\n",
    "plt.title('model loss')\n",
    "plt.ylabel('loss')\n",
    "plt.xlabel('epoch')\n",
    "plt.legend(['train', 'val'], loc='upper left')\n",
    "plt.show()"
   ]
  },
  {
   "cell_type": "code",
   "execution_count": 13,
   "id": "9d149332-8007-4969-a3f1-8de4a91220af",
   "metadata": {},
   "outputs": [
    {
     "name": "stdout",
     "output_type": "stream",
     "text": [
      "5103/5103 [==============================] - 304s 59ms/step\n"
     ]
    }
   ],
   "source": [
    "quora_train_pridicted_array_wiki = model_wiki.predict(quora_train_features_array_wiki, batch_size=batch_size, verbose=1, use_multiprocessing=True)\n",
    "quora_train_pridicted_array_wiki = np.squeeze(quora_train_pridicted_array_wiki)\n",
    "quora_train_pridicted_array_wiki_copy = np.copy(quora_train_pridicted_array_wiki)"
   ]
  },
  {
   "cell_type": "code",
   "execution_count": 14,
   "id": "87f3e9c9-a3c9-4295-91cc-73af0418bb12",
   "metadata": {},
   "outputs": [
    {
     "data": {
      "image/png": "[encoded data removed]",
      "text/plain": [
       "<Figure size 432x288 with 1 Axes>"
      ]
     },
     "metadata": {},
     "output_type": "display_data"
    }
   ],
   "source": [
    "RocCurveDisplay.from_predictions(quora_train_pridiction_array_wiki, quora_train_pridicted_array_wiki)\n",
    "plt.show()\n",
    "fpr_wiki, tpr_wiki, thresholds_wiki = roc_curve(quora_train_pridiction_array_wiki, quora_train_pridicted_array_wiki)"
   ]
  },
  {
   "cell_type": "code",
   "execution_count": 15,
   "id": "77d887cd-efd5-4603-a6ff-7d0c36a58292",
   "metadata": {},
   "outputs": [
    {
     "name": "stdout",
     "output_type": "stream",
     "text": [
      "\u001b[1mThe Knee point of ROC Curve (x-axis) is:\u001b[0m\n",
      "\n",
      "0.017621634326604164\n",
      "\n",
      "\n",
      "\u001b[1mThe Knee point of ROC Curve (y-axis) is:\u001b[0m\n",
      "\n",
      "0.6736913748298478\n",
      "\n",
      "\n"
     ]
    },
    {
     "data": {
      "image/png": "[encoded data removed]",
      "text/plain": [
       "<Figure size 432x432 with 1 Axes>"
      ]
     },
     "metadata": {},
     "output_type": "display_data"
    }
   ],
   "source": [
    "kn_wiki = KneeLocator(fpr_wiki, tpr_wiki, curve='concave', direction='increasing')\n",
    "print('\\033[1m' + 'The Knee point of ROC Curve (x-axis) is:' + '\\033[0m' + '\\n')\n",
    "print(kn_wiki.knee)\n",
    "print('\\n')\n",
    "print('\\033[1m' + 'The Knee point of ROC Curve (y-axis) is:' + '\\033[0m' + '\\n')\n",
    "print(kn_wiki.knee_y)\n",
    "print('\\n')\n",
    "kn_wiki.plot_knee()"
   ]
  },
  {
   "cell_type": "code",
   "execution_count": 16,
   "id": "6fd27377-d31e-4c0c-96f2-062c7123c43a",
   "metadata": {},
   "outputs": [],
   "source": [
    "point_x_index_wiki = np.where(fpr_wiki == kn_wiki.knee)\n",
    "point_y_index_wiki = np.where(tpr_wiki == kn_wiki.knee_y)\n",
    "threshold_index_wiki = np.intersect1d(point_x_index_wiki, point_y_index_wiki)\n",
    "threshold_value_wiki = thresholds_wiki[threshold_index_wiki[0]]"
   ]
  },
  {
   "cell_type": "code",
   "execution_count": 17,
   "id": "5c1888dd-55ae-4e13-ad98-a897752cdccf",
   "metadata": {},
   "outputs": [],
   "source": [
    "quora_train_pridicted_array_wiki[quora_train_pridicted_array_wiki <= threshold_value_wiki] = 0\n",
    "quora_train_pridicted_array_wiki[quora_train_pridicted_array_wiki > threshold_value_wiki] = 1"
   ]
  },
  {
   "cell_type": "code",
   "execution_count": 18,
   "id": "14f91233-f0df-4e65-86fd-14723d1a8400",
   "metadata": {},
   "outputs": [
    {
     "data": {
      "image/png": "[encoded data removed]",
      "text/plain": [
       "<Figure size 432x288 with 2 Axes>"
      ]
     },
     "metadata": {},
     "output_type": "display_data"
    },
    {
     "name": "stdout",
     "output_type": "stream",
     "text": [
      "\u001b[1mThe Precision (Wikipedia) is:\u001b[0m\n",
      "\n",
      "0.9623202147223149\n",
      "\n",
      "\n",
      "\u001b[1mThe Recall (Wikipedia) is:\u001b[0m\n",
      "\n",
      "0.9632806123777105\n",
      "\n",
      "\n",
      "\u001b[1mThe F-Score (Wikipedia) is:\u001b[0m\n",
      "\n",
      "0.9627570331027668\n",
      "\n",
      "\n"
     ]
    }
   ],
   "source": [
    "tn_wiki, fp_wiki, fn_wiki, tp_wiki = confusion_matrix(quora_train_pridiction_array_wiki,quora_train_pridicted_array_wiki).ravel()\n",
    "ConfusionMatrixDisplay.from_predictions(quora_train_pridiction_array_wiki,quora_train_pridicted_array_wiki)\n",
    "plt.show()\n",
    "\n",
    "precision_wiki, recall_wiki, fbeta_score_wiki, support_wiki = precision_recall_fscore_support(quora_train_pridiction_array_wiki,quora_train_pridicted_array_wiki, average='weighted')\n",
    "print('\\033[1m' + 'The Precision (Wikipedia) is:' + '\\033[0m' + '\\n')\n",
    "print(precision_wiki)\n",
    "print('\\n')\n",
    "print('\\033[1m' + 'The Recall (Wikipedia) is:' + '\\033[0m' + '\\n')\n",
    "print(recall_wiki)\n",
    "print('\\n')\n",
    "print('\\033[1m' + 'The F-Score (Wikipedia) is:' + '\\033[0m' + '\\n')\n",
    "print(fbeta_score_wiki)\n",
    "print('\\n')"
   ]
  },
  {
   "cell_type": "code",
   "execution_count": 19,
   "id": "a18ba9d8-bfbe-464d-bbb4-fc56400a1d69",
   "metadata": {},
   "outputs": [
    {
     "name": "stdout",
     "output_type": "stream",
     "text": [
      "1468/1468 [==============================] - 88s 60ms/step\n"
     ]
    }
   ],
   "source": [
    "quora_test_features_array_wiki = np.copy(np.array(quora_tt_df.loc[(quora_tt_df['target'] == -1),'question_text_encode'].to_list(),dtype=np.float64))\n",
    "quora_test_pridicted_array_wiki = model_wiki.predict(quora_test_features_array_wiki, batch_size=batch_size, verbose=1, use_multiprocessing=True)\n",
    "quora_test_pridicted_array_wiki = np.squeeze(quora_test_pridicted_array_wiki)"
   ]
  },
  {
   "cell_type": "code",
   "execution_count": 20,
   "id": "7d1e874f-f088-4f8f-8865-a14f91cf15a9",
   "metadata": {},
   "outputs": [],
   "source": [
    "import tensorflow as tf\n",
    "tf.keras.backend.clear_session()"
   ]
  },
  {
   "cell_type": "code",
   "execution_count": 21,
   "id": "b01a5614-0b0f-4a8d-a536-d41fd830c96c",
   "metadata": {},
   "outputs": [],
   "source": [
    "del wiki_embedding_matrix_tt\n",
    "del quora_train_features_array_wiki\n",
    "del quora_train_pridiction_array_wiki\n",
    "del model_wiki"
   ]
  },
  {
   "cell_type": "code",
   "execution_count": 22,
   "id": "12fdab29-9578-41e3-88f2-c9288a476c0b",
   "metadata": {},
   "outputs": [],
   "source": [
    "import gc\n",
    "gc.collect()\n",
    "print('',end='')"
   ]
  },
  {
   "cell_type": "code",
   "execution_count": 23,
   "id": "268b02b1-865d-485e-b67f-d19158d767ae",
   "metadata": {},
   "outputs": [],
   "source": [
    "np.save(r\"D:\\UoA\\Tri 2\\Big Data Analysis and Projects\\Week 1\\Quora Insincere Questions\\embeddings\\wiki-news-300d-1M\\quora_test_pridicted_array_wiki.npy\",quora_test_pridicted_array_wiki)"
   ]
  },
  {
   "cell_type": "code",
   "execution_count": 24,
   "id": "d51811e7-d1ff-4421-a083-44362934a381",
   "metadata": {},
   "outputs": [],
   "source": [
    "del quora_test_pridicted_array_wiki"
   ]
  },
  {
   "cell_type": "code",
   "execution_count": 25,
   "id": "5cca5190-7b5f-44c2-ace4-3a2aa8d0ab38",
   "metadata": {},
   "outputs": [],
   "source": [
    "np.save(r\"D:\\UoA\\Tri 2\\Big Data Analysis and Projects\\Week 1\\Quora Insincere Questions\\embeddings\\wiki-news-300d-1M\\quora_train_pridicted_array_wiki.npy\",quora_train_pridicted_array_wiki_copy)"
   ]
  },
  {
   "cell_type": "code",
   "execution_count": 26,
   "id": "d880d004-19bd-47fc-84ea-28f2d840780e",
   "metadata": {},
   "outputs": [],
   "source": [
    "del quora_train_pridicted_array_wiki\n",
    "del quora_train_pridicted_array_wiki_copy"
   ]
  },
  {
   "cell_type": "code",
   "execution_count": 27,
   "id": "4f9b8331-4e19-4223-af33-3e478f18eca7",
   "metadata": {},
   "outputs": [],
   "source": [
    "np.save(r\"D:\\UoA\\Tri 2\\Big Data Analysis and Projects\\Week 1\\Quora Insincere Questions\\embeddings\\wiki-news-300d-1M\\threshold_value_wiki.npy\",threshold_value_wiki)"
   ]
  },
  {
   "cell_type": "code",
   "execution_count": null,
   "id": "4cd6ba1d-1010-4cd7-a599-4e102c24b96a",
   "metadata": {},
   "outputs": [],
   "source": []
  }
 ],
 "metadata": {
  "kernelspec": {
   "display_name": "Python 3 (ipykernel)",
   "language": "python",
   "name": "python3"
  },
  "language_info": {
   "codemirror_mode": {
    "name": "ipython",
    "version": 3
   },
   "file_extension": ".py",
   "mimetype": "text/x-python",
   "name": "python",
   "nbconvert_exporter": "python",
   "pygments_lexer": "ipython3",
   "version": "3.9.12"
  }
 },
 "nbformat": 4,
 "nbformat_minor": 5
}
