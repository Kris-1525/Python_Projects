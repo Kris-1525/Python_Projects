{
 "cells": [
  {
   "cell_type": "markdown",
   "id": "14a14a91-f852-43d7-a11b-e2edbd840154",
   "metadata": {},
   "source": [
    "### General libraries being loaded"
   ]
  },
  {
   "cell_type": "code",
   "execution_count": 1,
   "id": "63481010-8af5-4334-afc7-5b3b8abd1b59",
   "metadata": {},
   "outputs": [],
   "source": [
    "# Python ≥3.5 is required\n",
    "import sys\n",
    "assert sys.version_info >= (3, 5)\n",
    "\n",
    "# Scikit-Learn ≥0.20 is required\n",
    "import sklearn\n",
    "assert sklearn.__version__ >= \"0.20\"\n",
    "\n",
    "# Common imports\n",
    "import numpy as np\n",
    "import os, time\n",
    "import pandas as pd\n",
    "\n",
    "# Our new Deep Learning imports\n",
    "import tensorflow as tf\n",
    "from tensorflow import keras\n",
    "\n",
    "# To plot nice figures\n",
    "%matplotlib inline\n",
    "import matplotlib as mpl\n",
    "import matplotlib.pyplot as plt\n",
    "mpl.rc('axes', labelsize=14)\n",
    "mpl.rc('xtick', labelsize=12)\n",
    "mpl.rc('ytick', labelsize=12)\n",
    "\n",
    "# For plotting statistical figures\n",
    "import seaborn as sns; sns.set()\n",
    "\n",
    "# For speeding up numpy operations\n",
    "import cupy as cp\n",
    "\n",
    "# For faster numpy computation\n",
    "from numba import jit, cuda\n",
    "\n",
    "# For Progress Bar\n",
    "from tqdm.auto import tqdm,trange\n",
    "tqdm.pandas()\n",
    "\n",
    "# Vaex Dataframe library\n",
    "import vaex as vx\n",
    "\n",
    "# For Pyspark activation\n",
    "import os\n",
    "os.environ[\"PYARROW_IGNORE_TIMEZONE\"] = \"1\"\n",
    "\n",
    "# Pyspark Dataframe\n",
    "from pyspark import pandas as ps\n",
    "\n",
    "import os\n",
    "os.environ['KMP_DUPLICATE_LIB_OK']='True'"
   ]
  },
  {
   "cell_type": "markdown",
   "id": "984c0f1e-09e3-4e82-932b-9dbf8950bba2",
   "metadata": {},
   "source": [
    "### Training and Testing Data Loading"
   ]
  },
  {
   "cell_type": "code",
   "execution_count": 2,
   "id": "7f08e7de-bd45-49cf-9fa0-76f76457fc0e",
   "metadata": {},
   "outputs": [],
   "source": [
    "quora_tt_df = pd.read_pickle(r\"D:\\UoA\\Tri 2\\Big Data Analysis and Projects\\Week 1\\Quora Insincere Questions\\Data\\Train and Test\\quora_tt_df.pkl\")\n",
    "quora_tt_freq_df = pd.read_pickle(r\"D:\\UoA\\Tri 2\\Big Data Analysis and Projects\\Week 1\\Quora Insincere Questions\\Data\\Train and Test\\quora_tt_freq_df.pkl\")"
   ]
  },
  {
   "cell_type": "code",
   "execution_count": 3,
   "id": "d4ccc6f8-45d6-4ab2-87df-10c334a3a72f",
   "metadata": {},
   "outputs": [],
   "source": [
    "import pickle\n",
    "\n",
    "f = open(r\"D:\\UoA\\Tri 2\\Big Data Analysis and Projects\\Week 1\\Quora Insincere Questions\\Data\\Train and Test\\quora_tt_dict_idf.pkl\",\"rb\")\n",
    "f1 = open(r\"D:\\UoA\\Tri 2\\Big Data Analysis and Projects\\Week 1\\Quora Insincere Questions\\Data\\Train and Test\\quora_tt_word_dict.pkl\",\"rb\")\n",
    "\n",
    "quora_tt_dict_idf = pickle.load(f)\n",
    "quora_tt_word_dict = pickle.load(f1)\n",
    "\n",
    "f.close()\n",
    "f1.close()\n",
    "\n",
    "max_sentence_length_quora = np.load(r\"D:\\UoA\\Tri 2\\Big Data Analysis and Projects\\Week 1\\Quora Insincere Questions\\Data\\Train and Test\\max_sentence_length_quora.npy\")\n",
    "max_sentence_length_quora = int(max_sentence_length_quora)"
   ]
  },
  {
   "cell_type": "markdown",
   "id": "59235649-b0e2-46b1-bd0b-2b5a8add7a4f",
   "metadata": {},
   "source": [
    "### Average Word Embedding Loading"
   ]
  },
  {
   "cell_type": "code",
   "execution_count": 4,
   "id": "1f982661-3c84-4e04-a357-e50819338add",
   "metadata": {},
   "outputs": [],
   "source": [
    "average_embedding_matrix_tt = np.load(r\"D:\\UoA\\Tri 2\\Big Data Analysis and Projects\\Week 1\\Quora Insincere Questions\\embeddings\\Average\\average_embedding_matrix_tt.npy\")"
   ]
  },
  {
   "cell_type": "code",
   "execution_count": 5,
   "id": "ac34f4db-020f-4bc3-9338-0da9a9737a43",
   "metadata": {},
   "outputs": [],
   "source": [
    "f = open(r\"D:\\UoA\\Tri 2\\Big Data Analysis and Projects\\Week 1\\Quora Insincere Questions\\embeddings\\Average\\average_embedding_matrix_tt_dict.pkl\",\"rb\")\n",
    "average_embedding_matrix_tt_dict = pickle.load(f)\n",
    "f.close()"
   ]
  },
  {
   "cell_type": "markdown",
   "id": "0ed1f668-43dd-452e-b6d5-1a3907843a79",
   "metadata": {
    "tags": []
   },
   "source": [
    "### Basic imports for Model Execution"
   ]
  },
  {
   "cell_type": "code",
   "execution_count": 6,
   "id": "24b00481-afab-4047-9aa5-a4321e0d88a6",
   "metadata": {},
   "outputs": [],
   "source": [
    "from keras.layers import Input,Embedding,SpatialDropout1D,Bidirectional,CuDNNLSTM,CuDNNGRU,GlobalMaxPooling1D,Concatenate,Dense,LSTM,GRU\n",
    "from keras.optimizers import Adam\n",
    "from keras.models import Model\n",
    "from keras.initializers import Constant\n",
    "\n",
    "from sklearn.metrics import RocCurveDisplay\n",
    "from sklearn.metrics import roc_curve\n",
    "\n",
    "from kneed import KneeLocator\n",
    "\n",
    "from sklearn.metrics import confusion_matrix\n",
    "from sklearn.metrics import ConfusionMatrixDisplay\n",
    "from sklearn.metrics import precision_recall_fscore_support"
   ]
  },
  {
   "cell_type": "markdown",
   "id": "43b61d96-9bb4-4b89-aa35-742640c76721",
   "metadata": {
    "tags": []
   },
   "source": [
    "### Creating a Deep Neural Network for Average Word Embedding"
   ]
  },
  {
   "cell_type": "code",
   "execution_count": 7,
   "id": "8bb28f16-10dd-4f0a-8bff-45bf871380a1",
   "metadata": {},
   "outputs": [],
   "source": [
    "def quora_DNN_build_model(embedding_matrix_quora,max_sentence_length_quora,embedding_size_quora,number_words_quora,learning_rate_quora):\n",
    "    inp = Input(shape=(max_sentence_length_quora,))\n",
    "    x = Embedding(number_words_quora, embedding_size_quora, embeddings_initializer=Constant(embedding_matrix_quora), trainable=False)(inp)\n",
    "    x = SpatialDropout1D(0.3)(x)\n",
    "    x1 = Bidirectional(LSTM(256, return_sequences=True))(x)\n",
    "    x2 = Bidirectional(GRU(128, return_sequences=True))(x1)\n",
    "    max_pool1 = GlobalMaxPooling1D()(x1)\n",
    "    max_pool2 = GlobalMaxPooling1D()(x2)\n",
    "    conc = Concatenate()([max_pool1, max_pool2])\n",
    "    predictions = Dense(1, activation='sigmoid')(conc)\n",
    "    model = Model(inputs=inp, outputs=predictions)\n",
    "    adam = Adam(learning_rate=learning_rate_quora)\n",
    "    model.compile(optimizer=adam, loss='binary_crossentropy', metrics=['accuracy'])\n",
    "    return model"
   ]
  },
  {
   "cell_type": "code",
   "execution_count": 8,
   "id": "3a6a7760-0480-470a-88c9-e9cbea35b7b9",
   "metadata": {},
   "outputs": [],
   "source": [
    "model_average = quora_DNN_build_model(embedding_matrix_quora=average_embedding_matrix_tt,max_sentence_length_quora=max_sentence_length_quora,\n",
    "                             embedding_size_quora=300,number_words_quora=average_embedding_matrix_tt.shape[0],learning_rate_quora=0.001)"
   ]
  },
  {
   "cell_type": "code",
   "execution_count": 9,
   "id": "0c9ffe86-73a9-486a-8bf5-195fd67b0822",
   "metadata": {},
   "outputs": [],
   "source": [
    "num_epoch = 4\n",
    "batch_size = 256"
   ]
  },
  {
   "cell_type": "code",
   "execution_count": 10,
   "id": "8241992b-d639-46fa-b642-9e6547c6cc8d",
   "metadata": {},
   "outputs": [
    {
     "name": "stdout",
     "output_type": "stream",
     "text": [
      "Epoch 1/3\n",
      "4082/4082 [==============================] - 740s 180ms/step - loss: 0.1180 - accuracy: 0.9538 - val_loss: 0.1041 - val_accuracy: 0.9585\n",
      "Epoch 2/3\n",
      "4082/4082 [==============================] - 732s 179ms/step - loss: 0.1026 - accuracy: 0.9593 - val_loss: 0.1003 - val_accuracy: 0.9603\n",
      "Epoch 3/3\n",
      "4082/4082 [==============================] - 730s 179ms/step - loss: 0.0962 - accuracy: 0.9616 - val_loss: 0.0971 - val_accuracy: 0.9612\n"
     ]
    }
   ],
   "source": [
    "quora_train_features_array_average = np.copy(np.array(quora_tt_df.loc[~(quora_tt_df['target'] == -1),'question_text_encode'].to_list(),dtype=np.float64))\n",
    "quora_train_pridiction_array_average = np.copy(np.array(quora_tt_df.loc[~(quora_tt_df['target'] == -1),'target'].to_list(),dtype=np.float64))\n",
    "average_history = model_average.fit(quora_train_features_array_average, quora_train_pridiction_array_average, validation_split=0.2, batch_size=batch_size, validation_batch_size=batch_size, epochs=num_epoch-1, verbose=1, shuffle=True, use_multiprocessing=True)"
   ]
  },
  {
   "cell_type": "code",
   "execution_count": 11,
   "id": "4d02324a-e8a7-41bc-802a-f4c8494d8549",
   "metadata": {},
   "outputs": [
    {
     "data": {
      "image/png": "[encoded data removed]",
      "text/plain": [
       "<Figure size 432x288 with 1 Axes>"
      ]
     },
     "metadata": {},
     "output_type": "display_data"
    }
   ],
   "source": [
    "# Accuracy Plot\n",
    "plt.plot(average_history.history['accuracy'])\n",
    "plt.plot(average_history.history['val_accuracy'])\n",
    "plt.title('model accuracy')\n",
    "plt.ylabel('accuracy')\n",
    "plt.xlabel('epoch')\n",
    "plt.legend(['train', 'val'], loc='upper left')\n",
    "plt.show()"
   ]
  },
  {
   "cell_type": "code",
   "execution_count": 12,
   "id": "cd2ce227-ed7e-4d08-bfd5-bec4ea7346ec",
   "metadata": {},
   "outputs": [
    {
     "data": {
      "image/png": "[encoded data removed]",
      "text/plain": [
       "<Figure size 432x288 with 1 Axes>"
      ]
     },
     "metadata": {},
     "output_type": "display_data"
    }
   ],
   "source": [
    "# Loss plot\n",
    "plt.plot(average_history.history['loss'])\n",
    "plt.plot(average_history.history['val_loss'])\n",
    "plt.title('model loss')\n",
    "plt.ylabel('loss')\n",
    "plt.xlabel('epoch')\n",
    "plt.legend(['train', 'val'], loc='upper left')\n",
    "plt.show()"
   ]
  },
  {
   "cell_type": "code",
   "execution_count": 13,
   "id": "ad07829b-da46-4e20-b12d-608aafc90407",
   "metadata": {},
   "outputs": [
    {
     "name": "stdout",
     "output_type": "stream",
     "text": [
      "5103/5103 [==============================] - 296s 58ms/step\n"
     ]
    }
   ],
   "source": [
    "quora_train_pridicted_array_average = model_average.predict(quora_train_features_array_average, batch_size=batch_size, verbose=1, use_multiprocessing=True)\n",
    "quora_train_pridicted_array_average = np.squeeze(quora_train_pridicted_array_average)\n",
    "quora_train_pridicted_array_average_copy = np.copy(quora_train_pridicted_array_average)"
   ]
  },
  {
   "cell_type": "code",
   "execution_count": 14,
   "id": "43557446-1042-4dbb-ad36-b1093b0a4100",
   "metadata": {},
   "outputs": [
    {
     "data": {
      "image/png": "[encoded data removed]",
      "text/plain": [
       "<Figure size 432x288 with 1 Axes>"
      ]
     },
     "metadata": {},
     "output_type": "display_data"
    }
   ],
   "source": [
    "RocCurveDisplay.from_predictions(quora_train_pridiction_array_average, quora_train_pridicted_array_average)\n",
    "plt.show()\n",
    "fpr_average, tpr_average, thresholds_average = roc_curve(quora_train_pridiction_array_average, quora_train_pridicted_array_average)"
   ]
  },
  {
   "cell_type": "code",
   "execution_count": 15,
   "id": "5fe4d12d-91c5-42db-b724-54f541fc2f72",
   "metadata": {},
   "outputs": [
    {
     "name": "stdout",
     "output_type": "stream",
     "text": [
      "\u001b[1mThe Knee point of ROC Curve (x-axis) is:\u001b[0m\n",
      "\n",
      "0.016312579979629677\n",
      "\n",
      "\n",
      "\u001b[1mThe Knee point of ROC Curve (y-axis) is:\u001b[0m\n",
      "\n",
      "0.6800148496473208\n",
      "\n",
      "\n"
     ]
    },
    {
     "data": {
      "image/png": "[encoded data removed]",
      "text/plain": [
       "<Figure size 432x432 with 1 Axes>"
      ]
     },
     "metadata": {},
     "output_type": "display_data"
    }
   ],
   "source": [
    "kn_average = KneeLocator(fpr_average, tpr_average, curve='concave', direction='increasing')\n",
    "print('\\033[1m' + 'The Knee point of ROC Curve (x-axis) is:' + '\\033[0m' + '\\n')\n",
    "print(kn_average.knee)\n",
    "print('\\n')\n",
    "print('\\033[1m' + 'The Knee point of ROC Curve (y-axis) is:' + '\\033[0m' + '\\n')\n",
    "print(kn_average.knee_y)\n",
    "print('\\n')\n",
    "kn_average.plot_knee()"
   ]
  },
  {
   "cell_type": "code",
   "execution_count": 16,
   "id": "8aca33a9-afbb-42e8-91d7-2bf7d0433ad6",
   "metadata": {},
   "outputs": [],
   "source": [
    "point_x_index_average = np.where(fpr_average == kn_average.knee)\n",
    "point_y_index_average = np.where(tpr_average == kn_average.knee_y)\n",
    "threshold_index_average = np.intersect1d(point_x_index_average, point_y_index_average)\n",
    "threshold_value_average = thresholds_average[threshold_index_average[0]]"
   ]
  },
  {
   "cell_type": "code",
   "execution_count": 17,
   "id": "122a6410-dc1b-4a6e-ad85-fc9ac590c768",
   "metadata": {},
   "outputs": [],
   "source": [
    "quora_train_pridicted_array_average[quora_train_pridicted_array_average <= threshold_value_average] = 0\n",
    "quora_train_pridicted_array_average[quora_train_pridicted_array_average > threshold_value_average] = 1"
   ]
  },
  {
   "cell_type": "code",
   "execution_count": 18,
   "id": "dcb951ed-5efd-4f62-adfa-7f2db79d1aa6",
   "metadata": {},
   "outputs": [
    {
     "data": {
      "image/png": "[encoded data removed]",
      "text/plain": [
       "<Figure size 432x288 with 2 Axes>"
      ]
     },
     "metadata": {},
     "output_type": "display_data"
    },
    {
     "name": "stdout",
     "output_type": "stream",
     "text": [
      "\u001b[1mThe Precision (Average) is:\u001b[0m\n",
      "\n",
      "0.9637954571866973\n",
      "\n",
      "\n",
      "\u001b[1mThe Recall (Average) is:\u001b[0m\n",
      "\n",
      "0.964899909809344\n",
      "\n",
      "\n",
      "\u001b[1mThe F-Score (Average) is:\u001b[0m\n",
      "\n",
      "0.9642803006324878\n",
      "\n",
      "\n"
     ]
    }
   ],
   "source": [
    "tn_average, fp_average, fn_average, tp_average = confusion_matrix(quora_train_pridiction_array_average,quora_train_pridicted_array_average).ravel()\n",
    "ConfusionMatrixDisplay.from_predictions(quora_train_pridiction_array_average,quora_train_pridicted_array_average)\n",
    "plt.show()\n",
    "\n",
    "precision_average, recall_average, fbeta_score_average, support_average = precision_recall_fscore_support(quora_train_pridiction_array_average,quora_train_pridicted_array_average, average='weighted')\n",
    "print('\\033[1m' + 'The Precision (Average) is:' + '\\033[0m' + '\\n')\n",
    "print(precision_average)\n",
    "print('\\n')\n",
    "print('\\033[1m' + 'The Recall (Average) is:' + '\\033[0m' + '\\n')\n",
    "print(recall_average)\n",
    "print('\\n')\n",
    "print('\\033[1m' + 'The F-Score (Average) is:' + '\\033[0m' + '\\n')\n",
    "print(fbeta_score_average)\n",
    "print('\\n')"
   ]
  },
  {
   "cell_type": "code",
   "execution_count": 19,
   "id": "0d736fc1-d113-48b9-acec-f6b47433ba34",
   "metadata": {},
   "outputs": [
    {
     "name": "stdout",
     "output_type": "stream",
     "text": [
      "1468/1468 [==============================] - 85s 58ms/step\n"
     ]
    }
   ],
   "source": [
    "quora_test_features_array_average = np.copy(np.array(quora_tt_df.loc[(quora_tt_df['target'] == -1),'question_text_encode'].to_list(),dtype=np.float64))\n",
    "quora_test_pridicted_array_average = model_average.predict(quora_test_features_array_average, batch_size=batch_size, verbose=1, use_multiprocessing=True)\n",
    "quora_test_pridicted_array_average = np.squeeze(quora_test_pridicted_array_average)"
   ]
  },
  {
   "cell_type": "code",
   "execution_count": 20,
   "id": "c3d9b9c4-fce9-4949-924a-9977241b89d6",
   "metadata": {},
   "outputs": [],
   "source": [
    "import tensorflow as tf\n",
    "tf.keras.backend.clear_session()"
   ]
  },
  {
   "cell_type": "code",
   "execution_count": 21,
   "id": "c45b72f7-94f4-470b-be9b-e3e45d1fe68f",
   "metadata": {},
   "outputs": [],
   "source": [
    "del average_embedding_matrix_tt\n",
    "del quora_train_features_array_average\n",
    "del quora_train_pridiction_array_average\n",
    "del model_average"
   ]
  },
  {
   "cell_type": "code",
   "execution_count": 22,
   "id": "a4518fc3-76e6-4008-aa8d-9895572e73c4",
   "metadata": {},
   "outputs": [],
   "source": [
    "import gc\n",
    "gc.collect()\n",
    "print('',end='')"
   ]
  },
  {
   "cell_type": "code",
   "execution_count": 23,
   "id": "f26b4c21-d329-411e-8562-f9c6107a503d",
   "metadata": {},
   "outputs": [],
   "source": [
    "np.save(r\"D:\\UoA\\Tri 2\\Big Data Analysis and Projects\\Week 1\\Quora Insincere Questions\\embeddings\\Average\\quora_test_pridicted_array_average.npy\",quora_test_pridicted_array_average)"
   ]
  },
  {
   "cell_type": "code",
   "execution_count": 24,
   "id": "58093b3f-3a29-4d43-9d52-f7bebd1b8555",
   "metadata": {},
   "outputs": [],
   "source": [
    "del quora_test_pridicted_array_average"
   ]
  },
  {
   "cell_type": "code",
   "execution_count": 25,
   "id": "0aff49c7-aa55-4c0a-aa4c-1cd7cb489b92",
   "metadata": {},
   "outputs": [],
   "source": [
    "np.save(r\"D:\\UoA\\Tri 2\\Big Data Analysis and Projects\\Week 1\\Quora Insincere Questions\\embeddings\\Average\\quora_train_pridicted_array_average.npy\",quora_train_pridicted_array_average_copy)"
   ]
  },
  {
   "cell_type": "code",
   "execution_count": 26,
   "id": "c0aa60e7-12b2-45d9-8fea-cdd7c8ad983b",
   "metadata": {},
   "outputs": [],
   "source": [
    "del quora_train_pridicted_array_average\n",
    "del quora_train_pridicted_array_average_copy"
   ]
  },
  {
   "cell_type": "code",
   "execution_count": 28,
   "id": "2ee65f46-9b63-41c3-896f-bda5e3dd6aab",
   "metadata": {},
   "outputs": [],
   "source": [
    "np.save(r\"D:\\UoA\\Tri 2\\Big Data Analysis and Projects\\Week 1\\Quora Insincere Questions\\embeddings\\Average\\threshold_value_average.npy\",threshold_value_average)"
   ]
  },
  {
   "cell_type": "code",
   "execution_count": null,
   "id": "3a0aa7bf-4a03-46fc-a99e-623e6a481abc",
   "metadata": {},
   "outputs": [],
   "source": []
  }
 ],
 "metadata": {
  "kernelspec": {
   "display_name": "Python 3 (ipykernel)",
   "language": "python",
   "name": "python3"
  },
  "language_info": {
   "codemirror_mode": {
    "name": "ipython",
    "version": 3
   },
   "file_extension": ".py",
   "mimetype": "text/x-python",
   "name": "python",
   "nbconvert_exporter": "python",
   "pygments_lexer": "ipython3",
   "version": "3.9.12"
  }
 },
 "nbformat": 4,
 "nbformat_minor": 5
}
